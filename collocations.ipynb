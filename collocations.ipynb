{
 "cells": [
  {
   "cell_type": "markdown",
   "metadata": {},
   "source": [
    "# Výpočet kolokací vlastní funkcí podle Diceova koeficientu"
   ]
  },
  {
   "cell_type": "code",
   "execution_count": 1,
   "metadata": {},
   "outputs": [
    {
     "name": "stdout",
     "output_type": "stream",
     "text": [
      "*** Introductory Examples for the NLTK Book ***\n",
      "Loading text1, ..., text9 and sent1, ..., sent9\n",
      "Type the name of the text or sentence to view it.\n",
      "Type: 'texts()' or 'sents()' to list the materials.\n",
      "text1: Moby Dick by Herman Melville 1851\n",
      "text2: Sense and Sensibility by Jane Austen 1811\n",
      "text3: The Book of Genesis\n",
      "text4: Inaugural Address Corpus\n",
      "text5: Chat Corpus\n",
      "text6: Monty Python and the Holy Grail\n",
      "text7: Wall Street Journal\n",
      "text8: Personals Corpus\n",
      "text9: The Man Who Was Thursday by G . K . Chesterton 1908\n"
     ]
    }
   ],
   "source": [
    "import nltk\n",
    "from nltk.book import *"
   ]
  },
  {
   "cell_type": "markdown",
   "metadata": {},
   "source": [
    "## Motivační příklad\n",
    "\n",
    "Slova \"holy\" a \"am\" se v textu *Monty Python and the Holy Grail* (`text6`) obě objevují asi 20×, přičemž \"holy\" je skoro vždy v kombinaci s (bezprostředně následujícím) \"grail\", a \"am\" je skoro vždy v kombinaci s (bezprostředně předcházejícím) \"I\"."
   ]
  },
  {
   "cell_type": "code",
   "execution_count": 2,
   "metadata": {},
   "outputs": [
    {
     "name": "stdout",
     "output_type": "stream",
     "text": [
      "Displaying 25 of 26 matches:\n",
      "[ angels sing ] Arthur , this is the Holy Grail . Look well , Arthur , for it \n",
      "rpose , Arthur ... the quest for the Holy Grail . [ boom ] [ singing stops ] L\n",
      " he can join us in our quest for the Holy Grail . FRENCH GUARD : Well , I ' ll\n",
      "gy was required if the quest for the Holy Grail were to be brought to a succes\n",
      "GALAHAD : You are the keepers of the Holy Grail ? ZOOT : The what ? GALAHAD : \n",
      "CELOT : No , we ' ve got to find the Holy Grail . Come on ! GALAHAD : Oh , let\n",
      "uld be the sign that leads us to the Holy Grail ! Brave , brave Concorde , you\n",
      "ung people in the joyful bond of the holy wedlock . Unfortunately , one of the\n",
      "' ve not given up your quest for the Holy Grail ? MINSTREL : [ singing ] He is\n",
      " TIM : I do . [ zoosh ] You seek the Holy Grail ! ARTHUR : That is our quest .\n",
      ", we ' re -- we ' re looking for the Holy Grail . Our quest is to find the Hol\n",
      "oly Grail . Our quest is to find the Holy Grail . KNIGHTS : Yeah . Yes . It is\n",
      " TIM : Yes , I can help you find the Holy Grail . KNIGHTS : Oh , thank you . O\n",
      "n the last resting place of the most Holy Grail . ARTHUR : Where could we find\n",
      "RTHUR : No . LAUNCELOT : We have the Holy Hand Grenade . ARTHUR : Yes , of cou\n",
      "ade . ARTHUR : Yes , of course ! The Holy Hand Grenade of Antioch ! ' Tis one \n",
      "him ! Brother Maynard ! Bring up the Holy Hand Grenade ! MONKS : [ chanting ] \n",
      "ng , ' First shalt thou take out the Holy Pin . Then , shalt thou count to thr\n",
      ", be reached , then lobbest thou thy Holy Hand Grenade of Antioch towards thy \n",
      "iant and pure of spirit may find the Holy Grail in the Castle of uuggggggh '. \n",
      "on peril was no more . The quest for Holy Grail could continue . SCENE 23 : [ \n",
      "your quest ? LAUNCELOT : To seek the Holy Grail . BRIDGEKEEPER : What is your \n",
      " is your quest ? ROBIN : To seek the Holy Grail . BRIDGEKEEPER : What is the c\n",
      "is your quest ? ARTHUR : To seek the Holy Grail . BRIDGEKEEPER : What is the a\n",
      " Thou hast vouchsafed to us the most holy -- [ twong ] [ baaaa ] Jesus Christ \n"
     ]
    }
   ],
   "source": [
    "text6.concordance(\"holy\")"
   ]
  },
  {
   "cell_type": "code",
   "execution_count": 3,
   "metadata": {},
   "outputs": [
    {
     "name": "stdout",
     "output_type": "stream",
     "text": [
      "Displaying 23 of 23 matches:\n",
      "# 1 : Pull the other one ! ARTHUR : I am , ... and this is my trusty servant P\n",
      "ght ? ARTHUR : Please ! SOLDIER # 1 : Am I right ? ARTHUR : I ' m not interest\n",
      " like an inferior ! ARTHUR : Well , I am king ! DENNIS : Oh king , eh , very n\n",
      "RTHUR : How do you do , good lady . I am Arthur , King of the Britons . Who ' \n",
      " all are . We are all Britons , and I am your king . WOMAN : I didn ' t know w\n",
      "HUR : Please , please good people . I am in haste . Who lives in that castle ?\n",
      "oes he think he is ? Heh . ARTHUR : I am your king ! WOMAN : Well , I didn ' t\n",
      "bur . [ singing stops ] That is why I am your king ! DENNIS : Listen , strange\n",
      "f many men , Sir Knight . [ pause ] I am Arthur , King of the Britons . [ paus\n",
      "e in the ways of science ? ARTHUR : I am Arthur , King of the Britons . BEDEVE\n",
      "IN : Ah . W -- well , actually I -- I am a Knight of the Round Table . ALL HEA\n",
      "Knight of the Round Table ? ROBIN : I am . LEFT HEAD : In that case I shall ha\n",
      " Well , I -- I -- uh -- ZOOT : Oh , I am afraid our life must seem very dull a\n",
      ". GALAHAD : Look ! This cannot be . I am sworn to chastity . PIGLET : Back to \n",
      "llo . GALAHAD : Zoot ! DINGO : No , I am Zoot ' s identical twin sister , Ding\n",
      "Yes , get on with it ! DINGO : Oh , I am enjoying this scene . GOD : Get on wi\n",
      "lease , please come and rescue me . I am in the Tall Tower of Swamp Castle .' \n",
      "R : No , not you . LAUNCELOT : Uh , I am Sir Launcelot , sir . HERBERT : He ' \n",
      " , Sir Launcelot ! LAUNCELOT : Uh , I am a Knight of King Arthur , sir . FATHE\n",
      "awfully nice of you , ... HERBERT : I am ready ! LAUNCELOT : ... um , I mean t\n",
      " : Yes . Shrubberies are my trade . I am a shrubber . My name is Roger the Shr\n",
      "or tinder ? TIM THE ENCHANTER : I ... am an enchanter . ARTHUR : By what name \n",
      "k me the questions , bridgekeeper . I am not afraid . BRIDGEKEEPER : What is y\n"
     ]
    }
   ],
   "source": [
    "text6.concordance(\"am\")"
   ]
  },
  {
   "cell_type": "markdown",
   "metadata": {},
   "source": [
    "Který z těchto **bigramů** (dvojic sousedících slov) intuitivně tvoří silnější **kolokaci**?\n",
    "\n",
    "Z pohledu gramatiky by se mohlo zdát, že je to \"I am\" -- cítíme, že jde o spojení slov takřka učebnicové (skutečně ve smyslu, že na ně narazíme v učebnicích). Ovšem sílu kolokace bychom měli posuzovat spíše z hlediska lexikonu, tj. do jaké míry vytváří sledovaná jednotka ucelené a ustálené víceslovné **pojmenování** či **frázi**. Pro tento pohled jsou důležitá dvě kritéria -- zkoumané spojení slov by mělo být:\n",
    "\n",
    "1. **frekventované** (o jisté míře ustálenosti, tedy lexikalizace, lze uvažovat pouze u jednotek, které se v textech vyskytují opakovaně)\n",
    "2. **výlučné** (slova v rámci spojení by se měla spolu vyskytovat nápadně častěji než ve společnosti jiných slov)\n",
    "\n",
    "Když na \"I am\" a \"holy grail\" pohlédneme touto optikou, zjistíme, že obě spojení jsou podobně frekventovaná (kolem 20 výskytů), ale spojení \"I am\" je mnohem méně výlučné, neboť slovo \"I\" se v textu vyskytuje celkem 260× (tj. ve většině výskytů je v okolí jiných slov než \"am\"):"
   ]
  },
  {
   "cell_type": "code",
   "execution_count": 4,
   "metadata": {},
   "outputs": [
    {
     "name": "stdout",
     "output_type": "stream",
     "text": [
      "Displaying 25 of 260 matches:\n",
      "Halt ! Who goes there ? ARTHUR : It is I , Arthur , son of Uther Pendragon , fr\n",
      "ER # 1 : Pull the other one ! ARTHUR : I am , ... and this is my trusty servant\n",
      " will join me in my court at Camelot . I must speak with your lord and master .\n",
      "t ? ARTHUR : Please ! SOLDIER # 1 : Am I right ? ARTHUR : I ' m not interested \n",
      " ! SOLDIER # 1 : Am I right ? ARTHUR : I ' m not interested ! SOLDIER # 2 : It \n",
      "s my point . SOLDIER # 2 : Oh , yeah , I agree with that . ARTHUR : Will you as\n",
      "T - MASTER : Ninepence . DEAD PERSON : I ' m not dead ! CART - MASTER : What ? \n",
      "ere ' s your ninepence . DEAD PERSON : I ' m not dead ! CART - MASTER : ' Ere .\n",
      "! CUSTOMER : Yes he is . DEAD PERSON : I ' m not ! CART - MASTER : He isn ' t ?\n",
      "soon . He ' s very ill . DEAD PERSON : I ' m getting better ! CUSTOMER : No you\n",
      "ead in a moment . CART - MASTER : Oh , I can ' t take him like that . It ' s ag\n",
      " s against regulations . DEAD PERSON : I don ' t want to go on the cart ! CUSTO\n",
      "n ' t be such a baby . CART - MASTER : I can ' t take him . DEAD PERSON : I fee\n",
      "R : I can ' t take him . DEAD PERSON : I feel fine ! CUSTOMER : Well , do us a \n",
      "Well , do us a favor . CART - MASTER : I can ' t . CUSTOMER : Well , can you ha\n",
      "won ' t be long . CART - MASTER : No , I ' ve got to go to the Robinson ' s . T\n",
      "RT - MASTER : Thursday . DEAD PERSON : I think I ' ll go for a walk . CUSTOMER \n",
      "TER : Thursday . DEAD PERSON : I think I ' ll go for a walk . CUSTOMER : You ' \n",
      "you can do ? DEAD PERSON : [ singing ] I feel happy ... I feel happy . [ whop ]\n",
      " PERSON : [ singing ] I feel happy ... I feel happy . [ whop ] CUSTOMER : Ah , \n",
      " ] Who ' s that then ? CART - MASTER : I dunno . Must be a king . CUSTOMER : Wh\n",
      "e in that castle over there ? DENNIS : I ' m thirty - seven . ARTHUR : I -- wha\n",
      "NNIS : I ' m thirty - seven . ARTHUR : I -- what ? DENNIS : I ' m thirty - seve\n",
      " seven . ARTHUR : I -- what ? DENNIS : I ' m thirty - seven . I ' m not old . A\n",
      "what ? DENNIS : I ' m thirty - seven . I ' m not old . ARTHUR : Well , I can ' \n"
     ]
    }
   ],
   "source": [
    "text6.concordance(\"I\")"
   ]
  },
  {
   "cell_type": "markdown",
   "metadata": {},
   "source": [
    "Naopak \"grail\" je v textu 39×, z čehož plyne, že souvýskyty se slovem \"holy\" tvoří mnohem signifikantnější proporci jeho výskytů. \"holy grail\" je tedy v textu `text6` silnější kolokací než \"I am\"."
   ]
  },
  {
   "cell_type": "code",
   "execution_count": 5,
   "metadata": {},
   "outputs": [
    {
     "name": "stdout",
     "output_type": "stream",
     "text": [
      "Displaying 25 of 39 matches:\n",
      "els sing ] Arthur , this is the Holy Grail . Look well , Arthur , for it is you\n",
      " it is your sacred task to seek this grail . That is your purpose , Arthur ... \n",
      " , Arthur ... the quest for the Holy Grail . [ boom ] [ singing stops ] LAUNCEL\n",
      "an join us in our quest for the Holy Grail . FRENCH GUARD : Well , I ' ll ask h\n",
      "ARTHUR : If you will not show us the Grail , we shall take your castle by force\n",
      "s required if the quest for the Holy Grail were to be brought to a successful c\n",
      "should separate , and search for the Grail individually . [ clop clop clop ] No\n",
      "AD : You are the keepers of the Holy Grail ? ZOOT : The what ? GALAHAD : The Gr\n",
      "il ? ZOOT : The what ? GALAHAD : The Grail . It is here . ZOOT : Oh , but you a\n",
      "ease ! In God ' s name , show me the Grail ! ZOOT : Oh , you have suffered much\n",
      "rment me no longer . I have seen the Grail ! PIGLET : There ' s no grail here .\n",
      "en the Grail ! PIGLET : There ' s no grail here . GALAHAD : I have seen it ! I \n",
      "are you going ? GALAHAD : I seek the Grail ! I have seen it , here in this cast\n",
      " which , I have just remembered , is grail - shaped . It ' s not the first time\n",
      "blem . GALAHAD : It ' s not the real Grail ? DINGO : Oh , wicked , bad , naught\n",
      "ne punishment for setting alight the grail - shaped beacon . You must tie her d\n",
      " : No , we ' ve got to find the Holy Grail . Come on ! GALAHAD : Oh , let me ha\n",
      " , but they were still no nearer the Grail . Meanwhile , King Arthur and Sir Be\n",
      " of whom you speak , he has seen the Grail ? OLD MAN : ... Ha ha ha ha ! Heh , \n",
      "o man has entered . ARTHUR : And the Grail . The Grail is there ? OLD MAN : The\n",
      "tered . ARTHUR : And the Grail . The Grail is there ? OLD MAN : There is much d\n",
      " has ever crossed . ARTHUR : But the Grail ! Where is the Grail ?! OLD MAN : Se\n",
      "RTHUR : But the Grail ! Where is the Grail ?! OLD MAN : Seek you the Bridge of \n",
      "Bridge of Death , which leads to the Grail ? OLD MAN : Heh , hee hee hee hee ! \n",
      "e the sign that leads us to the Holy Grail ! Brave , brave Concorde , you shall\n"
     ]
    }
   ],
   "source": [
    "text6.concordance(\"grail\")"
   ]
  },
  {
   "cell_type": "markdown",
   "metadata": {},
   "source": [
    "## Implementace\n",
    "\n",
    "Abychom mohli kvantifikovat, *jak přesně* silnější, musíme použít nějakou **asociační** neboli **kolokační míru**. Měrou, která dobře zohledňuje obě výše uvedená kritéria (frekventovanost i výlučnost), je tzv. **Diceův koeficient** (resp. k plnému zohlednění kritéria frekventovanosti je dobré málo frekventované bigramy za kandidáty na kolokace vůbec nepovažovat). Jeho definici můžeme vyčíst z literatury nebo např. [z wiki ÚČNK](http://wiki.korpus.cz/doku.php/pojmy:asociacni_miry?redirect=1#dice_a_logdice), níže je uvedená jedna z možných implementací v Pythonu.\n",
    "\n",
    "**POZN.:** Není to implementace nejefektivnější (např. kvůli tomu, že spočítáme frekvenční distribuci všech unigramů i bigramů v textu, ačkoli potřebujeme znát jen frekvence dvou cílových slov a jejich bigramu), ale konceptuálně nejlépe odpovídá popisu uvedenému na wiki, takže jako první pokus o převod Diceova koeficientu do Pythonu by měla mít tu výhodu, že je tam relativně malá pravděpodobnost, že člověk někde udělá chybu. Doporučuju porovnat si definici Diceova koeficientu na wiki s touto implementací, abyste se sami přesvědčili, že se jedná skutečně o tentýž výpočet."
   ]
  },
  {
   "cell_type": "code",
   "execution_count": 6,
   "metadata": {},
   "outputs": [
    {
     "data": {
      "text/plain": [
       "[(1, 2), (2, 3), (3, 4), (4, 5)]"
      ]
     },
     "execution_count": 6,
     "metadata": {},
     "output_type": "execute_result"
    }
   ],
   "source": [
    "def dice_score(word1, word2, text):\n",
    "    word1, word2 = word1.lower(), word2.lower()\n",
    "    bigram_fd = nltk.FreqDist(nltk.bigrams(w.lower() for w in text))\n",
    "    unigram_fd = nltk.FreqDist(w.lower() for w in text)\n",
    "    return 2 * bigram_fd[(word1, word2)] / (unigram_fd[word1] + unigram_fd[word2])\n",
    "\n",
    "# POZN.: funkce nltk.bigrams() si jako argument vezme seznam a vrací postupně všechny\n",
    "# páry sousedících položek:\n",
    "list(nltk.bigrams([1, 2, 3, 4, 5]))"
   ]
  },
  {
   "cell_type": "markdown",
   "metadata": {},
   "source": [
    "Diceův koeficient nabývá hodnot mezi 0 a 1; **čím vyšší** číslo, **tím výlučnější** daná kombinace je. Můžeme si tedy exaktně ověřit náš intuitivní dojem, že \"holy grail\" je silnější kolokací než \"I am\":"
   ]
  },
  {
   "cell_type": "code",
   "execution_count": 7,
   "metadata": {},
   "outputs": [
    {
     "data": {
      "text/plain": [
       "0.5846153846153846"
      ]
     },
     "execution_count": 7,
     "metadata": {},
     "output_type": "execute_result"
    }
   ],
   "source": [
    "dice_score(\"holy\", \"grail\", text6)"
   ]
  },
  {
   "cell_type": "code",
   "execution_count": 8,
   "metadata": {},
   "outputs": [
    {
     "data": {
      "text/plain": [
       "0.14840989399293286"
      ]
     },
     "execution_count": 8,
     "metadata": {},
     "output_type": "execute_result"
    }
   ],
   "source": [
    "dice_score(\"I\", \"am\", text6)"
   ]
  },
  {
   "cell_type": "markdown",
   "metadata": {},
   "source": [
    "Když máme hotovou prvotní spolehlivou implementaci Diceova koeficientu, můžeme zvážit, zda se nám vyplatí implementovat i hůře srozumitelnou, zato efektivnější verzi. Jaké má původní interpretace nevýhody?\n",
    "\n",
    "1. je pomalá, protože korpus procházíme zbytečně dvakrát -- poprvé když vytváříme frekvenční distribuci bigramů, podruhé pro frekvenční distribuci unigramů; přitom by mělo být možné získat kýžené informace jediným průchodem korpusu\n",
    "2. zabírá zbytečně moc paměti, protože vytváříme kompletní frekvenční distribuce všech bigramů a unigramů v korpusu, ačkoli nás zajímají jen dva unigramy a jeden bigram\n",
    "\n",
    "Na základě těchto poznatků můžeme tedy zkusit implementovat novou, úspornější verzi:"
   ]
  },
  {
   "cell_type": "code",
   "execution_count": 9,
   "metadata": {},
   "outputs": [],
   "source": [
    "def dice_score2(word1, word2, text):\n",
    "    word1, word2 = word1.lower(), word2.lower()\n",
    "    bigram_f = 0\n",
    "    word1_f = 0\n",
    "    word2_f = 0\n",
    "    for b1, b2 in nltk.bigrams(text):\n",
    "        b1, b2 = b1.lower(), b2.lower()\n",
    "        if (word1, word2) == (b1, b2):\n",
    "            bigram_f += 1\n",
    "        if b1 == word1:\n",
    "            word1_f += 1\n",
    "        elif b1 == word2:\n",
    "            word2_f += 1\n",
    "    if b2 == word1:\n",
    "        word1_f += 1\n",
    "    elif b2 == word2:\n",
    "        word2_f += 1\n",
    "    return 2 * bigram_f / (word1_f + word2_f)"
   ]
  },
  {
   "cell_type": "markdown",
   "metadata": {},
   "source": [
    "Ta už je složitější a hůře srozumitelná -- nepoužívá intuitivně pojmenované funkce jako `FreqDist`, ale generický for-cyklus, je tedy potřeba do detailu přečíst celý kód, aby člověk získal představu, co se v něm děje. Je tedy také vyšší pravděpodobnost, že v kódu uděláme nějakou chybu (už jen kvůli tomu, že je delší -- každé ťuknutí do klávesnice představuje příležitost pro chybu). Proto je dobře, že máme k dispozici dříve definovanou a \"spolehlivější\" funkci `dice_score`: můžeme porovnat výsledky obou verzí a ujistit se tak, že jsou stejné a že v té nové jsme neudělali chybu:"
   ]
  },
  {
   "cell_type": "code",
   "execution_count": 10,
   "metadata": {},
   "outputs": [
    {
     "data": {
      "text/plain": [
       "(0.5846153846153846, 0.5846153846153846)"
      ]
     },
     "execution_count": 10,
     "metadata": {},
     "output_type": "execute_result"
    }
   ],
   "source": [
    "dice_score(\"holy\", \"grail\", text6), dice_score2(\"holy\", \"grail\", text6)"
   ]
  },
  {
   "cell_type": "code",
   "execution_count": 11,
   "metadata": {},
   "outputs": [
    {
     "data": {
      "text/plain": [
       "(0.14840989399293286, 0.14840989399293286)"
      ]
     },
     "execution_count": 11,
     "metadata": {},
     "output_type": "execute_result"
    }
   ],
   "source": [
    "dice_score(\"I\", \"am\", text6), dice_score2(\"I\", \"am\", text6)"
   ]
  },
  {
   "cell_type": "markdown",
   "metadata": {},
   "source": [
    "Výhodou `dice_score2` by mělo být, že zabere méně paměti a bude rychlejší. Rychlost můžeme otestovat pomocí speciálně anotace `%%timeit`, která danou buňku spustí vícekrát a zobrazí, jak dlouho v průměru trvalo operace v buňce vykonat:"
   ]
  },
  {
   "cell_type": "code",
   "execution_count": 12,
   "metadata": {},
   "outputs": [
    {
     "name": "stdout",
     "output_type": "stream",
     "text": [
      "10 loops, best of 3: 35.5 ms per loop\n"
     ]
    }
   ],
   "source": [
    "%%timeit\n",
    "dice_score(\"holy\", \"grail\", text6)"
   ]
  },
  {
   "cell_type": "code",
   "execution_count": 13,
   "metadata": {},
   "outputs": [
    {
     "name": "stdout",
     "output_type": "stream",
     "text": [
      "100 loops, best of 3: 16.5 ms per loop\n"
     ]
    }
   ],
   "source": [
    "%%timeit\n",
    "dice_score2(\"holy\", \"grail\", text6)"
   ]
  },
  {
   "cell_type": "markdown",
   "metadata": {},
   "source": [
    "Vidíme, že `dice_score2` je skutečně o něco rychlejší, byť ne až zas tak dramaticky (na takto krátkých textech to výrazně nepocítíme). Jak jsme na tom s pamětí? Využití paměti operacemi uvnitř buňky můžeme změřit pomocí anotace `%%memit`, která ale není zabudovanou součástí Jupyteru, musíme ji nejprve nahrát:"
   ]
  },
  {
   "cell_type": "code",
   "execution_count": 11,
   "metadata": {},
   "outputs": [],
   "source": [
    "%load_ext memory_profiler"
   ]
  },
  {
   "cell_type": "code",
   "execution_count": 12,
   "metadata": {},
   "outputs": [
    {
     "name": "stdout",
     "output_type": "stream",
     "text": [
      "peak memory: 150.93 MiB, increment: 0.80 MiB\n"
     ]
    }
   ],
   "source": [
    "%%memit\n",
    "dice_score(\"holy\", \"grail\", text6)"
   ]
  },
  {
   "cell_type": "code",
   "execution_count": 13,
   "metadata": {},
   "outputs": [
    {
     "name": "stdout",
     "output_type": "stream",
     "text": [
      "peak memory: 150.93 MiB, increment: 0.00 MiB\n"
     ]
    }
   ],
   "source": [
    "%%memit\n",
    "dice_score2(\"holy\", \"grail\", text6)"
   ]
  },
  {
   "cell_type": "markdown",
   "metadata": {},
   "source": [
    "Vidíme, že první verze navýší spotřebu paměti asi o 0.8 MiB (viz položka *increment*), kdežto druhá v podstatě vůbec. Vzhledem k celkové spotřebě paměti (*peak memory*) jde ale znovu o zanedbatelný rozdíl.\n",
    "\n",
    "Poučení tedy zní (slovy známého počítačového vědce Donalda Knutha): **Premature optimization is the root of all evil.** Neboli optimalizujte kód (= snažte se upravit implementaci, aby byla účinnější) teprve ve chvíli, kdy vám její pomalost začne vadit jako uživatelům. Neformálně by se tato poučka dala také přeložit \"váš čas jakožto programátora je drahocennější než čas počítače\" -- takže klidně použijte implementaci, která bude sice pomalejší / paměťožravější, ale bude spolehlivě dobře, než abyste se trápili s vychytáváním chyb (*debugováním*) v implementaci, která bude nepatrně rychlejší / úspornější.\n",
    "\n",
    "# Na závěr\n",
    "\n",
    "Může též nastat situace, kdy předpočítat kompletní frekvenční distribuce unigramů i bigramů bude tím úspornějším řešením -- a to v případě, že nechceme spočítat asociační míru pro konkrétní pár slov, ale vytáhnout z textu všechny bigramy s hodnotou koeficientu Dice vyšší než nějaký práh:"
   ]
  },
  {
   "cell_type": "code",
   "execution_count": 17,
   "metadata": {},
   "outputs": [],
   "source": [
    "from operator import itemgetter\n",
    "\n",
    "# parametr threshold udává práh koeficientu Dice, přes nějž se musí bigram\n",
    "# přehoupnout, abychom jej považovali za kolokaci (zde jako defaultní hodnota\n",
    "# celkem arbitrárně zvoleno 0.5); min_freq je požadovaná minimální frekvence\n",
    "# bigramu, abychom ho vůbec považovali za kandidáta na kolokace (zde znovu\n",
    "# celkem arbitrárně 3)\n",
    "\n",
    "def dice_collocations(text, threshold=.5, min_freq=3):\n",
    "    bigram_fd = nltk.FreqDist((w1.lower(), w2.lower()) for w1, w2 in nltk.bigrams(text))\n",
    "    unigram_fd = nltk.FreqDist(w.lower() for w in text)\n",
    "    collocations = []\n",
    "    for bigram, freq in bigram_fd.items():\n",
    "        if freq >= min_freq:\n",
    "            word1, word2 = bigram\n",
    "            dice = 2 * bigram_fd[bigram] / (unigram_fd[word1] + unigram_fd[word2])\n",
    "            if dice >= threshold:\n",
    "                collocations.append((bigram, dice, freq))\n",
    "    # na závěr ještě kolokace seřadíme sestupně (reverse=True) podle koeficientu\n",
    "    # Dice a frekvence (protože seřazujeme seznam n-tic podle hodnoty druhého a\n",
    "    # třetíhu členu n-tice, musíme použít argument key=itemgetter(1, 2), jehož\n",
    "    # fungování si osvětlíme na jedné z příštích hodin)\n",
    "    collocations.sort(key=itemgetter(1, 2), reverse=True)\n",
    "    return collocations"
   ]
  },
  {
   "cell_type": "code",
   "execution_count": 18,
   "metadata": {},
   "outputs": [
    {
     "data": {
      "text/plain": [
       "[(('iesu', 'domine'), 1.0, 10),\n",
       " (('pie', 'iesu'), 1.0, 10),\n",
       " (('dramatic', 'chord'), 1.0, 7),\n",
       " (('oral', 'sex'), 1.0, 3),\n",
       " (('eis', 'requiem'), 0.9333333333333333, 7)]"
      ]
     },
     "execution_count": 18,
     "metadata": {},
     "output_type": "execute_result"
    }
   ],
   "source": [
    "collocations = dice_collocations(text6)\n",
    "collocations[:5]"
   ]
  },
  {
   "cell_type": "markdown",
   "metadata": {},
   "source": [
    "# Post scriptum\n",
    "\n",
    "Napadá vás ještě, jak funkci pro výpočet koeficientu Dice vylepšit? Mohli bychom např. zkusit uživateli umožnit, aby si mohl vybrat, že kolokáty mohou být i v širším kontextu (ne nutně jen těsně vedle sebe), případně dokonce bez ohledu na pořadí. Jistě vás napadnou další možná rozšíření."
   ]
  }
 ],
 "metadata": {
  "kernelspec": {
   "display_name": "Python 3",
   "language": "python",
   "name": "python3"
  },
  "language_info": {
   "codemirror_mode": {
    "name": "ipython",
    "version": 3
   },
   "file_extension": ".py",
   "mimetype": "text/x-python",
   "name": "python",
   "nbconvert_exporter": "python",
   "pygments_lexer": "ipython3",
   "version": "3.7.3"
  }
 },
 "nbformat": 4,
 "nbformat_minor": 2
}
