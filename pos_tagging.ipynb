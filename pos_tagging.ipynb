{
 "cells": [
  {
   "cell_type": "markdown",
   "metadata": {},
   "source": [
    "# Předpřipravený tagger"
   ]
  },
  {
   "cell_type": "code",
   "execution_count": null,
   "metadata": {},
   "outputs": [],
   "source": [
    "cs = \"Proč chceš stát na dešti? Není o co stát.\"\n",
    "en = \"They refuse to permit us to obtain the refuse permit.\""
   ]
  },
  {
   "cell_type": "code",
   "execution_count": null,
   "metadata": {},
   "outputs": [],
   "source": [
    "import nltk"
   ]
  },
  {
   "cell_type": "code",
   "execution_count": null,
   "metadata": {},
   "outputs": [],
   "source": [
    "en_tok = nltk.word_tokenize(en)\n",
    "en_tok"
   ]
  },
  {
   "cell_type": "code",
   "execution_count": null,
   "metadata": {},
   "outputs": [],
   "source": [
    "nltk.pos_tag(en_tok)"
   ]
  },
  {
   "cell_type": "code",
   "execution_count": null,
   "metadata": {},
   "outputs": [],
   "source": [
    "from corpy.morphodita import Tagger"
   ]
  },
  {
   "cell_type": "code",
   "execution_count": null,
   "metadata": {},
   "outputs": [],
   "source": [
    "czech_pos_tagger = Tagger(\"/home/lukes/edu/python/czech-morfflex-pdt-161115/czech-morfflex-pdt-161115-pos_only.tagger\")"
   ]
  },
  {
   "cell_type": "code",
   "execution_count": null,
   "metadata": {},
   "outputs": [],
   "source": [
    "list(czech_pos_tagger.tag(cs, sents=True))"
   ]
  },
  {
   "cell_type": "markdown",
   "metadata": {},
   "source": [
    "# Otagovaný korpus\n",
    "\n",
    "Možnost efektivně procházet (otagovaný) korpus po větách budeme potřebovat při trénování a testování (načti větu, otaguj, porovnej se standardem, načti další...) našich vlastních taggerů."
   ]
  },
  {
   "cell_type": "code",
   "execution_count": null,
   "metadata": {},
   "outputs": [],
   "source": [
    "nltk.corpus.brown.tagged_words()"
   ]
  },
  {
   "cell_type": "code",
   "execution_count": null,
   "metadata": {},
   "outputs": [],
   "source": [
    "nltk.corpus.brown.tagged_words(tagset=\"universal\")"
   ]
  },
  {
   "cell_type": "code",
   "execution_count": null,
   "metadata": {},
   "outputs": [],
   "source": [
    "!head -n11 /home/lukes/edu/python/pdt3.train.vrt"
   ]
  },
  {
   "cell_type": "code",
   "execution_count": null,
   "metadata": {},
   "outputs": [],
   "source": [
    "from collections import namedtuple\n",
    "\n",
    "Token = namedtuple(\"Token\", \"word pos\")\n",
    "\n",
    "def vert_sents(vert_path):\n",
    "    with open(vert_path) as file:\n",
    "        sent = []\n",
    "        for line in file:\n",
    "            line = line.strip()\n",
    "            if \"\\t\" in line:\n",
    "                word, _, tag = line.split(\"\\t\")\n",
    "                pos = tag[0]\n",
    "                sent.append(Token(word, pos))\n",
    "            elif line.startswith(\"<s \"):\n",
    "                assert not sent\n",
    "            elif line == \"</s>\":\n",
    "                yield sent\n",
    "                sent = []            "
   ]
  },
  {
   "cell_type": "code",
   "execution_count": null,
   "metadata": {},
   "outputs": [],
   "source": [
    "sent_generator = vert_sents(\"/home/lukes/edu/python/pdt3.train.vrt\")"
   ]
  },
  {
   "cell_type": "code",
   "execution_count": null,
   "metadata": {},
   "outputs": [],
   "source": [
    "next(sent_generator)"
   ]
  },
  {
   "cell_type": "markdown",
   "metadata": {},
   "source": [
    "# Vlastní tagger\n",
    "\n",
    "Jak k problému vůbec přistoupit? Na jakém principu by měl tagger fungovat? Představte si, že chcete vymyslet formální postup, podle něhož by bez znalosti daného jazyka mohl značkování provést i člověk, ale místo člověku ho pak povíte počítači. Nesnažte se rovnou vyřešit všechno, zvolte \"inženýrský\" přístup -- přednostně se snažte identifikovat a řešit části problému, které mají při minimálním vynaloženém úsilí maximální účinek. Účinek v tomto případě měříme úspěšností taggeru -- procentem značek přidělených tak, aby odpovídaly referenčnímu korpusu (zlatému standardu)."
   ]
  },
  {
   "cell_type": "markdown",
   "metadata": {},
   "source": [
    "# Nejčastější POS"
   ]
  },
  {
   "cell_type": "code",
   "execution_count": null,
   "metadata": {},
   "outputs": [],
   "source": [
    "pos_fdist = nltk.FreqDist(p for s in vert_sents(\"/home/lukes/edu/python/pdt3.train.vrt\") for _, p in s)"
   ]
  },
  {
   "cell_type": "code",
   "execution_count": null,
   "metadata": {},
   "outputs": [],
   "source": [
    "def default_tagger(word):\n",
    "    return pos_fdist.max()"
   ]
  },
  {
   "cell_type": "code",
   "execution_count": null,
   "metadata": {},
   "outputs": [],
   "source": [
    "default_tagger(\"kočka\")"
   ]
  },
  {
   "cell_type": "code",
   "execution_count": null,
   "metadata": {},
   "outputs": [],
   "source": [
    "default_tagger(\"sadlfkas\")"
   ]
  },
  {
   "cell_type": "markdown",
   "metadata": {},
   "source": [
    "# Nejčastější POS pro daný tvar"
   ]
  },
  {
   "cell_type": "code",
   "execution_count": null,
   "metadata": {},
   "outputs": [],
   "source": [
    "unigram_cfdist = nltk.ConditionalFreqDist((w, p) for s in vert_sents(\"/home/lukes/edu/python/pdt3.train.vrt\") for w, p in s)"
   ]
  },
  {
   "cell_type": "code",
   "execution_count": null,
   "metadata": {},
   "outputs": [],
   "source": [
    "unigram_cfdist[\"včera\"].max()"
   ]
  },
  {
   "cell_type": "code",
   "execution_count": null,
   "metadata": {},
   "outputs": [],
   "source": [
    "unigram_cfdist[\"stát\"].max()"
   ]
  },
  {
   "cell_type": "code",
   "execution_count": null,
   "metadata": {},
   "outputs": [],
   "source": [
    "unigram_cfdist[\"asdfsaf\"].max()"
   ]
  },
  {
   "cell_type": "markdown",
   "metadata": {},
   "source": [
    "# Přes regulární výrazy"
   ]
  },
  {
   "cell_type": "code",
   "execution_count": null,
   "metadata": {},
   "outputs": [],
   "source": [
    "regex_tagger = nltk.RegexpTagger([\n",
    "    (r\".*ání$\", \"N\"),\n",
    "    (r\".*[áí]t$\", \"V\"),\n",
    "    (r\"a|i|(proto|tak)?že|když|aby|nebo|ani\", \"J\"),\n",
    "], backoff=nltk.DefaultTagger(\"N\"))"
   ]
  },
  {
   "cell_type": "code",
   "execution_count": null,
   "metadata": {},
   "outputs": [],
   "source": [
    "regex_tagger.tag([\"tání\"])"
   ]
  },
  {
   "cell_type": "code",
   "execution_count": null,
   "metadata": {},
   "outputs": [],
   "source": [
    "regex_tagger.tag([\"kočka\"])"
   ]
  },
  {
   "cell_type": "code",
   "execution_count": null,
   "metadata": {},
   "outputs": [],
   "source": [
    "regex_tagger.evaluate(list(vert_sents(\"/home/lukes/edu/python/pdt3.test.vrt\")))"
   ]
  },
  {
   "cell_type": "markdown",
   "metadata": {},
   "source": [
    "# N-gramový tagger\n",
    "\n",
    "![n-gram tagger](http://www.nltk.org/images/tag-context.png)"
   ]
  },
  {
   "cell_type": "code",
   "execution_count": null,
   "metadata": {},
   "outputs": [],
   "source": [
    "bigram_cfdist = nltk.ConditionalFreqDist(((b1.pos, b2.word), b2.pos) for s in vert_sents(\"/home/lukes/edu/python/pdt3.train.vrt\") for b1, b2 in nltk.bigrams(s))"
   ]
  },
  {
   "cell_type": "code",
   "execution_count": null,
   "metadata": {},
   "outputs": [],
   "source": [
    "for k, v in bigram_cfdist.items():\n",
    "    if len(v) > 1:\n",
    "        print(k, dict(v))"
   ]
  },
  {
   "cell_type": "code",
   "execution_count": null,
   "metadata": {},
   "outputs": [],
   "source": [
    "t2 = nltk.BigramTagger(vert_sents(\"/home/lukes/edu/python/pdt3.train.vrt\"))\n",
    "t2.evaluate(list(vert_sents(\"/home/lukes/edu/python/pdt3.test.vrt\")))"
   ]
  },
  {
   "cell_type": "code",
   "execution_count": null,
   "metadata": {},
   "outputs": [],
   "source": [
    "t0 = nltk.DefaultTagger(\"N\")\n",
    "t1 = nltk.UnigramTagger(vert_sents(\"/home/lukes/edu/python/pdt3.train.vrt\"), backoff=t0)\n",
    "t2 = nltk.BigramTagger(vert_sents(\"/home/lukes/edu/python/pdt3.train.vrt\"), backoff=t1)\n",
    "t2.evaluate(list(vert_sents(\"/home/lukes/edu/python/pdt3.test.vrt\")))"
   ]
  }
 ],
 "metadata": {
  "kernelspec": {
   "display_name": "Python 3",
   "language": "python",
   "name": "python3"
  },
  "language_info": {
   "codemirror_mode": {
    "name": "ipython",
    "version": 3
   },
   "file_extension": ".py",
   "mimetype": "text/x-python",
   "name": "python",
   "nbconvert_exporter": "python",
   "pygments_lexer": "ipython3",
   "version": "3.6.2"
  }
 },
 "nbformat": 4,
 "nbformat_minor": 2
}
