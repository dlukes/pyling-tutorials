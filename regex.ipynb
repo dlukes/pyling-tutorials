{
 "cells": [
  {
   "cell_type": "markdown",
   "metadata": {},
   "source": [
    "# Regulární výrazy\n",
    "\n",
    "Součástí Pythonu je standardní modul `re` pro práci s regulárními výrazy, ale existuje též přídatná knihovna `regex`, která je rychlejší a má bohatší podporu matchování roztodivných vlastností znaků definovaných Unicodem. Tu je potřeba nainstalovat zvlášť. Pokud je k dispozici (na Jupyteru je), není důvod jí nedat přednost.\n",
    "\n",
    "Při importu se knihovna `regex` často přejmenovává na prostorově úspornější `re` (viz další buňka). [API](https://en.wikipedia.org/wiki/Application_programming_interface) obou knihoven je vzájemně kompatibilní (poskytují uživateli stejně pojmenované funkce se stejně pojmenovanými argumenty, které se chovají totožně), takže pokud program přenesete na počítač, kde knihovna `regex` není k dispozici, stačí jen přepsat `import regex as re` na `import re` a program půjde spustit. V praxi je ale ještě potřeba ověřit, že vaše regulární výrazy nevyužívají pokročilou podporu Unicodu, která je dostupná jen v `regex`, a vrací i s knihovnou `re` očekávané výsledky."
   ]
  },
  {
   "cell_type": "code",
   "execution_count": null,
   "metadata": {},
   "outputs": [],
   "source": [
    "import regex as re"
   ]
  },
  {
   "cell_type": "markdown",
   "metadata": {},
   "source": [
    "## Rychlý přehled"
   ]
  },
  {
   "cell_type": "markdown",
   "metadata": {},
   "source": [
    "Přehled syntaxe regulárních výrazů podle [NLTK Book](http://www.nltk.org/book/ch03.html). Slouží jen k rychlé orientaci, teď jej přeskočte, věnujte se raději interaktivním příkladům níže a vracejte se k němu jen podle potřeby (např. kvůli objasnění účelu různých speciálních operátorů).\n",
    "\n",
    "```\n",
    ".         # Wildcard, matches any character\n",
    "\\w   \\W   # Matches any (non-)word character (careful, the\n",
    "          # computer's idea about what a word character is might\n",
    "          # be different from yours)\n",
    "\\d   \\D   # Matches any (non-)digit character\n",
    "\\s   \\S   # Matches any (non-)space character\n",
    "\\p{...}   # Matches any character with Unicode property ...\n",
    "\\P{...}   # Matches any character without Unicode property ...\n",
    "^abc      # Matches some pattern abc at the start of a string\n",
    "          # (or line, if the multiline flag is enabled)\n",
    "abc$      # Matches some pattern abc at the end of a string\n",
    "          # (or line, if the multiline flag is enabled)\n",
    "\\babc\\b   # Matches some pattern abc surrounded by word boundaries\n",
    "\\Babc\\B   # Matches some pattern abc not surrounded by word boundaries\n",
    "[abc]     # Matches one of a set of characters\n",
    "[^abc]    # Matches any character which is NOT in the set\n",
    "[A-Z0-9]  # Matches one of a range of characters\n",
    "ed|ing|s  # Matches one of the specified strings (disjunction)\n",
    "*         # Zero or more of previous item, e.g. a*, [a-z]* (also\n",
    "          # known as Kleene Closure); greedy (match as many as\n",
    "          # possible)\n",
    "*?        # The same as *, but non-greedy (match as few as possible)\n",
    "+         # One or more of previous item, e.g. a+, [a-z]+; greedy\n",
    "+?        # The same as + but non-greedy\n",
    "?         # Zero or one of the previous item (i.e. optional), e.g.\n",
    "          # a?, [a-z]?\n",
    "{n}       # Exactly n repeats where n is a non-negative integer\n",
    "{n,}      # At least n repeats\n",
    "{,n}      # No more than n repeats\n",
    "{m,n}     # At least m and no more than n repeats\n",
    "a(b|c)+   # Parentheses indicate the scope of the operators and\n",
    "          # capture the corresponding groups of characters, which\n",
    "          # are then accessible accessible with the match.group()\n",
    "          # or match.groups() method, or with a backreference:\n",
    "          # \\1, \\2 etc., depending on the order of the groups\n",
    "a(?:b|c)+ # Non-capturing version of the parentheses\n",
    "```"
   ]
  },
  {
   "cell_type": "markdown",
   "metadata": {},
   "source": [
    "## Interaktivní cvičení"
   ]
  },
  {
   "cell_type": "code",
   "execution_count": null,
   "metadata": {},
   "outputs": [],
   "source": [
    "# zde si nadefinujeme funkci, která vytvoří interaktivní widget\n",
    "# pro testování regulárních výrazů; na požádání rád objasním,\n",
    "# jak funguje, ale není účelem tomuhle kódu rozumět\n",
    "import IPython.core.display as ipd\n",
    "import ipywidgets as ipw\n",
    "\n",
    "def findall(dotall=False, multiline=False, ignorecase=False, only_first=False, regex=\"\", string=\"\"):\n",
    "    flags = 0\n",
    "    if dotall:\n",
    "        flags |= re.DOTALL\n",
    "    if multiline:\n",
    "        flags |= re.MULTILINE\n",
    "    if ignorecase:\n",
    "        flags |= re.IGNORECASE\n",
    "    start = '<span style=\"background-color: gold\">'\n",
    "    end = \"</span>\"\n",
    "    offset_bump = len(start) + len(end)\n",
    "    offset = 0\n",
    "    html = string\n",
    "    matches = []\n",
    "    if regex:\n",
    "        try:\n",
    "            for m in re.finditer(regex, string, flags):\n",
    "                matches.append(m.captures()[0])\n",
    "                span = m.span()\n",
    "                sstart, send = span[0] + offset, span[1] + offset\n",
    "                html = html[:sstart] + start + html[sstart:send] + end + html[send:]\n",
    "                offset += offset_bump\n",
    "                if only_first:\n",
    "                    break\n",
    "        except:\n",
    "            pass\n",
    "    ipd.display(ipd.HTML(\"<p>REGEX: <strong>\" + regex + \"</strong></p><p><pre>\" + html + \"</pre></p>\"))\n",
    "    return matches\n",
    "\n",
    "def interactive_findall(string):\n",
    "    ipw.interact(findall, string=ipw.fixed(string))"
   ]
  },
  {
   "cell_type": "code",
   "execution_count": null,
   "metadata": {},
   "outputs": [],
   "source": [
    "# nadefinujeme si pár textových řetězců na hraní s regulárními výrazy\n",
    "\n",
    "MARY = \"\"\"Mary had a little lamb.\n",
    "And everywhere that Mary\n",
    "went, the lamb was sure\n",
    "to go.\"\"\"\n",
    "\n",
    "SPECIAL = \"Special characters must be escaped.*\"\n",
    "\n",
    "PETS = \"The pet store sold cats, dogs, and birds.\"\n",
    "\n",
    "FIRST = \"=first first= # =second second= # =first= # =second=\"\n",
    "\n",
    "QUANT1 = \"\"\"Match with zero in the middle: @@\n",
    "Subexpresion occurs, but...: @=#=ABC@\n",
    "Lots of occurrences: @=#==#==#==#==#=@\n",
    "Must repeat entire pattern: @=#==#=#==#=@\"\"\"\n",
    "\n",
    "QUANT2 = \"\"\"AAAD\n",
    "ABBBBCD\n",
    "BBBCD\n",
    "ABCCD\n",
    "AAABBBC\"\"\"\n",
    "\n",
    "QUANT3 = \"\"\"aaaaa bbbbb ccccc\n",
    "aaa bbb ccc\n",
    "aaaaa bbbbbbbbbbbbbb ccccc\"\"\"\n",
    "\n",
    "BACK = \"\"\"jkl abc xyz\n",
    "jkl xyz abc\n",
    "jkl abc abc\n",
    "jkl xyz xyz\"\"\"\n",
    "\n",
    "LAZY = \"\"\"-- I want to match the words that start\n",
    "-- with 'th' and end with 's'.\n",
    "this\n",
    "thus\n",
    "thistle\n",
    "this line matches too much\n",
    "\"\"\""
   ]
  },
  {
   "cell_type": "code",
   "execution_count": null,
   "metadata": {},
   "outputs": [],
   "source": [
    "# vyhodnoťte a do políčka regex zkuste zadat třeba regulární výraz:\n",
    "#   .a\n",
    "# a pak:\n",
    "#   [a-z]a\n",
    "interactive_findall(MARY)"
   ]
  },
  {
   "cell_type": "code",
   "execution_count": null,
   "metadata": {},
   "outputs": [],
   "source": [
    "# vyhodnoťte a do políčka regex zkuste zadat třeba regulární výraz:\n",
    "#   .*\n",
    "# a potom:\n",
    "#   \\.\\*\n",
    "interactive_findall(SPECIAL)"
   ]
  },
  {
   "cell_type": "code",
   "execution_count": null,
   "metadata": {},
   "outputs": [],
   "source": [
    "# vyhodnoťte a do políčka regex zkuste zadat třeba regulární výraz:\n",
    "#   cat|dog|bird\n",
    "interactive_findall(PETS)"
   ]
  },
  {
   "cell_type": "code",
   "execution_count": null,
   "metadata": {},
   "outputs": [],
   "source": [
    "# vyhodnoťte a do políčka regex zkuste zadat třeba regulární výraz:\n",
    "#   =first|second=\n",
    "# a potom:\n",
    "#   =(first|second)=\n",
    "interactive_findall(FIRST)"
   ]
  },
  {
   "cell_type": "code",
   "execution_count": null,
   "metadata": {},
   "outputs": [],
   "source": [
    "# vyhodnoťte a do políčka regex zkuste zadat třeba regulární výraz:\n",
    "#   @(=#=)*@\n",
    "interactive_findall(QUANT1)"
   ]
  },
  {
   "cell_type": "code",
   "execution_count": null,
   "metadata": {},
   "outputs": [],
   "source": [
    "# vyhodnoťte a do políčka regex zkuste zadat třeba regulární výraz:\n",
    "#   A+B*C?D\n",
    "interactive_findall(QUANT2)"
   ]
  },
  {
   "cell_type": "code",
   "execution_count": null,
   "metadata": {},
   "outputs": [],
   "source": [
    "# vyhodnoťte a do políčka regex zkuste zadat třeba regulární výraz:\n",
    "#   a{,4}\n",
    "interactive_findall(QUANT3)"
   ]
  },
  {
   "cell_type": "code",
   "execution_count": null,
   "metadata": {},
   "outputs": [],
   "source": [
    "# vyhodnoťte a do políčka regex zkuste zadat třeba regulární výraz:\n",
    "#   (abc|xyz) \\1\n",
    "interactive_findall(BACK)"
   ]
  },
  {
   "cell_type": "code",
   "execution_count": null,
   "metadata": {},
   "outputs": [],
   "source": [
    "# vyhodnoťte a do políčka regex zkuste zadat třeba regulární výraz:\n",
    "#   \\bth\\p{Alphabetic}*s\\b\n",
    "# \\p{Alphabetic} je nejspolehlivější způsob, jak namatchovat jakýkoli\n",
    "# \"písmenkoidní\" znak v co nejširším slova smyslu. mezi složené závorky\n",
    "# v \\p{...} lze napsat název jakékoli kategorie znaků, která je\n",
    "# definovaná v rámci tzv. Unicode properties (jedna z užitečných je\n",
    "# např. \\p{Punctuation}, jinak Google!)\n",
    "interactive_findall(LAZY)"
   ]
  },
  {
   "cell_type": "markdown",
   "metadata": {},
   "source": [
    "## Použití v Pythonu\n",
    "\n",
    "Zaprvé: regulární výrazy se zapisují jako běžné textové řetězce; jejich speciální chování při hledání vzorců v textu vychází čistě z toho, že tento řetězec pak předáte funkci z modulu `regex` (nebo `re`), která toto chování implementuje:"
   ]
  },
  {
   "cell_type": "code",
   "execution_count": null,
   "metadata": {},
   "outputs": [],
   "source": [
    "re.findall(\"s.\", \"My father likes cars.\")"
   ]
  },
  {
   "cell_type": "markdown",
   "metadata": {},
   "source": [
    "Vzhledem k tomu, že regulární výrazy často obsahují speciální sekvence znaků se zpětnými lomítky, je dobré používat pro jejich definici tzv. **raw strings**, tj. `r\"...\"` místo jen `\"...\"`, které zajistí, že vám zpětná lomítka nezmizí. Některé sekvence se zpětnými lomítky v řetězcích totiž sám Pythonu považuje za speciální a nahrazuje je jinými znaky:"
   ]
  },
  {
   "cell_type": "code",
   "execution_count": null,
   "metadata": {},
   "outputs": [],
   "source": [
    "print(\"a\\bm\")"
   ]
  },
  {
   "cell_type": "markdown",
   "metadata": {},
   "source": [
    "My ale potřebujeme, aby tam ta zpětná lomítka zůstala, aby je mohla využít příslušná funkce modulu `regex` (nebo `re`), která teprve řetězec jakožto regulární výraz interpretuje. Proto je nejjednodušší všechny regulární výrazy zadávat jako **raw string**:"
   ]
  },
  {
   "cell_type": "code",
   "execution_count": null,
   "metadata": {},
   "outputs": [],
   "source": [
    "print(r\"a\\bm\")"
   ]
  },
  {
   "cell_type": "markdown",
   "metadata": {},
   "source": [
    "Funkce `re.search()` otestuje, zda regulární výraz matchuje kdekoli v rámci daného řetězce, a pokud ano, vrátí objekt typu `Match`:"
   ]
  },
  {
   "cell_type": "code",
   "execution_count": null,
   "metadata": {},
   "outputs": [],
   "source": [
    "m = re.search(r\"s.\", \"My father likes cars.\")\n",
    "m"
   ]
  },
  {
   "cell_type": "markdown",
   "metadata": {},
   "source": [
    "Všimněte si, že tak dostaneme pouze první výskyt vzorce odpovídající regulárnímu výrazu. Z objektu `Match` pak můžeme např. vytáhnout obsah matche..."
   ]
  },
  {
   "cell_type": "code",
   "execution_count": null,
   "metadata": {},
   "outputs": [],
   "source": [
    "m.group()"
   ]
  },
  {
   "cell_type": "markdown",
   "metadata": {},
   "source": [
    "... nebo indexy začátku a konce matche v rámci řetězce:"
   ]
  },
  {
   "cell_type": "code",
   "execution_count": null,
   "metadata": {},
   "outputs": [],
   "source": [
    "m.span()"
   ]
  },
  {
   "cell_type": "code",
   "execution_count": null,
   "metadata": {},
   "outputs": [],
   "source": [
    "\"My father likes cars.\"[14:16]"
   ]
  },
  {
   "cell_type": "markdown",
   "metadata": {},
   "source": [
    "`re.match` funguje podobně, ale začátek matche musí odpovídat začátku řetězce:"
   ]
  },
  {
   "cell_type": "code",
   "execution_count": null,
   "metadata": {},
   "outputs": [],
   "source": [
    "re.match(r\"s.\", \"My father likes cars.\")"
   ]
  },
  {
   "cell_type": "code",
   "execution_count": null,
   "metadata": {},
   "outputs": [],
   "source": [
    "re.match(r\"s.\", \"summertime\")"
   ]
  },
  {
   "cell_type": "markdown",
   "metadata": {},
   "source": [
    "`re.fullmatch()` pak vyžaduje, aby regulární výraz matchoval celý řetězec od začátku do konce:"
   ]
  },
  {
   "cell_type": "code",
   "execution_count": null,
   "metadata": {},
   "outputs": [],
   "source": [
    "re.fullmatch(r\"s.\", \"summertime\")"
   ]
  },
  {
   "cell_type": "code",
   "execution_count": null,
   "metadata": {},
   "outputs": [],
   "source": [
    "re.fullmatch(r\"s.\", \"su\")"
   ]
  },
  {
   "cell_type": "markdown",
   "metadata": {},
   "source": [
    "Pokud chcete najít **všechny výskyty** sekvencí odpovídajícíh regulárnímu výrazu, můžete použít buď funkci `re.findall()`, která vrátí seznam všech namatchovaných podřetězců..."
   ]
  },
  {
   "cell_type": "code",
   "execution_count": null,
   "metadata": {},
   "outputs": [],
   "source": [
    "re.findall(r\"s.\", \"My father likes cars.\")"
   ]
  },
  {
   "cell_type": "markdown",
   "metadata": {},
   "source": [
    "... nebo funkci `re.finditer()`, která vrátí iterátor (potenciální kolekci) objektů typu `Match` (tento iterátor sám o sobě je objekt typu `Scanner`),..."
   ]
  },
  {
   "cell_type": "code",
   "execution_count": null,
   "metadata": {},
   "outputs": [],
   "source": [
    "re.finditer(r\"s.\", \"My father likes cars.\")"
   ]
  },
  {
   "cell_type": "markdown",
   "metadata": {},
   "source": [
    "... z něhož je pak pochopitelně potřeba jednotlivé matche postupně vytáhnout (výhoda je, že matche v žádné chvíli nedržíte všechny najednou v paměti, což je šetrnější přístup, než je všechny uložit do seznamu, jako to dělá funkce `re.findall()`, zvlášť pokud je matchů potenciálně opravdu hodně):"
   ]
  },
  {
   "cell_type": "code",
   "execution_count": null,
   "metadata": {
    "scrolled": true
   },
   "outputs": [],
   "source": [
    "for match in re.finditer(r\"s.\", \"My father likes cars.\"):\n",
    "    print(match)\n",
    "    print(match.span())\n",
    "    print(repr(match.group()))"
   ]
  },
  {
   "cell_type": "markdown",
   "metadata": {},
   "source": [
    "Další výhoda `re.finditer()` je v tom, že někdy prostě potřebujete pracovat s celým objektem typu `Match` -- např. potřebujete informaci o tom, kde match v rámci původního řetězce začíná a končí, kterou získáte díky metodě `match.span()`.\n",
    "\n",
    "**Výstup všech těchto funkcí lze pak používat v `if` podmínkách** a jiných logických operacích, protože při úspěchu vracejí hodnoty (objekty typu `Match` nebo seznamy), které Python považuje za pravdivé (`True`), a při neúspěchu nevracejí nic (resp. speciální hodnotu `None`), kterou naopak Python považuje za nepravdivou (`False`):"
   ]
  },
  {
   "cell_type": "code",
   "execution_count": null,
   "metadata": {},
   "outputs": [],
   "source": [
    "if re.match(r\"as\", \"asdf\"):\n",
    "    print(\"úspěch!\")\n",
    "else:\n",
    "    print(\"smůla :(\")"
   ]
  },
  {
   "cell_type": "code",
   "execution_count": null,
   "metadata": {},
   "outputs": [],
   "source": [
    "if re.fullmatch(r\"as\", \"asdf\"):\n",
    "    print(\"úspěch!\")\n",
    "else:\n",
    "    print(\"smůla :(\")"
   ]
  },
  {
   "cell_type": "markdown",
   "metadata": {},
   "source": [
    "Pak je zde ještě funkce `re.sub()`, která umožňuje nahrazovat namatchované části řetězce něčím jiným:"
   ]
  },
  {
   "cell_type": "code",
   "execution_count": null,
   "metadata": {},
   "outputs": [],
   "source": [
    "re.sub(r\"cat|like\", r\"dog\", \"I like cats and categories.\")"
   ]
  },
  {
   "cell_type": "markdown",
   "metadata": {},
   "source": [
    "Pokud chcete v nahrazovacím řetězci odkázat na obsah či část obsahu matche, je potřeba příslušnou část regulárního výrazu obalit do **skupiny** pomocí závorek `(...)` a pak na skupiny podle jejího pořadí odkázat:"
   ]
  },
  {
   "cell_type": "code",
   "execution_count": null,
   "metadata": {},
   "outputs": [],
   "source": [
    "re.sub(r\"(cat|like)\", r\"dog\\1\", \"I like cats and categories.\")"
   ]
  },
  {
   "cell_type": "code",
   "execution_count": null,
   "metadata": {},
   "outputs": [],
   "source": [
    "re.sub(r\"(like.*?) and (categories)\", r\"really \\1 but I hate \\2\", \"I like cats and categories.\")"
   ]
  },
  {
   "cell_type": "code",
   "execution_count": null,
   "metadata": {},
   "outputs": [],
   "source": [
    "re.sub(r\"(cat)|(like)\", r\"\\1dog\\2\", \"I like cats and categories.\")"
   ]
  },
  {
   "cell_type": "markdown",
   "metadata": {},
   "source": [
    "**Chování funkcí lze měnit tzv. přepínači**, které se zadávají pomocí nepovinného parametru `flags`. Existují následující přepínače: `re.ASCII`, `re.DEBUG`, `re.IGNORECASE`, `re.LOCALE`, `re.MULTILINE`, `re.DOTALL`, `re.VERBOSE`. Blíže popsané jsou [v dokumentaci](https://docs.python.org/3/library/re.html#module-contents).\n",
    "\n",
    "A používají se takto:"
   ]
  },
  {
   "cell_type": "code",
   "execution_count": null,
   "metadata": {},
   "outputs": [],
   "source": [
    "re.match(\"as\", \"ASDF\", flags=re.IGNORECASE)"
   ]
  },
  {
   "cell_type": "markdown",
   "metadata": {},
   "source": [
    "Pokud jich chcete použít víc najednou, je potřeba je zřetězit pomocí operátoru `|` (což vypadá obskurně a z hlediska pohodlí uživatele to není moc dobré řešení, ale bohužel je to tak dané; koho by zajímalo, co operátor `|` přesně dělá, Google i já jsme k dispozici, ale není to nijak životně důležité)."
   ]
  },
  {
   "cell_type": "code",
   "execution_count": null,
   "metadata": {},
   "outputs": [],
   "source": [
    "re.match(\"a.\", \"A\\nSDF\", flags=re.IGNORECASE | re.DOTALL)"
   ]
  },
  {
   "cell_type": "markdown",
   "metadata": {},
   "source": [
    "## Na závěr možná nečekané praktické uplatnění...\n",
    "\n",
    "U běžných \"písmenek\", která existují v rámci Unicodu jako jeden znak (tj. i česká písmenka s diakritikou a mnohem exotičtější záležitosti), odpovídá délka řetězce v Pythonu intuitivnímu počtu \"písmenek\" (**grafémů**), kdybychom je počítali ručně:"
   ]
  },
  {
   "cell_type": "code",
   "execution_count": null,
   "metadata": {},
   "outputs": [],
   "source": [
    "len(\"ručně\")"
   ]
  },
  {
   "cell_type": "markdown",
   "metadata": {},
   "source": [
    "Někdy jsou ovšem grafémy složené z více znaků (jeden základní + další diakritické), typicky tomu tak bývá u fonetických přepisů, ale může se tak stát i jinde:"
   ]
  },
  {
   "cell_type": "code",
   "execution_count": null,
   "metadata": {},
   "outputs": [],
   "source": [
    "list(\"tr̝̥i\")"
   ]
  },
  {
   "cell_type": "code",
   "execution_count": null,
   "metadata": {},
   "outputs": [],
   "source": [
    "len(\"tr̝̥i\")"
   ]
  },
  {
   "cell_type": "markdown",
   "metadata": {},
   "source": [
    "Tam už pak počet znaků intuitivnímu / vizuálně určenému počtu grafémů neodpovídá. Pokud chceme grafémy **spočítat spolehlivě automaticky**, musíme použít regulární výraz `\\X`, který matchuje znak či sekvenci znaků, která odpovídá právě jednomu vizuálnímu grafému:"
   ]
  },
  {
   "cell_type": "code",
   "execution_count": null,
   "metadata": {},
   "outputs": [],
   "source": [
    "re.findall(r\"\\X\", \"tr̝̥i\")"
   ]
  },
  {
   "cell_type": "code",
   "execution_count": null,
   "metadata": {},
   "outputs": [],
   "source": [
    "len(re.findall(r\"\\X\", \"tr̝̥i\"))"
   ]
  },
  {
   "cell_type": "code",
   "execution_count": null,
   "metadata": {},
   "outputs": [],
   "source": [
    "# nebo též\n",
    "sum(1 for _ in re.finditer(r\"\\X\", \"tr̝̥i\"))"
   ]
  },
  {
   "cell_type": "markdown",
   "metadata": {},
   "source": [
    "Regulární výraz `\\X` je právě jedna z pokročilých Unicodových funkcí, která **není dostupná ve standardním modulu `re`**."
   ]
  }
 ],
 "metadata": {
  "kernelspec": {
   "display_name": "Python 3",
   "language": "python",
   "name": "python3"
  },
  "language_info": {
   "codemirror_mode": {
    "name": "ipython",
    "version": 3
   },
   "file_extension": ".py",
   "mimetype": "text/x-python",
   "name": "python",
   "nbconvert_exporter": "python",
   "pygments_lexer": "ipython3",
   "version": "3.6.4"
  }
 },
 "nbformat": 4,
 "nbformat_minor": 2
}
