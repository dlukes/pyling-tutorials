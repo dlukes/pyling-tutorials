{
 "cells": [
  {
   "cell_type": "markdown",
   "metadata": {
    "nbgrader": {
     "grade": false,
     "grade_id": "cell-ac24905c168719b3",
     "locked": true,
     "schema_version": 1,
     "solution": false
    }
   },
   "source": [
    "# Udělej si sám/sama: regulární výrazy\n",
    "\n",
    "Jak jsme si říkali na jedné z předchozích hodin, regulární výrazy představují speciální jazyk pro vyhledávání vzorců v textových řetězcích. Díky nim můžeme jedním zadáním zachytit velké množství vzorců, které nás zajímají: např. regulární výraz `nej.*` znamená, že hledáme písmena `n`, `e` a `j` následovaná libovolným počtem (`*`) libovolných znaků (`.`).\n",
    "\n",
    "V tomto úkolu se pomocí několika funkcí pokusíme vytvořit jednoduchý systém na matchování regulárních výrazů. Naprostou většinu jejich standardní funkcionality zanedbáme, zajímá nás vlastně jen jedna speciální dovednost: schopnost znaku `.` matchovat jakýkoli znak. Jinak náš systém bude vlastně fungovat podobně jako metoda `.startswith()` na řetězcích:"
   ]
  },
  {
   "cell_type": "code",
   "execution_count": 1,
   "metadata": {
    "nbgrader": {
     "grade": false,
     "grade_id": "cell-bc378828a51c23b0",
     "locked": true,
     "schema_version": 1,
     "solution": false
    }
   },
   "outputs": [
    {
     "data": {
      "text/plain": [
       "True"
      ]
     },
     "execution_count": 1,
     "metadata": {},
     "output_type": "execute_result"
    }
   ],
   "source": [
    "# výsledek je True a náš systém by měl taky vrátit True\n",
    "\"abcdef\".startswith(\"abc\")"
   ]
  },
  {
   "cell_type": "code",
   "execution_count": 2,
   "metadata": {
    "nbgrader": {
     "grade": false,
     "grade_id": "cell-c6f6a50c817c24dd",
     "locked": true,
     "schema_version": 1,
     "solution": false
    }
   },
   "outputs": [
    {
     "data": {
      "text/plain": [
       "False"
      ]
     },
     "execution_count": 2,
     "metadata": {},
     "output_type": "execute_result"
    }
   ],
   "source": [
    "# tohle vrátí False, ale náš systém vrátí True\n",
    "\"abcdef\".startswith(\".bc\")"
   ]
  },
  {
   "cell_type": "code",
   "execution_count": 3,
   "metadata": {
    "nbgrader": {
     "grade": false,
     "grade_id": "cell-6e14062639c1c6a9",
     "locked": true,
     "schema_version": 1,
     "solution": false
    }
   },
   "outputs": [
    {
     "data": {
      "text/plain": [
       "False"
      ]
     },
     "execution_count": 3,
     "metadata": {},
     "output_type": "execute_result"
    }
   ],
   "source": [
    "# tady náš systém vrátí taky False, protože zpětné lomítko\n",
    "# \\ speciální chování tečky \"vypne\" (tzv. *escaping*)\n",
    "\"abcdef\".startswith(r\"\\.bc\")"
   ]
  },
  {
   "cell_type": "markdown",
   "metadata": {
    "nbgrader": {
     "grade": false,
     "grade_id": "cell-8a4d90c038b552e5",
     "locked": true,
     "schema_version": 1,
     "solution": false
    }
   },
   "source": [
    "Pochopitelně toho musíme dosáhnout, **aniž bychom použili jakoukoli existující knihovnu na práci s regulárními výrazy** (`re`, `regex` apod.) :)\n",
    "\n",
    "## Parsování regulárního výrazu\n",
    "\n",
    "Skoro všechny znaky v našich regulárních výrazech stojí samy za sebe, ale tečka má občas speciální význam. Vyplatí se tedy regulární výraz převést z řetězce do nějaké podoby, kde bude u každého znaku zachyceno, jestli se před ním vyskytlo zpětné lomítko (a je tedy *escaped*) či ne, abychom s touto informací mohli později pracovat.\n",
    "\n",
    "Operaci, při níž převádíme textovou reprezentaci dat na bohatší datovou strukturu, kde jsou explicitně zakódované různé další informace, se obecně říká **parsování**. Např. i tokenizaci textu, tj. převod z jednoho dlouhého textového řetězce na seznam textových řetězců, z něhož lze poznat hranice slov, bychom mohli nazvat parsováním.\n",
    "\n",
    "V tomto případě chceme převést řetězec zachycující regulární výraz na seznam znaků regulárního výrazu a u každého z nich si podržet informaci, zda mu předcházelo zpětné lomítko. K zachycení každého znaku bychom mohli použít běžnou n-tici, např. tečku po zpětném lomítku bychom reprezentovali jako `(\".\", True)`, tečku bez předcházejícího zpětného lomítka jako `(\".\", False)`. Pro přehlednost je ale dobré si vytvořit nový typ objektu pomocí funkce `namedtuple()` (pojmenovaná n-tice):"
   ]
  },
  {
   "cell_type": "code",
   "execution_count": 4,
   "metadata": {
    "nbgrader": {
     "grade": false,
     "grade_id": "cell-119ae66f1296af4c",
     "locked": true,
     "schema_version": 1,
     "solution": false
    }
   },
   "outputs": [],
   "source": [
    "from collections import namedtuple\n",
    "\n",
    "RegexChar = namedtuple(\"RegexChar\", \"value escaped\")"
   ]
  },
  {
   "cell_type": "markdown",
   "metadata": {
    "nbgrader": {
     "grade": false,
     "grade_id": "cell-665bb12616066372",
     "locked": true,
     "schema_version": 1,
     "solution": false
    }
   },
   "source": [
    "Takto jsme vytvořili nový typ objektu `RegexChar`. Instance tohoto objektu se vytváří pomocí konstruktoru `RegexChar()`, jemuž je potřeba předat dva argumenty, které pak budou odpovídat atributům `value` a `escaped`:"
   ]
  },
  {
   "cell_type": "code",
   "execution_count": 5,
   "metadata": {
    "nbgrader": {
     "grade": false,
     "grade_id": "cell-c87869f28f6569f2",
     "locked": true,
     "schema_version": 1,
     "solution": false
    }
   },
   "outputs": [],
   "source": [
    "rchar = RegexChar(\"c\", False)"
   ]
  },
  {
   "cell_type": "markdown",
   "metadata": {
    "nbgrader": {
     "grade": false,
     "grade_id": "cell-f26d54b1138c3588",
     "locked": true,
     "schema_version": 1,
     "solution": false
    }
   },
   "source": [
    "Pojmenované n-tice (mezi něž náš nově vytvořený typ objektu `RegexChar` spadá) v mnohých ohledech fungují stejně jako běžné n-tice, můžeme z nich např. vytáhnout prvky pomocí číselné indexace:"
   ]
  },
  {
   "cell_type": "code",
   "execution_count": 6,
   "metadata": {
    "nbgrader": {
     "grade": false,
     "grade_id": "cell-179683f4ca80e764",
     "locked": true,
     "schema_version": 1,
     "solution": false
    }
   },
   "outputs": [
    {
     "data": {
      "text/plain": [
       "'c'"
      ]
     },
     "execution_count": 6,
     "metadata": {},
     "output_type": "execute_result"
    }
   ],
   "source": [
    "rchar[0]"
   ]
  },
  {
   "cell_type": "code",
   "execution_count": 7,
   "metadata": {
    "nbgrader": {
     "grade": false,
     "grade_id": "cell-679a1da1c667f5c4",
     "locked": true,
     "schema_version": 1,
     "solution": false
    }
   },
   "outputs": [
    {
     "data": {
      "text/plain": [
       "False"
      ]
     },
     "execution_count": 7,
     "metadata": {},
     "output_type": "execute_result"
    }
   ],
   "source": [
    "rchar[1]"
   ]
  },
  {
   "cell_type": "markdown",
   "metadata": {
    "nbgrader": {
     "grade": false,
     "grade_id": "cell-279701414bb90801",
     "locked": true,
     "schema_version": 1,
     "solution": false
    }
   },
   "source": [
    "Ale mají velkou výhodu v tom, že je u nich na první pohled mnohem jasnější, co reprezentují za data -- srovnejte běžnou n-tici (kde není úplně jasné, co má znamenat n-tice jako celek, ani co znamenají její jednotlivé položky)..."
   ]
  },
  {
   "cell_type": "code",
   "execution_count": 8,
   "metadata": {
    "nbgrader": {
     "grade": false,
     "grade_id": "cell-59e0f8875b6038fb",
     "locked": true,
     "schema_version": 1,
     "solution": false
    }
   },
   "outputs": [
    {
     "data": {
      "text/plain": [
       "('c', False)"
      ]
     },
     "execution_count": 8,
     "metadata": {},
     "output_type": "execute_result"
    }
   ],
   "source": [
    "tuple(rchar)"
   ]
  },
  {
   "cell_type": "markdown",
   "metadata": {
    "nbgrader": {
     "grade": false,
     "grade_id": "cell-e58d612ff4c53fcb",
     "locked": true,
     "schema_version": 1,
     "solution": false
    }
   },
   "source": [
    "... s pojmenovanou n-ticí:"
   ]
  },
  {
   "cell_type": "code",
   "execution_count": 9,
   "metadata": {
    "nbgrader": {
     "grade": false,
     "grade_id": "cell-ab04d9b02457d647",
     "locked": true,
     "schema_version": 1,
     "solution": false
    }
   },
   "outputs": [
    {
     "data": {
      "text/plain": [
       "RegexChar(value='c', escaped=False)"
      ]
     },
     "execution_count": 9,
     "metadata": {},
     "output_type": "execute_result"
    }
   ],
   "source": [
    "rchar"
   ]
  },
  {
   "cell_type": "markdown",
   "metadata": {
    "nbgrader": {
     "grade": false,
     "grade_id": "cell-1813dc8395ee7e9d",
     "locked": true,
     "schema_version": 1,
     "solution": false
    }
   },
   "source": [
    "Navíc nabízí možnost odkazovat na jednotlivé položky pomocí jmen atributů, což je mnohem spolehlivější (u číselné indexace si člověk snadno splete pořadí):"
   ]
  },
  {
   "cell_type": "code",
   "execution_count": 10,
   "metadata": {
    "nbgrader": {
     "grade": false,
     "grade_id": "cell-f7b7ccdf15615a67",
     "locked": true,
     "schema_version": 1,
     "solution": false
    }
   },
   "outputs": [
    {
     "data": {
      "text/plain": [
       "'c'"
      ]
     },
     "execution_count": 10,
     "metadata": {},
     "output_type": "execute_result"
    }
   ],
   "source": [
    "rchar.value"
   ]
  },
  {
   "cell_type": "code",
   "execution_count": 11,
   "metadata": {
    "nbgrader": {
     "grade": false,
     "grade_id": "cell-59d0593a059d7894",
     "locked": true,
     "schema_version": 1,
     "solution": false
    }
   },
   "outputs": [
    {
     "data": {
      "text/plain": [
       "False"
      ]
     },
     "execution_count": 11,
     "metadata": {},
     "output_type": "execute_result"
    }
   ],
   "source": [
    "rchar.escaped"
   ]
  },
  {
   "cell_type": "markdown",
   "metadata": {
    "nbgrader": {
     "grade": false,
     "grade_id": "cell-1391c13f1e68aefa",
     "locked": true,
     "schema_version": 1,
     "solution": false
    }
   },
   "source": [
    "Parsování tedy v našem případě znamená, že chceme převést řetězec reprezentující regulární výraz na seznam pojmenovaných n-tic typu `RegexChar`.\n",
    "\n",
    "To zní asi trochu abstraktně, tak si raději ukažme příklad. Regulární výraz, který vyhledá písmeno `M`, pak jakýkoli znak a nakonec tečku vypadá jako řetězec takto: `M.\\.`. Převeden na seznam objektů typu `RegexChar` by měl vypadat následovně:\n",
    "\n",
    "```python\n",
    "[\n",
    "    RegexChar(value=\"M\", escaped=False),\n",
    "    # první tečce nepředcházelo zpětné lomítko, není tedy escaped\n",
    "    # a má speciální význam \"matchuj cokoli\"\n",
    "    RegexChar(value=\".\", escaped=False),\n",
    "    # druhé tečce lomítko předcházelo, escaped tentokrát je a je to\n",
    "    # běžná tečka\n",
    "    RegexChar(value=\".\", escaped=True)\n",
    "]\n",
    "```\n",
    "\n",
    "Doplňte implementaci funkce `parse_regex()`, která provede tuto operaci. Podmínky, které je potřeba splňovat, jsou naznačené pomocí testů v další buňce."
   ]
  },
  {
   "cell_type": "code",
   "execution_count": 12,
   "metadata": {
    "nbgrader": {
     "grade": false,
     "grade_id": "cell-702d9113fb666272",
     "locked": false,
     "schema_version": 1,
     "solution": true
    }
   },
   "outputs": [],
   "source": [
    "def parse_regex(pattern):\n",
    "    ### BEGIN SOLUTION\n",
    "    ans = []\n",
    "    escaped = False\n",
    "    for char in pattern:\n",
    "        if char == \"\\\\\":\n",
    "            escaped = True\n",
    "        else:\n",
    "            ans.append(RegexChar(char, escaped))\n",
    "            escaped = False\n",
    "    return ans\n",
    "    ### END SOLUTION"
   ]
  },
  {
   "cell_type": "code",
   "execution_count": 13,
   "metadata": {
    "nbgrader": {
     "grade": true,
     "grade_id": "cell-b30a6992ab310fde",
     "locked": true,
     "points": 1,
     "schema_version": 1,
     "solution": false
    }
   },
   "outputs": [],
   "source": [
    "# regulární výraz bez speciálních znaků\n",
    "assert (\n",
    "    parse_regex(\"abc\")\n",
    "    ==\n",
    "    [\n",
    "        RegexChar(value=\"a\", escaped=False),\n",
    "        RegexChar(value=\"b\", escaped=False),\n",
    "        RegexChar(value=\"c\", escaped=False)\n",
    "    ]\n",
    ")\n",
    "# regulární výraz s tečkou ve funkci speciálního znaku\n",
    "assert (\n",
    "    parse_regex(\"Mr.\")\n",
    "    ==\n",
    "    [\n",
    "        RegexChar(value=\"M\", escaped=False),\n",
    "        RegexChar(value=\"r\", escaped=False),\n",
    "        RegexChar(value=\".\", escaped=False)\n",
    "    ]\n",
    ")\n",
    "# regulární výraz s tečkou ve funkci speciálního znaku\n",
    "# a následně tečky (escaped=True)\n",
    "assert (\n",
    "    parse_regex(\"M.\\.\")\n",
    "    ==\n",
    "    [\n",
    "        RegexChar(value=\"M\", escaped=False),\n",
    "        RegexChar(value=\".\", escaped=False),\n",
    "        RegexChar(value=\".\", escaped=True)\n",
    "    ]\n",
    ")\n",
    "# bez použití syntaxe raw string (r\"...\") z \"\\n\" vznikne\n",
    "# regulární výraz se znakem nového řádku\n",
    "assert (\n",
    "    parse_regex(\"\\n\")\n",
    "    ==\n",
    "    [RegexChar(value=\"\\n\", escaped=False)]\n",
    ")\n",
    "# s raw stringem získáme regulární výraz se znakem \"n\"\n",
    "# s vlastností escaped=True\n",
    "assert (\n",
    "    parse_regex(r\"\\n\")\n",
    "    ==\n",
    "    [RegexChar(value=\"n\", escaped=True)]\n",
    ")"
   ]
  },
  {
   "cell_type": "markdown",
   "metadata": {
    "nbgrader": {
     "grade": false,
     "grade_id": "cell-00136f39370c9556",
     "locked": true,
     "schema_version": 1,
     "solution": false
    }
   },
   "source": [
    "## Matchování -- fáze 1\n",
    "\n",
    "Nyní přikročíme k implementaci matchování. Nebudeme se ale rovnou snažit matchovat celý výraz vůči celému řetězci: abychom se v tom neutopili, začneme tím, že vyladíme matchování jednoho znaku regulárního výrazu vůči jednomu znaku z textu. Rozdělit tímto způsobem úlohu do více dílčích funkcí se vyplatí, můžeme je vyvíjet a zkoušet individuálně a složitou funkcionalitu budovat z ozkoušených jednodušších součástek.\n",
    "\n",
    "Oproti tomu napsat rovnou jen jednu velkou funkci, která dělá všechno, je mnohem těžší, člověk často neví, kde začít. Rozčlenění úkolu na podúkoly nám totiž mimo jiné pomůže utřídit myšlenky, jak onen úkol vůbec řešit. Nemluvě o tom, že čím složitější a delší funkce s více účely, tím hůř se v ní hledají chyby.\n",
    "\n",
    "Doplňte implementaci funkce `match_one()`, která namatchuje jeden znak regulárního výrazu a jeden znak z prohledávaného řetězce. Pracuje s následujícími argumenty:\n",
    "\n",
    "- `regex_char`: část regulárního výrazu v podobě jednoho objektu typu `RegexChar`\n",
    "- `text_char`: část prohledávaného textu v podobě řetězce o jednom znaku\n",
    "\n",
    "Funkce vrací `True` nebo `False` podle toho, zda část textu části regulárního výrazu odpovídá či ne. Podmínky, které je potřeba splňovat, jsou naznačené pomocí testů v další buňce."
   ]
  },
  {
   "cell_type": "code",
   "execution_count": 14,
   "metadata": {
    "nbgrader": {
     "grade": false,
     "grade_id": "cell-d821de9dcb69779f",
     "locked": false,
     "schema_version": 1,
     "solution": true
    }
   },
   "outputs": [],
   "source": [
    "def match_one(regex_char, text_char):\n",
    "    ### BEGIN SOLUTION\n",
    "    if not regex_char.value:\n",
    "        return True\n",
    "    elif not text_char:\n",
    "        return False\n",
    "    elif regex_char.value == \".\" and not regex_char.escaped:\n",
    "        return True\n",
    "    return regex_char.value == text_char\n",
    "    ### END SOLUTION"
   ]
  },
  {
   "cell_type": "code",
   "execution_count": 15,
   "metadata": {
    "nbgrader": {
     "grade": true,
     "grade_id": "cell-3744972a33737211",
     "locked": true,
     "points": 1,
     "schema_version": 1,
     "solution": false
    }
   },
   "outputs": [],
   "source": [
    "# výraz s konkrétním znakem matchuje jen a jen tento znak\n",
    "assert match_one(RegexChar(\"a\", False), \"a\")\n",
    "assert not match_one(RegexChar(\"a\", False), \"z\")\n",
    "# tečka matchuje jakýkoli znak, ...\n",
    "assert match_one(RegexChar(\".\", False), \"a\")\n",
    "assert match_one(RegexChar(\".\", False), \"z\")\n",
    "assert match_one(RegexChar(\".\", False), \".\")\n",
    "# ... pokud ovšem není escaped...\n",
    "assert not match_one(RegexChar(\".\", True), \"a\")\n",
    "assert not match_one(RegexChar(\".\", True), \"z\")\n",
    "# ... (pak matchuje jen tečku)\n",
    "assert match_one(RegexChar(\".\", True), \".\")\n",
    "# prázdný výraz matchuje jakýkoli znak, ...\n",
    "assert match_one(RegexChar(\"\", False), \"z\")\n",
    "# ... naopak prázdný znak není matchován žádným výrazem, ...\n",
    "assert not match_one(RegexChar(\"a\", False), \"\")\n",
    "# ... kromě prázdného\n",
    "assert match_one(RegexChar(\"\", False), \"\")"
   ]
  },
  {
   "cell_type": "markdown",
   "metadata": {
    "nbgrader": {
     "grade": false,
     "grade_id": "cell-0baedc0143c0bfcf",
     "locked": true,
     "schema_version": 1,
     "solution": false
    }
   },
   "source": [
    "## Matchování -- fáze 2\n",
    "\n",
    "Všechny dílčí součástky máme nyní k dispozici a můžeme konečně přikročit k implementaci plnohodnotného matchování.\n",
    "\n",
    "**TIP:** Možná se vám bude hodit funkce `zip()`, která slouží k paralelnímu procházení více kolekcí najednou:"
   ]
  },
  {
   "cell_type": "code",
   "execution_count": 16,
   "metadata": {
    "nbgrader": {
     "grade": false,
     "grade_id": "cell-26b83a566695d7ed",
     "locked": true,
     "schema_version": 1,
     "solution": false
    }
   },
   "outputs": [
    {
     "name": "stdout",
     "output_type": "stream",
     "text": [
      "1: a\n",
      "2: b\n",
      "3: c\n"
     ]
    }
   ],
   "source": [
    "for num, char in zip([1, 2, 3], \"abc\"):\n",
    "    print(f\"{num}: {char}\")"
   ]
  },
  {
   "cell_type": "markdown",
   "metadata": {
    "nbgrader": {
     "grade": false,
     "grade_id": "cell-a2f8c2e599511a94",
     "locked": true,
     "schema_version": 1,
     "solution": false
    }
   },
   "source": [
    "Doplňte implementaci funkce `match()` s následujícími argumenty:\n",
    "\n",
    "- `pattern`: hledaný regulární výraz\n",
    "- `text`: prohledávaný text\n",
    "\n",
    "Funkce vrací `True`, pokud výraz matchuje (na začátku textu, ne uprostřed), jinak `False`. Podmínky, které je potřeba splňovat, jsou naznačené pomocí testů v další buňce. Při implementaci funkce je **nutné použít dříve definované funkce** `match_one()` a `parse_regex()`."
   ]
  },
  {
   "cell_type": "code",
   "execution_count": 17,
   "metadata": {
    "nbgrader": {
     "grade": false,
     "grade_id": "cell-760d494c0a4e4b29",
     "locked": false,
     "schema_version": 1,
     "solution": true
    }
   },
   "outputs": [],
   "source": [
    "def match(pattern, text):\n",
    "    ### BEGIN SOLUTION\n",
    "    return all(match_one(p, c) for (p, c) in zip(parse_regex(pattern), text))\n",
    "    ### END SOLUTION"
   ]
  },
  {
   "cell_type": "code",
   "execution_count": 18,
   "metadata": {
    "nbgrader": {
     "grade": true,
     "grade_id": "cell-fde51ee12919073a",
     "locked": true,
     "points": 1,
     "schema_version": 1,
     "solution": false
    }
   },
   "outputs": [],
   "source": [
    "assert match(\"...\", \"abc\")\n",
    "assert not match(\"abc\", \"...\")\n",
    "assert match(\"M.\\.\", \"Ms.\")\n",
    "assert match(\"M.\\.\", \"Mr.\")\n",
    "assert not match(\"M.\\.\", \"Mrs\")\n",
    "assert match(\"t.p\", \"tip\")\n",
    "assert match(\"t.p\", \"typ\")\n",
    "# prohledávaný text může být delší než regulární výraz...\n",
    "assert match(\"t.p\", \"typologie\")\n",
    "# ... ale aby to byl match, musí být hledaný vzorec\n",
    "# na začátku textu\n",
    "assert not match(\"t.p\", \"prototyp\")\n",
    "# speciálních teček může být pochopitelně víc za sebou\n",
    "# na různých místech ve výrazu\n",
    "assert match(\"v..k..\", \"vlákat\")\n",
    "assert match(\"v..k..\", \"vankúš\")"
   ]
  },
  {
   "cell_type": "markdown",
   "metadata": {
    "nbgrader": {
     "grade": false,
     "grade_id": "cell-58a48adc47dd27c2",
     "locked": true,
     "schema_version": 1,
     "solution": false
    }
   },
   "source": [
    "## Závěr\n",
    "\n",
    "Říká se, že prubířským kamenem programátorské zdatnosti je implementace vlastního programovacího jazyka. Jednoduchý dotazovací jazyk, který jste vytvořili výše, je takovým prvním krůčkem v tomto směru, namístě jsou tedy gratulace :)\n",
    "\n",
    "I když v praxi (jako většina programátorů) zřejmě nikdy žádný programovací jazyk vytvářet nebudete, je to užitečné cvičení. Zejména s parsováním textu (= převodem textu do strukturovaných dat) se jako lingvisti či obecně vzato humanitně zaměření odborníci setkáte velmi často.\n",
    "\n",
    "Pro odvážné a zvídavé přikládám [odkaz na článek](https://nickdrane.com/build-your-own-regex/), který byl pro tento úkol inspirací. Autor jde dál a implementuje např. operátory `?` a `*`. I tak na to stačí možná až překvapivě málo kódu. Jen upozorním, že implementace není v Pythonu, ale v JavaScriptu."
   ]
  }
 ],
 "metadata": {
  "celltoolbar": "Create Assignment",
  "kernelspec": {
   "display_name": "Python 3",
   "language": "python",
   "name": "python3"
  },
  "language_info": {
   "codemirror_mode": {
    "name": "ipython",
    "version": 3
   },
   "file_extension": ".py",
   "mimetype": "text/x-python",
   "name": "python",
   "nbconvert_exporter": "python",
   "pygments_lexer": "ipython3",
   "version": "3.7.3"
  }
 },
 "nbformat": 4,
 "nbformat_minor": 2
}
