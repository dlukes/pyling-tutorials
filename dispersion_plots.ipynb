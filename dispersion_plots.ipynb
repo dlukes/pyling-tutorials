{
 "cells": [
  {
   "cell_type": "markdown",
   "metadata": {},
   "source": [
    "# Personalizované dispersion ploty s Altair a Pandas"
   ]
  },
  {
   "cell_type": "markdown",
   "metadata": {},
   "source": [
    "*Dispersion plot* umožňuje vizualizovat disperzi = rozložení vybraných jevů v textu či korpusu textů. V NLTK je dostupný ve funkci `nltk.draw.dispersion_plot()` a jako metoda na objektech typu `Text`."
   ]
  },
  {
   "cell_type": "code",
   "execution_count": null,
   "metadata": {},
   "outputs": [],
   "source": [
    "from nltk.book import *"
   ]
  },
  {
   "cell_type": "markdown",
   "metadata": {},
   "source": [
    "Můžeme se např. podívat na disperzi určitých klíčových slov v projevech amerických prezidentů od George Washingtona (1789) po současnost. Ty jsou uložené v proměnné `text4` (byť je to přísně vzato vlastně korpus textů, ale nic nám nebrání s ním pracovat jako s textem jedním):"
   ]
  },
  {
   "cell_type": "code",
   "execution_count": null,
   "metadata": {},
   "outputs": [],
   "source": [
    "text4.dispersion_plot([\n",
    "    \"citizen\",\n",
    "    \"democracy\",\n",
    "    \"freedom\",\n",
    "    \"duty\",\n",
    "    \"America\"\n",
    "])"
   ]
  },
  {
   "cell_type": "markdown",
   "metadata": {},
   "source": [
    "Pro základní rychlou vizualizaci poslouží velmi dobře, ale při interpretaci můžou vyvstat dodatečné otázky, na které není z tohoto grafu úplně snadné odpovědět -- kterým historickým obdobím odpovídají hustší či naopak řidší výskyty jednotlivých slov? Kterým konkrétním prezidentským projevům?\n",
    "\n",
    "V tom výše zobrazeném grafu můžeme přinejlepším hádat. Ale nic nám nebrání si v této chvíli vyrobit vlastní vylepšenou verzi!\n",
    "\n",
    "(To neznamená, že ta existující verze z NLTK je špatná -- slouží pro rychlou orientaci, někdy může plně stačit, jen v tomto případě jsme zjistili, že některé potenciálně zajímavé údaje z grafu nevyčteme, takže dává smysl věnovat trochu víc času tomu, abychom si udělali vlastní na míru.)"
   ]
  },
  {
   "cell_type": "code",
   "execution_count": null,
   "metadata": {},
   "outputs": [],
   "source": [
    "import pandas as pd\n",
    "import altair as alt\n",
    "from nltk.corpus import inaugural"
   ]
  },
  {
   "cell_type": "markdown",
   "metadata": {},
   "source": [
    "Korpus `inaugural` má stejný obsah jako `text4`..."
   ]
  },
  {
   "cell_type": "code",
   "execution_count": null,
   "metadata": {},
   "outputs": [],
   "source": [
    "text4[:10]"
   ]
  },
  {
   "cell_type": "code",
   "execution_count": null,
   "metadata": {},
   "outputs": [],
   "source": [
    "len(text4)"
   ]
  },
  {
   "cell_type": "code",
   "execution_count": null,
   "metadata": {},
   "outputs": [],
   "source": [
    "inaugural.words()[:10]"
   ]
  },
  {
   "cell_type": "code",
   "execution_count": null,
   "metadata": {},
   "outputs": [],
   "source": [
    "len(inaugural.words())"
   ]
  },
  {
   "cell_type": "markdown",
   "metadata": {},
   "source": [
    "... ale má metadata navíc. Projevy v něm nejsou jen pospojované dohromady, můžeme si je vyvolat i jednotlivě a máme informace o jejich autorech a rocích:"
   ]
  },
  {
   "cell_type": "code",
   "execution_count": null,
   "metadata": {},
   "outputs": [],
   "source": [
    "inaugural.fileids()[:5]"
   ]
  },
  {
   "cell_type": "code",
   "execution_count": null,
   "metadata": {},
   "outputs": [],
   "source": [
    "prefixes = (\"citizen\", \"democra\", \"free\", \"duti\", \"duty\", \"america\")"
   ]
  },
  {
   "cell_type": "code",
   "execution_count": null,
   "metadata": {},
   "outputs": [],
   "source": [
    "words = []\n",
    "categories = []\n",
    "times = []\n",
    "presidents = []\n",
    "years = []\n",
    "even = []\n",
    "for i, fileid in enumerate(inaugural.fileids()):\n",
    "    year = int(fileid[:4])\n",
    "    pres = fileid.split(\"-\")[1].split(\".\")[0]\n",
    "    fileid_words = inaugural.words(fileid)\n",
    "    total = len(fileid_words)\n",
    "    for index, word in enumerate(fileid_words):\n",
    "        cf = word.casefold()\n",
    "        if cf.startswith(prefixes) and not cf.startswith(\"freezing\"):\n",
    "            words.append(word)\n",
    "            cat = cf[:4]\n",
    "            cat = \"duty\" if cat == \"duti\" else cat\n",
    "            categories.append(cat)\n",
    "            times.append(year + index/total*4)\n",
    "            presidents.append(pres)\n",
    "            years.append(year)\n",
    "            even.append(i % 2 == 0)"
   ]
  },
  {
   "cell_type": "code",
   "execution_count": null,
   "metadata": {},
   "outputs": [],
   "source": [
    "df = pd.DataFrame(dict(\n",
    "    time=times,\n",
    "    category=categories,\n",
    "    word=words,\n",
    "    president=presidents,\n",
    "    year=years,\n",
    "    even=even\n",
    "))\n",
    "df.head()"
   ]
  },
  {
   "cell_type": "code",
   "execution_count": null,
   "metadata": {},
   "outputs": [],
   "source": [
    "df.tail()"
   ]
  },
  {
   "cell_type": "markdown",
   "metadata": {},
   "source": [
    "Základní specifikace grafu, která říká jen to, co a kde chceme zobrazit, bez dalšího ladění:"
   ]
  },
  {
   "cell_type": "code",
   "execution_count": null,
   "metadata": {},
   "outputs": [],
   "source": [
    "alt.Chart(df).mark_tick().encode(\n",
    "    x=\"time\",\n",
    "    y=\"category\",\n",
    "    color=\"even\",\n",
    "    tooltip=[\"president\", \"year\", \"word\"]\n",
    ").interactive()"
   ]
  },
  {
   "cell_type": "markdown",
   "metadata": {},
   "source": [
    "Vyladěná specifikace grafu, kde jsme navíc [upravili i způsob zobrazení některých prvků](https://altair-viz.github.io/user_guide/configuration.html), aby lépe vypadaly, a změnili popisky:"
   ]
  },
  {
   "cell_type": "code",
   "execution_count": null,
   "metadata": {},
   "outputs": [],
   "source": [
    "alt.Chart(df).mark_tick().encode(\n",
    "    alt.X(\"time\", scale=alt.Scale(domain=(1789, 2013)), title=\"Rok\"),\n",
    "    alt.Y(\"category\", title=\"Kategorie slova\"),\n",
    "    alt.Color(\"even\", legend=None),\n",
    "    tooltip=[\"president\", \"year\", \"word\"]\n",
    ").properties(\n",
    "    title=\"Disperze vybraných kategorií slov v inauguračních projevech amerických prezidentů\",\n",
    "    width=800,\n",
    "    height=400\n",
    ").configure(\n",
    "    numberFormat=\"d\"\n",
    ").configure_title(\n",
    "    fontSize=18\n",
    ").configure_axis(\n",
    "    labelFontSize=16,\n",
    "    titleFontSize=18\n",
    ").configure_tick(\n",
    "    size=40\n",
    ").interactive()"
   ]
  },
  {
   "cell_type": "markdown",
   "metadata": {},
   "source": [
    "Pokud vás knihovna pro vizualizaci dat Altair zaujala, víc o ní se dozvíte v její dokumentaci: <https://altair-viz.github.io/>. Přidám ještě osobní tip, jak s dokumentací a potažmo celou knihovnou pracovat -- obsahuje totiž velké množstí informací a funkcionality. Nemá smysl se nejdřív snažit všechno přečíst a naučit, nelze to udržet v hlavě. Sám knihovnu taky nejenže neumím zpaměti, ale když ji delší dobu nepoužiju, tak zapomenu i základy. Výše uvedený kód pro *dispersion plot* jsem nevysypal jen tak z rukávu, to by možná zvládl někdo, kdo Altair používá dennodenně. Mně to zabralo notnou dávku googlení a pročítání dokumentace, ale díky tomu, že jsem měl v hlavě konkrétní cíl, jsem se v tom moři informací neutopil.\n",
    "\n",
    "Takže doporučuju následující postup: projděte si [úvodní tutorial](https://altair-viz.github.io/getting_started/starting.html), který vám pomůže se základní orientací, a pak se pusťte do tvorby vlastních grafů, podle vašich zájmů a potřeb. Při tom vycházejte z [příkladů v galerii](https://altair-viz.github.io/gallery/index.html). V galerii velmi pravděpodobně najdete grafy podobné těm, které budete chtít vytvářet, a k nim jejich zdrojový kód. Zkopírujte si ho, zkuste pozměnit nějaké drobnosti, abyste si ho trochu osahali, a nakonec ho upravte pro svoje vlastní data. Do zbývajících témat v dokumentaci nahlížejte hlavně podle potřeby, když narazíte na nějakou překážku, kvůli níž je nutné si nějakou oblast nastudovat blíže. Ideálně se k nim nechte navést Googlem, protože ten vám poradí i případné alternativní zdroje, které mohou být pro vaši otázku relevantnější než oficiální dokumentace (např. StackOverflow).\n",
    "\n",
    "A když už jsme u toho -- tenhle přístup není relevantní jen pro Altair. Analogický postup platí pro jakoukoli větší knihovnu, s níž se chcete naučit pracovat, a nakonec i pro celé programovací jazyky. Nečekejte, až budete Python \"umět\", pusťte se do různých drobných projektů rovnou, protože s jejich pomocí se ho naučíte mnohem rychleji a spolehlivěji :)\n",
    "\n",
    "V tuto chvíli bohužel v Altairu nelze změnit velikost všech prvků v grafu nějak plošně, je potřeba prostřednictvím konfigurace (viz volání těch různých metod `.configure_...()` výše) změnit velikost každého prvku, kde je to třeba, individuálně. Doufejme, že plošné škálování celého grafu bude výhledově implementováno, viz <https://github.com/vega/vega/issues/2946>.\n",
    "\n",
    "Pokud chcete v jednom notebooku dělat grafů víc, vadí vám malá defaultní velikost a chcete se vyhnout tomu, abyste museli u každého grafu konfiguraci specifikovat znovu a znovu, můžete si nastavit vlastní *theme* s většími velikostmi inkriminovaných prvků oproti defaultu:"
   ]
  },
  {
   "cell_type": "code",
   "execution_count": null,
   "metadata": {},
   "outputs": [],
   "source": [
    "def my_theme():\n",
    "    return {\n",
    "        \"config\": {\n",
    "            \"numberFormat\": \"d\",\n",
    "            \"axis\": {\n",
    "                \"labelFontSize\": 16,\n",
    "                \"titleFontSize\": 18,\n",
    "            },\n",
    "            \"header\": {\n",
    "                \"labelFontSize\": 16,\n",
    "                \"titleFontSize\": 18,\n",
    "            },\n",
    "            \"title\": {\n",
    "                \"fontSize\": 18,\n",
    "            },\n",
    "            \"tick\": {\n",
    "                \"size\": 40,\n",
    "            },\n",
    "        },\n",
    "    }\n",
    "alt.themes.register(\"my_theme\", my_theme)\n",
    "alt.themes.enable(\"my_theme\")"
   ]
  },
  {
   "cell_type": "code",
   "execution_count": null,
   "metadata": {},
   "outputs": [],
   "source": [
    "alt.Chart(df).mark_tick().encode(\n",
    "    alt.X(\"time\", scale=alt.Scale(domain=(1789, 2013)), title=\"Rok\"),\n",
    "    alt.Y(\"category\", title=\"Kategorie slova\"),\n",
    "    alt.Color(\"even\", legend=None),\n",
    "    tooltip=[\"president\", \"year\", \"word\"]\n",
    ").properties(\n",
    "    title=\"Disperze vybraných kategorií slov v inauguračních projevech amerických prezidentů\",\n",
    "    width=800,\n",
    "    height=400\n",
    ").interactive()"
   ]
  },
  {
   "cell_type": "markdown",
   "metadata": {},
   "source": [
    "Výsledek je stejný jako u předchozího grafu, navzdory tomu, že jsme tentokrát na objektu typu `Chart` neprovedli žádnou explicitní konfiguraci; místo toho byla načtena z globální konfigurace stanovené přes `my_theme`.\n",
    "\n",
    "Pokud se chystáte obrázek použít v publikaci, tak alternativou může být ho nechat v defaultní podobě, exportovat ve formátu SVG a naškálovat v nějakém samostatném grafickém softwaru."
   ]
  },
  {
   "cell_type": "code",
   "execution_count": null,
   "metadata": {},
   "outputs": [],
   "source": [
    "alt.themes.enable(\"default\")\n",
    "\n",
    "chart = alt.Chart(df).mark_tick().encode(\n",
    "    alt.X(\"time\", scale=alt.Scale(domain=(1789, 2013)), title=\"Rok\"),\n",
    "    alt.Y(\"category\", title=\"Kategorie slova\"),\n",
    "    alt.Color(\"even\", legend=None),\n",
    "    tooltip=[\"president\", \"year\", \"word\"]\n",
    ").properties(\n",
    "    title=\"Disperze vybraných kategorií slov v inauguračních projevech amerických prezidentů\",\n",
    "    width=400,\n",
    "    height=200\n",
    ").configure(numberFormat=\"d\").interactive()\n",
    "chart"
   ]
  },
  {
   "cell_type": "code",
   "execution_count": null,
   "metadata": {},
   "outputs": [],
   "source": [
    "chart.save(\"disperze.svg\")"
   ]
  },
  {
   "cell_type": "markdown",
   "metadata": {},
   "source": [
    "V [dokumentaci Altairu](https://altair-viz.github.io/user_guide/saving_charts.html#figure-size-resolution) taky narazíte na následující možnosti škálování celého grafu při exportu:\n",
    "\n",
    "```python\n",
    "alt.renderers.set_embed_options(scaleFactor=2)\n",
    "```\n",
    "\n",
    "Nebo:\n",
    "\n",
    "```python\n",
    "chart.save(\"06-disperze.png\", scale_factor=2)\n",
    "```\n",
    "\n",
    "Ty bohužel na Jupyteru [z technických důvodů](https://github.com/altair-viz/altair_saver/issues/39) nefungují."
   ]
  }
 ],
 "metadata": {
  "kernelspec": {
   "display_name": "Python 3 (ipykernel)",
   "language": "python",
   "name": "python3"
  },
  "language_info": {
   "codemirror_mode": {
    "name": "ipython",
    "version": 3
   },
   "file_extension": ".py",
   "mimetype": "text/x-python",
   "name": "python",
   "nbconvert_exporter": "python",
   "pygments_lexer": "ipython3",
   "version": "3.10.6"
  }
 },
 "nbformat": 4,
 "nbformat_minor": 4
}
