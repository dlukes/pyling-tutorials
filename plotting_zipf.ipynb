{
 "cells": [
  {
   "cell_type": "markdown",
   "metadata": {},
   "source": [
    "# Plotting in Python: Examining Zipf distributions\n",
    "\n",
    "Python's most often used plotting library is `matplotlib`. In addition to the material covered in this notebook, there are many [official tutorials](https://matplotlib.org/stable/tutorials/index.html), as well as condensed [cheatsheets and handouts](https://matplotlib.org/cheatsheets/). The cheatsheets and handouts in particular are extremely useful in practice, as they pack a lot of information at a glance. There is a lot of functionality in Matplotlib, and these resources allow casual users to quickly zero in on what they need.\n",
    "\n",
    "`seaborn` is an additional library based on `matplotlib` which makes some often-needed higher-level plotting tasks easier; see [here](http://seaborn.pydata.org/) for details."
   ]
  },
  {
   "cell_type": "code",
   "execution_count": null,
   "metadata": {},
   "outputs": [],
   "source": [
    "import nltk\n",
    "from nltk.book import text2"
   ]
  },
  {
   "cell_type": "code",
   "execution_count": null,
   "metadata": {},
   "outputs": [],
   "source": [
    "fd = nltk.FreqDist(text2)"
   ]
  },
  {
   "cell_type": "code",
   "execution_count": null,
   "metadata": {},
   "outputs": [],
   "source": [
    "x, y = [], []\n",
    "for r, (c, f) in enumerate(fd.most_common()):\n",
    "    x.append(r)\n",
    "    y.append(f)"
   ]
  },
  {
   "cell_type": "code",
   "execution_count": null,
   "metadata": {},
   "outputs": [],
   "source": [
    "import matplotlib as mpl\n",
    "from matplotlib import pyplot as plt"
   ]
  },
  {
   "cell_type": "markdown",
   "metadata": {},
   "source": [
    "Matplotlib configuration -- make inline plots larger by default by setting a higher DPI:"
   ]
  },
  {
   "cell_type": "code",
   "execution_count": null,
   "metadata": {},
   "outputs": [],
   "source": [
    "# mpl.rc(\"figure\", dpi=300)"
   ]
  },
  {
   "cell_type": "markdown",
   "metadata": {},
   "source": [
    "This is what a similar type of configuration might look like when using `seaborn`:"
   ]
  },
  {
   "cell_type": "code",
   "execution_count": null,
   "metadata": {},
   "outputs": [],
   "source": [
    "# import seaborn as sns\n",
    "\n",
    "# sns.set(style=\"darkgrid\", rc={\"figure.dpi\": 300})"
   ]
  },
  {
   "cell_type": "code",
   "execution_count": null,
   "metadata": {},
   "outputs": [],
   "source": [
    "fig, ax = plt.subplots()\n",
    "ax.plot(x, y)\n",
    "ax.set_ylabel(\"Frequency\")\n",
    "ax.set_xlabel(\"Rank\")\n",
    "ax.set_title(\"Zipf's law in \" + text2.name)"
   ]
  },
  {
   "cell_type": "code",
   "execution_count": null,
   "metadata": {},
   "outputs": [],
   "source": [
    "fig, ax = plt.subplots()\n",
    "ax.loglog(x, y)\n",
    "ax.set_ylabel(\"Frequency\")\n",
    "ax.set_xlabel(\"Rank\")\n",
    "ax.set_title(\"Zipf's law in \" + text2.name)"
   ]
  },
  {
   "cell_type": "code",
   "execution_count": null,
   "metadata": {},
   "outputs": [],
   "source": [
    "import random"
   ]
  },
  {
   "cell_type": "code",
   "execution_count": null,
   "metadata": {},
   "outputs": [],
   "source": [
    "text = \"\"\n",
    "letters = \"abcde \"\n",
    "\n",
    "for _ in range(int(1e5)):\n",
    "    text += random.choice(letters)"
   ]
  },
  {
   "cell_type": "code",
   "execution_count": null,
   "metadata": {},
   "outputs": [],
   "source": [
    "text[:100]"
   ]
  },
  {
   "cell_type": "code",
   "execution_count": null,
   "metadata": {},
   "outputs": [],
   "source": [
    "fd = nltk.FreqDist(nltk.word_tokenize(text))\n",
    "\n",
    "x, y = [], []\n",
    "for r, (c, f) in enumerate(fd.most_common()):\n",
    "    x.append(r)\n",
    "    y.append(f)"
   ]
  },
  {
   "cell_type": "code",
   "execution_count": null,
   "metadata": {},
   "outputs": [],
   "source": [
    "fig, ax = plt.subplots()\n",
    "ax.plot(x, y)\n",
    "ax.set_ylabel(\"Frequency\")\n",
    "ax.set_xlabel(\"Rank\")\n",
    "ax.set_title(\"Zipf's law in randomly generated text\")"
   ]
  },
  {
   "cell_type": "code",
   "execution_count": null,
   "metadata": {},
   "outputs": [],
   "source": [
    "fig, ax = plt.subplots()\n",
    "ax.loglog(x, y)\n",
    "ax.set_ylabel(\"Frequency\")\n",
    "ax.set_xlabel(\"Rank\")\n",
    "ax.set_title(\"Zipf's law in randomly generated text\")"
   ]
  },
  {
   "cell_type": "markdown",
   "metadata": {},
   "source": [
    "How to explain the jagged, step-like appearance of the curve at the beginning? (Compare with the relatively smooth line which results from subjecting *Sense and Sensibility* to the same analysis.)\n",
    "\n",
    "It's caused by random text generation: all one-letter words have the highest chance of occurring repeatedly at roughly the same probability, then two letter words, then three letter words, etc. Cf. the top of the frequency distribution:"
   ]
  },
  {
   "cell_type": "code",
   "execution_count": null,
   "metadata": {},
   "outputs": [],
   "source": [
    "fd.most_common(10)"
   ]
  }
 ],
 "metadata": {
  "kernelspec": {
   "display_name": "Python 3 (ipykernel)",
   "language": "python",
   "name": "python3"
  },
  "language_info": {
   "codemirror_mode": {
    "name": "ipython",
    "version": 3
   },
   "file_extension": ".py",
   "mimetype": "text/x-python",
   "name": "python",
   "nbconvert_exporter": "python",
   "pygments_lexer": "ipython3",
   "version": "3.10.6"
  }
 },
 "nbformat": 4,
 "nbformat_minor": 4
}
