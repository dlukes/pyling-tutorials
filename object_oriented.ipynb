{
 "cells": [
  {
   "cell_type": "markdown",
   "metadata": {},
   "source": [
    "# Objektově orientované programování\n",
    "\n",
    "**NB:** Obsah tohoto notebooku navazuje na výklad o morfologickém značkování v notebooku `pos_tagging.ipynb`."
   ]
  },
  {
   "cell_type": "code",
   "execution_count": null,
   "metadata": {},
   "outputs": [],
   "source": [
    "# příprava dat, se kterými budeme pracovat\n",
    "\n",
    "def vert_sents(path):\n",
    "    sents = []\n",
    "    with open(path) as file:\n",
    "        for line in file:\n",
    "            line = line.strip(\"\\r\\n\")\n",
    "            if line == \"<s>\":\n",
    "                sent = []\n",
    "            elif line == \"</s>\":\n",
    "                sents.append(sent)\n",
    "            else:\n",
    "                word, _, tag = line.split(\"\\t\")\n",
    "                sent.append((word, tag[0]))\n",
    "    return sents\n",
    "\n",
    "train = vert_sents(\"/home/lukes/edu/python/pdt3.train.vrt\")\n",
    "sent = \"Běží liška k táboru .\".split()"
   ]
  },
  {
   "cell_type": "markdown",
   "metadata": {},
   "source": [
    "## K čemu jsou vůbec objekty dobré?\n",
    "\n",
    "Princip: někdy jsou data intimně spjata s funkcemi, které s nimi pracují. Např. tagovací funkce vždy bude potřebovat natrénovaný model, na jehož základě tagování provede. Pak je nešikovné mít data reprezentující tento model (tj. typicky podmíněnou frekvenční distribuci) uložená stranou a muset je pokaždé tagovací funkci předávat:"
   ]
  },
  {
   "cell_type": "code",
   "execution_count": null,
   "metadata": {},
   "outputs": [],
   "source": [
    "import nltk\n",
    "\n",
    "def train_uni(data):\n",
    "    \"\"\"Natrénuje unigramový tagger.\"\"\"\n",
    "    cfd = nltk.ConditionalFreqDist()\n",
    "    for sent in data:\n",
    "        for word, tag in sent:\n",
    "            cfd[word.lower()][tag] += 1\n",
    "    return cfd\n",
    "\n",
    "def tag_uni(sent, uni_cfd):\n",
    "    \"\"\"Otaguje větu pomocí unigramového taggeru.\"\"\"\n",
    "    tagged_sent = []\n",
    "    for word in sent:\n",
    "        try:\n",
    "            tag = uni_cfd[word.lower()].max()\n",
    "        except ValueError:\n",
    "            # pokud tvar neznáme, přiřadíme mu tag \"N\"\n",
    "            tag = \"N\"\n",
    "        tagged_sent.append((word, tag))\n",
    "    return tagged_sent"
   ]
  },
  {
   "cell_type": "code",
   "execution_count": null,
   "metadata": {},
   "outputs": [],
   "source": [
    "model = train_uni(train)\n",
    "tag_uni(sent, model)"
   ]
  },
  {
   "cell_type": "markdown",
   "metadata": {},
   "source": [
    "Zde musíme `tagger` pokaždé explicitně funkci `tag_uni()` předávat jako argument, což zavání průšvihem. Může se nám třeba stát, že si omylem do proměnné `tagger` uložíme něco jiného, nebo že ho zapomeneme funkci předat, nebo dokonce omylem zavoláme unigramovou tagovací funkci s bigramovým taggerem, což povede k výsledkům, které budou špatně, ale nemusíme si toho nutně všimnout. Bylo by tedy dobré vytvořit objekt, na který \"navěsíme\" jak funkci, tak tagger, aby bylo jasné, že patří k sobě a že se mají používat společně.\n",
    "\n",
    "Nejprve je potřeba definovat nový typ objektu, tzv. **třídu** (`class`), u níž stanovíme, jaké má přidružené funkce (**metody**) a jakým způsobem se vytvářejí nové instance této třídy (tj. to, čemu běžně říkáme objekty). Ze stávajících funkcí `train_uni()` a `tag_uni()` uděláme metody jednoduše tak, že je nakopírujeme pod definici třídy (tj. odsazené) a přidáme jim na začátek seznamu argumentů jeden navíc, který se tradičně pojmenovává **`self`**. Tento argument je odkaz na instanci objektu, na němž metodu voláme. Z hlediska syntaktického zápisu je to to, co je \"před tečkou\": voláme-li metodu `bar()` na objektu `foo`, zapíšeme to `foo.bar()` a uvnitř metody `bar()` budeme mít přístup k objektu `foo` přes lokální proměnnou `self`."
   ]
  },
  {
   "cell_type": "code",
   "execution_count": null,
   "metadata": {},
   "outputs": [],
   "source": [
    "class UnigramTagger:\n",
    "    def train_uni(self, data):\n",
    "        \"\"\"Natrénuje unigramový tagger.\"\"\"\n",
    "        cfd = nltk.ConditionalFreqDist()\n",
    "        for sent in data:\n",
    "            for word, tag in sent:\n",
    "                cfd[word.lower()][tag] += 1\n",
    "        return cfd\n",
    "\n",
    "    def tag_uni(self, sent, uni_cfd):\n",
    "        \"\"\"Otaguje větu pomocí unigramového taggeru.\"\"\"\n",
    "        tagged_sent = []\n",
    "        for word in sent:\n",
    "            try:\n",
    "                tag = uni_cfd[word.lower()].max()\n",
    "            except ValueError:\n",
    "                tag = \"N\"\n",
    "            tagged_sent.append((word, tag))\n",
    "        return tagged_sent"
   ]
  },
  {
   "cell_type": "markdown",
   "metadata": {},
   "source": [
    "Bohužel s takto minimálními úpravami se tagger používá stále stejně nešikovně: musíme si tagger natrénovaný pomocí funkce `train_uni()` uložit do proměnné a pak ho explicitně předat funkci `tag_uni()`. Jediné, čeho jsme dosáhli, je to, že jsme nějakým způsobem naznačili, že obě funkce patří k sobě (protože jsou definované jako metody na jedné třídě)."
   ]
  },
  {
   "cell_type": "code",
   "execution_count": null,
   "metadata": {},
   "outputs": [],
   "source": [
    "tagger_obj = UnigramTagger()\n",
    "model = tagger_obj.train_uni(train)\n",
    "tagger_obj.tag_uni(sent, model)"
   ]
  },
  {
   "cell_type": "markdown",
   "metadata": {},
   "source": [
    "Jinak je použití identické tomu, jak se používají funkce, jen zápis je delší, protože teď se musíme trápit navíc s vytvářením objektu a voláním metod na něm (místo samostatných funkcí). Co s tím? Místo toho, abychom v metodě `train_uni()` natrénovaný tagger vraceli (pomocí **`return`**), **\"odložíme\" si ho přes `self` na objekt**, odkud k němu pak budou mít přístup i další metody. Taky můžeme odstranit sufixy `_uni` na metodách (když jsou metody definované na třídě, která se jmenuje `UnigramTagger`, je asi celkem zbytečné \"unigramovost\" tohoto taggeru naznačovat znovu ve jménu každé metody)."
   ]
  },
  {
   "cell_type": "code",
   "execution_count": null,
   "metadata": {},
   "outputs": [],
   "source": [
    "class UnigramTagger:\n",
    "    def train(self, data):\n",
    "        \"\"\"Natrénuje unigramový tagger.\"\"\"\n",
    "        # vytvoříme podmíněnou frekvenční distribuci\n",
    "        cfd = nltk.ConditionalFreqDist()\n",
    "        for sent in data:\n",
    "            for word, tag in sent:\n",
    "                cfd[word.lower()][tag] += 1\n",
    "        # POZOR, tentokrát ne return; místo toho si podm. frek. dist.\n",
    "        # \"odložíme\" na aktuální objekt (přes self)\n",
    "        self._model = cfd\n",
    "        # podtržítko na začátku atributu značí, že daný atribut v rámci\n",
    "        # objektu zamýšlíme jako \"soukromý\". tím naznačujeme uživateli,\n",
    "        # že na něj nemá sám ručně sahat, že je to implementační detail,\n",
    "        # za nějž jsme zodpovědní a s nímž za normálních okolností\n",
    "        # pracujeme pouze my jako původní autoři definice třídy\n",
    "\n",
    "    def tag(self, sent):\n",
    "        \"\"\"Otaguje větu pomocí unigramového taggeru.\"\"\"\n",
    "        tagged_sent = []\n",
    "        for word in sent:\n",
    "            try:\n",
    "                # zde už nepředáváme tagger jako argument, ale vezmeme\n",
    "                # si ho z atributu self._model\n",
    "                tag = self._model[word.lower()].max()\n",
    "            except ValueError:\n",
    "                tag = \"N\"\n",
    "            tagged_sent.append((word, tag))\n",
    "        return tagged_sent"
   ]
  },
  {
   "cell_type": "markdown",
   "metadata": {},
   "source": [
    "Použití takto upraveného objektu je hned elegantnější:"
   ]
  },
  {
   "cell_type": "code",
   "execution_count": null,
   "metadata": {},
   "outputs": [],
   "source": [
    "tagger_obj = UnigramTagger()\n",
    "tagger_obj.train(train)\n",
    "tagger_obj.tag(sent)"
   ]
  },
  {
   "cell_type": "markdown",
   "metadata": {},
   "source": [
    "Poslední kosmetická úprava: v aktuální verzi se nám může stát, že někdo vytvoří tagger a pak se pokusí otagovat větu dřív, než jej natrénuje:"
   ]
  },
  {
   "cell_type": "code",
   "execution_count": null,
   "metadata": {},
   "outputs": [],
   "source": [
    "tagger_obj = UnigramTagger()\n",
    "tagger_obj.tag(sent)"
   ]
  },
  {
   "cell_type": "markdown",
   "metadata": {},
   "source": [
    "Vzhledem k tomu, že tagger bez natrénovaného tagovacího modelu nedává moc smysl, mohli bychom svou třídu ještě doladit tak, že donutíme uživatele, aby si tagger natrénoval při inicializaci nového objektu. Když vytváříme novou instanci objektu pomocí toho, že zavoláme jméno třídy jako funkci (připojíme za něj závorky, tj. `UnigramTagger()`), pod kapotou se ve skutečnosti volá speciální metoda `__init__()` na třídě `UnigramTagger`. Ta má nějakou defaultní podobu, která nedělá nic zajímavého a která se použije ve chvíli, kdy nespecifikujeme žádnou vlastní implementaci.\n",
    "\n",
    "Nám by se ale hodilo, aby se v rámci `__init__()` provedlo trénování taggeru. Stačí tedy vlastně přejmenovat metodu `train()` na `__init__()`..."
   ]
  },
  {
   "cell_type": "code",
   "execution_count": null,
   "metadata": {},
   "outputs": [],
   "source": [
    "class UnigramTagger:\n",
    "    def __init__(self, data):\n",
    "        \"\"\"Inicializuje unigramový tagger, včetně natrénování modelu.\"\"\"\n",
    "        cfd = nltk.ConditionalFreqDist()\n",
    "        for sent in data:\n",
    "            for word, tag in sent:\n",
    "                cfd[word.lower()][tag] += 1\n",
    "        self._model = cfd\n",
    "\n",
    "    def tag(self, sent):\n",
    "        \"\"\"Otaguje větu pomocí unigramového taggeru.\"\"\"\n",
    "        tagged_sent = []\n",
    "        for word in sent:\n",
    "            try:\n",
    "                tag = self._model[word.lower()].max()\n",
    "            except ValueError:\n",
    "                tag = \"N\"\n",
    "            tagged_sent.append((word, tag))\n",
    "        return tagged_sent"
   ]
  },
  {
   "cell_type": "markdown",
   "metadata": {},
   "source": [
    "... a konstruktoru pak předat příslušná trénovací data:"
   ]
  },
  {
   "cell_type": "code",
   "execution_count": null,
   "metadata": {},
   "outputs": [],
   "source": [
    "tagger_obj = UnigramTagger(train)\n",
    "tagger_obj.tag(sent)"
   ]
  },
  {
   "cell_type": "markdown",
   "metadata": {},
   "source": [
    "Teď už můžeme být spokojeni :)\n",
    "\n",
    "### Třídy bez metod\n",
    "\n",
    "Někdy se hodí mít objekt na modelování nějakého strukturovaného typu dat, např. token v korpusu, který se skládá z wordu, lemmatu a tagu. Můžeme tedy napsat třídu, která tyto údaje \"obalí\" do jednoho objektu, jehož atributy jsou jednoduše přístupné přes tečku:"
   ]
  },
  {
   "cell_type": "code",
   "execution_count": null,
   "metadata": {},
   "outputs": [],
   "source": [
    "class Token:\n",
    "    \n",
    "    def __init__(self, word, lemma, tag):\n",
    "        self.word = word\n",
    "        self.lemma = lemma\n",
    "        self.tag = tag\n",
    "        \n",
    "t = Token(\"koček\", \"kočka\", \"N\")\n",
    "t.tag"
   ]
  },
  {
   "cell_type": "markdown",
   "metadata": {},
   "source": [
    "To je ale poměrně dost kódu na to, že chceme jen navěsit různé spřízněné údaje na jeden objekt. Navíc takový objekt nemá defaultně žádnou přívětivou reprezentaci, která by nám umožnila si jednoduše prohlédnout jeho obsah při interaktivní práci:"
   ]
  },
  {
   "cell_type": "code",
   "execution_count": null,
   "metadata": {},
   "outputs": [],
   "source": [
    "t"
   ]
  },
  {
   "cell_type": "markdown",
   "metadata": {},
   "source": [
    "To bychom museli na třídě navíc definovat ještě speciální metodu `__repr__()`, která stanovuje, jak vypadá tištěná reprezentace objektu:"
   ]
  },
  {
   "cell_type": "code",
   "execution_count": null,
   "metadata": {},
   "outputs": [],
   "source": [
    "class Token:\n",
    "    \n",
    "    def __init__(self, word, lemma, tag):\n",
    "        self.word = word\n",
    "        self.lemma = lemma\n",
    "        self.tag = tag\n",
    "        \n",
    "    def __repr__(self):\n",
    "        return (\n",
    "            # literál řetězce lze pro lepší čitelnost\n",
    "            # rozdělit na několik dílčích, Python si\n",
    "            # několik kratších po sobě jdoucích \n",
    "            # řetězcových literálů při načítání pospojuje\n",
    "            # dohromady, takže např. z \"a\" \"b\" \"c\" se\n",
    "            # stane \"abc\"\n",
    "            f\"{self.__class__.__name__}(\n",
    "            f\"word={self.word!r}, \"\n",
    "            f\"lemma={self.lemma!r}, \"\n",
    "            f\"tag={self.tag!r})\"\n",
    "        )\n",
    "        \n",
    "Token(\"koček\", \"kočka\", \"N\")"
   ]
  },
  {
   "cell_type": "markdown",
   "metadata": {},
   "source": [
    "Což je v součtu čím dál tím víc kódu. Pro takovéto účely je tedy lepší použít [modul `dataclasses`](https://docs.python.org/3/library/dataclasses.html), s jehož pomocí takovouto \"obalovací\" třídu vytvoříme raz dva:"
   ]
  },
  {
   "cell_type": "code",
   "execution_count": null,
   "metadata": {},
   "outputs": [],
   "source": [
    "from dataclasses import dataclass\n",
    "\n",
    "@dataclass\n",
    "class Token:\n",
    "    word: str\n",
    "    lemma: str\n",
    "    tag: str"
   ]
  },
  {
   "cell_type": "markdown",
   "metadata": {},
   "source": [
    "S některými syntaktickými prvky v předchozí buňce jsme se ještě nesetkali. Syntax `@dataclass` je tzv. [dekorátor](https://realpython.com/primer-on-python-decorators/) a je ekvivalentní následujícímu kódu:"
   ]
  },
  {
   "cell_type": "code",
   "execution_count": null,
   "metadata": {},
   "outputs": [],
   "source": [
    "class Token:\n",
    "    word: str\n",
    "    lemma: str\n",
    "    tag: str\n",
    "\n",
    "Token = dataclass(Token)"
   ]
  },
  {
   "cell_type": "markdown",
   "metadata": {},
   "source": [
    "Funkce `dataclass()` za nás právě doplní implementaci metod `.__init__()`, `.__repr__()` a dalších potřebných. Dekorátor je jen elegantnější, specializovaná syntax, jak tuto funkci na naši třídu `Token` zavolat a výsledek rovnou přeuložit pod stejným jménem (`Token`).\n",
    "\n",
    "Co se syntaxe `word: str` týče, je to způsob, jak v Pythonu (nepovinně) anotovat typy proměnných a atributů. Tuto informaci umí využívat některé externí nástroje, které vám můžou pomoct např. ohlídat, abyste funkci, která jako argument očekává řetězec, nezavolali omylem místo řetězce třeba s číslem (tzv. [*type checking*](https://realpython.com/python-type-checking/)).\n",
    "\n",
    "Python samotný je ale ignoruje, bez těch externích nástrojů slouží tyto anotace jen jako nápověda pro programátory, případně je mohou využívat některé knihovny pro různé účely. Informaci o anotacích lze totiž získat pomocí speciálního atributu `.__annotations__`:"
   ]
  },
  {
   "cell_type": "code",
   "execution_count": null,
   "metadata": {},
   "outputs": [],
   "source": [
    "Token.__annotations__"
   ]
  },
  {
   "cell_type": "markdown",
   "metadata": {},
   "source": [
    "Funkce `dataclass` ji např. využívá tak, že typovou anotaci bere jako signál, že má daný atribut zahrnout do metody `.__init__()`, kterou pro nás vygeneruje. Z toho všeho plyne, že tuto novou třídu `Token` můžeme používat úplně stejně jako tu, co jsme si napsali ručně:"
   ]
  },
  {
   "cell_type": "code",
   "execution_count": null,
   "metadata": {},
   "outputs": [],
   "source": [
    "t = Token(\"koček\", \"kočka\", \"N\")\n",
    "t.tag"
   ]
  },
  {
   "cell_type": "code",
   "execution_count": null,
   "metadata": {},
   "outputs": [],
   "source": [
    "t"
   ]
  },
  {
   "cell_type": "markdown",
   "metadata": {},
   "source": [
    "Inicializaci i hezky čitelnou reprezentaci celého objektu máme zadarmo, bez práce.\n",
    "\n",
    "Pomocí funkcí `astuple()` a `asdict()` je pak snadné takovou třídu převést na odpovídající n-tici nebo slovník, kdykoli je to potřeba:"
   ]
  },
  {
   "cell_type": "code",
   "execution_count": null,
   "metadata": {},
   "outputs": [],
   "source": [
    "from dataclasses import astuple, asdict"
   ]
  },
  {
   "cell_type": "code",
   "execution_count": null,
   "metadata": {},
   "outputs": [],
   "source": [
    "astuple(t)"
   ]
  },
  {
   "cell_type": "code",
   "execution_count": null,
   "metadata": {},
   "outputs": [],
   "source": [
    "asdict(t)"
   ]
  },
  {
   "cell_type": "markdown",
   "metadata": {},
   "source": [
    "Třídy vytvořené pomocí dekorátoru `@dataclass` jsou defaultně modifikovatelné, tj. hodnoty atributů lze po vytvoření instance libovolně měnit:"
   ]
  },
  {
   "cell_type": "code",
   "execution_count": null,
   "metadata": {},
   "outputs": [],
   "source": [
    "t.tag = \"chachacha\"\n",
    "t"
   ]
  },
  {
   "cell_type": "markdown",
   "metadata": {},
   "source": [
    "Někdy je ale vhodnější či prostě bezpečnější dodatečné modifikace zakázat. Toho lze docílit pomocí tzv. [zmrazených instancí](https://docs.python.org/3/library/dataclasses.html#frozen-instances): stačí dekorátor zavolat s parametrem `frozen=True`, tj. `@dataclass(frozen=True)`.\n",
    "\n",
    "Jiná možnost je použít tzv. [pojmenované n-tice](https://docs.python.org/3/library/typing.html#typing.NamedTuple), angl. *named tuples*. Ty jsou automaticky nemodifikovatelné a zachovávají si i další vlastnosti n-tic bez nutnosti konverze pomocí funkce `astuple()`. Pokud upravujete existující kód, kde jste doposud používali n-tice, ale chcete jejich prvky pojmenovat, pojmenované n-tice jsou z hlediska zpětné kompatibility velmi dobrá volba.\n",
    "\n",
    "Nové třídy pojmenovaných n-tice se nevytvářejí pomocí dekorátorů, ale pomocí dědění (viz následující oddíl):"
   ]
  },
  {
   "cell_type": "code",
   "execution_count": null,
   "metadata": {},
   "outputs": [],
   "source": [
    "from typing import NamedTuple\n",
    "\n",
    "class Token(NamedTuple):\n",
    "    word: str\n",
    "    lemma: str\n",
    "    tag: str"
   ]
  },
  {
   "cell_type": "code",
   "execution_count": null,
   "metadata": {},
   "outputs": [],
   "source": [
    "t = Token(\"koček\", \"kočka\", \"N\")\n",
    "t"
   ]
  },
  {
   "cell_type": "markdown",
   "metadata": {},
   "source": [
    "Stejně jako normální n-tice jsou pojmenované n-tice nemodifikovatelné, takže pokus nastavit u existující instance jiný tag selže:"
   ]
  },
  {
   "cell_type": "code",
   "execution_count": null,
   "metadata": {
    "tags": [
     "raises-exception"
    ]
   },
   "outputs": [],
   "source": [
    "t.tag = \"chachacha\""
   ]
  },
  {
   "cell_type": "markdown",
   "metadata": {},
   "source": [
    "A stejně jako normální n-tice lze s pojmenovanými n-ticemi pracovat jako s kolekcemi, tj. destrukturovat je, snadno je převádět na jiné kolekce atp."
   ]
  },
  {
   "cell_type": "code",
   "execution_count": null,
   "metadata": {},
   "outputs": [],
   "source": [
    "word, lemma, tag = t\n",
    "word"
   ]
  },
  {
   "cell_type": "code",
   "execution_count": null,
   "metadata": {},
   "outputs": [],
   "source": [
    "list(t)"
   ]
  },
  {
   "cell_type": "code",
   "execution_count": null,
   "metadata": {},
   "outputs": [],
   "source": [
    "set(t)"
   ]
  },
  {
   "cell_type": "markdown",
   "metadata": {},
   "source": [
    "## Spřízněné typy objektů (třídy): dědění (angl. *inheritance*)\n",
    "\n",
    "Třídu `BigramTagger` můžeme vytvořit analogicky s použitím funkcí, které jsme vymysleli na předchozích hodinách (zatím se budeme soustředit jen na inicializaci taggeru, tj. trénování):"
   ]
  },
  {
   "cell_type": "code",
   "execution_count": null,
   "metadata": {},
   "outputs": [],
   "source": [
    "class BigramTagger:\n",
    "    def __init__(self, data):\n",
    "        \"\"\"Inicializuje bigramový tagger, včetně natrénování modelu.\"\"\"\n",
    "        cfd = nltk.ConditionalFreqDist()\n",
    "        for sent in data:\n",
    "            for pos, (word, tag) in enumerate(sent):\n",
    "                # na začátku věty je předchozí tag None, ...\n",
    "                if pos == 0:\n",
    "                    prev_tag = None\n",
    "                # ... kdekoli jinde je to prostě... předchozí tag :)\n",
    "                else:\n",
    "                    prev_tag = sent[pos-1][1]\n",
    "                # stanovíme \"kontext\", v němž chceme zaznamenat, že jsme\n",
    "                # v rámci trénovacích dat právě pozorovali daný tag\n",
    "                context = (prev_tag, word.lower())\n",
    "                cfd[context][tag] += 1\n",
    "        self._model = cfd"
   ]
  },
  {
   "cell_type": "markdown",
   "metadata": {},
   "source": [
    "Jen připomenu, že výstupem funkce `enumerate()` je generátor, jehož výsledek po rozbalení vypadá strukturně nějak takto:"
   ]
  },
  {
   "cell_type": "code",
   "execution_count": null,
   "metadata": {},
   "outputs": [],
   "source": [
    "list(enumerate(train[0]))"
   ]
  },
  {
   "cell_type": "markdown",
   "metadata": {},
   "source": [
    "Když srovnáme metody `__init__()` v `UnigramTagger`u a `BigramTagger`u, zjistíme, že obsahují mnoho stejného či podobného kódu:\n",
    "\n",
    "- vytvoření prázdné podmíněné frekvenční distribuce\n",
    "- pak procházíme trénovací data větu po větě\n",
    "- každou větu procházíme pozici po pozici\n",
    "- pro každou pozici stanovíme nějaký kontext, který vstupuje do podmíněné frekvenční distribuce jako podmínka, za níž zaznamenáme, že jsme pozorovali přítomnost nějakého tagu\n",
    "- nakonec podmíněnou frekvenční distribuci uložíme na objekt do atributu `_model`\n",
    "\n",
    "Je tu v podstatě jen jeden rozdíl: liší se definice unigramového a bigramového kontextu (aktuální slovní tvar vs. předchozí tag + aktuální slovní tvar).\n",
    "\n",
    "Z hlediska údržby kódu a dalšího případného přidávání funkcionality je nešikovné mít velmi podobný kód nakopírovaný ve dvou třídách -- jakékoli úpravy bychom museli dělat v obou zároveň, na což se lehko zapomíná. Výhodnější by tedy bylo definovat si nějakou nadřazenou třídu `NgramTagger`, která implementuje tuto trénovací logiku obecně, a za které pak můžou třídy `UnigramTagger` a `BigramTagger` dědit takovým způsobem, aby stačilo implementovat jen metody, které jsou pro ně specifické (tj. v našem případě nejspíš jen metodu, která stanoví relevantní kontext, který použijeme jako podmínku do podmíněné frekvenční distribuce).\n",
    "\n",
    "Celé to může vypadat např. takto:"
   ]
  },
  {
   "cell_type": "code",
   "execution_count": null,
   "metadata": {},
   "outputs": [],
   "source": [
    "class NgramTagger:\n",
    "    \"\"\"Základní abstraktní třída pro n-gramové taggery.\n",
    "    \n",
    "    Mluvíme o ní jako o abstraktní proto, že nemá smysl vytvářet\n",
    "    instance této třídy, klíčová metoda ``get_context()`` na ní totiž\n",
    "    není implementovaná, protože její implementace závisí na tom, zda\n",
    "    chceme tagger unigramový, bigramový, atd.\n",
    "    \n",
    "    Tato třída tedy slouží výhradně k tomu, abychom na jejím základě\n",
    "    vytvořili podřazené třídy, které z ní dědí a které tyto metody\n",
    "    již konkrétně implementují.\n",
    "    \n",
    "    \"\"\"\n",
    "    def __init__(self, data):\n",
    "        \"\"\"Natrénuje tagger.\"\"\"\n",
    "        cfd = nltk.ConditionalFreqDist()\n",
    "        for sent in data:\n",
    "            # (i, (word, tag)) ← (0, ('Jaderné', 'A'))\n",
    "            for i, (word, tag) in enumerate(sent):\n",
    "                if tag is None:\n",
    "                    continue\n",
    "                ctx = self.get_context(i, word, sent)\n",
    "                cfd[ctx][tag] += 1\n",
    "        self._model = cfd\n",
    "\n",
    "    def get_context(self, i, word, sent):\n",
    "        # tímto naznačujeme, že třída je abstraktní: slouží jen k tomu,\n",
    "        # aby z ní dědily další třídy, které již musí tyto metody konkrétně\n",
    "        # implementovat, aby šly použít (= aby z nich šly vytvářet instance,\n",
    "        # tj. samotné objekty)\n",
    "        raise NotImplementedError\n",
    "        # pozn.: vyvolání chyby NotImplementedError je jen jeden ze způsobů\n",
    "        # jak upozornit na to, že tato třída neslouží k přímému použití\n",
    "        # (ten nejjednodušší); sofistikovanější možnosti nabízí modul abc,\n",
    "        # viz např. https://pymotw.com/3/abc/\n",
    "        \n",
    "# tento zápis znamená, že UnigramTagger dědí ze třídy NgramTagger.\n",
    "# v praxi to znamená, že přebírá všechny vlastnosti této nadřazené\n",
    "# třídy, pokud je explicitně nenahradíme (což můžeme udělat tak, že\n",
    "# v rámci podřazené třídy definujeme vlastnost -- třeba metodu --\n",
    "# se stejným jménem).\n",
    "class UnigramTagger(NgramTagger):\n",
    " \n",
    "    def get_context(self, i, word, sent):\n",
    "        # u unigramového taggeru větu ke stanovení kontextu\n",
    "        # nepotřebujeme, stačí nám současné slovo\n",
    "        return word.lower()\n",
    "    \n",
    "class BigramTagger(NgramTagger):\n",
    "  \n",
    "    def get_context(self, i, word, sent):\n",
    "        # u bigramového taggeru z věty vytáhneme hodnotu předchozího tagu\n",
    "        # (jsme-li na začátku věty, použijeme místo ní hodnotu None)\n",
    "        prev_tag = None if i == 0 else sent[i-1][1]\n",
    "        return prev_tag, word.lower()"
   ]
  },
  {
   "cell_type": "markdown",
   "metadata": {},
   "source": [
    "Další výhodou tohoto přístupu je, že nyní máme i ve zdrojovém kódu reprezentovaný vztah mezi oběma typy taggerů: už to nejsou samostatné, nesouvisející třídy, ale jsou propojené přes základní třídu `NgramTagger`. Díky tomu si může jiný programátor dovodit, že spolu nějakým způsobem souvisí, že jsou spřízněné, a že by se tedy měly chovat podobně. K základní třídě (či třídám, pokud je hierarchie dědění hlubší, což být může) se dostaneme přes speciální atribut `__bases__`:"
   ]
  },
  {
   "cell_type": "code",
   "execution_count": null,
   "metadata": {},
   "outputs": [],
   "source": [
    "UnigramTagger.__bases__"
   ]
  },
  {
   "cell_type": "code",
   "execution_count": null,
   "metadata": {},
   "outputs": [],
   "source": [
    "BigramTagger.__bases__"
   ]
  },
  {
   "cell_type": "code",
   "execution_count": null,
   "metadata": {},
   "outputs": [],
   "source": [
    "ut = UnigramTagger(train)\n",
    "# pro ověření se podíváme třeba na frekvenční distribuci tagů\n",
    "# pozorovaných v kontextu tvaru \"stát\"\n",
    "ut._model[\"stát\"]"
   ]
  },
  {
   "cell_type": "code",
   "execution_count": null,
   "metadata": {},
   "outputs": [],
   "source": [
    "bt = BigramTagger(train)\n",
    "# pro ověření se podíváme třeba na frekvenční distribuci tagů\n",
    "# pozorovaných v kontextu tvaru \"stát\" a předchozího tagu \"P\"\n",
    "# (zájmeno)\n",
    "bt._model[(\"P\", \"stát\")]"
   ]
  },
  {
   "cell_type": "markdown",
   "metadata": {},
   "source": [
    "## Metoda `.tag()` a *backoff*\n",
    "\n",
    "Nyní doplníme i metodu `.tag()` a možnost propojit taggery přes *backoff*. Možných postupů je pochopitelně víc, my se budeme snažit hlavně o názornost a srozumitelnost spíš než o efektivitu. Níže jsou změny oproti předchozí verzi kódu označeny pomocí komentáře `ZMĚNA`:"
   ]
  },
  {
   "cell_type": "code",
   "execution_count": null,
   "metadata": {},
   "outputs": [],
   "source": [
    "class NgramTagger:\n",
    "\n",
    "    # ZMĚNA: nový argument backoff, který obsahuje tagger, který se má\n",
    "    # použít ve chvíli, kdy tagování pomocí stávajícího taggeru selže\n",
    "    def __init__(self, data, backoff):\n",
    "        cfd = nltk.ConditionalFreqDist()\n",
    "        for sent in data:\n",
    "            for i, (word, tag) in enumerate(sent):\n",
    "                if tag is None:\n",
    "                    continue\n",
    "                ctx = self.get_context(i, word, sent)\n",
    "                cfd[ctx][tag] += 1\n",
    "        self._model = cfd\n",
    "        # ZMĚNA: backoff tagger je též potřeba uložit na self\n",
    "        self._backoff = backoff\n",
    "\n",
    "    # ZMĚNA: nová metoda .tag(); není abstraktní, je vymyšlená tak, aby\n",
    "    # fungovala v kombinaci s jakýmkoli n-gramovým taggerem\n",
    "    def tag(self, sent):\n",
    "        # začneme tím, že si větu necháme označkovat backoff taggerem a tagy\n",
    "        # si schováme, abychom si z nich kdykoli v případě potřeby mohli\n",
    "        # vytáhnout tag pro pozici, kterou se nám nepodařilo označkovat\n",
    "        # stávajícím taggerem\n",
    "        backoff = [tag for _, tag in self._backoff.tag(sent)]\n",
    "        tagged_sent = []\n",
    "        for i, word in enumerate(sent):\n",
    "            # pro každé slovo ve větě se pokusíme určit tag...\n",
    "            try:\n",
    "                # určíme kontext metodou odpovídající příslušnému konkrétnímu\n",
    "                # n-gramovému taggeru; POZOR: určení kontextu musí probíhat\n",
    "                # na základě *již označkované* části věty, tj. tagged_sent,\n",
    "                # ne sent\n",
    "                ctx = self.get_context(i, word, tagged_sent)\n",
    "                # a na základě kontextu vytáhneme z modelu odpovídající tag\n",
    "                tag = self._model[ctx].max()\n",
    "            # ... ale když se to nepodaří, nic se neděje: použijeme backoff\n",
    "            except ValueError:\n",
    "                tag = backoff[i]\n",
    "            tagged_sent.append((word, tag))\n",
    "        return tagged_sent\n",
    "\n",
    "    def get_context(self, i, word, sent):\n",
    "        raise NotImplementedError\n",
    "\n",
    "class UnigramTagger(NgramTagger):\n",
    "\n",
    "    def get_context(self, i, word, sent):\n",
    "        return word.lower()\n",
    "\n",
    "class BigramTagger(NgramTagger):\n",
    "\n",
    "    def get_context(self, i, word, sent):\n",
    "        prev_tag = None if i == 0 else sent[i-1][1]\n",
    "        return prev_tag, word.lower()"
   ]
  },
  {
   "cell_type": "markdown",
   "metadata": {},
   "source": [
    "Všimněte si že **jediná třída, ve které bylo potřeba učinit změny, je abstraktní třída `NgramTagger`**. Derivované třídy `UnigramTagger` a `BigramTagger` mohly zůstat stejné jako dřív a najednou \"zadarmo\" získaly novou funkcionalitu (neslouží už jenom k trénování modelů, umí i otagovat větu). V tom je výhoda (dobře rozmyšleného) objektově orientovaného programování.\n",
    "\n",
    "Jistá nevýhoda tkví naopak v tom, že je všechno potřeba trochu víc rozmýšlet předem, zejména vztahy mezi jednotlivými třídami, upravit algoritmy tak, aby většina metod mohla být sdílených, vytipovat klíčové metody, které bude muset každá podřazená třída mít vlastní, atp.\n",
    "\n",
    "Za pozornost stojí ještě jedna drobnost: nikde není řečeno, co přesně musí být v atributu `self._backoff` uloženo za objekt. Podle toho, jak ho v metodě `.tag()` používáme, můžeme odvodit, že stačí, aby měl následující vlastnosti: musí **sám disponovat vlastní metodou `.tag()`**, která jako argument **přijme seznam řetězců** a **vrátí stejně dlouhý seznam dvojic**. To znamená, že jako defaultní tagger můžeme klidně použít třídu `nltk.DefaultTagger`, která tyto podmínky splňuje, nemusíme definovat svou vlastní:"
   ]
  },
  {
   "cell_type": "code",
   "execution_count": null,
   "metadata": {},
   "outputs": [],
   "source": [
    "dt = nltk.DefaultTagger(\"N\")\n",
    "ut = UnigramTagger(train, backoff=dt)\n",
    "bt = BigramTagger(train, backoff=ut)"
   ]
  },
  {
   "cell_type": "code",
   "execution_count": null,
   "metadata": {},
   "outputs": [],
   "source": [
    "bt.tag(sent)"
   ]
  },
  {
   "cell_type": "markdown",
   "metadata": {},
   "source": [
    "Jinými slovy, naše n-gramové taggery jsou (alespoň v tomto ohledu) interoperabilní s taggery definovanými v NLTK. Této filozofii práce s různými typy objektů, kdy nás tolik nezajímá, jaký přesně typ objektu máme k dispozici (`NgramTagger`? `FrequencyDistribution`? `Cat`? `Dog`?), ale co ten konkrétní objekt umí (disponuje metodou `.tag()`?), se říká [*duck typing*](https://en.wikipedia.org/wiki/Duck_typing):\n",
    "\n",
    "> If it walks like a duck and it quacks like a duck, then it must be a duck. (Turns out it's a goose? Close enough, because geese quack too.)"
   ]
  }
 ],
 "metadata": {
  "kernelspec": {
   "display_name": "Python 3 (ipykernel)",
   "language": "python",
   "name": "python3"
  },
  "language_info": {
   "codemirror_mode": {
    "name": "ipython",
    "version": 3
   },
   "file_extension": ".py",
   "mimetype": "text/x-python",
   "name": "python",
   "nbconvert_exporter": "python",
   "pygments_lexer": "ipython3",
   "version": "3.10.6"
  }
 },
 "nbformat": 4,
 "nbformat_minor": 4
}
