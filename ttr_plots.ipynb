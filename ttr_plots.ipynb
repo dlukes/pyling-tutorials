{
 "cells": [
  {
   "cell_type": "code",
   "execution_count": null,
   "id": "7adc961b-0e71-4360-93ed-a3f47743c475",
   "metadata": {},
   "outputs": [],
   "source": [
    "from nltk.book import *"
   ]
  },
  {
   "cell_type": "markdown",
   "id": "839fa3d0-d753-455a-a630-ce370f2f82cf",
   "metadata": {},
   "source": [
    "# TTR\n",
    "\n",
    "Při seznamování s Pythonem jsme mluvili o *type-token ratio* (poměr počtu unikátních typů v textu vůči celkovému počtu tokenů) jako o relativně jednoduchém způsobu, jak operacionalizovat lexikální bohatost."
   ]
  },
  {
   "cell_type": "code",
   "execution_count": null,
   "id": "e4d1b7a1-f236-4ad1-91a3-da8468c374e3",
   "metadata": {},
   "outputs": [],
   "source": [
    "def ttr(text):\n",
    "    \"\"\"Type-token ratio (TTR) of ``text``.\n",
    "\n",
    "    :param text: input text\n",
    "    :return: float\n",
    "\n",
    "    \"\"\"\n",
    "    return len(set(text)) / len(text)"
   ]
  },
  {
   "cell_type": "markdown",
   "id": "6970a80a-cae7-4854-a509-5442b416b3b6",
   "metadata": {},
   "source": [
    "Zmínili jsme také, že jeho nevýhodou je, že není nezávislý na délce textu. Některá gramatická slůvka nám nezbývá než používat stále dokola, takže delší texty jsou z hlediska naměřené bohatosti znevýhodněny. Intuitivně: v rámci jedné věty se nezřídka podaří, že každé slovo je jiné, a TTR je tedy rovno 1. V rámci odstavce už to bude spíš výjimka, v rámci celého textu velmi nepravděpodobné, tím spíš, čím delší ten text bude.\n",
    "\n",
    "Z toho plyne, že výsledky naměřené přes TTR nemusí odpovídat intuitivní představě o lexikální bohatosti. Např. román *Moby Dick* se po přečtení pár stránek jeví jako všeobecně lexikálně bohatší než scénář k filmu *Monty Python and the Holy Grail*, ale TTR vyjde vyšší u toho druhého, protože je nápadně kratší:"
   ]
  },
  {
   "cell_type": "code",
   "execution_count": null,
   "id": "a3951ed6-3a8f-43b0-8aaa-8cbe1f50b1a4",
   "metadata": {},
   "outputs": [],
   "source": [
    "for text in [text1, text6]:\n",
    "    print(f\"{text.name}: {len(text)} tokenů, TTR {ttr(text):.2f}\")"
   ]
  },
  {
   "cell_type": "markdown",
   "id": "6d323280-93c9-410f-a773-f59548ec6d61",
   "metadata": {},
   "source": [
    "Jako rychlý způsob, jak provést smysluplnější porovnání, jsme zkusili výpočt TTR aplikovat na stejně dlouhé vzorky (výřezy) obou textů:"
   ]
  },
  {
   "cell_type": "code",
   "execution_count": null,
   "id": "274f1e4e-e087-47ec-b3e5-8d085d2509c2",
   "metadata": {},
   "outputs": [],
   "source": [
    "for text in [text1, text6]:\n",
    "    print(f\"{text.name}: {len(text)} tokenů, TTR prvních 5000 slov {ttr(text[:5000]):.2f}\")"
   ]
  },
  {
   "cell_type": "markdown",
   "id": "e05b6be0-52cf-4041-b52c-dd5cfed7f482",
   "metadata": {},
   "source": [
    "Tady už čísla lépe odpovídají očekáváním, ale vkradla se nám nová pochybnost: nedošlo náhodou výřezem k jinému druhu zkreslení? Co když jsme náhodou vyřízli nápadně lexikálně chudou část jednoho textu, a naopak velmi bohatou část textu druhého? Jak provést porovnání založené na celých textech a zároveň odstínit vliv délky textu?"
   ]
  },
  {
   "cell_type": "markdown",
   "id": "57655c5f-519f-429c-bd80-149f67d981c4",
   "metadata": {},
   "source": [
    "# Moving (average) TTR\n",
    "\n",
    "Jedna z možností: spočítat hodnoty TTR v (překrývajících se) oknech stejné délky, která pokrývají celý text.\n",
    "\n",
    "```\n",
    "step = 100    # o kolik tokenů okno posouváme\n",
    "window = 200  # šířka okna\n",
    "\n",
    "tokens: 0  100 200 300 400 500\n",
    "        |---|---|---|---|---|--->\n",
    "        \\______/    |   |\n",
    "         window 1   |   |\n",
    "            \\______/    |\n",
    "             window 2   |\n",
    "                \\______/\n",
    "                 window 3\n",
    "```"
   ]
  },
  {
   "cell_type": "code",
   "execution_count": null,
   "id": "3c6a2fb8-9b9f-4b88-9691-9d11c1f62954",
   "metadata": {},
   "outputs": [],
   "source": [
    "def mttr(text, *, step=100, window=500):\n",
    "    \"\"\"Moving TTR of ``text``.\n",
    "\n",
    "    :param text: input text\n",
    "    :param step: by how many tokens the window advances each time\n",
    "    :param window: width of window\n",
    "    :return: list of floats (TTR values)\n",
    "\n",
    "    \"\"\"\n",
    "    ttrs = []\n",
    "    for start in range(0, len(text), step):\n",
    "        sample = text[start:start+window]\n",
    "        if len(sample) != window:\n",
    "            break\n",
    "        ttrs.append(ttr(sample))\n",
    "    return ttrs"
   ]
  },
  {
   "cell_type": "code",
   "execution_count": null,
   "id": "b444554d-c896-4abd-a58c-490e32599c72",
   "metadata": {},
   "outputs": [],
   "source": [
    "mttr(text1)[:10]"
   ]
  },
  {
   "cell_type": "code",
   "execution_count": null,
   "id": "108030bd-a8bc-4315-9622-a194c92325d7",
   "metadata": {},
   "outputs": [],
   "source": [
    "len(mttr(text1))"
   ]
  },
  {
   "cell_type": "markdown",
   "id": "c6b28620-c7c8-45f8-a06f-874b29e8a3a4",
   "metadata": {},
   "source": [
    "Z těchto hodnot lze následně spočítat průměr, tj. *moving average TTR* (MATTR)."
   ]
  },
  {
   "cell_type": "code",
   "execution_count": null,
   "id": "a5f79358-52b7-42da-821f-2a8a0d1cdd07",
   "metadata": {},
   "outputs": [],
   "source": [
    "from statistics import mean\n",
    "\n",
    "def mattr(text, **ttr_kwargs):\n",
    "    \"\"\"Moving average TTR of ``text``.\n",
    "\n",
    "    :param ttr_kwargs: keyword arguments passed on to :func:`mttr`\n",
    "    :return: float\n",
    "\n",
    "    \"\"\"\n",
    "    ttrs = mttr(text, **ttr_kwargs)\n",
    "    return mean(ttrs)  # nebo jednoduše sum(ttrs) / len(ttrs)"
   ]
  },
  {
   "cell_type": "markdown",
   "id": "a069eebd-7b17-41a4-a877-8c232820fd2d",
   "metadata": {},
   "source": [
    "Hodnoty MATTR pro dva texty různé délky by měly být srovnatelné (při zachování stejných parametrů `step` a `window`), protože jsou výsledkem zprůměrování dílčích měření TTR na vzorcích stejné délky."
   ]
  },
  {
   "cell_type": "code",
   "execution_count": null,
   "id": "53d26cb1-41a8-4e6d-bac5-b91a08df48de",
   "metadata": {},
   "outputs": [],
   "source": [
    "for text in [text1, text6]:\n",
    "    print(f\"{text.name}: MATTR {mattr(text):.2f}\")"
   ]
  },
  {
   "cell_type": "markdown",
   "id": "25b2c61d-8169-4d30-b031-61cba3b73e94",
   "metadata": {},
   "source": [
    "# Grafy vývoje TTR pomocí Matplotlib"
   ]
  },
  {
   "cell_type": "markdown",
   "id": "12ba5e2b-808d-4b2f-aeb3-6a4786aecd27",
   "metadata": {},
   "source": [
    "Sekvenci hodnot TTR můžeme vykreslit pomocí knihovny Matplotlib (viz https://matplotlib.org/cheatsheets/ -- vřele doporučuju, Matplotlib má mnoho funkcí, tohle v nich velmi usnadní orientaci -- a https://matplotlib.org/stable/tutorials/index)."
   ]
  },
  {
   "cell_type": "code",
   "execution_count": null,
   "id": "596bcb40-41a2-4558-b55b-c8944013ad36",
   "metadata": {},
   "outputs": [],
   "source": [
    "import matplotlib.pyplot as plt\n",
    "\n",
    "ttrs = mttr(text1)\n",
    "fig, ax = plt.subplots()\n",
    "ax.plot(ttrs)"
   ]
  },
  {
   "cell_type": "markdown",
   "id": "f4ad4cbb-ffbf-456a-afc4-15c550de8ac1",
   "metadata": {},
   "source": [
    "Když zadáme delší `step` a širší `window`, křivku \"vyhladíme\": získáme představu o dlouhodobějších trendech, naopak ztratíme přehled o lokálních fluktuacích."
   ]
  },
  {
   "cell_type": "code",
   "execution_count": null,
   "id": "2492c0c7-6e8b-43bd-851b-5da6a781b2ad",
   "metadata": {},
   "outputs": [],
   "source": [
    "ttrs = mttr(text1, step=1000, window=5000)\n",
    "fig, ax = plt.subplots()\n",
    "ax.plot(ttrs)"
   ]
  },
  {
   "cell_type": "markdown",
   "id": "2294d3d4-e58c-4ad7-9aeb-aed77bcfc249",
   "metadata": {},
   "source": [
    "V této podobě je ale vizualizace pořád trochu syrová, nepřehledná. Můžeme vylepšit různé aspekty. Osa x aktuálně odpovídá indexům jednotlivých oken, je jich tedy cca 250 v tomto případě, jak si můžeme snadno ověřit:"
   ]
  },
  {
   "cell_type": "code",
   "execution_count": null,
   "id": "47298497-f7a8-4cc3-a800-2d9e06adeb5e",
   "metadata": {},
   "outputs": [],
   "source": [
    "len(ttrs)"
   ]
  },
  {
   "cell_type": "markdown",
   "id": "71af4a64-45a3-4b92-a6cf-383f911ea806",
   "metadata": {},
   "source": [
    "Místo toho by bylo asi lepší, aby osa x odpovídala pozici v textu z hlediska počtu tokenů. Každou hodnotu TTR bychom mohli umístit např. na pozici odpovídající prostředku daného okna, pro které byla vypočtena.\n",
    "\n",
    "Dále by bylo dobré v zájmu lepší čitelnosti graf rozprostřít do více řádků, a kvůli snazšímu porovnávání se zdrojovým textem naznačit hranice nějakých vyšších strukturních celků jako jsou kapitoly nebo scény. A pak samozřejmě formální záležitosti typu popisky os, celého grafu atp.\n",
    "\n",
    "Funkce `plot_mttr_fancy` uvedená v následující buňce je v jistém smyslu maximalistická varianta. Není cílem pochopit vše do puntíku, spíš ukázat flexibilitu a šířku možností. Zkuste si ji projít a trochu si s ní pohrát -- některé části upravit nebo zakomentovat, porovnat si, jak se pak liší výstup. K čemu přesně jednotlivé metody slouží si můžete též dohledat v [dokumentaci API knihovny Matplotlib](https://matplotlib.org/stable/api/index). Pokud budete chtít experimentovat s vlastními vylepšeními, znovu jako zdroj inspirace stran toho, co je možné a jak to lze implementovat, doporučuju https://matplotlib.org/cheatsheets/."
   ]
  },
  {
   "cell_type": "code",
   "execution_count": null,
   "id": "4b606d07-67cd-49c3-8c21-d804f1cf8acf",
   "metadata": {},
   "outputs": [],
   "source": [
    "import math\n",
    "\n",
    "def plot_mttr_fancy(text, *, text_name=None,\n",
    "                    width=10, tokens_per_plot=7_000, ymin=None, ymax=None,\n",
    "                    step=100, window=500):\n",
    "    ttrs = mttr(text, step=step, window=window)\n",
    "    minmax = [min(ttrs), max(ttrs)]\n",
    "    ymin = max(0, math.floor(minmax[0] * 10) / 10) if ymin is None else ymin\n",
    "    ymax = min(1, math.ceil(minmax[1] * 10) / 10) if ymax is None else ymax\n",
    "    window_centers = [i*step + window/2 for i in range(len(ttrs))]\n",
    "    xticks = []\n",
    "    xlabels = []\n",
    "    for i, (word, next_word) in enumerate(bigrams(text)):\n",
    "        if word in {\"CHAPTER\", \"SCENE\"} and next_word.isdigit():\n",
    "            xticks.append(i)\n",
    "            xlabels.append(next_word)\n",
    "    num_plots = math.ceil(len(text) / tokens_per_plot)\n",
    "    fig, axs = plt.subplots(num_plots, 1, squeeze=False,\n",
    "                            layout=\"constrained\", figsize=(width, 3*num_plots))\n",
    "    for i, ax in enumerate(axs.flat):\n",
    "        ax.plot(window_centers, ttrs)\n",
    "        for extreme in minmax:\n",
    "            ax.axhline(extreme, color=\"gray\", linestyle=\"dashed\")\n",
    "        ax.set_xticks(xticks)\n",
    "        ax.set_xticklabels(xlabels)\n",
    "        ax.set_xlabel(\"Chapters/Scenes\")\n",
    "        ax.set_ylabel(f\"TTR in {window} token window\")\n",
    "        ax.set_xlim(i*tokens_per_plot, (i+1)*tokens_per_plot)\n",
    "        ax.set_ylim(ymin, ymax)\n",
    "        ax.grid()\n",
    "    if text_name is None and hasattr(text, \"name\"):\n",
    "        text_name = text.name\n",
    "    if text_name is not None:\n",
    "        fig.suptitle(f\"TTR in {text_name}\")\n",
    "    # Objekty reprezentující graf by funkce měla vrátit, aby si je uživatel\n",
    "    # případně mohl ještě dle libosti upravit.\n",
    "    return fig, axs"
   ]
  },
  {
   "cell_type": "code",
   "execution_count": null,
   "id": "46866460-3b53-403b-a9f5-dde21a1af1b9",
   "metadata": {},
   "outputs": [],
   "source": [
    "plot_mttr_fancy(text6);"
   ]
  },
  {
   "cell_type": "code",
   "execution_count": null,
   "id": "aa9d9a97-afa6-4a96-9181-c25ebf3f038f",
   "metadata": {},
   "outputs": [],
   "source": [
    "plot_mttr_fancy(text1[:50_000], text_name=\"first 50 000 tokens of \" + text1.name);"
   ]
  },
  {
   "cell_type": "code",
   "execution_count": null,
   "id": "bef6a55f-525e-4f49-91f9-448d72678b95",
   "metadata": {},
   "outputs": [],
   "source": [
    "fig, axs = plot_mttr_fancy(text6[:7000], ymax=.7)\n",
    "moby_ttrs = mttr(text1)\n",
    "for ax in axs.flat:\n",
    "    ax.axhline(min(moby_ttrs), color=\"C1\", linestyle=\"dashed\")\n",
    "    ax.axhline(max(moby_ttrs), color=\"C1\", linestyle=\"dashed\", label=\"TTR range in Moby Dick\")\n",
    "    ax.legend()\n",
    "fig.suptitle(\"TTR in first half of Holy Grail vs. TTR range in Moby Dick\")"
   ]
  },
  {
   "cell_type": "markdown",
   "id": "fb815e14-66fb-46f7-8c89-d7aeba30bbf3",
   "metadata": {},
   "source": [
    "# Porovnání se zdrojovým textem"
   ]
  },
  {
   "cell_type": "markdown",
   "id": "0025adcf-7926-4faa-b00d-dd60e2477f25",
   "metadata": {},
   "source": [
    "Když se podíváme na zdrojový kód modulu `nltk.book`, snadno zjistíme, odkud se texty, s nimiž jsme pracovali, načítají:"
   ]
  },
  {
   "cell_type": "code",
   "execution_count": null,
   "id": "60d5852c-e14a-47ff-84ea-446a9f729a41",
   "metadata": {
    "tags": []
   },
   "outputs": [],
   "source": [
    "import nltk\n",
    "\n",
    "nltk.book??"
   ]
  },
  {
   "cell_type": "markdown",
   "id": "d4d9b39b-4735-422c-8065-82bc63494d1a",
   "metadata": {},
   "source": [
    "Jak patrno, *Moby Dick* pochází z korpusu `gutenberg`, *Monty Python* z korpusu `webtext` (tedy aspoň v rámci NLTK)."
   ]
  },
  {
   "cell_type": "code",
   "execution_count": null,
   "id": "217ecfa9-94e8-4ee2-95ba-7ee5b7698a87",
   "metadata": {},
   "outputs": [],
   "source": [
    "from nltk.corpus import webtext, gutenberg"
   ]
  },
  {
   "cell_type": "markdown",
   "id": "b8923466-b486-408a-be1d-d8f5ca18ce45",
   "metadata": {},
   "source": [
    "Při konstrukci objektů typu `Text` se z těchto korpusů načítají metodou `words`, protože je chceme mít tokenizované. Ale pro pročítání úryvků se spíš hodí načíst je pomocí metody `raw` jako jeden dlouhý řetězec, kde jsou např. zachované konce řádků a tím i odstavce, což usnadní čtení a orientaci."
   ]
  },
  {
   "cell_type": "code",
   "execution_count": null,
   "id": "97744b6a-b190-4b5f-84dd-b4fcb03821a5",
   "metadata": {},
   "outputs": [],
   "source": [
    "moby = gutenberg.raw(\"melville-moby_dick.txt\")\n",
    "grail = webtext.raw(\"grail.txt\")"
   ]
  },
  {
   "cell_type": "markdown",
   "id": "97dba023-bd4a-4bf8-af50-d375d543e187",
   "metadata": {},
   "source": [
    "Podle grafu vývoje TTR je scéna 5 v *Monty Python and the Holy Grail* zkraje nápadně lexikálně chudá, a ke konci naopak vystoupá až skoro k maximu v rámci textu. Pojďme se na ni podívat, abychom si ověřili, zda to intuitivně dává smysl:"
   ]
  },
  {
   "cell_type": "code",
   "execution_count": null,
   "id": "b04accb9-1387-4774-bf46-f9ff13b6f861",
   "metadata": {
    "tags": []
   },
   "outputs": [],
   "source": [
    "print(grail[grail.index(\"SCENE 5\"):grail.index(\"SCENE 6\")])"
   ]
  },
  {
   "cell_type": "markdown",
   "id": "404bb2e6-6045-4dae-bfd1-b9e240ff82cb",
   "metadata": {},
   "source": [
    "Vypadá to, že to sedí: první část scény vyvozuje komický efekt z primitivních repetitivních replik, kdežto ke konci se rozvine komplexnější dialog, a scéna je zakončena květnatým vstupem vypravěče."
   ]
  },
  {
   "cell_type": "markdown",
   "id": "4346c5be-b4dd-4ac3-ad3d-4df992a4a42f",
   "metadata": {},
   "source": [
    "# Douška: univerzálnější funkce `ttr`\n",
    "\n",
    "Co když chceme při výpočtu TTR např. zanedbat velikost písmen, nebo provést nějakou jinou úpravu zdrojového textu? Nejsnazší řešení by mělo být prostě jen zaměnit původní kolekci za konvertor kolekce. Jenže ouha:"
   ]
  },
  {
   "cell_type": "code",
   "execution_count": null,
   "id": "7c9d4cf4-5f20-4561-aa19-cb03dfeac4f4",
   "metadata": {},
   "outputs": [],
   "source": [
    "sent3"
   ]
  },
  {
   "cell_type": "code",
   "execution_count": null,
   "id": "0b76912c-0b98-4076-8d4a-9c69f60de5fc",
   "metadata": {},
   "outputs": [],
   "source": [
    "ttr(sent3)"
   ]
  },
  {
   "cell_type": "code",
   "execution_count": null,
   "id": "f3918721-69da-424c-8404-c17d6ed81d0c",
   "metadata": {
    "tags": [
     "raises-exception"
    ]
   },
   "outputs": [],
   "source": [
    "ttr(t.lower() for t in sent3)"
   ]
  },
  {
   "cell_type": "markdown",
   "id": "f9b0763c-a3f3-411f-9c41-f13cbfa96fa1",
   "metadata": {},
   "source": [
    "Výsledkem konvertoru kolekce je totiž objekt, kterému Python říká *generator*:"
   ]
  },
  {
   "cell_type": "code",
   "execution_count": null,
   "id": "0079af76-450e-44c9-9cb6-583cf67981ea",
   "metadata": {},
   "outputs": [],
   "source": [
    "(t.lower() for t in sent3)"
   ]
  },
  {
   "cell_type": "markdown",
   "id": "69af072d-9af9-4f69-a077-b5ce56d7bac4",
   "metadata": {},
   "source": [
    "My o něm na hodinách mluvíváme jako o *potenciální kolekci*. Potenciální (nebo též líná) kolekce sice ví, jak svoje prvky spočítat, ale nechává to na jindy. Je koneckonců líná, takže je potřeba ji donutit -- třeba tak, že z jejích prvků vytvoříme seznam pomocí funkce `list`. Seznam svoje prvky znát potřebuje, a tak generátoru nezbývá než si dát tu práci a spočítat je:"
   ]
  },
  {
   "cell_type": "code",
   "execution_count": null,
   "id": "21d4d8c1-e209-46e9-9366-6022b84dd880",
   "metadata": {},
   "outputs": [],
   "source": [
    "list(t.lower() for t in sent3)"
   ]
  },
  {
   "cell_type": "markdown",
   "id": "1f4f1225-0f7f-447d-bdb1-3d68373e5715",
   "metadata": {},
   "source": [
    "A protože je generátor líný a nezná svoje prvky (jen má uložený recept, jak je spočítat), tak ani dopředu neví, kolik jich celkem bude, a nelze na něj jen tak zavolat funkci `len`."
   ]
  },
  {
   "cell_type": "code",
   "execution_count": null,
   "id": "70745df7-c3a0-4379-a308-cc43970a5562",
   "metadata": {
    "tags": [
     "raises-exception"
    ]
   },
   "outputs": [],
   "source": [
    "len(t.lower() for t in sent3)"
   ]
  },
  {
   "cell_type": "markdown",
   "id": "71afabc0-5217-496b-b527-7057539ffaf6",
   "metadata": {},
   "source": [
    "Všimněte si, že je to tatáž chyba, jakou nám před chvílí vyhodila funkce `ttr`, a příčina je pochopitelně taky stejná.\n",
    "\n",
    "Řešení je jednoduché: stačí zajistit, aby v proměnné `text` byla ve chvíli, kdy voláme `len(text)`, uložena skutečná, nikoli pouze potenciální kolekce (generátor). Pak by mělo vždy jít stanovit délku textu. A jak už jsme si ukázali před chvílí, převést libovolnou kolekci (i potenciální) např. na seznam je naštěstí snadné, stačí použít funkci `list`. Takže v úhrnu:"
   ]
  },
  {
   "cell_type": "code",
   "execution_count": null,
   "id": "82331b5f-b62d-4fbd-9c7f-b8351df9866c",
   "metadata": {},
   "outputs": [],
   "source": [
    "def ttr(text):\n",
    "    text = list(text)  # tenhle řádek je nový\n",
    "    return len(set(text)) / len(text)"
   ]
  },
  {
   "cell_type": "markdown",
   "id": "5d7c6e2c-596e-470b-b2ee-36120ed1beb0",
   "metadata": {},
   "source": [
    "Takto upravené funkci `ttr` už bez problémů můžeme předat jako argument konvertor kolekce, tedy generátor, protože ho hned zkraje funkce převedeme na seznam."
   ]
  },
  {
   "cell_type": "code",
   "execution_count": null,
   "id": "1e012b12-44d5-4a0e-b632-db539f4e0910",
   "metadata": {},
   "outputs": [],
   "source": [
    "ttr(t.lower() for t in sent3)"
   ]
  }
 ],
 "metadata": {
  "kernelspec": {
   "display_name": "Python 3 (ipykernel)",
   "language": "python",
   "name": "python3"
  },
  "language_info": {
   "codemirror_mode": {
    "name": "ipython",
    "version": 3
   },
   "file_extension": ".py",
   "mimetype": "text/x-python",
   "name": "python",
   "nbconvert_exporter": "python",
   "pygments_lexer": "ipython3",
   "version": "3.10.6"
  }
 },
 "nbformat": 4,
 "nbformat_minor": 5
}
