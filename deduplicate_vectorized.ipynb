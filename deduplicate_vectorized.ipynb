{
 "cells": [
  {
   "cell_type": "markdown",
   "metadata": {},
   "source": [
    "# Urychlení deduplikace pomocí vektorizovaných operací místo for-cyklů\n",
    "\n",
    "# Příprava\n",
    "\n",
    "Začátek je v kondenzované podobě stejný jako u `2-99-final.ipynb`, komentáře případně viz tam."
   ]
  },
  {
   "cell_type": "code",
   "execution_count": 1,
   "metadata": {},
   "outputs": [],
   "source": [
    "def flatten(lst, accumulator=None):\n",
    "    if accumulator is None:\n",
    "        accumulator = []\n",
    "    for item in lst:\n",
    "        if isinstance(item, list):\n",
    "            flatten(item, accumulator)\n",
    "        else:\n",
    "            accumulator.append(item)\n",
    "    return accumulator"
   ]
  },
  {
   "cell_type": "code",
   "execution_count": 2,
   "metadata": {},
   "outputs": [],
   "source": [
    "from nltk.corpus import abc\n",
    "\n",
    "docs = []\n",
    "for cat in abc.fileids():\n",
    "    for doc in abc.paras(fileids=cat):\n",
    "        docs.append((cat[:-4], flatten(doc)))"
   ]
  },
  {
   "cell_type": "code",
   "execution_count": 3,
   "metadata": {},
   "outputs": [],
   "source": [
    "import random\n",
    "\n",
    "def make_dirty(docs):\n",
    "    random.seed(100)\n",
    "    dirty_docs = []\n",
    "    for cat, doc in docs:\n",
    "        if random.random() < .1:\n",
    "            dirty_doc = []\n",
    "            for token in doc:\n",
    "                if random.random() > .05:\n",
    "                    dirty_doc.append(token)\n",
    "            dirty_docs.append((cat, dirty_doc))\n",
    "        dirty_docs.append((cat, doc))\n",
    "    random.shuffle(dirty_docs)\n",
    "    return dirty_docs"
   ]
  },
  {
   "cell_type": "code",
   "execution_count": 4,
   "metadata": {},
   "outputs": [
    {
     "data": {
      "text/plain": [
       "(3189, 3492)"
      ]
     },
     "execution_count": 4,
     "metadata": {},
     "output_type": "execute_result"
    }
   ],
   "source": [
    "dirty_docs = make_dirty(docs)\n",
    "len(docs), len(dirty_docs)"
   ]
  },
  {
   "cell_type": "code",
   "execution_count": 5,
   "metadata": {},
   "outputs": [],
   "source": [
    "import gensim as gs\n",
    "\n",
    "dirty_dictionary = gs.corpora.Dictionary(d for _, d in dirty_docs)\n",
    "dirty_corpus = [dirty_dictionary.doc2bow(d) for _, d in dirty_docs]\n",
    "tfidf_model = gs.models.TfidfModel(dirty_corpus)\n",
    "dirty_corpus_tfidf = tfidf_model[dirty_corpus]\n",
    "matrix_similarity = gs.similarities.MatrixSimilarity(dirty_corpus_tfidf)"
   ]
  },
  {
   "cell_type": "markdown",
   "metadata": {},
   "source": [
    "# Kompletní pole / tabulka / matice podobností\n",
    "\n",
    "A teď -- místo abychom podobnosti procházeli ve dvou vnořených for-cyklech, načteme je všechny do jedné dvourozměrné tabulky (přísně vzato *pole*, angl. *array*) pomocí knihovny `numpy` a třídy `ndarray`:"
   ]
  },
  {
   "cell_type": "code",
   "execution_count": 6,
   "metadata": {},
   "outputs": [
    {
     "data": {
      "text/plain": [
       "array([[1.00000012e+00, 2.35655364e-02, 3.09740119e-02, ...,\n",
       "        2.02843230e-02, 2.59479042e-04, 6.02959772e-04],\n",
       "       [2.35655364e-02, 1.00000000e+00, 1.13137057e-02, ...,\n",
       "        3.09589151e-02, 1.60119273e-02, 1.49210449e-02],\n",
       "       [3.09740119e-02, 1.13137057e-02, 1.00000000e+00, ...,\n",
       "        2.61870120e-03, 1.29912505e-02, 1.95524725e-03],\n",
       "       ...,\n",
       "       [2.02843230e-02, 3.09589151e-02, 2.61870120e-03, ...,\n",
       "        1.00000012e+00, 3.61138693e-04, 6.46825973e-03],\n",
       "       [2.59479042e-04, 1.60119273e-02, 1.29912505e-02, ...,\n",
       "        3.61138693e-04, 1.00000000e+00, 3.33650759e-03],\n",
       "       [6.02959772e-04, 1.49210449e-02, 1.95524725e-03, ...,\n",
       "        6.46825973e-03, 3.33650759e-03, 9.99999940e-01]], dtype=float32)"
      ]
     },
     "execution_count": 6,
     "metadata": {},
     "output_type": "execute_result"
    }
   ],
   "source": [
    "import numpy as np\n",
    "\n",
    "similarity_table = np.array(matrix_similarity)\n",
    "similarity_table"
   ]
  },
  {
   "cell_type": "code",
   "execution_count": 7,
   "metadata": {},
   "outputs": [
    {
     "data": {
      "text/plain": [
       "numpy.ndarray"
      ]
     },
     "execution_count": 7,
     "metadata": {},
     "output_type": "execute_result"
    }
   ],
   "source": [
    "type(similarity_table)"
   ]
  },
  {
   "cell_type": "code",
   "execution_count": 8,
   "metadata": {},
   "outputs": [
    {
     "data": {
      "text/plain": [
       "2"
      ]
     },
     "execution_count": 8,
     "metadata": {},
     "output_type": "execute_result"
    }
   ],
   "source": [
    "# objekty typu array můžou teoreticky mít libovolný\n",
    "# počet rozměrů, tento náš je dvourozměrná tabulka\n",
    "similarity_table.ndim"
   ]
  },
  {
   "cell_type": "code",
   "execution_count": 9,
   "metadata": {},
   "outputs": [
    {
     "data": {
      "text/plain": [
       "(3492, 3492)"
      ]
     },
     "execution_count": 9,
     "metadata": {},
     "output_type": "execute_result"
    }
   ],
   "source": [
    "# počet řádků a sloupců\n",
    "similarity_table.shape"
   ]
  },
  {
   "cell_type": "markdown",
   "metadata": {},
   "source": [
    "Pro trošku přehlednější a lépe čitelné zobrazení můžeme `ndarray` pomocí knihovny `pandas` převést na tzv. `DataFrame`:"
   ]
  },
  {
   "cell_type": "code",
   "execution_count": 10,
   "metadata": {},
   "outputs": [
    {
     "data": {
      "text/html": [
       "<div>\n",
       "<style scoped>\n",
       "    .dataframe tbody tr th:only-of-type {\n",
       "        vertical-align: middle;\n",
       "    }\n",
       "\n",
       "    .dataframe tbody tr th {\n",
       "        vertical-align: top;\n",
       "    }\n",
       "\n",
       "    .dataframe thead th {\n",
       "        text-align: right;\n",
       "    }\n",
       "</style>\n",
       "<table border=\"1\" class=\"dataframe\">\n",
       "  <thead>\n",
       "    <tr style=\"text-align: right;\">\n",
       "      <th></th>\n",
       "      <th>0</th>\n",
       "      <th>1</th>\n",
       "      <th>2</th>\n",
       "      <th>3</th>\n",
       "      <th>4</th>\n",
       "      <th>5</th>\n",
       "      <th>6</th>\n",
       "      <th>7</th>\n",
       "      <th>8</th>\n",
       "      <th>9</th>\n",
       "      <th>...</th>\n",
       "      <th>3482</th>\n",
       "      <th>3483</th>\n",
       "      <th>3484</th>\n",
       "      <th>3485</th>\n",
       "      <th>3486</th>\n",
       "      <th>3487</th>\n",
       "      <th>3488</th>\n",
       "      <th>3489</th>\n",
       "      <th>3490</th>\n",
       "      <th>3491</th>\n",
       "    </tr>\n",
       "  </thead>\n",
       "  <tbody>\n",
       "    <tr>\n",
       "      <th>0</th>\n",
       "      <td>1.000000</td>\n",
       "      <td>0.023566</td>\n",
       "      <td>0.030974</td>\n",
       "      <td>0.006135</td>\n",
       "      <td>0.048488</td>\n",
       "      <td>0.014640</td>\n",
       "      <td>0.001964</td>\n",
       "      <td>0.004974</td>\n",
       "      <td>0.034417</td>\n",
       "      <td>0.007292</td>\n",
       "      <td>...</td>\n",
       "      <td>0.005511</td>\n",
       "      <td>0.004699</td>\n",
       "      <td>0.015097</td>\n",
       "      <td>0.029083</td>\n",
       "      <td>0.002398</td>\n",
       "      <td>0.014274</td>\n",
       "      <td>0.000493</td>\n",
       "      <td>0.020284</td>\n",
       "      <td>0.000259</td>\n",
       "      <td>0.000603</td>\n",
       "    </tr>\n",
       "    <tr>\n",
       "      <th>1</th>\n",
       "      <td>0.023566</td>\n",
       "      <td>1.000000</td>\n",
       "      <td>0.011314</td>\n",
       "      <td>0.017849</td>\n",
       "      <td>0.005569</td>\n",
       "      <td>0.007815</td>\n",
       "      <td>0.015914</td>\n",
       "      <td>0.007599</td>\n",
       "      <td>0.008650</td>\n",
       "      <td>0.016335</td>\n",
       "      <td>...</td>\n",
       "      <td>0.007180</td>\n",
       "      <td>0.012245</td>\n",
       "      <td>0.006294</td>\n",
       "      <td>0.029293</td>\n",
       "      <td>0.005592</td>\n",
       "      <td>0.007113</td>\n",
       "      <td>0.006032</td>\n",
       "      <td>0.030959</td>\n",
       "      <td>0.016012</td>\n",
       "      <td>0.014921</td>\n",
       "    </tr>\n",
       "    <tr>\n",
       "      <th>2</th>\n",
       "      <td>0.030974</td>\n",
       "      <td>0.011314</td>\n",
       "      <td>1.000000</td>\n",
       "      <td>0.002780</td>\n",
       "      <td>0.013671</td>\n",
       "      <td>0.006871</td>\n",
       "      <td>0.011316</td>\n",
       "      <td>0.005081</td>\n",
       "      <td>0.034592</td>\n",
       "      <td>0.008189</td>\n",
       "      <td>...</td>\n",
       "      <td>0.001082</td>\n",
       "      <td>0.001999</td>\n",
       "      <td>0.002476</td>\n",
       "      <td>0.028271</td>\n",
       "      <td>0.002103</td>\n",
       "      <td>0.028489</td>\n",
       "      <td>0.003087</td>\n",
       "      <td>0.002619</td>\n",
       "      <td>0.012991</td>\n",
       "      <td>0.001955</td>\n",
       "    </tr>\n",
       "    <tr>\n",
       "      <th>3</th>\n",
       "      <td>0.006135</td>\n",
       "      <td>0.017849</td>\n",
       "      <td>0.002780</td>\n",
       "      <td>1.000000</td>\n",
       "      <td>0.007520</td>\n",
       "      <td>0.013662</td>\n",
       "      <td>0.002640</td>\n",
       "      <td>0.006594</td>\n",
       "      <td>0.003020</td>\n",
       "      <td>0.008687</td>\n",
       "      <td>...</td>\n",
       "      <td>0.003500</td>\n",
       "      <td>0.005177</td>\n",
       "      <td>0.011035</td>\n",
       "      <td>0.009338</td>\n",
       "      <td>0.003348</td>\n",
       "      <td>0.007391</td>\n",
       "      <td>0.001788</td>\n",
       "      <td>0.003293</td>\n",
       "      <td>0.025259</td>\n",
       "      <td>0.015452</td>\n",
       "    </tr>\n",
       "    <tr>\n",
       "      <th>4</th>\n",
       "      <td>0.048488</td>\n",
       "      <td>0.005569</td>\n",
       "      <td>0.013671</td>\n",
       "      <td>0.007520</td>\n",
       "      <td>1.000000</td>\n",
       "      <td>0.027734</td>\n",
       "      <td>0.006407</td>\n",
       "      <td>0.010601</td>\n",
       "      <td>0.006067</td>\n",
       "      <td>0.008334</td>\n",
       "      <td>...</td>\n",
       "      <td>0.067801</td>\n",
       "      <td>0.011323</td>\n",
       "      <td>0.049884</td>\n",
       "      <td>0.006692</td>\n",
       "      <td>0.005013</td>\n",
       "      <td>0.020604</td>\n",
       "      <td>0.036756</td>\n",
       "      <td>0.016701</td>\n",
       "      <td>0.003415</td>\n",
       "      <td>0.008411</td>\n",
       "    </tr>\n",
       "    <tr>\n",
       "      <th>...</th>\n",
       "      <td>...</td>\n",
       "      <td>...</td>\n",
       "      <td>...</td>\n",
       "      <td>...</td>\n",
       "      <td>...</td>\n",
       "      <td>...</td>\n",
       "      <td>...</td>\n",
       "      <td>...</td>\n",
       "      <td>...</td>\n",
       "      <td>...</td>\n",
       "      <td>...</td>\n",
       "      <td>...</td>\n",
       "      <td>...</td>\n",
       "      <td>...</td>\n",
       "      <td>...</td>\n",
       "      <td>...</td>\n",
       "      <td>...</td>\n",
       "      <td>...</td>\n",
       "      <td>...</td>\n",
       "      <td>...</td>\n",
       "      <td>...</td>\n",
       "    </tr>\n",
       "    <tr>\n",
       "      <th>3487</th>\n",
       "      <td>0.014274</td>\n",
       "      <td>0.007113</td>\n",
       "      <td>0.028489</td>\n",
       "      <td>0.007391</td>\n",
       "      <td>0.020604</td>\n",
       "      <td>0.007797</td>\n",
       "      <td>0.029100</td>\n",
       "      <td>0.010674</td>\n",
       "      <td>0.036847</td>\n",
       "      <td>0.022709</td>\n",
       "      <td>...</td>\n",
       "      <td>0.009055</td>\n",
       "      <td>0.019783</td>\n",
       "      <td>0.056052</td>\n",
       "      <td>0.014436</td>\n",
       "      <td>0.018465</td>\n",
       "      <td>1.000000</td>\n",
       "      <td>0.191710</td>\n",
       "      <td>0.025678</td>\n",
       "      <td>0.022279</td>\n",
       "      <td>0.020921</td>\n",
       "    </tr>\n",
       "    <tr>\n",
       "      <th>3488</th>\n",
       "      <td>0.000493</td>\n",
       "      <td>0.006032</td>\n",
       "      <td>0.003087</td>\n",
       "      <td>0.001788</td>\n",
       "      <td>0.036756</td>\n",
       "      <td>0.004267</td>\n",
       "      <td>0.001284</td>\n",
       "      <td>0.009257</td>\n",
       "      <td>0.004288</td>\n",
       "      <td>0.024809</td>\n",
       "      <td>...</td>\n",
       "      <td>0.005657</td>\n",
       "      <td>0.007473</td>\n",
       "      <td>0.027228</td>\n",
       "      <td>0.018072</td>\n",
       "      <td>0.017672</td>\n",
       "      <td>0.191710</td>\n",
       "      <td>1.000000</td>\n",
       "      <td>0.018912</td>\n",
       "      <td>0.025898</td>\n",
       "      <td>0.005283</td>\n",
       "    </tr>\n",
       "    <tr>\n",
       "      <th>3489</th>\n",
       "      <td>0.020284</td>\n",
       "      <td>0.030959</td>\n",
       "      <td>0.002619</td>\n",
       "      <td>0.003293</td>\n",
       "      <td>0.016701</td>\n",
       "      <td>0.004636</td>\n",
       "      <td>0.004173</td>\n",
       "      <td>0.010352</td>\n",
       "      <td>0.010198</td>\n",
       "      <td>0.027463</td>\n",
       "      <td>...</td>\n",
       "      <td>0.026872</td>\n",
       "      <td>0.019128</td>\n",
       "      <td>0.009421</td>\n",
       "      <td>0.013752</td>\n",
       "      <td>0.059230</td>\n",
       "      <td>0.025678</td>\n",
       "      <td>0.018912</td>\n",
       "      <td>1.000000</td>\n",
       "      <td>0.000361</td>\n",
       "      <td>0.006468</td>\n",
       "    </tr>\n",
       "    <tr>\n",
       "      <th>3490</th>\n",
       "      <td>0.000259</td>\n",
       "      <td>0.016012</td>\n",
       "      <td>0.012991</td>\n",
       "      <td>0.025259</td>\n",
       "      <td>0.003415</td>\n",
       "      <td>0.000212</td>\n",
       "      <td>0.027288</td>\n",
       "      <td>0.010643</td>\n",
       "      <td>0.013706</td>\n",
       "      <td>0.009627</td>\n",
       "      <td>...</td>\n",
       "      <td>0.009945</td>\n",
       "      <td>0.000705</td>\n",
       "      <td>0.031996</td>\n",
       "      <td>0.002664</td>\n",
       "      <td>0.021818</td>\n",
       "      <td>0.022279</td>\n",
       "      <td>0.025898</td>\n",
       "      <td>0.000361</td>\n",
       "      <td>1.000000</td>\n",
       "      <td>0.003337</td>\n",
       "    </tr>\n",
       "    <tr>\n",
       "      <th>3491</th>\n",
       "      <td>0.000603</td>\n",
       "      <td>0.014921</td>\n",
       "      <td>0.001955</td>\n",
       "      <td>0.015452</td>\n",
       "      <td>0.008411</td>\n",
       "      <td>0.009501</td>\n",
       "      <td>0.010100</td>\n",
       "      <td>0.008587</td>\n",
       "      <td>0.012153</td>\n",
       "      <td>0.013588</td>\n",
       "      <td>...</td>\n",
       "      <td>0.018714</td>\n",
       "      <td>0.012290</td>\n",
       "      <td>0.011487</td>\n",
       "      <td>0.004894</td>\n",
       "      <td>0.016529</td>\n",
       "      <td>0.020921</td>\n",
       "      <td>0.005283</td>\n",
       "      <td>0.006468</td>\n",
       "      <td>0.003337</td>\n",
       "      <td>1.000000</td>\n",
       "    </tr>\n",
       "  </tbody>\n",
       "</table>\n",
       "<p>3492 rows × 3492 columns</p>\n",
       "</div>"
      ],
      "text/plain": [
       "          0         1         2         3         4         5         6     \\\n",
       "0     1.000000  0.023566  0.030974  0.006135  0.048488  0.014640  0.001964   \n",
       "1     0.023566  1.000000  0.011314  0.017849  0.005569  0.007815  0.015914   \n",
       "2     0.030974  0.011314  1.000000  0.002780  0.013671  0.006871  0.011316   \n",
       "3     0.006135  0.017849  0.002780  1.000000  0.007520  0.013662  0.002640   \n",
       "4     0.048488  0.005569  0.013671  0.007520  1.000000  0.027734  0.006407   \n",
       "...        ...       ...       ...       ...       ...       ...       ...   \n",
       "3487  0.014274  0.007113  0.028489  0.007391  0.020604  0.007797  0.029100   \n",
       "3488  0.000493  0.006032  0.003087  0.001788  0.036756  0.004267  0.001284   \n",
       "3489  0.020284  0.030959  0.002619  0.003293  0.016701  0.004636  0.004173   \n",
       "3490  0.000259  0.016012  0.012991  0.025259  0.003415  0.000212  0.027288   \n",
       "3491  0.000603  0.014921  0.001955  0.015452  0.008411  0.009501  0.010100   \n",
       "\n",
       "          7         8         9     ...      3482      3483      3484  \\\n",
       "0     0.004974  0.034417  0.007292  ...  0.005511  0.004699  0.015097   \n",
       "1     0.007599  0.008650  0.016335  ...  0.007180  0.012245  0.006294   \n",
       "2     0.005081  0.034592  0.008189  ...  0.001082  0.001999  0.002476   \n",
       "3     0.006594  0.003020  0.008687  ...  0.003500  0.005177  0.011035   \n",
       "4     0.010601  0.006067  0.008334  ...  0.067801  0.011323  0.049884   \n",
       "...        ...       ...       ...  ...       ...       ...       ...   \n",
       "3487  0.010674  0.036847  0.022709  ...  0.009055  0.019783  0.056052   \n",
       "3488  0.009257  0.004288  0.024809  ...  0.005657  0.007473  0.027228   \n",
       "3489  0.010352  0.010198  0.027463  ...  0.026872  0.019128  0.009421   \n",
       "3490  0.010643  0.013706  0.009627  ...  0.009945  0.000705  0.031996   \n",
       "3491  0.008587  0.012153  0.013588  ...  0.018714  0.012290  0.011487   \n",
       "\n",
       "          3485      3486      3487      3488      3489      3490      3491  \n",
       "0     0.029083  0.002398  0.014274  0.000493  0.020284  0.000259  0.000603  \n",
       "1     0.029293  0.005592  0.007113  0.006032  0.030959  0.016012  0.014921  \n",
       "2     0.028271  0.002103  0.028489  0.003087  0.002619  0.012991  0.001955  \n",
       "3     0.009338  0.003348  0.007391  0.001788  0.003293  0.025259  0.015452  \n",
       "4     0.006692  0.005013  0.020604  0.036756  0.016701  0.003415  0.008411  \n",
       "...        ...       ...       ...       ...       ...       ...       ...  \n",
       "3487  0.014436  0.018465  1.000000  0.191710  0.025678  0.022279  0.020921  \n",
       "3488  0.018072  0.017672  0.191710  1.000000  0.018912  0.025898  0.005283  \n",
       "3489  0.013752  0.059230  0.025678  0.018912  1.000000  0.000361  0.006468  \n",
       "3490  0.002664  0.021818  0.022279  0.025898  0.000361  1.000000  0.003337  \n",
       "3491  0.004894  0.016529  0.020921  0.005283  0.006468  0.003337  1.000000  \n",
       "\n",
       "[3492 rows x 3492 columns]"
      ]
     },
     "execution_count": 10,
     "metadata": {},
     "output_type": "execute_result"
    }
   ],
   "source": [
    "import pandas as pd\n",
    "\n",
    "df = pd.DataFrame(similarity_table)\n",
    "df"
   ]
  },
  {
   "cell_type": "markdown",
   "metadata": {},
   "source": [
    "A případně si vyříznout jen část tabulky jako náhled (zde vzájemné podobnosti mezi prvními deseti dokumenty):"
   ]
  },
  {
   "cell_type": "code",
   "execution_count": 11,
   "metadata": {},
   "outputs": [
    {
     "data": {
      "text/html": [
       "<div>\n",
       "<style scoped>\n",
       "    .dataframe tbody tr th:only-of-type {\n",
       "        vertical-align: middle;\n",
       "    }\n",
       "\n",
       "    .dataframe tbody tr th {\n",
       "        vertical-align: top;\n",
       "    }\n",
       "\n",
       "    .dataframe thead th {\n",
       "        text-align: right;\n",
       "    }\n",
       "</style>\n",
       "<table border=\"1\" class=\"dataframe\">\n",
       "  <thead>\n",
       "    <tr style=\"text-align: right;\">\n",
       "      <th></th>\n",
       "      <th>0</th>\n",
       "      <th>1</th>\n",
       "      <th>2</th>\n",
       "      <th>3</th>\n",
       "      <th>4</th>\n",
       "      <th>5</th>\n",
       "      <th>6</th>\n",
       "      <th>7</th>\n",
       "      <th>8</th>\n",
       "      <th>9</th>\n",
       "    </tr>\n",
       "  </thead>\n",
       "  <tbody>\n",
       "    <tr>\n",
       "      <th>0</th>\n",
       "      <td>1.000000</td>\n",
       "      <td>0.023566</td>\n",
       "      <td>0.030974</td>\n",
       "      <td>0.006135</td>\n",
       "      <td>0.048488</td>\n",
       "      <td>0.014640</td>\n",
       "      <td>0.001964</td>\n",
       "      <td>0.004974</td>\n",
       "      <td>0.034417</td>\n",
       "      <td>0.007292</td>\n",
       "    </tr>\n",
       "    <tr>\n",
       "      <th>1</th>\n",
       "      <td>0.023566</td>\n",
       "      <td>1.000000</td>\n",
       "      <td>0.011314</td>\n",
       "      <td>0.017849</td>\n",
       "      <td>0.005569</td>\n",
       "      <td>0.007815</td>\n",
       "      <td>0.015914</td>\n",
       "      <td>0.007599</td>\n",
       "      <td>0.008650</td>\n",
       "      <td>0.016335</td>\n",
       "    </tr>\n",
       "    <tr>\n",
       "      <th>2</th>\n",
       "      <td>0.030974</td>\n",
       "      <td>0.011314</td>\n",
       "      <td>1.000000</td>\n",
       "      <td>0.002780</td>\n",
       "      <td>0.013671</td>\n",
       "      <td>0.006871</td>\n",
       "      <td>0.011316</td>\n",
       "      <td>0.005081</td>\n",
       "      <td>0.034592</td>\n",
       "      <td>0.008189</td>\n",
       "    </tr>\n",
       "    <tr>\n",
       "      <th>3</th>\n",
       "      <td>0.006135</td>\n",
       "      <td>0.017849</td>\n",
       "      <td>0.002780</td>\n",
       "      <td>1.000000</td>\n",
       "      <td>0.007520</td>\n",
       "      <td>0.013662</td>\n",
       "      <td>0.002640</td>\n",
       "      <td>0.006594</td>\n",
       "      <td>0.003020</td>\n",
       "      <td>0.008687</td>\n",
       "    </tr>\n",
       "    <tr>\n",
       "      <th>4</th>\n",
       "      <td>0.048488</td>\n",
       "      <td>0.005569</td>\n",
       "      <td>0.013671</td>\n",
       "      <td>0.007520</td>\n",
       "      <td>1.000000</td>\n",
       "      <td>0.027734</td>\n",
       "      <td>0.006407</td>\n",
       "      <td>0.010601</td>\n",
       "      <td>0.006067</td>\n",
       "      <td>0.008334</td>\n",
       "    </tr>\n",
       "    <tr>\n",
       "      <th>5</th>\n",
       "      <td>0.014640</td>\n",
       "      <td>0.007815</td>\n",
       "      <td>0.006871</td>\n",
       "      <td>0.013662</td>\n",
       "      <td>0.027734</td>\n",
       "      <td>1.000000</td>\n",
       "      <td>0.008127</td>\n",
       "      <td>0.003067</td>\n",
       "      <td>0.001164</td>\n",
       "      <td>0.005920</td>\n",
       "    </tr>\n",
       "    <tr>\n",
       "      <th>6</th>\n",
       "      <td>0.001964</td>\n",
       "      <td>0.015914</td>\n",
       "      <td>0.011316</td>\n",
       "      <td>0.002640</td>\n",
       "      <td>0.006407</td>\n",
       "      <td>0.008127</td>\n",
       "      <td>1.000000</td>\n",
       "      <td>0.007783</td>\n",
       "      <td>0.026696</td>\n",
       "      <td>0.014562</td>\n",
       "    </tr>\n",
       "    <tr>\n",
       "      <th>7</th>\n",
       "      <td>0.004974</td>\n",
       "      <td>0.007599</td>\n",
       "      <td>0.005081</td>\n",
       "      <td>0.006594</td>\n",
       "      <td>0.010601</td>\n",
       "      <td>0.003067</td>\n",
       "      <td>0.007783</td>\n",
       "      <td>1.000000</td>\n",
       "      <td>0.005986</td>\n",
       "      <td>0.019910</td>\n",
       "    </tr>\n",
       "    <tr>\n",
       "      <th>8</th>\n",
       "      <td>0.034417</td>\n",
       "      <td>0.008650</td>\n",
       "      <td>0.034592</td>\n",
       "      <td>0.003020</td>\n",
       "      <td>0.006067</td>\n",
       "      <td>0.001164</td>\n",
       "      <td>0.026696</td>\n",
       "      <td>0.005986</td>\n",
       "      <td>1.000000</td>\n",
       "      <td>0.020656</td>\n",
       "    </tr>\n",
       "    <tr>\n",
       "      <th>9</th>\n",
       "      <td>0.007292</td>\n",
       "      <td>0.016335</td>\n",
       "      <td>0.008189</td>\n",
       "      <td>0.008687</td>\n",
       "      <td>0.008334</td>\n",
       "      <td>0.005920</td>\n",
       "      <td>0.014562</td>\n",
       "      <td>0.019910</td>\n",
       "      <td>0.020656</td>\n",
       "      <td>1.000000</td>\n",
       "    </tr>\n",
       "  </tbody>\n",
       "</table>\n",
       "</div>"
      ],
      "text/plain": [
       "          0         1         2         3         4         5         6  \\\n",
       "0  1.000000  0.023566  0.030974  0.006135  0.048488  0.014640  0.001964   \n",
       "1  0.023566  1.000000  0.011314  0.017849  0.005569  0.007815  0.015914   \n",
       "2  0.030974  0.011314  1.000000  0.002780  0.013671  0.006871  0.011316   \n",
       "3  0.006135  0.017849  0.002780  1.000000  0.007520  0.013662  0.002640   \n",
       "4  0.048488  0.005569  0.013671  0.007520  1.000000  0.027734  0.006407   \n",
       "5  0.014640  0.007815  0.006871  0.013662  0.027734  1.000000  0.008127   \n",
       "6  0.001964  0.015914  0.011316  0.002640  0.006407  0.008127  1.000000   \n",
       "7  0.004974  0.007599  0.005081  0.006594  0.010601  0.003067  0.007783   \n",
       "8  0.034417  0.008650  0.034592  0.003020  0.006067  0.001164  0.026696   \n",
       "9  0.007292  0.016335  0.008189  0.008687  0.008334  0.005920  0.014562   \n",
       "\n",
       "          7         8         9  \n",
       "0  0.004974  0.034417  0.007292  \n",
       "1  0.007599  0.008650  0.016335  \n",
       "2  0.005081  0.034592  0.008189  \n",
       "3  0.006594  0.003020  0.008687  \n",
       "4  0.010601  0.006067  0.008334  \n",
       "5  0.003067  0.001164  0.005920  \n",
       "6  0.007783  0.026696  0.014562  \n",
       "7  1.000000  0.005986  0.019910  \n",
       "8  0.005986  1.000000  0.020656  \n",
       "9  0.019910  0.020656  1.000000  "
      ]
     },
     "execution_count": 11,
     "metadata": {},
     "output_type": "execute_result"
    }
   ],
   "source": [
    "df.iloc[:10, :10]"
   ]
  },
  {
   "cell_type": "markdown",
   "metadata": {},
   "source": [
    "# Nevýhody for-cyklů v Pythonu\n",
    "\n",
    "Co tím získáme? For-cykly v Pythonu jsou relativně pomalé. Python je tzv. dynamický jazyk, jakákoli proměnná může obsahovat jakoukoli hodnotu -- číslo, řetězec, kolekci... Takže při jakýchkoli operacích musí Python nejprve zkontrolovat, o jaký typ hodnoty se jedná, jestli danou operaci podporuje atp., než se operaci vůbec pokusí vykonat.\n",
    "\n",
    "Ve for-cyklu se zátěž těchhle kontrol nasčítá. Přitom v běžných případech obsahují proměnné v různých opakováních for-cyklu vždycky stejné typy hodnot (např. ve `for i in range(100): ...` bude `i` vždy číslo), takže ideální by bylo, kdyby si Python ve for-cyklu mohl tyhle kontroly ušetřit, respektive odbýt jen jednou hned napoprvé a při dalších opakováních už se spolehnout na to, že `i` bude vždy číslo a jde s ním tedy např. sčítat.\n",
    "\n",
    "Jenže v praxi se na to spolehnout nelze, nic nám totiž nebrání napsat třeba takovýhle kód, kde se v jednom bodě typ hodnoty v proměnné `i` najednou změní:"
   ]
  },
  {
   "cell_type": "code",
   "execution_count": 12,
   "metadata": {
    "tags": [
     "raises-exception"
    ]
   },
   "outputs": [
    {
     "name": "stdout",
     "output_type": "stream",
     "text": [
      "0\n",
      "1\n",
      "4\n",
      "9\n",
      "16\n",
      "25\n"
     ]
    },
    {
     "ename": "TypeError",
     "evalue": "unsupported operand type(s) for ** or pow(): 'str' and 'int'",
     "output_type": "error",
     "traceback": [
      "\u001b[0;31m---------------------------------------------------------------------------\u001b[0m",
      "\u001b[0;31mTypeError\u001b[0m                                 Traceback (most recent call last)",
      "\u001b[0;32m<ipython-input-12-5b8a42cefc5d>\u001b[0m in \u001b[0;36m<module>\u001b[0;34m\u001b[0m\n\u001b[1;32m      2\u001b[0m     \u001b[0;32mif\u001b[0m \u001b[0mi\u001b[0m \u001b[0;34m>\u001b[0m \u001b[0;36m5\u001b[0m\u001b[0;34m:\u001b[0m\u001b[0;34m\u001b[0m\u001b[0;34m\u001b[0m\u001b[0m\n\u001b[1;32m      3\u001b[0m         \u001b[0mi\u001b[0m \u001b[0;34m=\u001b[0m \u001b[0mstr\u001b[0m\u001b[0;34m(\u001b[0m\u001b[0mi\u001b[0m\u001b[0;34m)\u001b[0m\u001b[0;34m\u001b[0m\u001b[0;34m\u001b[0m\u001b[0m\n\u001b[0;32m----> 4\u001b[0;31m     \u001b[0mprint\u001b[0m\u001b[0;34m(\u001b[0m\u001b[0mi\u001b[0m\u001b[0;34m**\u001b[0m\u001b[0;36m2\u001b[0m\u001b[0;34m)\u001b[0m\u001b[0;34m\u001b[0m\u001b[0;34m\u001b[0m\u001b[0m\n\u001b[0m",
      "\u001b[0;31mTypeError\u001b[0m: unsupported operand type(s) for ** or pow(): 'str' and 'int'"
     ]
    }
   ],
   "source": [
    "for i in range(10):\n",
    "    if i > 5:\n",
    "        i = str(i)\n",
    "    print(i**2)"
   ]
  },
  {
   "cell_type": "markdown",
   "metadata": {},
   "source": [
    "Takže Pythonu nezbývá, než to všechno hlídat pokaždé. Nemůže jen tak slepě doufat, že když v `i` bylo jednou číslo, bude v ní číslo pokaždé, a tudíž rovnou provést operaci `i**2`. Musí typ `i` pokaždé zkontrolovat, aby mohl v případě nesrovnalosti vyhodit příslušnou chybu (viz výše).\n",
    "\n",
    "# Vektorizace: hromadné operace bez for-cyklů\n",
    "\n",
    "Naštěstí existují způsoby, jak tento typ hromadného repetitivního zpracování dat v Pythonu urychlit. Např. právě pomocí knihovny `numpy` se můžeme for-cyklům úplně vyhnout: data ukládáme do homogenních polí, která (většinou) obsahují stejné typy hodnot, a aplikujeme na ně tzv. vektorizované operace:"
   ]
  },
  {
   "cell_type": "code",
   "execution_count": 13,
   "metadata": {},
   "outputs": [
    {
     "data": {
      "text/plain": [
       "array([0, 1, 2, 3, 4, 5, 6, 7, 8, 9])"
      ]
     },
     "execution_count": 13,
     "metadata": {},
     "output_type": "execute_result"
    }
   ],
   "source": [
    "pole = np.arange(10)\n",
    "pole"
   ]
  },
  {
   "cell_type": "code",
   "execution_count": 14,
   "metadata": {},
   "outputs": [
    {
     "data": {
      "text/plain": [
       "10"
      ]
     },
     "execution_count": 14,
     "metadata": {},
     "output_type": "execute_result"
    }
   ],
   "source": [
    "# normální součet\n",
    "0 + 10"
   ]
  },
  {
   "cell_type": "code",
   "execution_count": 15,
   "metadata": {},
   "outputs": [
    {
     "data": {
      "text/plain": [
       "array([10, 11, 12, 13, 14, 15, 16, 17, 18, 19])"
      ]
     },
     "execution_count": 15,
     "metadata": {},
     "output_type": "execute_result"
    }
   ],
   "source": [
    "# vektorizovaný součet\n",
    "pole + 10"
   ]
  },
  {
   "cell_type": "markdown",
   "metadata": {},
   "source": [
    "Vektorizované operace se aplikují na všechny prvky pole najednou, takže kontrolu kompatibility typů před provedením operace v tomto případě stačí skutečně provést jen jednou. Python si v příkladu výše ohlídá, že celé pole je číselné a přičítáme k němu číslo, a pak operaci provede ve zrychleném režimu, kdy nemusí kontrolu znovu opakovat pro každé individuální číslo v poli, jako by to musel dělat ve for-cyklu.\n",
    "\n",
    "# Nevýhody vektorizace\n",
    "\n",
    "Jaké má tento přístup naopak nevýhody? Např. tu, že je potřeba kompletní data načíst do paměti najednou, aby s nimi šlo manipulovat naráz. Vnořené for-cykly pracovaly s jednou hodnotou po druhé, což zabírá velmi málo paměti. Naopak s tímto přístupem se nám může snadno stát, že u velkého korpusu nebudeme schopni celou tabulku ani vytvořit. V takovém případě by pak mělo smysl zvolit kompromis a zpracovávat data v nějakých rozumně velkých várkách. Pak nám sice jeden vnější for-cyklus zbyde, ale každé jeho opakování zpracuje celou várku hodnot, čímž si pořád nějaký čas ušetříme.\n",
    "\n",
    "Další nevýhodou pochopitelně je, že vektorizované programování vyžaduje cvik a kreativitu, není vždy snadné a přímočaré \"normální\" program přeložit do vektorizované podoby. A v jistém smyslu je výsledný kód hůře čitelný a srozumitelný než staré dobré for-cykly, byť jde samozřejmě do jisté míry o zvyk.\n",
    "\n",
    "# Vektorizovaný algoritmus deduplikace\n",
    "\n",
    "## Nástin\n",
    "\n",
    "Když teď tedy máme kompletní tabulku podobností, jakým způsobem bychom ji mohli pomocí těchto globálních vektorizovaných operací přetavit v sérii identifikátorů dokumentů k ponechání či odstranění? Nabízím následující řešení (možná to jde i jednodušeji?) -- připomeňme si ještě jednou, jak tabulka vypadá:"
   ]
  },
  {
   "cell_type": "code",
   "execution_count": 16,
   "metadata": {},
   "outputs": [
    {
     "data": {
      "text/html": [
       "<div>\n",
       "<style scoped>\n",
       "    .dataframe tbody tr th:only-of-type {\n",
       "        vertical-align: middle;\n",
       "    }\n",
       "\n",
       "    .dataframe tbody tr th {\n",
       "        vertical-align: top;\n",
       "    }\n",
       "\n",
       "    .dataframe thead th {\n",
       "        text-align: right;\n",
       "    }\n",
       "</style>\n",
       "<table border=\"1\" class=\"dataframe\">\n",
       "  <thead>\n",
       "    <tr style=\"text-align: right;\">\n",
       "      <th></th>\n",
       "      <th>0</th>\n",
       "      <th>1</th>\n",
       "      <th>2</th>\n",
       "      <th>3</th>\n",
       "      <th>4</th>\n",
       "      <th>5</th>\n",
       "      <th>6</th>\n",
       "      <th>7</th>\n",
       "      <th>8</th>\n",
       "      <th>9</th>\n",
       "    </tr>\n",
       "  </thead>\n",
       "  <tbody>\n",
       "    <tr>\n",
       "      <th>0</th>\n",
       "      <td>1.000000</td>\n",
       "      <td>0.023566</td>\n",
       "      <td>0.030974</td>\n",
       "      <td>0.006135</td>\n",
       "      <td>0.048488</td>\n",
       "      <td>0.014640</td>\n",
       "      <td>0.001964</td>\n",
       "      <td>0.004974</td>\n",
       "      <td>0.034417</td>\n",
       "      <td>0.007292</td>\n",
       "    </tr>\n",
       "    <tr>\n",
       "      <th>1</th>\n",
       "      <td>0.023566</td>\n",
       "      <td>1.000000</td>\n",
       "      <td>0.011314</td>\n",
       "      <td>0.017849</td>\n",
       "      <td>0.005569</td>\n",
       "      <td>0.007815</td>\n",
       "      <td>0.015914</td>\n",
       "      <td>0.007599</td>\n",
       "      <td>0.008650</td>\n",
       "      <td>0.016335</td>\n",
       "    </tr>\n",
       "    <tr>\n",
       "      <th>2</th>\n",
       "      <td>0.030974</td>\n",
       "      <td>0.011314</td>\n",
       "      <td>1.000000</td>\n",
       "      <td>0.002780</td>\n",
       "      <td>0.013671</td>\n",
       "      <td>0.006871</td>\n",
       "      <td>0.011316</td>\n",
       "      <td>0.005081</td>\n",
       "      <td>0.034592</td>\n",
       "      <td>0.008189</td>\n",
       "    </tr>\n",
       "    <tr>\n",
       "      <th>3</th>\n",
       "      <td>0.006135</td>\n",
       "      <td>0.017849</td>\n",
       "      <td>0.002780</td>\n",
       "      <td>1.000000</td>\n",
       "      <td>0.007520</td>\n",
       "      <td>0.013662</td>\n",
       "      <td>0.002640</td>\n",
       "      <td>0.006594</td>\n",
       "      <td>0.003020</td>\n",
       "      <td>0.008687</td>\n",
       "    </tr>\n",
       "    <tr>\n",
       "      <th>4</th>\n",
       "      <td>0.048488</td>\n",
       "      <td>0.005569</td>\n",
       "      <td>0.013671</td>\n",
       "      <td>0.007520</td>\n",
       "      <td>1.000000</td>\n",
       "      <td>0.027734</td>\n",
       "      <td>0.006407</td>\n",
       "      <td>0.010601</td>\n",
       "      <td>0.006067</td>\n",
       "      <td>0.008334</td>\n",
       "    </tr>\n",
       "    <tr>\n",
       "      <th>5</th>\n",
       "      <td>0.014640</td>\n",
       "      <td>0.007815</td>\n",
       "      <td>0.006871</td>\n",
       "      <td>0.013662</td>\n",
       "      <td>0.027734</td>\n",
       "      <td>1.000000</td>\n",
       "      <td>0.008127</td>\n",
       "      <td>0.003067</td>\n",
       "      <td>0.001164</td>\n",
       "      <td>0.005920</td>\n",
       "    </tr>\n",
       "    <tr>\n",
       "      <th>6</th>\n",
       "      <td>0.001964</td>\n",
       "      <td>0.015914</td>\n",
       "      <td>0.011316</td>\n",
       "      <td>0.002640</td>\n",
       "      <td>0.006407</td>\n",
       "      <td>0.008127</td>\n",
       "      <td>1.000000</td>\n",
       "      <td>0.007783</td>\n",
       "      <td>0.026696</td>\n",
       "      <td>0.014562</td>\n",
       "    </tr>\n",
       "    <tr>\n",
       "      <th>7</th>\n",
       "      <td>0.004974</td>\n",
       "      <td>0.007599</td>\n",
       "      <td>0.005081</td>\n",
       "      <td>0.006594</td>\n",
       "      <td>0.010601</td>\n",
       "      <td>0.003067</td>\n",
       "      <td>0.007783</td>\n",
       "      <td>1.000000</td>\n",
       "      <td>0.005986</td>\n",
       "      <td>0.019910</td>\n",
       "    </tr>\n",
       "    <tr>\n",
       "      <th>8</th>\n",
       "      <td>0.034417</td>\n",
       "      <td>0.008650</td>\n",
       "      <td>0.034592</td>\n",
       "      <td>0.003020</td>\n",
       "      <td>0.006067</td>\n",
       "      <td>0.001164</td>\n",
       "      <td>0.026696</td>\n",
       "      <td>0.005986</td>\n",
       "      <td>1.000000</td>\n",
       "      <td>0.020656</td>\n",
       "    </tr>\n",
       "    <tr>\n",
       "      <th>9</th>\n",
       "      <td>0.007292</td>\n",
       "      <td>0.016335</td>\n",
       "      <td>0.008189</td>\n",
       "      <td>0.008687</td>\n",
       "      <td>0.008334</td>\n",
       "      <td>0.005920</td>\n",
       "      <td>0.014562</td>\n",
       "      <td>0.019910</td>\n",
       "      <td>0.020656</td>\n",
       "      <td>1.000000</td>\n",
       "    </tr>\n",
       "  </tbody>\n",
       "</table>\n",
       "</div>"
      ],
      "text/plain": [
       "          0         1         2         3         4         5         6  \\\n",
       "0  1.000000  0.023566  0.030974  0.006135  0.048488  0.014640  0.001964   \n",
       "1  0.023566  1.000000  0.011314  0.017849  0.005569  0.007815  0.015914   \n",
       "2  0.030974  0.011314  1.000000  0.002780  0.013671  0.006871  0.011316   \n",
       "3  0.006135  0.017849  0.002780  1.000000  0.007520  0.013662  0.002640   \n",
       "4  0.048488  0.005569  0.013671  0.007520  1.000000  0.027734  0.006407   \n",
       "5  0.014640  0.007815  0.006871  0.013662  0.027734  1.000000  0.008127   \n",
       "6  0.001964  0.015914  0.011316  0.002640  0.006407  0.008127  1.000000   \n",
       "7  0.004974  0.007599  0.005081  0.006594  0.010601  0.003067  0.007783   \n",
       "8  0.034417  0.008650  0.034592  0.003020  0.006067  0.001164  0.026696   \n",
       "9  0.007292  0.016335  0.008189  0.008687  0.008334  0.005920  0.014562   \n",
       "\n",
       "          7         8         9  \n",
       "0  0.004974  0.034417  0.007292  \n",
       "1  0.007599  0.008650  0.016335  \n",
       "2  0.005081  0.034592  0.008189  \n",
       "3  0.006594  0.003020  0.008687  \n",
       "4  0.010601  0.006067  0.008334  \n",
       "5  0.003067  0.001164  0.005920  \n",
       "6  0.007783  0.026696  0.014562  \n",
       "7  1.000000  0.005986  0.019910  \n",
       "8  0.005986  1.000000  0.020656  \n",
       "9  0.019910  0.020656  1.000000  "
      ]
     },
     "execution_count": 16,
     "metadata": {},
     "output_type": "execute_result"
    }
   ],
   "source": [
    "df.iloc[:10, :10]"
   ]
  },
  {
   "cell_type": "markdown",
   "metadata": {},
   "source": [
    "Diagonála s hodnotami pro shodu dokumentu se sebou samým ($\\approx 1$) představuje osu symetrie hodnot: podobnost dokumentu 5 s dokumentem 1 je stejná jako podobnost dokumentu 1 s dokumentem 5. První z nich je pod diagonálou, druhá nad diagonálou, a jestli je ta hodnota větší než 0.9, tak považujeme dokumenty 1 a 5 za duplikáty.\n",
    "\n",
    "Jenže kdybychom odfiltrovali všechny řádky, které obsahují hodnoty $\\gt 0.9$, tak bychom z výsledného korpusu vyhodili jak dokument 1, tak dokument 5, a z této duplicitní sady by tedy v datech nezbyla ani jedna položka, což nechceme. Podle zadání chceme v korpusu první ze sady zanechat (1) a další vyhodit (5). Jak toho docílit?\n",
    "\n",
    "Můžeme využít té symetrie a trojúhelník nad diagonálou \"zahodit\". Tím nepřijdeme o žádné informace -- je v něm zrcadlově totéž co pod diagonálou -- ale tabulku převedeme do podoby, kde pro každý dokument budeme v jeho řádku mít hodnoty podobnosti jen pro dokumenty, které mu v korpusu předcházejí.\n",
    "\n",
    "Např. v řádku pro dokument 1 bude jen podobnost s dokumentem 0 -- ostatní už jsou v tabulce nad diagonálou, takže budou vynulované. Tím pádem na podobnost s dokumentem 5 nenarazíme, a tudíž dokument 1 na jejím základě ani nevyřadíme. Naopak u dokumentu 5 bude součástí řádku i podobnost s dříve se vyskytujícím dokumentem 1, takže ten už při hodnotě $\\gt 0.9$ vyřadíme.\n",
    "\n",
    "## Vizualizovaný příklad\n",
    "\n",
    "Ukažme si to vizuálně na uměle vytvořeném příkladu. V původní verzi tabulky podobností je v každém řádku minimálně jedna hodnota $\\gt 0.9$, a to na diagonále, a každá duplicita je vyznačena (viz červeně zvýrazněné buňky níže). V této podobě tedy nelze jako duplikáty jednoduše označit všechny řádky, které obsahují alespoň jednu hodnotu $\\gt 0.9$, protože to by platilo o všech."
   ]
  },
  {
   "cell_type": "code",
   "execution_count": 17,
   "metadata": {},
   "outputs": [
    {
     "data": {
      "text/html": [
       "<style  type=\"text/css\" >\n",
       "#T_daab7_row0_col0,#T_daab7_row1_col1,#T_daab7_row1_col5,#T_daab7_row2_col2,#T_daab7_row3_col3,#T_daab7_row4_col4,#T_daab7_row5_col1,#T_daab7_row5_col5,#T_daab7_row6_col6{\n",
       "            color:  red;\n",
       "        }</style><table id=\"T_daab7_\" ><thead>    <tr>        <th class=\"blank level0\" ></th>        <th class=\"col_heading level0 col0\" >0</th>        <th class=\"col_heading level0 col1\" >1</th>        <th class=\"col_heading level0 col2\" >2</th>        <th class=\"col_heading level0 col3\" >3</th>        <th class=\"col_heading level0 col4\" >4</th>        <th class=\"col_heading level0 col5\" >5</th>        <th class=\"col_heading level0 col6\" >6</th>    </tr></thead><tbody>\n",
       "                <tr>\n",
       "                        <th id=\"T_daab7_level0_row0\" class=\"row_heading level0 row0\" >0</th>\n",
       "                        <td id=\"T_daab7_row0_col0\" class=\"data row0 col0\" >1.000000</td>\n",
       "                        <td id=\"T_daab7_row0_col1\" class=\"data row0 col1\" >0.023798</td>\n",
       "                        <td id=\"T_daab7_row0_col2\" class=\"data row0 col2\" >0.030965</td>\n",
       "                        <td id=\"T_daab7_row0_col3\" class=\"data row0 col3\" >0.006136</td>\n",
       "                        <td id=\"T_daab7_row0_col4\" class=\"data row0 col4\" >0.048493</td>\n",
       "                        <td id=\"T_daab7_row0_col5\" class=\"data row0 col5\" >0.023798</td>\n",
       "                        <td id=\"T_daab7_row0_col6\" class=\"data row0 col6\" >0.014628</td>\n",
       "            </tr>\n",
       "            <tr>\n",
       "                        <th id=\"T_daab7_level0_row1\" class=\"row_heading level0 row1\" >1</th>\n",
       "                        <td id=\"T_daab7_row1_col0\" class=\"data row1 col0\" >0.023798</td>\n",
       "                        <td id=\"T_daab7_row1_col1\" class=\"data row1 col1\" >1.000000</td>\n",
       "                        <td id=\"T_daab7_row1_col2\" class=\"data row1 col2\" >0.011432</td>\n",
       "                        <td id=\"T_daab7_row1_col3\" class=\"data row1 col3\" >0.017971</td>\n",
       "                        <td id=\"T_daab7_row1_col4\" class=\"data row1 col4\" >0.005630</td>\n",
       "                        <td id=\"T_daab7_row1_col5\" class=\"data row1 col5\" >0.940000</td>\n",
       "                        <td id=\"T_daab7_row1_col6\" class=\"data row1 col6\" >0.007895</td>\n",
       "            </tr>\n",
       "            <tr>\n",
       "                        <th id=\"T_daab7_level0_row2\" class=\"row_heading level0 row2\" >2</th>\n",
       "                        <td id=\"T_daab7_row2_col0\" class=\"data row2 col0\" >0.030965</td>\n",
       "                        <td id=\"T_daab7_row2_col1\" class=\"data row2 col1\" >0.011432</td>\n",
       "                        <td id=\"T_daab7_row2_col2\" class=\"data row2 col2\" >1.000000</td>\n",
       "                        <td id=\"T_daab7_row2_col3\" class=\"data row2 col3\" >0.002782</td>\n",
       "                        <td id=\"T_daab7_row2_col4\" class=\"data row2 col4\" >0.013672</td>\n",
       "                        <td id=\"T_daab7_row2_col5\" class=\"data row2 col5\" >0.011432</td>\n",
       "                        <td id=\"T_daab7_row2_col6\" class=\"data row2 col6\" >0.006856</td>\n",
       "            </tr>\n",
       "            <tr>\n",
       "                        <th id=\"T_daab7_level0_row3\" class=\"row_heading level0 row3\" >3</th>\n",
       "                        <td id=\"T_daab7_row3_col0\" class=\"data row3 col0\" >0.006136</td>\n",
       "                        <td id=\"T_daab7_row3_col1\" class=\"data row3 col1\" >0.017971</td>\n",
       "                        <td id=\"T_daab7_row3_col2\" class=\"data row3 col2\" >0.002782</td>\n",
       "                        <td id=\"T_daab7_row3_col3\" class=\"data row3 col3\" >1.000000</td>\n",
       "                        <td id=\"T_daab7_row3_col4\" class=\"data row3 col4\" >0.007522</td>\n",
       "                        <td id=\"T_daab7_row3_col5\" class=\"data row3 col5\" >0.017971</td>\n",
       "                        <td id=\"T_daab7_row3_col6\" class=\"data row3 col6\" >0.013666</td>\n",
       "            </tr>\n",
       "            <tr>\n",
       "                        <th id=\"T_daab7_level0_row4\" class=\"row_heading level0 row4\" >4</th>\n",
       "                        <td id=\"T_daab7_row4_col0\" class=\"data row4 col0\" >0.048493</td>\n",
       "                        <td id=\"T_daab7_row4_col1\" class=\"data row4 col1\" >0.005630</td>\n",
       "                        <td id=\"T_daab7_row4_col2\" class=\"data row4 col2\" >0.013672</td>\n",
       "                        <td id=\"T_daab7_row4_col3\" class=\"data row4 col3\" >0.007522</td>\n",
       "                        <td id=\"T_daab7_row4_col4\" class=\"data row4 col4\" >1.000000</td>\n",
       "                        <td id=\"T_daab7_row4_col5\" class=\"data row4 col5\" >0.005630</td>\n",
       "                        <td id=\"T_daab7_row4_col6\" class=\"data row4 col6\" >0.027737</td>\n",
       "            </tr>\n",
       "            <tr>\n",
       "                        <th id=\"T_daab7_level0_row5\" class=\"row_heading level0 row5\" >5</th>\n",
       "                        <td id=\"T_daab7_row5_col0\" class=\"data row5 col0\" >0.023798</td>\n",
       "                        <td id=\"T_daab7_row5_col1\" class=\"data row5 col1\" >0.940000</td>\n",
       "                        <td id=\"T_daab7_row5_col2\" class=\"data row5 col2\" >0.011432</td>\n",
       "                        <td id=\"T_daab7_row5_col3\" class=\"data row5 col3\" >0.017971</td>\n",
       "                        <td id=\"T_daab7_row5_col4\" class=\"data row5 col4\" >0.005630</td>\n",
       "                        <td id=\"T_daab7_row5_col5\" class=\"data row5 col5\" >1.000000</td>\n",
       "                        <td id=\"T_daab7_row5_col6\" class=\"data row5 col6\" >0.007895</td>\n",
       "            </tr>\n",
       "            <tr>\n",
       "                        <th id=\"T_daab7_level0_row6\" class=\"row_heading level0 row6\" >6</th>\n",
       "                        <td id=\"T_daab7_row6_col0\" class=\"data row6 col0\" >0.014628</td>\n",
       "                        <td id=\"T_daab7_row6_col1\" class=\"data row6 col1\" >0.007895</td>\n",
       "                        <td id=\"T_daab7_row6_col2\" class=\"data row6 col2\" >0.006856</td>\n",
       "                        <td id=\"T_daab7_row6_col3\" class=\"data row6 col3\" >0.013666</td>\n",
       "                        <td id=\"T_daab7_row6_col4\" class=\"data row6 col4\" >0.027737</td>\n",
       "                        <td id=\"T_daab7_row6_col5\" class=\"data row6 col5\" >0.007895</td>\n",
       "                        <td id=\"T_daab7_row6_col6\" class=\"data row6 col6\" >1.000000</td>\n",
       "            </tr>\n",
       "    </tbody></table>"
      ],
      "text/plain": [
       "<pandas.io.formats.style.Styler at 0x7f58635e2b80>"
      ]
     },
     "execution_count": 17,
     "metadata": {},
     "output_type": "execute_result"
    }
   ],
   "source": [
    "ex1 = pd.DataFrame(\n",
    "      [[1.        , 0.0237979 , 0.03096479, 0.00613627, 0.04849318, 0.0237979 , 0.01462847],\n",
    "       [0.0237979 , 0.99999976, 0.01143176, 0.0179712 , 0.00563036, 0.94      , 0.00789504],\n",
    "       [0.03096479, 0.01143176, 1.0000001 , 0.00278166, 0.01367155, 0.01143176, 0.00685627],\n",
    "       [0.00613627, 0.0179712 , 0.00278166, 0.9999999 , 0.00752222, 0.0179712 , 0.01366599],\n",
    "       [0.04849318, 0.00563036, 0.01367155, 0.00752222, 0.9999998 , 0.00563036, 0.02773733],\n",
    "       [0.0237979 , 0.94      , 0.01143176, 0.0179712 , 0.00563036, 0.99999976, 0.00789504],\n",
    "       [0.01462847, 0.00789504, 0.00685627, 0.01366599, 0.02773733, 0.00789504, 1.        ]]\n",
    ")\n",
    "\n",
    "def hi_lo(val):\n",
    "    if val == 0:\n",
    "        return \"color: gray\"\n",
    "    elif val > 0.9:\n",
    "        return \"color: red\"\n",
    "    else:\n",
    "        return \"\"\n",
    "\n",
    "ex1.style.applymap(hi_lo)"
   ]
  },
  {
   "cell_type": "markdown",
   "metadata": {},
   "source": [
    "V praxi ale nemůžeme a ani nechceme ten vrchní trojúhelník jen tak zahodit -- celý princip `numpy` a vektorizace je postavený na práci s poli, které mají pravidelné rozměry. Ale můžeme ho vynulovat, což je pro naše účely ekvivalentní.\n",
    "\n",
    "Když se nám podaří vynulovat všechny hodnoty v tabulce od diagonály výš, tak nám v tabulce zbyde jediný řádek s hodnotou $\\gt 0.9$, a to řádek 5, který skutečně chceme vyřadit, jak jsme rozebrali výše:"
   ]
  },
  {
   "cell_type": "code",
   "execution_count": 18,
   "metadata": {},
   "outputs": [
    {
     "data": {
      "text/html": [
       "<style  type=\"text/css\" >\n",
       "#T_a6df7_row0_col0,#T_a6df7_row0_col1,#T_a6df7_row0_col2,#T_a6df7_row0_col3,#T_a6df7_row0_col4,#T_a6df7_row0_col5,#T_a6df7_row0_col6,#T_a6df7_row1_col1,#T_a6df7_row1_col2,#T_a6df7_row1_col3,#T_a6df7_row1_col4,#T_a6df7_row1_col5,#T_a6df7_row1_col6,#T_a6df7_row2_col2,#T_a6df7_row2_col3,#T_a6df7_row2_col4,#T_a6df7_row2_col5,#T_a6df7_row2_col6,#T_a6df7_row3_col3,#T_a6df7_row3_col4,#T_a6df7_row3_col5,#T_a6df7_row3_col6,#T_a6df7_row4_col4,#T_a6df7_row4_col5,#T_a6df7_row4_col6,#T_a6df7_row5_col5,#T_a6df7_row5_col6,#T_a6df7_row6_col6{\n",
       "            color:  gray;\n",
       "        }#T_a6df7_row5_col1{\n",
       "            color:  red;\n",
       "        }</style><table id=\"T_a6df7_\" ><thead>    <tr>        <th class=\"blank level0\" ></th>        <th class=\"col_heading level0 col0\" >0</th>        <th class=\"col_heading level0 col1\" >1</th>        <th class=\"col_heading level0 col2\" >2</th>        <th class=\"col_heading level0 col3\" >3</th>        <th class=\"col_heading level0 col4\" >4</th>        <th class=\"col_heading level0 col5\" >5</th>        <th class=\"col_heading level0 col6\" >6</th>    </tr></thead><tbody>\n",
       "                <tr>\n",
       "                        <th id=\"T_a6df7_level0_row0\" class=\"row_heading level0 row0\" >0</th>\n",
       "                        <td id=\"T_a6df7_row0_col0\" class=\"data row0 col0\" >0.000000</td>\n",
       "                        <td id=\"T_a6df7_row0_col1\" class=\"data row0 col1\" >0.000000</td>\n",
       "                        <td id=\"T_a6df7_row0_col2\" class=\"data row0 col2\" >0.000000</td>\n",
       "                        <td id=\"T_a6df7_row0_col3\" class=\"data row0 col3\" >0.000000</td>\n",
       "                        <td id=\"T_a6df7_row0_col4\" class=\"data row0 col4\" >0.000000</td>\n",
       "                        <td id=\"T_a6df7_row0_col5\" class=\"data row0 col5\" >0.000000</td>\n",
       "                        <td id=\"T_a6df7_row0_col6\" class=\"data row0 col6\" >0.000000</td>\n",
       "            </tr>\n",
       "            <tr>\n",
       "                        <th id=\"T_a6df7_level0_row1\" class=\"row_heading level0 row1\" >1</th>\n",
       "                        <td id=\"T_a6df7_row1_col0\" class=\"data row1 col0\" >0.023798</td>\n",
       "                        <td id=\"T_a6df7_row1_col1\" class=\"data row1 col1\" >0.000000</td>\n",
       "                        <td id=\"T_a6df7_row1_col2\" class=\"data row1 col2\" >0.000000</td>\n",
       "                        <td id=\"T_a6df7_row1_col3\" class=\"data row1 col3\" >0.000000</td>\n",
       "                        <td id=\"T_a6df7_row1_col4\" class=\"data row1 col4\" >0.000000</td>\n",
       "                        <td id=\"T_a6df7_row1_col5\" class=\"data row1 col5\" >0.000000</td>\n",
       "                        <td id=\"T_a6df7_row1_col6\" class=\"data row1 col6\" >0.000000</td>\n",
       "            </tr>\n",
       "            <tr>\n",
       "                        <th id=\"T_a6df7_level0_row2\" class=\"row_heading level0 row2\" >2</th>\n",
       "                        <td id=\"T_a6df7_row2_col0\" class=\"data row2 col0\" >0.030965</td>\n",
       "                        <td id=\"T_a6df7_row2_col1\" class=\"data row2 col1\" >0.011432</td>\n",
       "                        <td id=\"T_a6df7_row2_col2\" class=\"data row2 col2\" >0.000000</td>\n",
       "                        <td id=\"T_a6df7_row2_col3\" class=\"data row2 col3\" >0.000000</td>\n",
       "                        <td id=\"T_a6df7_row2_col4\" class=\"data row2 col4\" >0.000000</td>\n",
       "                        <td id=\"T_a6df7_row2_col5\" class=\"data row2 col5\" >0.000000</td>\n",
       "                        <td id=\"T_a6df7_row2_col6\" class=\"data row2 col6\" >0.000000</td>\n",
       "            </tr>\n",
       "            <tr>\n",
       "                        <th id=\"T_a6df7_level0_row3\" class=\"row_heading level0 row3\" >3</th>\n",
       "                        <td id=\"T_a6df7_row3_col0\" class=\"data row3 col0\" >0.006136</td>\n",
       "                        <td id=\"T_a6df7_row3_col1\" class=\"data row3 col1\" >0.017971</td>\n",
       "                        <td id=\"T_a6df7_row3_col2\" class=\"data row3 col2\" >0.002782</td>\n",
       "                        <td id=\"T_a6df7_row3_col3\" class=\"data row3 col3\" >0.000000</td>\n",
       "                        <td id=\"T_a6df7_row3_col4\" class=\"data row3 col4\" >0.000000</td>\n",
       "                        <td id=\"T_a6df7_row3_col5\" class=\"data row3 col5\" >0.000000</td>\n",
       "                        <td id=\"T_a6df7_row3_col6\" class=\"data row3 col6\" >0.000000</td>\n",
       "            </tr>\n",
       "            <tr>\n",
       "                        <th id=\"T_a6df7_level0_row4\" class=\"row_heading level0 row4\" >4</th>\n",
       "                        <td id=\"T_a6df7_row4_col0\" class=\"data row4 col0\" >0.048493</td>\n",
       "                        <td id=\"T_a6df7_row4_col1\" class=\"data row4 col1\" >0.005630</td>\n",
       "                        <td id=\"T_a6df7_row4_col2\" class=\"data row4 col2\" >0.013672</td>\n",
       "                        <td id=\"T_a6df7_row4_col3\" class=\"data row4 col3\" >0.007522</td>\n",
       "                        <td id=\"T_a6df7_row4_col4\" class=\"data row4 col4\" >0.000000</td>\n",
       "                        <td id=\"T_a6df7_row4_col5\" class=\"data row4 col5\" >0.000000</td>\n",
       "                        <td id=\"T_a6df7_row4_col6\" class=\"data row4 col6\" >0.000000</td>\n",
       "            </tr>\n",
       "            <tr>\n",
       "                        <th id=\"T_a6df7_level0_row5\" class=\"row_heading level0 row5\" >5</th>\n",
       "                        <td id=\"T_a6df7_row5_col0\" class=\"data row5 col0\" >0.023798</td>\n",
       "                        <td id=\"T_a6df7_row5_col1\" class=\"data row5 col1\" >0.940000</td>\n",
       "                        <td id=\"T_a6df7_row5_col2\" class=\"data row5 col2\" >0.011432</td>\n",
       "                        <td id=\"T_a6df7_row5_col3\" class=\"data row5 col3\" >0.017971</td>\n",
       "                        <td id=\"T_a6df7_row5_col4\" class=\"data row5 col4\" >0.005630</td>\n",
       "                        <td id=\"T_a6df7_row5_col5\" class=\"data row5 col5\" >0.000000</td>\n",
       "                        <td id=\"T_a6df7_row5_col6\" class=\"data row5 col6\" >0.000000</td>\n",
       "            </tr>\n",
       "            <tr>\n",
       "                        <th id=\"T_a6df7_level0_row6\" class=\"row_heading level0 row6\" >6</th>\n",
       "                        <td id=\"T_a6df7_row6_col0\" class=\"data row6 col0\" >0.014628</td>\n",
       "                        <td id=\"T_a6df7_row6_col1\" class=\"data row6 col1\" >0.007895</td>\n",
       "                        <td id=\"T_a6df7_row6_col2\" class=\"data row6 col2\" >0.006856</td>\n",
       "                        <td id=\"T_a6df7_row6_col3\" class=\"data row6 col3\" >0.013666</td>\n",
       "                        <td id=\"T_a6df7_row6_col4\" class=\"data row6 col4\" >0.027737</td>\n",
       "                        <td id=\"T_a6df7_row6_col5\" class=\"data row6 col5\" >0.007895</td>\n",
       "                        <td id=\"T_a6df7_row6_col6\" class=\"data row6 col6\" >0.000000</td>\n",
       "            </tr>\n",
       "    </tbody></table>"
      ],
      "text/plain": [
       "<pandas.io.formats.style.Styler at 0x7f589a0c35b0>"
      ]
     },
     "execution_count": 18,
     "metadata": {},
     "output_type": "execute_result"
    }
   ],
   "source": [
    "ex2 = pd.DataFrame(\n",
    "      [[0.        , 0.        , 0.        , 0.        , 0.        , 0.        , 0.],\n",
    "       [0.0237979 , 0.        , 0.        , 0.        , 0.        , 0.        , 0.],\n",
    "       [0.03096479, 0.01143176, 0.        , 0.        , 0.        , 0.        , 0.],\n",
    "       [0.00613627, 0.0179712 , 0.00278166, 0.        , 0.        , 0.        , 0.],\n",
    "       [0.04849318, 0.00563036, 0.01367155, 0.00752222, 0.        , 0.        , 0.],\n",
    "       [0.0237979 , 0.94      , 0.01143176, 0.0179712 , 0.00563036, 0.        , 0.],\n",
    "       [0.01462847, 0.00789504, 0.00685627, 0.01366599, 0.02773733, 0.00789504, 0.]]\n",
    ")\n",
    "ex2.style.applymap(hi_lo)"
   ]
  },
  {
   "cell_type": "markdown",
   "metadata": {},
   "source": [
    "# Implementace\n",
    "\n",
    "## Vynulování od diagonály dál\n",
    "\n",
    "Jak analogicky vynulovat tu naši tabulku, aniž bychom to pracně museli dělat ručně, nebo pomocí for-cyklu, čímž bychom se připravili o hlavní výhodu vektorizace -- rychlost?\n",
    "\n",
    "Stačí vytvořit pole o stejných rozměrech, které má pod diagonálou jedničky a všude jinde nuly, a tímto polem tu naši tabulku podobností vynásobit. Ve chvíli, kdy mají dvě pole stejné rozměry, zafunguje to jako \"maska\", tj. vynásobí se navzájem buňky na stejných pozicích."
   ]
  },
  {
   "cell_type": "code",
   "execution_count": 19,
   "metadata": {},
   "outputs": [
    {
     "data": {
      "text/plain": [
       "array([[1., 0., 0., 0., 0.],\n",
       "       [1., 1., 0., 0., 0.],\n",
       "       [1., 1., 1., 0., 0.],\n",
       "       [1., 1., 1., 1., 0.],\n",
       "       [1., 1., 1., 1., 1.]])"
      ]
     },
     "execution_count": 19,
     "metadata": {},
     "output_type": "execute_result"
    }
   ],
   "source": [
    "# takhle můžeme vytvořit tzv. trojúhelníkovou matici\n",
    "# o rozměru 5×5\n",
    "np.tri(5, 5)"
   ]
  },
  {
   "cell_type": "code",
   "execution_count": 20,
   "metadata": {},
   "outputs": [
    {
     "data": {
      "text/plain": [
       "array([[0., 0., 0., 0., 0.],\n",
       "       [1., 0., 0., 0., 0.],\n",
       "       [1., 1., 0., 0., 0.],\n",
       "       [1., 1., 1., 0., 0.],\n",
       "       [1., 1., 1., 1., 0.]])"
      ]
     },
     "execution_count": 20,
     "metadata": {},
     "output_type": "execute_result"
    }
   ],
   "source": [
    "# v našem případě chceme nuly i na hlavní diagonále,\n",
    "# takže hranici, kam až sahají jedničky, chceme posunout\n",
    "# o jednu pozici dolů, čehož docílíme tím třetím\n",
    "# argumentem -1\n",
    "np.tri(5, 5, -1)"
   ]
  },
  {
   "cell_type": "code",
   "execution_count": 21,
   "metadata": {},
   "outputs": [
    {
     "data": {
      "text/html": [
       "<div>\n",
       "<style scoped>\n",
       "    .dataframe tbody tr th:only-of-type {\n",
       "        vertical-align: middle;\n",
       "    }\n",
       "\n",
       "    .dataframe tbody tr th {\n",
       "        vertical-align: top;\n",
       "    }\n",
       "\n",
       "    .dataframe thead th {\n",
       "        text-align: right;\n",
       "    }\n",
       "</style>\n",
       "<table border=\"1\" class=\"dataframe\">\n",
       "  <thead>\n",
       "    <tr style=\"text-align: right;\">\n",
       "      <th></th>\n",
       "      <th>0</th>\n",
       "      <th>1</th>\n",
       "      <th>2</th>\n",
       "      <th>3</th>\n",
       "      <th>4</th>\n",
       "      <th>5</th>\n",
       "      <th>6</th>\n",
       "      <th>7</th>\n",
       "      <th>8</th>\n",
       "      <th>9</th>\n",
       "    </tr>\n",
       "  </thead>\n",
       "  <tbody>\n",
       "    <tr>\n",
       "      <th>0</th>\n",
       "      <td>0.000000</td>\n",
       "      <td>0.000000</td>\n",
       "      <td>0.000000</td>\n",
       "      <td>0.000000</td>\n",
       "      <td>0.000000</td>\n",
       "      <td>0.000000</td>\n",
       "      <td>0.000000</td>\n",
       "      <td>0.000000</td>\n",
       "      <td>0.000000</td>\n",
       "      <td>0.0</td>\n",
       "    </tr>\n",
       "    <tr>\n",
       "      <th>1</th>\n",
       "      <td>0.023566</td>\n",
       "      <td>0.000000</td>\n",
       "      <td>0.000000</td>\n",
       "      <td>0.000000</td>\n",
       "      <td>0.000000</td>\n",
       "      <td>0.000000</td>\n",
       "      <td>0.000000</td>\n",
       "      <td>0.000000</td>\n",
       "      <td>0.000000</td>\n",
       "      <td>0.0</td>\n",
       "    </tr>\n",
       "    <tr>\n",
       "      <th>2</th>\n",
       "      <td>0.030974</td>\n",
       "      <td>0.011314</td>\n",
       "      <td>0.000000</td>\n",
       "      <td>0.000000</td>\n",
       "      <td>0.000000</td>\n",
       "      <td>0.000000</td>\n",
       "      <td>0.000000</td>\n",
       "      <td>0.000000</td>\n",
       "      <td>0.000000</td>\n",
       "      <td>0.0</td>\n",
       "    </tr>\n",
       "    <tr>\n",
       "      <th>3</th>\n",
       "      <td>0.006135</td>\n",
       "      <td>0.017849</td>\n",
       "      <td>0.002780</td>\n",
       "      <td>0.000000</td>\n",
       "      <td>0.000000</td>\n",
       "      <td>0.000000</td>\n",
       "      <td>0.000000</td>\n",
       "      <td>0.000000</td>\n",
       "      <td>0.000000</td>\n",
       "      <td>0.0</td>\n",
       "    </tr>\n",
       "    <tr>\n",
       "      <th>4</th>\n",
       "      <td>0.048488</td>\n",
       "      <td>0.005569</td>\n",
       "      <td>0.013671</td>\n",
       "      <td>0.007520</td>\n",
       "      <td>0.000000</td>\n",
       "      <td>0.000000</td>\n",
       "      <td>0.000000</td>\n",
       "      <td>0.000000</td>\n",
       "      <td>0.000000</td>\n",
       "      <td>0.0</td>\n",
       "    </tr>\n",
       "    <tr>\n",
       "      <th>5</th>\n",
       "      <td>0.014640</td>\n",
       "      <td>0.007815</td>\n",
       "      <td>0.006871</td>\n",
       "      <td>0.013662</td>\n",
       "      <td>0.027734</td>\n",
       "      <td>0.000000</td>\n",
       "      <td>0.000000</td>\n",
       "      <td>0.000000</td>\n",
       "      <td>0.000000</td>\n",
       "      <td>0.0</td>\n",
       "    </tr>\n",
       "    <tr>\n",
       "      <th>6</th>\n",
       "      <td>0.001964</td>\n",
       "      <td>0.015914</td>\n",
       "      <td>0.011316</td>\n",
       "      <td>0.002640</td>\n",
       "      <td>0.006407</td>\n",
       "      <td>0.008127</td>\n",
       "      <td>0.000000</td>\n",
       "      <td>0.000000</td>\n",
       "      <td>0.000000</td>\n",
       "      <td>0.0</td>\n",
       "    </tr>\n",
       "    <tr>\n",
       "      <th>7</th>\n",
       "      <td>0.004974</td>\n",
       "      <td>0.007599</td>\n",
       "      <td>0.005081</td>\n",
       "      <td>0.006594</td>\n",
       "      <td>0.010601</td>\n",
       "      <td>0.003067</td>\n",
       "      <td>0.007783</td>\n",
       "      <td>0.000000</td>\n",
       "      <td>0.000000</td>\n",
       "      <td>0.0</td>\n",
       "    </tr>\n",
       "    <tr>\n",
       "      <th>8</th>\n",
       "      <td>0.034417</td>\n",
       "      <td>0.008650</td>\n",
       "      <td>0.034592</td>\n",
       "      <td>0.003020</td>\n",
       "      <td>0.006067</td>\n",
       "      <td>0.001164</td>\n",
       "      <td>0.026696</td>\n",
       "      <td>0.005986</td>\n",
       "      <td>0.000000</td>\n",
       "      <td>0.0</td>\n",
       "    </tr>\n",
       "    <tr>\n",
       "      <th>9</th>\n",
       "      <td>0.007292</td>\n",
       "      <td>0.016335</td>\n",
       "      <td>0.008189</td>\n",
       "      <td>0.008687</td>\n",
       "      <td>0.008334</td>\n",
       "      <td>0.005920</td>\n",
       "      <td>0.014562</td>\n",
       "      <td>0.019910</td>\n",
       "      <td>0.020656</td>\n",
       "      <td>0.0</td>\n",
       "    </tr>\n",
       "  </tbody>\n",
       "</table>\n",
       "</div>"
      ],
      "text/plain": [
       "          0         1         2         3         4         5         6  \\\n",
       "0  0.000000  0.000000  0.000000  0.000000  0.000000  0.000000  0.000000   \n",
       "1  0.023566  0.000000  0.000000  0.000000  0.000000  0.000000  0.000000   \n",
       "2  0.030974  0.011314  0.000000  0.000000  0.000000  0.000000  0.000000   \n",
       "3  0.006135  0.017849  0.002780  0.000000  0.000000  0.000000  0.000000   \n",
       "4  0.048488  0.005569  0.013671  0.007520  0.000000  0.000000  0.000000   \n",
       "5  0.014640  0.007815  0.006871  0.013662  0.027734  0.000000  0.000000   \n",
       "6  0.001964  0.015914  0.011316  0.002640  0.006407  0.008127  0.000000   \n",
       "7  0.004974  0.007599  0.005081  0.006594  0.010601  0.003067  0.007783   \n",
       "8  0.034417  0.008650  0.034592  0.003020  0.006067  0.001164  0.026696   \n",
       "9  0.007292  0.016335  0.008189  0.008687  0.008334  0.005920  0.014562   \n",
       "\n",
       "          7         8    9  \n",
       "0  0.000000  0.000000  0.0  \n",
       "1  0.000000  0.000000  0.0  \n",
       "2  0.000000  0.000000  0.0  \n",
       "3  0.000000  0.000000  0.0  \n",
       "4  0.000000  0.000000  0.0  \n",
       "5  0.000000  0.000000  0.0  \n",
       "6  0.000000  0.000000  0.0  \n",
       "7  0.000000  0.000000  0.0  \n",
       "8  0.005986  0.000000  0.0  \n",
       "9  0.019910  0.020656  0.0  "
      ]
     },
     "execution_count": 21,
     "metadata": {},
     "output_type": "execute_result"
    }
   ],
   "source": [
    "# analogickou trojúhelníkovou masku vytvoříme v rozměrech\n",
    "# odpovídajících tabulce podobností, a tabulku jí rovnou\n",
    "# přenásobíme\n",
    "similarity_table *= np.tri(*similarity_table.shape, -1)\n",
    "# numpy se snaží šetřit paměť, takže nové hodnoty přeuloží\n",
    "# na stejné místo v paměti, kde bylo původní pole; vzhledem\n",
    "# k tomu, že náš DataFrame je vlastně jen vylepšeným pohledem\n",
    "# na data v tomto původním poli, tak se změna rovnou promítne\n",
    "# i do něj\n",
    "df.iloc[:10, :10]"
   ]
  },
  {
   "cell_type": "markdown",
   "metadata": {},
   "source": [
    "## Identifikace řádků s podobnostmi $\\gt 0.9$\n",
    "\n",
    "Následně už si můžeme zjistit, kde jsou hodnoty podobnosti $\\gt 0.9$, protože víme, že každý pár vysoce podobných dokumentů na nás vyskočí jen jednou (protože zrcadlené hodnoty nad diagonálou jsme vynulovali). Operace znovu proběhne vektorizovaně pro celou tabulku naráz:"
   ]
  },
  {
   "cell_type": "code",
   "execution_count": 22,
   "metadata": {},
   "outputs": [
    {
     "data": {
      "text/plain": [
       "array([[False, False, False, ..., False, False, False],\n",
       "       [False, False, False, ..., False, False, False],\n",
       "       [False, False, False, ..., False, False, False],\n",
       "       ...,\n",
       "       [False, False, False, ..., False, False, False],\n",
       "       [False, False, False, ..., False, False, False],\n",
       "       [False, False, False, ..., False, False, False]])"
      ]
     },
     "execution_count": 22,
     "metadata": {},
     "output_type": "execute_result"
    }
   ],
   "source": [
    "similarity_table > .9"
   ]
  },
  {
   "cell_type": "markdown",
   "metadata": {},
   "source": [
    "Nás ale konkrétně zajímá, které *řádky* obsahují *alespoň jednu* hodnotu $\\gt 0.9$. To se můžeme dozvědět pomocí funkce `numpy.any()`, která dohledá, zda pole obsahuje nějakou hodnotu `True`:"
   ]
  },
  {
   "cell_type": "code",
   "execution_count": 23,
   "metadata": {},
   "outputs": [
    {
     "data": {
      "text/plain": [
       "True"
      ]
     },
     "execution_count": 23,
     "metadata": {},
     "output_type": "execute_result"
    }
   ],
   "source": [
    "np.any(similarity_table > .9)"
   ]
  },
  {
   "cell_type": "markdown",
   "metadata": {},
   "source": [
    "Hmm... Teď jsme se dozvěděli, že v celé tabulce je minimálně jedna hodnota $\\gt 0.9$. To je sice pěkné, ale pro náš aktuální úkol nepříliš užitečné. Jak vyjádřit, že nechceme jeden celkový výsledek pro celou tabulku, ale dílčí výsledek pro každý řádek?\n",
    "\n",
    "## Osy vícerozměrných polí a argument `axis`\n",
    "\n",
    "K tomu slouží argument `axis`, který specifikuje, po které ose se hodnoty procházejí. První osa (`axis=0`) odkazuje k řádkům, druhá (`axis=1`) ke sloupcům, což si lépe ověříme na matici, která není čtvercová:"
   ]
  },
  {
   "cell_type": "code",
   "execution_count": 24,
   "metadata": {},
   "outputs": [
    {
     "data": {
      "text/plain": [
       "array([[0.1 , 0.1 , 0.1 ],\n",
       "       [0.91, 0.1 , 0.1 ]])"
      ]
     },
     "execution_count": 24,
     "metadata": {},
     "output_type": "execute_result"
    }
   ],
   "source": [
    "arr = np.array([\n",
    "    [.1, .1, .1],\n",
    "    [.91, .1, .1]\n",
    "])\n",
    "arr"
   ]
  },
  {
   "cell_type": "code",
   "execution_count": 25,
   "metadata": {},
   "outputs": [
    {
     "data": {
      "text/plain": [
       "2"
      ]
     },
     "execution_count": 25,
     "metadata": {},
     "output_type": "execute_result"
    }
   ],
   "source": [
    "# počet os/dimenzí (\"number of dimensions\")\n",
    "arr.ndim"
   ]
  },
  {
   "cell_type": "code",
   "execution_count": 26,
   "metadata": {},
   "outputs": [
    {
     "data": {
      "text/plain": [
       "(2, 3)"
      ]
     },
     "execution_count": 26,
     "metadata": {},
     "output_type": "execute_result"
    }
   ],
   "source": [
    "# délky obou os/dimenzí\n",
    "arr.shape"
   ]
  },
  {
   "cell_type": "markdown",
   "metadata": {},
   "source": [
    "První osa jsou řádky, druhá sloupce, a skutečně máme v poli `arr` dva řádky a tři sloupce, takže to sedí.\n",
    "\n",
    "Podobně když chceme z matice vytáhnout jednu konkrétní hodnotu, tak je potřeba zadat dva indexy, a první zvolí řádek a druhý sloupec:"
   ]
  },
  {
   "cell_type": "code",
   "execution_count": 27,
   "metadata": {},
   "outputs": [
    {
     "data": {
      "text/plain": [
       "0.91"
      ]
     },
     "execution_count": 27,
     "metadata": {},
     "output_type": "execute_result"
    }
   ],
   "source": [
    "arr[1, 0]"
   ]
  },
  {
   "cell_type": "markdown",
   "metadata": {},
   "source": [
    "Tohle pořadí koneckonců naznačuje i reprezentace pole -- připomíná seznam seznamů, přičemž každý vnořený seznam je jeden řádek a obsahuje hodnoty pro jednotlivé sloupce."
   ]
  },
  {
   "cell_type": "code",
   "execution_count": 28,
   "metadata": {},
   "outputs": [
    {
     "data": {
      "text/plain": [
       "[[0.1, 0.1, 0.1], [0.91, 0.1, 0.1]]"
      ]
     },
     "execution_count": 28,
     "metadata": {},
     "output_type": "execute_result"
    }
   ],
   "source": [
    "lst = arr.tolist()\n",
    "lst"
   ]
  },
  {
   "cell_type": "markdown",
   "metadata": {},
   "source": [
    "Abychom z takového seznamu seznamů vytáhli jednu konkrétní hodnotu, musíme provést dvě indexační operace, přičemž první specifikuje řádek a druhá pak v rámci zvoleného řádku sloupec:"
   ]
  },
  {
   "cell_type": "code",
   "execution_count": 29,
   "metadata": {},
   "outputs": [
    {
     "data": {
      "text/plain": [
       "[0.91, 0.1, 0.1]"
      ]
     },
     "execution_count": 29,
     "metadata": {},
     "output_type": "execute_result"
    }
   ],
   "source": [
    "lst[1]"
   ]
  },
  {
   "cell_type": "code",
   "execution_count": 30,
   "metadata": {},
   "outputs": [
    {
     "data": {
      "text/plain": [
       "0.91"
      ]
     },
     "execution_count": 30,
     "metadata": {},
     "output_type": "execute_result"
    }
   ],
   "source": [
    "lst[1][0]"
   ]
  },
  {
   "cell_type": "markdown",
   "metadata": {},
   "source": [
    "A se stejným pořadím os počítají i argumenty `axis=...`. Vyskytují se u různých funkcí, kde se hodí mít možnost vybrat, ve kterém směru má vektorizace proběhnout.\n",
    "\n",
    "## Zmatky okolo sémantiky argumentu `axis`\n",
    "\n",
    "Jejich sémantika ale může být trochu matoucí. Mohlo by se zdát, že `axis=0` znamená, že se funkce aplikuje po řádcích a dostaneme tedy výsledek pro každý řádek, a `axis=1` zas vrátí výsledek pro každý sloupec. Jenže opak je pravdou:"
   ]
  },
  {
   "cell_type": "code",
   "execution_count": 31,
   "metadata": {},
   "outputs": [
    {
     "data": {
      "text/plain": [
       "array([ True, False, False])"
      ]
     },
     "execution_count": 31,
     "metadata": {},
     "output_type": "execute_result"
    }
   ],
   "source": [
    "# axis=0, tj. osa řádků, ale dostaneme tři výsledky,\n",
    "# jeden pro každý sloupec\n",
    "np.any(arr > .9, axis=0)"
   ]
  },
  {
   "cell_type": "code",
   "execution_count": 32,
   "metadata": {},
   "outputs": [
    {
     "data": {
      "text/plain": [
       "array([False,  True])"
      ]
     },
     "execution_count": 32,
     "metadata": {},
     "output_type": "execute_result"
    }
   ],
   "source": [
    "# axis=1, tj. osa sloupců, ale dostaneme dva výsledky,\n",
    "# jeden pro každý řádek\n",
    "np.any(arr > .9, axis=1)"
   ]
  },
  {
   "cell_type": "markdown",
   "metadata": {},
   "source": [
    "Jinými slovy -- člověk by možná čekal, že počet výsledků při aplikaci funkce po dané ose bude odpovídat délce osy, ale není tomu tak:"
   ]
  },
  {
   "cell_type": "code",
   "execution_count": 33,
   "metadata": {},
   "outputs": [
    {
     "name": "stdout",
     "output_type": "stream",
     "text": [
      "axis = 0, axis_len = 2, result_len = 3\n",
      "axis = 1, axis_len = 3, result_len = 2\n"
     ]
    }
   ],
   "source": [
    "for axis, axis_len in enumerate(arr.shape):\n",
    "    result_len = len(np.any(arr > .9, axis=axis))\n",
    "    print(f\"{axis = }, {axis_len = }, {result_len = }\")"
   ]
  },
  {
   "cell_type": "markdown",
   "metadata": {},
   "source": [
    "## Intuice za tím, proč argument `axis` funguje, jak funguje\n",
    "\n",
    "Jaká je tedy motivace za tím, že je to (z tohoto pohledu) naopak? Představme si to tak, že **řádky jsou sice horizontální, ale osa, která je popisuje, je na ně kolmá, tj. vertikální**, takže aplikovat funkci po směru této osy vlastně znamená aplikovat ji na sloupce.\n",
    "\n",
    "Nebo jiná mnemotechnická pomůcka: **argument `axis` specifikuje, kterou osu při operaci \"zploštit\", odstranit**. Takže pokud chceme výsledky po řádcích, nezadáme do argumentu `axis` osu řádků, ale osu sloupců, kterou tímto odstraníme / zploštíme. Můžeme si to znázornit třeba takto:"
   ]
  },
  {
   "cell_type": "code",
   "execution_count": 34,
   "metadata": {},
   "outputs": [
    {
     "name": "stdout",
     "output_type": "stream",
     "text": [
      "osy před operací: ['rows', 'columns']\n",
      "argument axis = 1 ukazuje na osu 'columns'\n",
      "  -> tato osa bude zploštěna / odstraněna\n",
      "osy po operaci: ['rows']\n"
     ]
    }
   ],
   "source": [
    "shape = [\"rows\", \"columns\"]\n",
    "print(f\"osy před operací: {shape}\")\n",
    "axis = 1\n",
    "print(f\"argument {axis = } ukazuje na osu {shape[axis]!r}\")\n",
    "print(\"  -> tato osa bude zploštěna / odstraněna\")\n",
    "shape.pop(axis)\n",
    "print(f\"osy po operaci: {shape}\")"
   ]
  },
  {
   "cell_type": "markdown",
   "metadata": {},
   "source": [
    "Když tuto úvahu generalizujeme i na více než dvourozměrná pole, tak je potřeba do argumentu `axis` zadat n-tici všch os, které nechceme ve výsledku zachovat, což bychom mohli formulovat např. takhle:"
   ]
  },
  {
   "cell_type": "code",
   "execution_count": 35,
   "metadata": {},
   "outputs": [
    {
     "name": "stdout",
     "output_type": "stream",
     "text": [
      "axis = 0, collapsed_axes = (1,) axis_len = 2, result_len = 2\n",
      "axis = 1, collapsed_axes = (0,) axis_len = 3, result_len = 3\n"
     ]
    }
   ],
   "source": [
    "for axis, axis_len in enumerate(arr.shape):\n",
    "    # n-tice všech os kromě té, kterou chceme ve výstupu zachovat\n",
    "    collapsed_axes = tuple(x for x in range(arr.ndim) if x != axis)\n",
    "    result_len = len(np.any(arr > .9, axis=collapsed_axes))\n",
    "    print(f\"{axis = }, {collapsed_axes = } {axis_len = }, {result_len = }\")"
   ]
  },
  {
   "cell_type": "markdown",
   "metadata": {},
   "source": [
    "Teď už hodnoty `axis_len` a `result_len` v rámci jednoho řádku sedí.\n",
    "\n",
    "## Pozor na záměnu os u čtvercových matic!\n",
    "\n",
    "Nejzáludnější je to u čtvercových matic jako je naše `similarity_table`, tam bude totiž počet výsledků stejný v obou směrech, ale v jednom z nich to budou úplně jiné výsledky, než jsme zamýšleli. Tak, jak jsme si tabulku připravili, nám výsledky po řádcích označují dokumenty k odstranění..."
   ]
  },
  {
   "cell_type": "code",
   "execution_count": 36,
   "metadata": {},
   "outputs": [
    {
     "data": {
      "text/plain": [
       "array([False, False, False, ..., False,  True, False])"
      ]
     },
     "execution_count": 36,
     "metadata": {},
     "output_type": "execute_result"
    }
   ],
   "source": [
    "np.any(similarity_table > .9, axis=1)"
   ]
  },
  {
   "cell_type": "markdown",
   "metadata": {},
   "source": [
    "... kdežto výsledky po sloupcích v našem kontextu nic užitečného neznamenají:"
   ]
  },
  {
   "cell_type": "code",
   "execution_count": 37,
   "metadata": {},
   "outputs": [
    {
     "data": {
      "text/plain": [
       "array([False, False, False, ..., False, False, False])"
      ]
     },
     "execution_count": 37,
     "metadata": {},
     "output_type": "execute_result"
    }
   ],
   "source": [
    "np.any(similarity_table > .9, axis=0)"
   ]
  },
  {
   "cell_type": "markdown",
   "metadata": {},
   "source": [
    "Výsledek můžeme dokonce sečíst, čímž získáme počet duplikátů:"
   ]
  },
  {
   "cell_type": "code",
   "execution_count": 38,
   "metadata": {},
   "outputs": [
    {
     "data": {
      "text/plain": [
       "305"
      ]
     },
     "execution_count": 38,
     "metadata": {},
     "output_type": "execute_result"
    }
   ],
   "source": [
    "sum(np.any(similarity_table > .9, axis=1))"
   ]
  },
  {
   "cell_type": "markdown",
   "metadata": {},
   "source": [
    "## Vektorizovaná negace a jiné logické operace\n",
    "\n",
    "Pro nás je ale možná snazší mít naopak seznam indexů dokumentů, které odstranit *nechceme*, protože na jeho základě pak bude snadné vybudovat pročištěný korpus. Takže reálně chceme předchozí výsledek znegovat. Jenže ouha, operátor `not`, který nás asi napadne, pro tyto účely použít nemůžeme:"
   ]
  },
  {
   "cell_type": "code",
   "execution_count": 39,
   "metadata": {
    "tags": [
     "raises-exception"
    ]
   },
   "outputs": [
    {
     "ename": "ValueError",
     "evalue": "The truth value of an array with more than one element is ambiguous. Use a.any() or a.all()",
     "output_type": "error",
     "traceback": [
      "\u001b[0;31m---------------------------------------------------------------------------\u001b[0m",
      "\u001b[0;31mValueError\u001b[0m                                Traceback (most recent call last)",
      "\u001b[0;32m<ipython-input-39-b9ffa4fdf5b9>\u001b[0m in \u001b[0;36m<module>\u001b[0;34m\u001b[0m\n\u001b[0;32m----> 1\u001b[0;31m \u001b[0;32mnot\u001b[0m \u001b[0mnp\u001b[0m\u001b[0;34m.\u001b[0m\u001b[0many\u001b[0m\u001b[0;34m(\u001b[0m\u001b[0msimilarity_table\u001b[0m \u001b[0;34m>\u001b[0m \u001b[0;36m.9\u001b[0m\u001b[0;34m,\u001b[0m \u001b[0maxis\u001b[0m\u001b[0;34m=\u001b[0m\u001b[0;36m1\u001b[0m\u001b[0;34m)\u001b[0m\u001b[0;34m\u001b[0m\u001b[0;34m\u001b[0m\u001b[0m\n\u001b[0m",
      "\u001b[0;31mValueError\u001b[0m: The truth value of an array with more than one element is ambiguous. Use a.any() or a.all()"
     ]
    }
   ],
   "source": [
    "not np.any(similarity_table > .9, axis=1)"
   ]
  },
  {
   "cell_type": "markdown",
   "metadata": {},
   "source": [
    "Je potěšitelné, že Python raději vyhodí chybu, než aby vyrobil nějakou nesmyslnou hodnotu, ale ta nápověda v tomto kontextu bohužel moc užitečná není -- `any()` už používáme.\n",
    "\n",
    "Jak tedy na to? Z technických důvodů nelze pro vektorizované logické operace používat běžné logické operátory `not`, `and` a `or`. V této roli je zastupují méně obvyklé operátory `~`, `&` a `|`, které normálně slouží k tzv. *bitwise* operacím, tj. logickým operacím aplikovaným na jednotlivé bity čísel:\n",
    "\n",
    "```\n",
    "bitwise not:\n",
    "\n",
    "~ 101\n",
    "-----\n",
    "  010\n",
    "\n",
    "bitwise and:\n",
    "\n",
    "  101\n",
    "& 010\n",
    "-----\n",
    "  000\n",
    "\n",
    "bitwise or:\n",
    "\n",
    "  101\n",
    "| 010\n",
    "-----\n",
    "  111\n",
    "```"
   ]
  },
  {
   "cell_type": "markdown",
   "metadata": {},
   "source": [
    "Z tohoto hlediska je využití těchto operátorů pro vektorizované operace docela intuitivním rozšířením působnosti -- tam se taky operace aplikuje separátně na jednotlivé prvky pole:"
   ]
  },
  {
   "cell_type": "code",
   "execution_count": 40,
   "metadata": {},
   "outputs": [
    {
     "data": {
      "text/plain": [
       "(array([ True, False,  True]), array([False,  True, False]))"
      ]
     },
     "execution_count": 40,
     "metadata": {},
     "output_type": "execute_result"
    }
   ],
   "source": [
    "arr = np.array([True, False, True])\n",
    "not_arr = ~arr\n",
    "arr, not_arr"
   ]
  },
  {
   "cell_type": "code",
   "execution_count": 41,
   "metadata": {},
   "outputs": [
    {
     "data": {
      "text/plain": [
       "array([False, False, False])"
      ]
     },
     "execution_count": 41,
     "metadata": {},
     "output_type": "execute_result"
    }
   ],
   "source": [
    "arr & not_arr"
   ]
  },
  {
   "cell_type": "code",
   "execution_count": 42,
   "metadata": {},
   "outputs": [
    {
     "data": {
      "text/plain": [
       "array([ True,  True,  True])"
      ]
     },
     "execution_count": 42,
     "metadata": {},
     "output_type": "execute_result"
    }
   ],
   "source": [
    "arr | not_arr"
   ]
  },
  {
   "cell_type": "markdown",
   "metadata": {},
   "source": [
    "Vektorizovanou negaci tedy provedeme pomocí operátoru `~`, a znovu si můžeme udělat kontrolní součet -- toto by měla být velikost pročištěného korpusu:"
   ]
  },
  {
   "cell_type": "code",
   "execution_count": 43,
   "metadata": {},
   "outputs": [
    {
     "data": {
      "text/plain": [
       "3187"
      ]
     },
     "execution_count": 43,
     "metadata": {},
     "output_type": "execute_result"
    }
   ],
   "source": [
    "sum(~np.any(similarity_table > .9, axis=1))"
   ]
  },
  {
   "cell_type": "markdown",
   "metadata": {},
   "source": [
    "## Funkce `numpy.arg*` a dohledávání indexů položek, které splňují nějakou podmínku\n",
    "\n",
    "Pole pravdivostních hodnot můžeme převést na pole indexů, kde se vyskytuje `True`, např. pomocí funkce `numpy.argwhere()`:"
   ]
  },
  {
   "cell_type": "code",
   "execution_count": 44,
   "metadata": {},
   "outputs": [
    {
     "data": {
      "text/plain": [
       "array([ 103,  128,  180,  209,  285,  342,  356,  490,  602,  637,  649,\n",
       "        668,  697,  698,  779,  802,  805,  809,  852,  860,  883,  900,\n",
       "        910,  967,  980,  992, 1018, 1049, 1073, 1079, 1133, 1151, 1180,\n",
       "       1201, 1203, 1219, 1222, 1230, 1257, 1269, 1280, 1301, 1303, 1318,\n",
       "       1319, 1320, 1344, 1364, 1376, 1380, 1387, 1391, 1399, 1412, 1427,\n",
       "       1428, 1438, 1448, 1452, 1463, 1485, 1494, 1499, 1506, 1509, 1520,\n",
       "       1523, 1531, 1542, 1555, 1568, 1599, 1604, 1638, 1640, 1648, 1657,\n",
       "       1671, 1676, 1677, 1693, 1697, 1701, 1717, 1720, 1748, 1767, 1772,\n",
       "       1781, 1788, 1795, 1801, 1805, 1830, 1835, 1838, 1841, 1850, 1853,\n",
       "       1863, 1893, 1894, 1904, 1907, 1911, 1922, 1939, 1961, 1981, 1996,\n",
       "       2001, 2005, 2011, 2026, 2027, 2028, 2048, 2052, 2068, 2073, 2088,\n",
       "       2096, 2120, 2128, 2133, 2151, 2152, 2154, 2161, 2183, 2190, 2192,\n",
       "       2194, 2196, 2198, 2202, 2206, 2221, 2229, 2246, 2265, 2268, 2271,\n",
       "       2273, 2289, 2314, 2317, 2319, 2336, 2340, 2351, 2362, 2364, 2370,\n",
       "       2415, 2423, 2432, 2435, 2436, 2442, 2443, 2449, 2457, 2467, 2473,\n",
       "       2490, 2491, 2502, 2507, 2554, 2562, 2568, 2576, 2585, 2603, 2609,\n",
       "       2619, 2633, 2634, 2642, 2643, 2645, 2647, 2652, 2690, 2707, 2713,\n",
       "       2725, 2738, 2743, 2752, 2758, 2769, 2775, 2778, 2783, 2784, 2789,\n",
       "       2794, 2803, 2807, 2809, 2814, 2820, 2822, 2827, 2829, 2836, 2839,\n",
       "       2841, 2842, 2848, 2850, 2872, 2875, 2878, 2886, 2887, 2900, 2905,\n",
       "       2911, 2923, 2928, 2929, 2939, 2942, 2948, 2959, 2971, 2977, 2982,\n",
       "       2987, 2990, 3000, 3001, 3007, 3035, 3044, 3048, 3051, 3062, 3077,\n",
       "       3079, 3082, 3083, 3090, 3109, 3112, 3130, 3137, 3160, 3163, 3166,\n",
       "       3167, 3170, 3175, 3176, 3184, 3189, 3190, 3202, 3211, 3212, 3217,\n",
       "       3219, 3223, 3234, 3235, 3239, 3244, 3250, 3251, 3261, 3278, 3282,\n",
       "       3287, 3291, 3300, 3301, 3316, 3317, 3319, 3321, 3324, 3328, 3352,\n",
       "       3355, 3372, 3373, 3387, 3397, 3406, 3410, 3434, 3437, 3449, 3466,\n",
       "       3470, 3474, 3475, 3481, 3482, 3483, 3486, 3490])"
      ]
     },
     "execution_count": 44,
     "metadata": {},
     "output_type": "execute_result"
    }
   ],
   "source": [
    "np.argwhere(np.any(similarity_table > .9, axis=1)).flatten()"
   ]
  },
  {
   "cell_type": "code",
   "execution_count": 45,
   "metadata": {},
   "outputs": [
    {
     "data": {
      "text/plain": [
       "array([   0,    1,    2, ..., 3488, 3489, 3491])"
      ]
     },
     "execution_count": 45,
     "metadata": {},
     "output_type": "execute_result"
    }
   ],
   "source": [
    "np.argwhere(~np.any(similarity_table > .9, axis=1)).flatten()"
   ]
  },
  {
   "cell_type": "markdown",
   "metadata": {},
   "source": [
    "Funkcí, jejichž jméno začíná na `arg`, je v `numpy` víc a všechny slouží k tomu, že vrací indexy v poli, pro které platí nějaká podmínka. Např. jestliže funkce `numpy.min` vrátí nejmenší hodnotu v poli, tak funkce `numpy.argmin` mi řekne, který z indexů v poli obsahuje hodnotu, která tuto podmínku splňuje:"
   ]
  },
  {
   "cell_type": "code",
   "execution_count": 46,
   "metadata": {},
   "outputs": [
    {
     "data": {
      "text/plain": [
       "array([770, 925, 752, 220, 903,  72, 560, 488,  65, 205])"
      ]
     },
     "execution_count": 46,
     "metadata": {},
     "output_type": "execute_result"
    }
   ],
   "source": [
    "arr = np.random.randint(0, 1000, 10)\n",
    "arr"
   ]
  },
  {
   "cell_type": "code",
   "execution_count": 47,
   "metadata": {},
   "outputs": [
    {
     "data": {
      "text/plain": [
       "65"
      ]
     },
     "execution_count": 47,
     "metadata": {},
     "output_type": "execute_result"
    }
   ],
   "source": [
    "np.min(arr)"
   ]
  },
  {
   "cell_type": "code",
   "execution_count": 48,
   "metadata": {},
   "outputs": [
    {
     "data": {
      "text/plain": [
       "8"
      ]
     },
     "execution_count": 48,
     "metadata": {},
     "output_type": "execute_result"
    }
   ],
   "source": [
    "np.argmin(arr)"
   ]
  },
  {
   "cell_type": "markdown",
   "metadata": {},
   "source": [
    "Konvence pojmenování s prefixem *arg* pochází [z matematiky](https://en.wikipedia.org/wiki/Arg_max). Máme-li funkci $y = f(x)$, tak $\\operatorname{min} f(x)$ je minimální hodnota $y$, které tato funkce nabývá, a $\\operatorname{arg\\,min} f(x)$ je hodnota *argumentu* $x$, pro kterou funkce nabývá oné minimální hodnoty $y$. Platí tedy:\n",
    "\n",
    "$$\\operatorname{min} f(x) = f( \\operatorname{arg\\,min} f(x) )$$\n",
    "\n",
    "Když trochu přimhouříme oči, můžeme pole považovat analogicky taky za takovou \"funkci\" (v matematickém slova smyslu), která pro každou hodnotu indexu ($x$) nabývá hodnotu odpovídající prvku pod tímto indexem uloženého ($y$). Výše uvedenou rovnost tedy můžeme přepsat následovně:"
   ]
  },
  {
   "cell_type": "code",
   "execution_count": 49,
   "metadata": {},
   "outputs": [
    {
     "data": {
      "text/plain": [
       "True"
      ]
     },
     "execution_count": 49,
     "metadata": {},
     "output_type": "execute_result"
    }
   ],
   "source": [
    "np.min(arr) == arr[np.argmin(arr)]"
   ]
  },
  {
   "cell_type": "markdown",
   "metadata": {},
   "source": [
    "## Finální pročištěný korpus\n",
    "\n",
    "Nicméně pro vytvoření finálního pročištěného seznamu dokumentů vlastně příslušné indexy ani nepotřebujeme, vystačíme si klidně s původním polem pravdivostních hodnot:"
   ]
  },
  {
   "cell_type": "code",
   "execution_count": 50,
   "metadata": {},
   "outputs": [],
   "source": [
    "clean_docs = [\n",
    "    doc\n",
    "    for doc, is_clean in zip(dirty_docs, ~np.any(similarity_table > .9, axis=1))\n",
    "    if is_clean\n",
    "]\n",
    "assert len(clean_docs) == 3187"
   ]
  },
  {
   "cell_type": "markdown",
   "metadata": {},
   "source": [
    "# Závěrečné porovnání (čitelnost, rychlost, flexibilita)\n",
    "\n",
    "Ještě pro zajímavost oba způsoby řešení -- vnořené for-cykly vs. vektorizované operace -- vtělíme do funkcí a srovnáme, jak dlouho jim trvá korpus deduplikovat. Samotné vytvoření objektu `MatrixSimilarity` trvá poměrně dlouho a bylo by v obou funkcích stejné, tak v zájmu rychlejšího a přesnějšího srovnání oběma funkcím předáme již existující výše vytvořený objekt."
   ]
  },
  {
   "cell_type": "code",
   "execution_count": 51,
   "metadata": {},
   "outputs": [],
   "source": [
    "def deduplicate(docs, matrix_similarity, verbose=False):\n",
    "    deduplicated = []\n",
    "    for i, similarities in enumerate(matrix_similarity):\n",
    "        for j, similarity in enumerate(similarities):\n",
    "            if i == j:\n",
    "                deduplicated.append(docs[i])\n",
    "                break\n",
    "            elif similarity > .9:\n",
    "                if verbose:\n",
    "                    print(f\"{i}, {j}: {similarity}\")\n",
    "                break\n",
    "    return deduplicated\n",
    "\n",
    "def deduplicate_vectorized(docs, matrix_similarity):\n",
    "    similarity_table = np.array(matrix_similarity)\n",
    "    similarity_table *= np.tri(*similarity_table.shape, -1)\n",
    "    return [\n",
    "        doc\n",
    "        for doc, is_clean in zip(docs, ~np.any(similarity_table > .9, axis=1))\n",
    "        if is_clean\n",
    "    ]"
   ]
  },
  {
   "cell_type": "markdown",
   "metadata": {},
   "source": [
    "Jak vidno, vektorizovaný přístup je nakonec poměrně elegantní a stručný, a pro někoho, kdo se vyzná v manipulaci vícerozměrných polí, i přehledný a srozumitelný. Pro ostatní, kdo se vyznají jen v \"normálním\" Pythonu, už bohužel méně.\n",
    "\n",
    "Teď tedy porovnejme rychlost obou variant (zajímá nás údaj *Wall time*, který uvádí čas, který bychom změřili stopkami):"
   ]
  },
  {
   "cell_type": "code",
   "execution_count": 52,
   "metadata": {},
   "outputs": [
    {
     "name": "stdout",
     "output_type": "stream",
     "text": [
      "CPU times: user 8min 1s, sys: 6min 37s, total: 14min 39s\n",
      "Wall time: 34.5 s\n"
     ]
    }
   ],
   "source": [
    "%%time\n",
    "clean_docs = deduplicate(dirty_docs, matrix_similarity)\n",
    "assert len(clean_docs) == 3187, f\"Expected 3187 documents after deduplication, got {len(clean_docs)}.\""
   ]
  },
  {
   "cell_type": "code",
   "execution_count": 53,
   "metadata": {},
   "outputs": [
    {
     "name": "stdout",
     "output_type": "stream",
     "text": [
      "CPU times: user 7min 54s, sys: 5min 14s, total: 13min 9s\n",
      "Wall time: 12.9 s\n"
     ]
    }
   ],
   "source": [
    "%%time\n",
    "clean_docs = deduplicate_vectorized(dirty_docs, matrix_similarity)\n",
    "assert len(clean_docs) == 3187, f\"Expected 3187 documents after deduplication, got {len(clean_docs)}.\""
   ]
  },
  {
   "cell_type": "markdown",
   "metadata": {},
   "source": [
    "Na celém korpusu je vektorizovaná funkce tedy skoro 3× rychlejší než funkce využívající vnořené for-cykly.\n",
    "\n",
    "Zároveň je při porovnání obou funkcí patrná jedna velká výhoda for-cyklového řešení: absolutní flexibilita. V jakémkoli bodě postupu můžu přidat libovolnou operaci, např. průběžné logování pomocí argumentu `verbose`. To do vektorizovaného řešení nevtělím, ani kdybych se rozkrájel.\n",
    "\n",
    "Ale právě tahle flexibilita je příčinou té pomalosti. Nakonec i všechny ty opakované kontroly podmínky `if verbose: ...` něco stojí -- zkuste ji umazat a znovu pustit test výše, měl by doběhnout o něco málo rychleji."
   ]
  }
 ],
 "metadata": {
  "kernelspec": {
   "display_name": "Python 3 (ipykernel)",
   "language": "python",
   "name": "python3"
  },
  "language_info": {
   "codemirror_mode": {
    "name": "ipython",
    "version": 3
   },
   "file_extension": ".py",
   "mimetype": "text/x-python",
   "name": "python",
   "nbconvert_exporter": "python",
   "pygments_lexer": "ipython3",
   "version": "3.10.6"
  }
 },
 "nbformat": 4,
 "nbformat_minor": 4
}
