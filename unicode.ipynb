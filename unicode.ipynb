{
 "cells": [
  {
   "cell_type": "markdown",
   "metadata": {},
   "source": [
    "Or, [the absolute minimum every ~~software developer~~ linguist absolutely, positively must know about Unicode and character sets (no excuses!)](http://www.joelonsoftware.com/articles/Unicode.html)\n",
    "\n",
    "> **Note**: This text was written as part of a larger programming tutorial in Python, and the code samples are taken from an interactive session using the [Jupyter notebook](http://jupyter.org/). As a consequence, there are digressions here and there about playing with text data in Python. These might seem:\n",
    ">\n",
    "> 1. useless if what you came for is just the part about text encoding;\n",
    "> 2. long-winded if you already know some Python;\n",
    "> 3. or confusing if, on the contrary, you're not familiar with programming at all, much less with Python.\n",
    ">\n",
    "> If any of these is your case, my advice is: ignore the code, focus on the comments around it, they're more than enough to follow the thread of the explanation. Though if you've got a little more time, why not [try some of these out in an interactive Python session](https://repl.it/languages/python3)? ;) And now, without further ado...\n",
    "\n",
    "Much like any other piece of data inside a digital computer, text is represented as a series of binary digits (bits), i.e. 0's and 1's. A mapping between sequences of bits and characters is called an encoding. How many different characters your encoding can handle depends on how many bits you allow per character:\n",
    "\n",
    "- with 1 bit you can have 2^1 = 2 characters (one is represented by 0, the other by 1)\n",
    "- with 2 bits you can have 2^2 = 4 characters(represented by 00, 01, 10 and 11)\n",
    "- etc.\n",
    "\n",
    "The oldest encoding still in widespread use (it's what makes the Internet and the web tick) is [`ASCII`](https://en.wikipedia.org/wiki/ASCII), which is a 7-bit encoding:"
   ]
  },
  {
   "cell_type": "code",
   "execution_count": 1,
   "metadata": {},
   "outputs": [
    {
     "data": {
      "text/plain": [
       "128"
      ]
     },
     "execution_count": 1,
     "metadata": {},
     "output_type": "execute_result"
    }
   ],
   "source": [
    "2**7"
   ]
  },
  {
   "cell_type": "markdown",
   "metadata": {},
   "source": [
    "This means it can represent [128 different characters](http://www.ascii-code.com/), which comfortably fits the basic Latin alphabet (both lowercase and uppercase), Arabic numerals, punctuation and some \"control characters\" which were primarily useful on the old [teletype terminals](https://en.wikipedia.org/wiki/Teleprinter) for which `ASCII` was designed. For instance, the letter \"A\" corresponds to the number 65 (`1000001` in binary, see below).\n",
    "\n",
    "> \"ASCII\" stands for \"**American** Standard Code for Information Interchange\" -- which explains why there are no accented characters, for instance.\n",
    "\n",
    "Nowadays, `ASCII` is represented using 8 bits (== 1 byte), because that's the unit of computer memory which has become ubiquitous (in terms of both hardware and software assumptions), but still uses only 7 bits' worth of information."
   ]
  },
  {
   "cell_type": "code",
   "execution_count": 2,
   "metadata": {
    "scrolled": true
   },
   "outputs": [
    {
     "data": {
      "text/plain": [
       "256"
      ]
     },
     "execution_count": 2,
     "metadata": {},
     "output_type": "execute_result"
    }
   ],
   "source": [
    "2**8"
   ]
  },
  {
   "cell_type": "code",
   "execution_count": 3,
   "metadata": {},
   "outputs": [
    {
     "data": {
      "text/plain": [
       "'1000001'"
      ]
     },
     "execution_count": 3,
     "metadata": {},
     "output_type": "execute_result"
    }
   ],
   "source": [
    "# how to find out the binary representation of a decimal number?\n",
    "\"{:b}\".format(65)"
   ]
  },
  {
   "cell_type": "code",
   "execution_count": 4,
   "metadata": {},
   "outputs": [
    {
     "data": {
      "text/plain": [
       "'foo bar baz'"
      ]
     },
     "execution_count": 4,
     "metadata": {},
     "output_type": "execute_result"
    }
   ],
   "source": [
    "# Digression/explanation: the format() method\n",
    "#\n",
    "# the format() string method inserts its arguments into the string\n",
    "# wherever there is a \"{}\"\n",
    "\"{} {} {}\".format(\"foo\", \"bar\", \"baz\")"
   ]
  },
  {
   "cell_type": "code",
   "execution_count": 5,
   "metadata": {},
   "outputs": [
    {
     "data": {
      "text/plain": [
       "'bar foo bar'"
      ]
     },
     "execution_count": 5,
     "metadata": {},
     "output_type": "execute_result"
    }
   ],
   "source": [
    "# you can also specify a different order by using (zero-based) \n",
    "# positional indices -- or even repeating them\n",
    "\"{1} {0} {1}\".format(\"foo\", \"bar\")"
   ]
  },
  {
   "cell_type": "code",
   "execution_count": 6,
   "metadata": {},
   "outputs": [
    {
     "data": {
      "text/plain": [
       "'foo bar'"
      ]
     },
     "execution_count": 6,
     "metadata": {},
     "output_type": "execute_result"
    }
   ],
   "source": [
    "# for long strings with many insertions, where you might mess up the\n",
    "# order of arguments, keyword arguments are also available\n",
    "\"{foo_arg} {bar_arg}\".format(bar_arg=\"bar\", foo_arg=\"foo\")"
   ]
  },
  {
   "cell_type": "code",
   "execution_count": 7,
   "metadata": {},
   "outputs": [
    {
     "data": {
      "text/plain": [
       "'101101'"
      ]
     },
     "execution_count": 7,
     "metadata": {},
     "output_type": "execute_result"
    }
   ],
   "source": [
    "# and you can also request various formatting adjustments or conversions\n",
    "# to be made by specifying them after a \":\" -- e.g. \"b\" prints a given\n",
    "# number in its binary representation\n",
    "\"{:b}\".format(45)"
   ]
  },
  {
   "cell_type": "code",
   "execution_count": 8,
   "metadata": {},
   "outputs": [
    {
     "data": {
      "text/plain": [
       "'0b101101'"
      ]
     },
     "execution_count": 8,
     "metadata": {},
     "output_type": "execute_result"
    }
   ],
   "source": [
    "# or simply\n",
    "bin(45)\n",
    "# but that has an ugly \"0b\" in front, and we would've missed out on\n",
    "# format() if we'd used that directly!"
   ]
  },
  {
   "cell_type": "markdown",
   "metadata": {},
   "source": [
    "What happens in the range [128; 256) is not covered by the `ASCII` standard. In the 1990s, many encodings were standardized which used this range for their own purposes, usually representing additional accented characters used in a particular region. E.g. Czech (and Slovak, Polish...) alphabets can be represented using the ISO `latin-2` encoding, or Microsoft's `cp-1250`. Encodings which stick to the same character mappings as `ASCII` in the range [0; 128) **and represent them physically in the same way (as 1 byte)**, while potentially adding more character mappings beyond that, are called **`ASCII`-compatible**.\n",
    "\n",
    "`ASCII` compatibility is a good thing&trade;, because when you start reading a character stream in a computer, there's **no way to know in advance what encoding it is in** (unless it's a file you've encoded yourself). So in practice, a heuristic has been established to start reading the stream assuming it is `ASCII` by default, and switch to a different encoding if evidence becomes available that motivates it. For instance, HTML files should all start something like this:\n",
    "\n",
    "```html\n",
    "<!DOCTYPE html>\n",
    "<html>\n",
    "<head>\n",
    "  <meta charset=\"utf-8\"/>\n",
    "  ...\n",
    "```\n",
    "\n",
    "This way, whenever a program wants to read a file like this, it can start off with `ASCII`, waiting to see if it reaches the `charset` (i.e. encoding) attribute, and once it does, it can switch from `ASCII` to that encoding (`UTF-8` here) and restart reading the file, now fairly sure that it's using the correct encoding. This trick works only if we can assume that whatever encoding the rest of the file is in, the first few lines can be considered as `ASCII` for all practical intents and purposes.\n",
    "\n",
    "Without the `charset` attribute, the only way to know if the encoding is right would be for you to look at the rendered text and see if it makes sense; if it did not, you'd have to resort to trial and error, manually switching the encodings and looking for the one in which the numbers behind the characters stop coming out as gibberish and are actually translated into intelligible text.\n",
    "\n",
    "Let's take a look at printable characters in the `Latin-2` **character set**. The character set consists of mappings between integers and characters; each one of these is called a \"codepoint\". The `Latin-2` **encoding** then defines how to encode each of these integers as a series of bits (1's and 0's) in the computer's memory."
   ]
  },
  {
   "cell_type": "code",
   "execution_count": 9,
   "metadata": {},
   "outputs": [
    {
     "data": {
      "text/plain": [
       "[(32, ' '),\n",
       " (33, '!'),\n",
       " (34, '\"'),\n",
       " (35, '#'),\n",
       " (36, '$'),\n",
       " (37, '%'),\n",
       " (38, '&'),\n",
       " (39, \"'\"),\n",
       " (40, '('),\n",
       " (41, ')'),\n",
       " (42, '*'),\n",
       " (43, '+'),\n",
       " (44, ','),\n",
       " (45, '-'),\n",
       " (46, '.'),\n",
       " (47, '/'),\n",
       " (48, '0'),\n",
       " (49, '1'),\n",
       " (50, '2'),\n",
       " (51, '3'),\n",
       " (52, '4'),\n",
       " (53, '5'),\n",
       " (54, '6'),\n",
       " (55, '7'),\n",
       " (56, '8'),\n",
       " (57, '9'),\n",
       " (58, ':'),\n",
       " (59, ';'),\n",
       " (60, '<'),\n",
       " (61, '='),\n",
       " (62, '>'),\n",
       " (63, '?'),\n",
       " (64, '@'),\n",
       " (65, 'A'),\n",
       " (66, 'B'),\n",
       " (67, 'C'),\n",
       " (68, 'D'),\n",
       " (69, 'E'),\n",
       " (70, 'F'),\n",
       " (71, 'G'),\n",
       " (72, 'H'),\n",
       " (73, 'I'),\n",
       " (74, 'J'),\n",
       " (75, 'K'),\n",
       " (76, 'L'),\n",
       " (77, 'M'),\n",
       " (78, 'N'),\n",
       " (79, 'O'),\n",
       " (80, 'P'),\n",
       " (81, 'Q'),\n",
       " (82, 'R'),\n",
       " (83, 'S'),\n",
       " (84, 'T'),\n",
       " (85, 'U'),\n",
       " (86, 'V'),\n",
       " (87, 'W'),\n",
       " (88, 'X'),\n",
       " (89, 'Y'),\n",
       " (90, 'Z'),\n",
       " (91, '['),\n",
       " (92, '\\\\'),\n",
       " (93, ']'),\n",
       " (94, '^'),\n",
       " (95, '_'),\n",
       " (96, '`'),\n",
       " (97, 'a'),\n",
       " (98, 'b'),\n",
       " (99, 'c'),\n",
       " (100, 'd'),\n",
       " (101, 'e'),\n",
       " (102, 'f'),\n",
       " (103, 'g'),\n",
       " (104, 'h'),\n",
       " (105, 'i'),\n",
       " (106, 'j'),\n",
       " (107, 'k'),\n",
       " (108, 'l'),\n",
       " (109, 'm'),\n",
       " (110, 'n'),\n",
       " (111, 'o'),\n",
       " (112, 'p'),\n",
       " (113, 'q'),\n",
       " (114, 'r'),\n",
       " (115, 's'),\n",
       " (116, 't'),\n",
       " (117, 'u'),\n",
       " (118, 'v'),\n",
       " (119, 'w'),\n",
       " (120, 'x'),\n",
       " (121, 'y'),\n",
       " (122, 'z'),\n",
       " (123, '{'),\n",
       " (124, '|'),\n",
       " (125, '}'),\n",
       " (126, '~'),\n",
       " (161, 'Ą'),\n",
       " (162, '˘'),\n",
       " (163, 'Ł'),\n",
       " (164, '¤'),\n",
       " (165, 'Ľ'),\n",
       " (166, 'Ś'),\n",
       " (167, '§'),\n",
       " (168, '¨'),\n",
       " (169, 'Š'),\n",
       " (170, 'Ş'),\n",
       " (171, 'Ť'),\n",
       " (172, 'Ź'),\n",
       " (174, 'Ž'),\n",
       " (175, 'Ż'),\n",
       " (176, '°'),\n",
       " (177, 'ą'),\n",
       " (178, '˛'),\n",
       " (179, 'ł'),\n",
       " (180, '´'),\n",
       " (181, 'ľ'),\n",
       " (182, 'ś'),\n",
       " (183, 'ˇ'),\n",
       " (184, '¸'),\n",
       " (185, 'š'),\n",
       " (186, 'ş'),\n",
       " (187, 'ť'),\n",
       " (188, 'ź'),\n",
       " (189, '˝'),\n",
       " (190, 'ž'),\n",
       " (191, 'ż'),\n",
       " (192, 'Ŕ'),\n",
       " (193, 'Á'),\n",
       " (194, 'Â'),\n",
       " (195, 'Ă'),\n",
       " (196, 'Ä'),\n",
       " (197, 'Ĺ'),\n",
       " (198, 'Ć'),\n",
       " (199, 'Ç'),\n",
       " (200, 'Č'),\n",
       " (201, 'É'),\n",
       " (202, 'Ę'),\n",
       " (203, 'Ë'),\n",
       " (204, 'Ě'),\n",
       " (205, 'Í'),\n",
       " (206, 'Î'),\n",
       " (207, 'Ď'),\n",
       " (208, 'Đ'),\n",
       " (209, 'Ń'),\n",
       " (210, 'Ň'),\n",
       " (211, 'Ó'),\n",
       " (212, 'Ô'),\n",
       " (213, 'Ő'),\n",
       " (214, 'Ö'),\n",
       " (215, '×'),\n",
       " (216, 'Ř'),\n",
       " (217, 'Ů'),\n",
       " (218, 'Ú'),\n",
       " (219, 'Ű'),\n",
       " (220, 'Ü'),\n",
       " (221, 'Ý'),\n",
       " (222, 'Ţ'),\n",
       " (223, 'ß'),\n",
       " (224, 'ŕ'),\n",
       " (225, 'á'),\n",
       " (226, 'â'),\n",
       " (227, 'ă'),\n",
       " (228, 'ä'),\n",
       " (229, 'ĺ'),\n",
       " (230, 'ć'),\n",
       " (231, 'ç'),\n",
       " (232, 'č'),\n",
       " (233, 'é'),\n",
       " (234, 'ę'),\n",
       " (235, 'ë'),\n",
       " (236, 'ě'),\n",
       " (237, 'í'),\n",
       " (238, 'î'),\n",
       " (239, 'ď'),\n",
       " (240, 'đ'),\n",
       " (241, 'ń'),\n",
       " (242, 'ň'),\n",
       " (243, 'ó'),\n",
       " (244, 'ô'),\n",
       " (245, 'ő'),\n",
       " (246, 'ö'),\n",
       " (247, '÷'),\n",
       " (248, 'ř'),\n",
       " (249, 'ů'),\n",
       " (250, 'ú'),\n",
       " (251, 'ű'),\n",
       " (252, 'ü'),\n",
       " (253, 'ý'),\n",
       " (254, 'ţ'),\n",
       " (255, '˙')]"
      ]
     },
     "execution_count": 9,
     "metadata": {},
     "output_type": "execute_result"
    }
   ],
   "source": [
    "latin2 = []\n",
    "# the Latin-2 character set has 256 codepoints, corresponding to\n",
    "# integers from 0 to 255\n",
    "for codepoint in range(256):\n",
    "    # the Latin-2 encoding is simple: each codepoint is encoded\n",
    "    # as the byte corresponding to that integer in binary\n",
    "    byte = bytes([codepoint])\n",
    "    character = byte.decode(encoding=\"latin2\")\n",
    "    if character.isprintable():\n",
    "        latin2.append((codepoint, character))\n",
    "\n",
    "latin2"
   ]
  },
  {
   "cell_type": "markdown",
   "metadata": {},
   "source": [
    "Using the 8th bit (and thus the codepoint range [128; 256)) solves the problem of handling languages with character sets different than that of American English, but introduces a lot of complexity -- whenever you come across a text file with an unknown encoding, it might be in one of literally dozens of encodings. Additional drawbacks include:\n",
    "\n",
    "- how to handle multilingual text with characters from many different alphabets, which are not part of the same 8-bit encoding?\n",
    "- how to handle writing systems which have way more than 256 \"characters\", e.g. Chinese, Japanese and Korean (CJK) ideograms?\n",
    "\n",
    "For these purposes, a standard character set known as [**Unicode**](https://en.wikipedia.org/wiki/Unicode) was developed which strives for universal coverage of (ultimately) all characters ever used in the history of writing, even adding new ones like [emojis](https://unicode.org/emoji/charts/full-emoji-list.html). Unicode is much bigger than the character sets we've seen so far -- its most frequently used subset, the [Basic Multilingual Plane](https://en.wikipedia.org/wiki/Plane_%28Unicode%29#Basic_Multilingual_Plane), has 2^16 codepoints, but overall the number of codepoints is past 1M and there's room to accommodate many more."
   ]
  },
  {
   "cell_type": "code",
   "execution_count": 10,
   "metadata": {},
   "outputs": [
    {
     "data": {
      "text/plain": [
       "65536"
      ]
     },
     "execution_count": 10,
     "metadata": {},
     "output_type": "execute_result"
    }
   ],
   "source": [
    "2**16"
   ]
  },
  {
   "cell_type": "markdown",
   "metadata": {},
   "source": [
    "Now, the most straightforward representation for 2^16 codepoints is what? Well, it's simply using 16 bits per character, i.e. 2 bytes. That encoding exists, it's called `UTF-16`, but consider the drawbacks:\n",
    "\n",
    "- we've lost `ASCII` compatibility by the simple fact of using 2 bytes per character instead of 1 (encoding \"a\" as `01100001` or `01100001|00000000`, with the `|` indicating an imaginary boundary between bytes, is not the same thing)\n",
    "- encoding a string in a character set which uses a \"reasonable\" number of characters (like any European language) now takes twice as much space without any added benefit (which is probably not a good idea, given the general dominance of English -- one of those \"reasonable character set size\" languages -- in electronic communication)\n",
    "\n",
    "Looks like we'll have to think outside the box. The box in question here is called **fixed-width encodings** -- all of the encoding schemes we've encountered so far were fixed-width, meaning that each character was represented by either 7, 8 or 16 bits. In other word, you could jump around the string in multiples of 7, 8 or 16 and always land at the beginning of a character. (Not exactly true for `UTF-16`, because it is something more than just a \"16-bit `ASCII`\": it has ways of handling characters beyond 2^16 using so-called [surrogate sequences](https://en.wikipedia.org/wiki/UTF-16#U.2B10000_to_U.2B10FFFF) -- but you get the gist.)\n",
    "\n",
    "> \"UTF\" stands for \"Unicode Transformation Format\".\n",
    "\n",
    "The smart idea that some bright people have come up with was to use a **variable-width encoding**. The most ubiquitous one currently is **`UTF-8`**, which we've already met in the HTML example above. `UTF-8` *is* `ASCII`-compatible, i.e. the 1's and 0's used to encode text containing only `ASCII` characters are the same regardless of whether you use `ASCII` or `UTF-8`: it's a sequence of 8-bit bytes. But `UTF-8` can also handle many more additional characters, as defined by the Unicode standard, by using progressively longer and longer sequences of bits."
   ]
  },
  {
   "cell_type": "code",
   "execution_count": 11,
   "metadata": {},
   "outputs": [
    {
     "name": "stdout",
     "output_type": "stream",
     "text": [
      "'A' encoded in UTF-8 is: ['01000001']\n",
      "'č' encoded in UTF-8 is: ['11000100', '10001101']\n",
      "'字' encoded in UTF-8 is: ['11100101', '10101101', '10010111']\n"
     ]
    }
   ],
   "source": [
    "def print_as_binary_utf8(char):\n",
    "    \"\"\"Prints binary representation of character as encoded by UTF-8.\n",
    "    \n",
    "    \"\"\"\n",
    "    # encode the string as UTF-8 and iterate over the bytes;\n",
    "    # iterating over a sequence of bytes yields integers in the\n",
    "    # range [0; 256); the formatting directive \"{:08b}\" does two\n",
    "    # things:\n",
    "    #   - \"b\" prints the integer in its binary representation\n",
    "    #   - \"08\" pads the binary representation with 0's to a total\n",
    "    #     width of 8 characters, which is the width of a byte\n",
    "    binary_bytes = [\"{:08b}\".format(byte) for byte in char.encode(\"utf8\")]\n",
    "    print(\"{!r} encoded in UTF-8 is: {}\".format(char, binary_bytes))\n",
    "\n",
    "print_as_binary_utf8(\"A\")   # the representations...\n",
    "print_as_binary_utf8(\"č\")   # ... keep...\n",
    "print_as_binary_utf8(\"字\")  # ... getting longer."
   ]
  },
  {
   "cell_type": "markdown",
   "metadata": {},
   "source": [
    "How does it achieve that? The obvious problem here is that with a fixed-width encoding, you just chop up the string at regular intervals (7, 8, 16 bits) and you know that each interval represents one character. So **how do you know where to chop up a variable width-encoded string, if each character can take up a different number of bits?**\n",
    "\n",
    "Essentially, the trick is to **use some of the bits** in the representation of a codepoint **to store information** not about which character it is (whether it's an \"A\" or a \"字\"), but **how many bits it occupies**. In other words, if you want to skip ahead 10 characters in a string encoded with a variable width-encoding, you can't just skip 10 * 7 or 8 or 16 bits; you have to read all the intervening characters to figure out how much space they take up. Take the following example:"
   ]
  },
  {
   "cell_type": "code",
   "execution_count": 12,
   "metadata": {},
   "outputs": [
    {
     "name": "stdout",
     "output_type": "stream",
     "text": [
      "'B' encoded in UTF-8 is: ['01000010']\n",
      "'á' encoded in UTF-8 is: ['11000011', '10100001']\n",
      "'s' encoded in UTF-8 is: ['01110011']\n",
      "'n' encoded in UTF-8 is: ['01101110']\n",
      "'í' encoded in UTF-8 is: ['11000011', '10101101']\n",
      "'k' encoded in UTF-8 is: ['01101011']\n",
      "' ' encoded in UTF-8 is: ['00100000']\n",
      "'李' encoded in UTF-8 is: ['11100110', '10011101', '10001110']\n",
      "'白' encoded in UTF-8 is: ['11100111', '10011001', '10111101']\n"
     ]
    }
   ],
   "source": [
    "for char in \"Básník 李白\":\n",
    "    print_as_binary_utf8(char)"
   ]
  },
  {
   "cell_type": "markdown",
   "metadata": {},
   "source": [
    "Notice the initial bits in each byte of a character follow a pattern depending on how many bytes in total that character has:\n",
    "\n",
    "- if it's a 1-byte character, that byte starts with 0\n",
    "- if it's a 2-byte character, the first byte starts with 11 and the following one with 10\n",
    "- if it's a 3-byte character, the first byte starts with 111 and the following ones with 10\n",
    "\n",
    "This makes it possible to find out which bytes belong to which characters, and also to spot invalid strings, as the **leading** byte in a **multi-byte sequence** always \"announces\" how many **continuation** bytes (= starting with 10) should follow.\n",
    "\n",
    "So much for a quick introduction to `UTF-8` (= the encoding), but there's much more to Unicode (= the character set). While `UTF-8` defines only how integer numbers corresponding to codepoints are to be represented as 1's and 0's in a computer's memory, Unicode specifies how those numbers are to be interpreted as characters, what their properties and mutual relationships are, what conversions (i.e. mappings between (sequences of) codepoints) they can undergo, etc.\n",
    "\n",
    "Consider for instance the various ways diacritics are handled: \"č\" can be represented either as a single codepoint ([`LATIN SMALL LETTER C WITH CARON`](http://www.fileformat.info/info/unicode/char/010D/index.htm) -- all Unicode codepoints have cute names like this) or a sequence of two codepoints, the character \"c\" and a combining diacritic mark (`COMBINING CARON`). You can search for the codepoints corresponding to Unicode characters e.g. [here](http://www.fileformat.info/info/unicode/char/search.htm) and play with them in Python using the `chr(0xXXXX)` built-in function or with the special string escape sequence `\\uXXXX` (where `XXXX` is the hexadecimal representation of the codepoint) -- both are ways to get the character corresponding to the given codepoint:"
   ]
  },
  {
   "cell_type": "code",
   "execution_count": 13,
   "metadata": {},
   "outputs": [
    {
     "name": "stdout",
     "output_type": "stream",
     "text": [
      "č\n",
      "č\n"
     ]
    }
   ],
   "source": [
    "# \"č\" as LATIN SMALL LETTER C WITH CARON, codepoint 010d\n",
    "print(chr(0x010d))\n",
    "print(\"\\u010d\")"
   ]
  },
  {
   "cell_type": "code",
   "execution_count": 14,
   "metadata": {},
   "outputs": [
    {
     "name": "stdout",
     "output_type": "stream",
     "text": [
      "č\n",
      "č\n"
     ]
    }
   ],
   "source": [
    "# \"č\" as a sequence of LATIN SMALL LETTER C, codepoint 0063, and\n",
    "# COMBINING CARON, codepoint 030c\n",
    "print(chr(0x0063) + chr(0x030c))\n",
    "print(\"\\u0063\\u030c\")"
   ]
  },
  {
   "cell_type": "markdown",
   "metadata": {},
   "source": [
    ">  Hexadecimal is just a more convenient way of representing sequences of bits, where each of the `X`'s can be a number between 0 and 15 (10--15 are represented by the letters A--F). Each hexadecimal number can thus represent 16 different values, and therefore it can stand in for a sequence of 4 bits (2^4 == 16). Without worrying too much about the details right now, our old friend `ASCII` uppercase \"A\" can be thought of equivalently either as decimal 65, binary `0b1000001`, or hexadecimal `0x41` (the \"0b\" / \"0x\" prefixes are there just to say \"this is a binary / hexadecimal number\").\n",
    "> \n",
    "> Binary and hexadecimal numbers are often written padded with leading zeros to some number of bytes, but these have no effect on the value, much like decimal 42 and 00000042 are effectively the same numbers."
   ]
  },
  {
   "cell_type": "code",
   "execution_count": 15,
   "metadata": {},
   "outputs": [
    {
     "data": {
      "text/plain": [
       "'0x63'"
      ]
     },
     "execution_count": 15,
     "metadata": {},
     "output_type": "execute_result"
    }
   ],
   "source": [
    "# use hex() to find out the hexadecimal representation of a decimal\n",
    "# integer...\n",
    "hex(99)"
   ]
  },
  {
   "cell_type": "code",
   "execution_count": 16,
   "metadata": {},
   "outputs": [
    {
     "data": {
      "text/plain": [
       "99"
      ]
     },
     "execution_count": 16,
     "metadata": {},
     "output_type": "execute_result"
    }
   ],
   "source": [
    "# ... and int() to go back...\n",
    "int(0x63)"
   ]
  },
  {
   "cell_type": "code",
   "execution_count": 17,
   "metadata": {},
   "outputs": [
    {
     "data": {
      "text/plain": [
       "99"
      ]
     },
     "execution_count": 17,
     "metadata": {},
     "output_type": "execute_result"
    }
   ],
   "source": [
    "# ... or just evaluate the hexadecimal number\n",
    "0x63"
   ]
  },
  {
   "cell_type": "code",
   "execution_count": 18,
   "metadata": {},
   "outputs": [
    {
     "data": {
      "text/plain": [
       "'č'"
      ]
     },
     "execution_count": 18,
     "metadata": {},
     "output_type": "execute_result"
    }
   ],
   "source": [
    "# of course, chr() also works with decimal numbers\n",
    "chr(269)"
   ]
  },
  {
   "cell_type": "markdown",
   "metadata": {},
   "source": [
    "This means you have to be careful when working with languages that use accents, because **for a computer, the two possible representations are of course different strings**, even though for you, they're conceptually the same:"
   ]
  },
  {
   "cell_type": "code",
   "execution_count": 19,
   "metadata": {},
   "outputs": [
    {
     "name": "stdout",
     "output_type": "stream",
     "text": [
      "č č\n"
     ]
    }
   ],
   "source": [
    "s1 = \"\\u010d\"\n",
    "s2 = \"\\u0063\\u030c\"\n",
    "# s1 and s2 look the same to the naked eye...\n",
    "print(s1, s2)"
   ]
  },
  {
   "cell_type": "code",
   "execution_count": 20,
   "metadata": {},
   "outputs": [
    {
     "data": {
      "text/plain": [
       "False"
      ]
     },
     "execution_count": 20,
     "metadata": {},
     "output_type": "execute_result"
    }
   ],
   "source": [
    "# ... but in the eternal realm of Plato's Ideas, they're not\n",
    "s1 == s2"
   ]
  },
  {
   "cell_type": "markdown",
   "metadata": {},
   "source": [
    "Watch out, **they even have different lengths**! This might come to bite you if you're trying to compute the length of a word in letters."
   ]
  },
  {
   "cell_type": "code",
   "execution_count": 21,
   "metadata": {},
   "outputs": [
    {
     "name": "stdout",
     "output_type": "stream",
     "text": [
      "s1 is 1 character(s) long.\n",
      "s2 is 2 character(s) long.\n"
     ]
    }
   ],
   "source": [
    "print(\"s1 is\", len(s1), \"character(s) long.\")\n",
    "print(\"s2 is\", len(s2), \"character(s) long.\")"
   ]
  },
  {
   "cell_type": "markdown",
   "metadata": {},
   "source": [
    "For this reason, even though we've been informally calling these Unicode entities \"characters\", it is more accurate and less confusing to use the technical term \"codepoints\".\n",
    "\n",
    "Generally, most text out there will use the first, single-codepoint approach whenever possible, and pre-packaged linguistic corpora will try to be consistent about this (unless they come from the web, which always warrants being suspicious and defensive about your material). If you're worried about inconsistencies in your data, you can perform a [normalization](https://en.wikipedia.org/wiki/Unicode_equivalence#Normalization):"
   ]
  },
  {
   "cell_type": "code",
   "execution_count": 22,
   "metadata": {},
   "outputs": [
    {
     "data": {
      "text/plain": [
       "True"
      ]
     },
     "execution_count": 22,
     "metadata": {},
     "output_type": "execute_result"
    }
   ],
   "source": [
    "from unicodedata import normalize\n",
    "\n",
    "# NFC stands for Normal Form C; this normalization applies a canonical\n",
    "# decomposition (into a multi-codepoint representation) followed by a\n",
    "# canonical composition (into a single-codepoint representation)\n",
    "s1 = normalize(\"NFC\", s1)\n",
    "s2 = normalize(\"NFC\", s2)\n",
    "\n",
    "s1 == s2"
   ]
  },
  {
   "cell_type": "markdown",
   "metadata": {},
   "source": [
    "Let's wrap things up by saying that Python itself uses Unicode internally, but the encoding it defaults to when opening an external file depends on the *locale* of the system (broadly speaking, the set of region, language and character-encoding related settings of the operating system). On most modern Linux and macOS systems, this will probably be a `UTF-8` locale and Python will therefore assume `UTF-8` as the encoding by default. Unfortunately, Windows is different. To be on the safe side, whenever opening files in Python, you can specify the encoding explicitly:"
   ]
  },
  {
   "cell_type": "code",
   "execution_count": 23,
   "metadata": {},
   "outputs": [],
   "source": [
    "with open(\"unicode.ipynb\", encoding=\"utf-8\") as file:\n",
    "    pass"
   ]
  },
  {
   "cell_type": "code",
   "execution_count": 24,
   "metadata": {},
   "outputs": [
    {
     "name": "stdout",
     "output_type": "stream",
     "text": [
      "  (\\u0020): SPACE (category: Zs)\n",
      ", (\\u002c): COMMA (category: Po)\n",
      ". (\\u002e): FULL STOP (category: Po)\n",
      "I (\\u0049): LATIN CAPITAL LETTER I (category: Lu)\n",
      "c (\\u0063): LATIN SMALL LETTER C (category: Ll)\n",
      "d (\\u0064): LATIN SMALL LETTER D (category: Ll)\n",
      "e (\\u0065): LATIN SMALL LETTER E (category: Ll)\n",
      "g (\\u0067): LATIN SMALL LETTER G (category: Ll)\n",
      "h (\\u0068): LATIN SMALL LETTER H (category: Ll)\n",
      "i (\\u0069): LATIN SMALL LETTER I (category: Ll)\n",
      "k (\\u006b): LATIN SMALL LETTER K (category: Ll)\n",
      "n (\\u006e): LATIN SMALL LETTER N (category: Ll)\n",
      "o (\\u006f): LATIN SMALL LETTER O (category: Ll)\n",
      "r (\\u0072): LATIN SMALL LETTER R (category: Ll)\n",
      "s (\\u0073): LATIN SMALL LETTER S (category: Ll)\n",
      "t (\\u0074): LATIN SMALL LETTER T (category: Ll)\n",
      "u (\\u0075): LATIN SMALL LETTER U (category: Ll)\n",
      "ɡ (\\u0261): LATIN SMALL LETTER SCRIPT G (category: Ll)\n",
      "𝗍 (\\u1d5cd): MATHEMATICAL SANS-SERIF SMALL T (category: Ll)\n"
     ]
    }
   ],
   "source": [
    "# a good idea when dealing with Unicode text from an unknown and\n",
    "# unreliable source is to look at the set of codepoints contained\n",
    "# in it and eliminate or replace those that shouldn't be there\n",
    "import unicodedata\n",
    "\n",
    "def inspect_codepoints(text):\n",
    "    charset = set(text)\n",
    "    for char in sorted(charset):\n",
    "        info = r\"{} (\\u{:04x}): {} (category: {})\".format(\n",
    "            char, ord(char), unicodedata.name(char),\n",
    "            unicodedata.category(char))\n",
    "        print(info)\n",
    "        \n",
    "\n",
    "# depending on your font configuration, it may be very hard to spot\n",
    "# the two intruders in the sentence below that look like regular\n",
    "# letters but really are specialized variants; you might want\n",
    "# to replace them before doing further text processing...\n",
    "inspect_codepoints(\"Intruders here, good 𝗍hinɡ I checked.\")"
   ]
  },
  {
   "cell_type": "code",
   "execution_count": 25,
   "metadata": {},
   "outputs": [
    {
     "data": {
      "text/plain": [
       "False"
      ]
     },
     "execution_count": 25,
     "metadata": {},
     "output_type": "execute_result"
    }
   ],
   "source": [
    "# ... because of course, for a computer, the word \"thing\" written with\n",
    "# two different variants of \"g\" is really just two different words, which\n",
    "# is probably not what you want\n",
    "\"thing\" == \"thinɡ\""
   ]
  },
  {
   "cell_type": "markdown",
   "metadata": {},
   "source": [
    "In any case, here's what happens when processing text with Python (\"Unicode\" in the central box stands for Python's internal representation of Unicode, which is **not** `UTF-8` nor `UTF-16`):\n",
    "\n",
    "<img alt=\"Text IO in Python\" src=\"http://www.nltk.org/images/unicode.png\" style=\"max-width: 100%;\">\n",
    "\n",
    "(Image shamelessly hotlinked from / courtesy of the [NLTK Book](http://www.nltk.org/book/). Go check it out, it's an awesome intro to Python programming for linguists!)\n",
    "\n",
    "> A terminological postscript: we've been using some terms a bit informally, but now that we have a practical intuition for what they mean, it's good to get the definitions straight in one's head. So, a **character set** is a mapping between **codepoints** (integers) and **characters**. We may for instance say that in our character set, the integer 99 corresponds to the character \"c\".\n",
    ">\n",
    "> On the other hand, an **encoding** is a mapping between a **codepoint** (an integer) and a **physical sequence of 1's and 0's that represent it in memory**. With fixed-width encodings, this mapping is generally straightforward -- the 1's and 0's directly represent the given integer, only in binary and padded with zeros to fit the desired width. With variable-width encodings, which have to explicitly encode information about how many bits are spanned by each codepoint, this straightforward correspondence breaks down.\n",
    ">\n",
    "> A comparison might be helpful here: as encodings, `UTF-8` and `UTF-16` both use **the same character set** -- the same integers corresponding to the same characters. But since they're **different encodings**, when the time comes to turn these integers into sequences of bits to store in a computer's memory, each of them generates a different one.\n",
    "\n",
    "For more on Unicode, a great read already hinted at above is Joel Spolsky's [The Absolute Minimum Every Software Developer Absolutely, Positively Must Know About Unicode and Character Sets (No Excuses!)](http://www.joelonsoftware.com/articles/Unicode.html). Another great piece of material is the [Characters, Symbols and the Unicode Miracle](https://youtu.be/MijmeoH9LT4) video by the [Computerphile](https://www.youtube.com/channel/UC9-y-6csu5WGm29I7JiwpnA) channel on YouTube. To make the discussion digestible for newcomers, I sometimes slightly distorted facts about how things are \"really really\" done. And some inaccuracies may be genuine mistakes. In any case, please let me know in the comments! I'm grateful for feedback and looking to improve this material; I'll fix the mistakes and consider ditching some of the simplifications if they prove untenable :)"
   ]
  }
 ],
 "metadata": {
  "kernelspec": {
   "display_name": "Python 3",
   "language": "python",
   "name": "python3"
  },
  "language_info": {
   "codemirror_mode": {
    "name": "ipython",
    "version": 3
   },
   "file_extension": ".py",
   "mimetype": "text/x-python",
   "name": "python",
   "nbconvert_exporter": "python",
   "pygments_lexer": "ipython3",
   "version": "3.6.2"
  }
 },
 "nbformat": 4,
 "nbformat_minor": 1
}
