{
 "cells": [
  {
   "cell_type": "markdown",
   "metadata": {},
   "source": [
    "# Výslovnostní varianty v angličtině\n",
    "\n",
    "Jeden z lexikálních korpusů (= slovníků) dostupných v NLTK je anglický výslovnostní slovník *CMU Pronouncing Dictionary*:"
   ]
  },
  {
   "cell_type": "code",
   "execution_count": null,
   "metadata": {},
   "outputs": [],
   "source": [
    "from nltk.corpus import cmudict"
   ]
  },
  {
   "cell_type": "markdown",
   "metadata": {},
   "source": [
    "Podobně jako k ostatním korpusům k němu lze přistupovat např. po jednotlivých slovech:"
   ]
  },
  {
   "cell_type": "code",
   "execution_count": null,
   "metadata": {},
   "outputs": [],
   "source": [
    "words = cmudict.words()\n",
    "words[:10]"
   ]
  },
  {
   "cell_type": "markdown",
   "metadata": {},
   "source": [
    "Užitečnější ale je nechat si data načíst strukturovaná tak, abychom si mohli prohlížet jednotlivé záznamy ve slovníku. K tomu slouží metoda `.dict()`:"
   ]
  },
  {
   "cell_type": "code",
   "execution_count": null,
   "metadata": {},
   "outputs": [],
   "source": [
    "vyslovnosti = cmudict.dict()"
   ]
  },
  {
   "cell_type": "markdown",
   "metadata": {},
   "source": [
    "Nadefinujme si funkci, která nám umožní nahlédnout do obsahu pythonovského slovníku (bez toho, aby se nám zbytečně vytiskl celý a zabíral hromadu místa v notebooku)."
   ]
  },
  {
   "cell_type": "code",
   "execution_count": null,
   "metadata": {},
   "outputs": [],
   "source": [
    "def dict_peek(d, max_items=5):\n",
    "    peek = {}\n",
    "    for i, (k, v) in enumerate(d.items()):\n",
    "        if i == max_items:\n",
    "            break\n",
    "        peek[k] = v\n",
    "    return peek    "
   ]
  },
  {
   "cell_type": "code",
   "execution_count": null,
   "metadata": {
    "scrolled": true
   },
   "outputs": [],
   "source": [
    "dict_peek(vyslovnosti)"
   ]
  },
  {
   "cell_type": "markdown",
   "metadata": {},
   "source": [
    "**POZN.:** U seznamů taková funkce není třeba, pro náhled stačí vyříznout část seznamu pomocí syntaxe `seznam[:5]`.\n",
    "\n",
    "Díky slovníku `vyslovnosti` pak můžeme zjistit výslovnost cílového slova..."
   ]
  },
  {
   "cell_type": "code",
   "execution_count": null,
   "metadata": {},
   "outputs": [],
   "source": [
    "vyslovnosti[\"cat\"]"
   ]
  },
  {
   "cell_type": "markdown",
   "metadata": {},
   "source": [
    "... a případně i výslovnostní varianty, pokud je kanonických výslovností zachycených ve slovníku víc:"
   ]
  },
  {
   "cell_type": "code",
   "execution_count": null,
   "metadata": {},
   "outputs": [],
   "source": [
    "vyslovnosti[\"fire\"]"
   ]
  },
  {
   "cell_type": "markdown",
   "metadata": {},
   "source": [
    "Jaká proporce slov ve slovníku CMU má dvě a více výslovností? Které/á slovo/a mají nejvíce výslovnostních variant?"
   ]
  },
  {
   "cell_type": "code",
   "execution_count": null,
   "metadata": {},
   "outputs": [],
   "source": [
    "# jen proporce\n",
    "multi = 0\n",
    "\n",
    "for varianty in vyslovnosti.values():\n",
    "    if len(varianty) > 1:\n",
    "        multi += 1\n",
    "\n",
    "multi / len(vyslovnosti)"
   ]
  },
  {
   "cell_type": "code",
   "execution_count": null,
   "metadata": {},
   "outputs": [],
   "source": [
    "# proporce včetně seznamu slov, která mají více výslovností\n",
    "multi = []\n",
    "\n",
    "for varianty in vyslovnosti.values():\n",
    "    if len(varianty) > 1:\n",
    "        multi.append(varianty)\n",
    "\n",
    "len(multi) / len(vyslovnosti)"
   ]
  },
  {
   "cell_type": "code",
   "execution_count": null,
   "metadata": {},
   "outputs": [],
   "source": [
    "multi[:5]"
   ]
  },
  {
   "cell_type": "code",
   "execution_count": null,
   "metadata": {},
   "outputs": [],
   "source": [
    "# varianta, kdy ve for-cyklu místo hodnot (values), tj. výslovností,\n",
    "# procházíme (a do seznamu ukládáme) klíče (keys), tj. ortograficky\n",
    "# zapsaná slova\n",
    "multi = []\n",
    "\n",
    "# klíče jsou při procházení slovníku přes `for ... in` default, ale\n",
    "# možno též si explicitně vyžádat vyslovnosti.keys()\n",
    "for word in vyslovnosti:\n",
    "    if len(vyslovnosti[word]) > 1:\n",
    "        multi.append(word)\n",
    "\n",
    "len(multi) / len(vyslovnosti)"
   ]
  },
  {
   "cell_type": "markdown",
   "metadata": {},
   "source": [
    "---\n",
    "\n",
    "## Odbočka\n",
    "\n",
    "Kromě ostré nerovnosti (`<`, `>`) umí Python pochopitelně i nerovnost neostrou (`<=`, `>=`):"
   ]
  },
  {
   "cell_type": "code",
   "execution_count": null,
   "metadata": {},
   "outputs": [],
   "source": [
    "1 <= 1"
   ]
  },
  {
   "cell_type": "markdown",
   "metadata": {},
   "source": [
    "Případně lze dokonce velmi úsporně zapsat i test, zda číslo spadá do nějakého intervalu:"
   ]
  },
  {
   "cell_type": "code",
   "execution_count": null,
   "metadata": {},
   "outputs": [],
   "source": [
    "číslo = 5\n",
    "1 < číslo < 3"
   ]
  },
  {
   "cell_type": "markdown",
   "metadata": {},
   "source": [
    "---\n",
    "\n",
    "Pokud chceme roztřídit výslovnosti podle počtu variant, můžeme si předpřipravit seznamy pro různé počty variant a výslovnosti do nich rozdělit:"
   ]
  },
  {
   "cell_type": "code",
   "execution_count": null,
   "metadata": {},
   "outputs": [],
   "source": [
    "multi = []\n",
    "dvě = []\n",
    "tři = []\n",
    "\n",
    "for varianty in vyslovnosti.values():\n",
    "    length = len(varianty)\n",
    "    if length == 2:\n",
    "        dvě.append(varianty)\n",
    "    elif length == 3:\n",
    "        tři.append(varianty)\n",
    "    # POZOR, tady chyba viz níže\n",
    "    elif length > 1:\n",
    "        multi.append(varianty)\n",
    "\n",
    "# kvůli chybě zde jiný výsledek než 0.074...\n",
    "len(multi) / len(vyslovnosti)"
   ]
  },
  {
   "cell_type": "markdown",
   "metadata": {},
   "source": [
    "Sled `if / elif / else` představuje jedno rozvětvení, z něhož se vykoná vždy jen jedno rameno (první v pořadí, jehož podmínka se ukáže být pravdivá):\n",
    "\n",
    "```\n",
    "     .---> if\n",
    "    /\n",
    "   /-----> elif\n",
    "  /\n",
    " --------> elif\n",
    "  \\\n",
    "   \\-----{ ...\n",
    "    \\\n",
    "     `---> else\n",
    "```\n",
    "\n",
    "V kódu výše tedy do seznamu `multi` přidáme pouze ty `varianty`, které nespadly už do dvou předchozích ramen rozvětvení. Tzn. v kódu sice testujeme `length > 1`, ale reálně sem spadnou jen `varianty` s `length` 4 a více, protože ty s `length` 2 a 3 už spadly do dvou předchozích ramen.\n",
    "\n",
    "Řešení je jednoduché: použít místo `elif` nové holé `if`, čím započneme nové rozvětvení, které je nezávislé na tom předchozím:\n",
    "\n",
    "```\n",
    "    .---> if\n",
    "   /\n",
    "  /-----> elif\n",
    " /\n",
    "--------> elif\n",
    " \\\n",
    "  \\-----{ ...\n",
    "   \\\n",
    "    `---> else\n",
    "\n",
    "--------> if\n",
    "```"
   ]
  },
  {
   "cell_type": "code",
   "execution_count": null,
   "metadata": {},
   "outputs": [],
   "source": [
    "multi = []\n",
    "dvě = []\n",
    "tři = []\n",
    "\n",
    "for varianty in vyslovnosti.values():\n",
    "    length = len(varianty)\n",
    "    # první rozvětvení, sloužící k roztřídění do kategorií podle\n",
    "    # počtu variant\n",
    "    if length == 2:\n",
    "        dvě.append(varianty)\n",
    "    elif length == 3:\n",
    "        tři.append(varianty)\n",
    "    # druhé rozvětvení, sloužící k odchycení všech výslovností s více\n",
    "    # než jednou variantou\n",
    "    if length > 1:\n",
    "        multi.append(varianty)\n",
    "\n",
    "# teď je výsledek zase správně (0.74...)\n",
    "len(multi) / len(vyslovnosti)"
   ]
  },
  {
   "cell_type": "markdown",
   "metadata": {},
   "source": [
    "Přístup s předdefinovanými seznamy má ale nevýhodu v tom, že musím dopředu vědět (nebo si tipnout), jaké s jakými počty variant se v datech setkáme (2, 3, 4, 5...?), všem jim předem nadefinovat seznamy a pak rozdělení ručně zrcadlit v rozepsané sekvenci `if / elif / elif ...`, což snadno povede k chybě (překlep, nedoupravené `Ctrl + C, Ctrl + V` apod.).\n",
    "\n",
    "Řešením je vytvořit si slovník, v němž si budeme **dynamicky** (tj. podle hodnot skutečně nalezených v datech) vytvářet a doplňovat seznamy pro jednotlivé počty variant. Klíči v onom slovníku budou právě ony počty:"
   ]
  },
  {
   "cell_type": "code",
   "execution_count": null,
   "metadata": {
    "scrolled": true
   },
   "outputs": [],
   "source": [
    "podle_delky = {}\n",
    "\n",
    "for varianty in vyslovnosti.values():\n",
    "    length = len(varianty)\n",
    "    if length > 1:\n",
    "        # pokud jsme tuto délku ještě neviděli...\n",
    "        if length not in podle_delky:\n",
    "            # ... tak ji do slovníku přidáme jako klíč a namapujeme\n",
    "            # na ni nový prázdný seznam\n",
    "            podle_delky[length] = []\n",
    "        # vytáhneme ze slovníku seznam odpovídající aktuálně\n",
    "        # naměřené délce...\n",
    "        seznam = podle_delky[length]\n",
    "        # ... a přidáme do něj aktuální varianty\n",
    "        seznam.append(varianty)\n",
    "        # předchozí dva řádky jdou ve zkratce zapsat také:\n",
    "        # podle_delky[length].append(varianty)\n",
    "\n",
    "# slovník má pak jako klíče jednotlivé nalezené počty variant...\n",
    "podle_delky.keys()"
   ]
  },
  {
   "cell_type": "code",
   "execution_count": null,
   "metadata": {},
   "outputs": [],
   "source": [
    "# ... a jako hodnoty výslovnosti s odpovídajícím počtem variant\n",
    "podle_delky[5]"
   ]
  },
  {
   "cell_type": "code",
   "execution_count": null,
   "metadata": {},
   "outputs": [],
   "source": [
    "n = 5\n",
    "print(\"In the CMU dictionary, there is/are\", len(podle_delky[n]), \"pronunciation(s) with\", n, \"variants.\")"
   ]
  },
  {
   "cell_type": "markdown",
   "metadata": {},
   "source": [
    "Protože sekvence operací na řádcích 7--13 v buňce 16 je poměrně častá, mají slovníky speciální metodu `.setdefault()`, která ve zkrácené podobě udělá totéž. Jinými slovy, kód `hodnota = slovnik.setdefault(x, y)` vykoná následující operace:\n",
    "\n",
    "> - podívej se, zda ve slovníku existuje klíč `x`\n",
    "> - pokud tam není, tak do slovníku ke klíči `x` přidej nějakou defaultní hodnotu `y`\n",
    "> - a pak mi na závěr vrať hodnotu, která ve slovníku klíči `x` odpovídá, ať už je to právě vložené `y` nebo nějaké `z`, které tam bylo už dříve"
   ]
  },
  {
   "cell_type": "code",
   "execution_count": null,
   "metadata": {},
   "outputs": [],
   "source": [
    "slovnik = {}\n",
    "hodnota = slovnik.setdefault(\"x\", \"y\")\n",
    "hodnota"
   ]
  },
  {
   "cell_type": "code",
   "execution_count": null,
   "metadata": {},
   "outputs": [],
   "source": [
    "slovnik = {\"x\": \"z\"}\n",
    "hodnota = slovnik.setdefault(\"x\", \"y\")\n",
    "hodnota"
   ]
  },
  {
   "cell_type": "code",
   "execution_count": null,
   "metadata": {
    "scrolled": true
   },
   "outputs": [],
   "source": [
    "# v našem případě tedy:\n",
    "podle_delky = {}\n",
    "\n",
    "for varianty in vyslovnosti.values():\n",
    "    length = len(varianty)\n",
    "    if length > 1:\n",
    "        # místo řádků 7--13 v buňce 16 stačí jen následující rádek\n",
    "        seznam = podle_delky.setdefault(length, [])\n",
    "        seznam.append(varianty)\n",
    "        # předchozí dva řádky můžeme znovu zkondenzovat, a to následovně:\n",
    "        # podle_delky.setdefault(length, []).append(varianty)\n",
    "\n",
    "podle_delky.keys()"
   ]
  },
  {
   "cell_type": "code",
   "execution_count": null,
   "metadata": {},
   "outputs": [],
   "source": [
    "podle_delky[5]"
   ]
  },
  {
   "cell_type": "code",
   "execution_count": null,
   "metadata": {},
   "outputs": [],
   "source": [
    "# a na závěr, pokud si chceme kromě výslovnostních variant uložit\n",
    "# i ortografický zápis...\n",
    "podle_delky = {}\n",
    "\n",
    "for word, varianty in vyslovnosti.items():\n",
    "    length = len(varianty)\n",
    "    if length > 1:\n",
    "        seznam = podle_delky.setdefault(length, [])\n",
    "        # ... stačí si do seznamů místo pouhých variant ukládat\n",
    "        # dvojice (ortografický_zápis, seznam_variant)\n",
    "        seznam.append((word, varianty))\n",
    "\n",
    "podle_delky[5]"
   ]
  }
 ],
 "metadata": {
  "kernelspec": {
   "display_name": "Python 3",
   "language": "python",
   "name": "python3"
  },
  "language_info": {
   "codemirror_mode": {
    "name": "ipython",
    "version": 3
   },
   "file_extension": ".py",
   "mimetype": "text/x-python",
   "name": "python",
   "nbconvert_exporter": "python",
   "pygments_lexer": "ipython3",
   "version": "3.8.3"
  }
 },
 "nbformat": 4,
 "nbformat_minor": 4
}
