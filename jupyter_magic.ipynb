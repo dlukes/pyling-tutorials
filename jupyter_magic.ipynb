{
 "cells": [
  {
   "cell_type": "markdown",
   "metadata": {},
   "source": [
    "# Make the most of Python Jupyter notebooks\n",
    "\n",
    "[![Binder](https://mybinder.org/badge.svg)](https://mybinder.org/v2/gh/dlukes/dlukes.github.io/source?filepath=content%2Fnotebooks%2Fjupyter_magic.ipynb)\n",
    "\n",
    "Python-based [Jupyter](http://jupyter.org/) notebooks mostly consist of Python code, obviously, and some Markdown text. But they also offer some very handy functions and shortcuts which are not available in Python itself, and which are really helpful for interactive work. This is my personal best of / reference.\n",
    "\n",
    "The shortcuts fall into two groups:\n",
    "\n",
    "- **magics**: special functions with special syntax whose names start with `%` (in which case they apply to the rest of the line → \"line magics\") or `%%` (in which case they apply to the entire cell → \"cell magics\")\n",
    "- **command line programs**: if you know how to use command line programs, you can do so directly from the notebook by prefixing the command line invocation with `!`\n",
    "\n",
    "If you want to follow along, the easiest way is to just [click this link](https://mybinder.org/v2/gh/dlukes/dlukes.github.io/source?filepath=content%2Fnotebooks%2Fjupyter_magic.ipynb) and have Binder launch a Jupyter environment with the notebook loaded for you. Or you can download this post in its original notebook format [here](https://raw.githubusercontent.com/dlukes/dlukes.github.io/source/content/notebooks/jupyter_magic.ipynb) and load it into your own Jupyter instance yourself.\n",
    "\n",
    "**NB:** Most of the following also applies to the [IPython REPL](https://ipython.org/). \n",
    "\n",
    "## Magics\n",
    "\n",
    "The syntax of magic functions is modeled after the syntax of command line programs:\n",
    "\n",
    "- to call them, just write their name and evaluate the cell, without any parentheses (unlike regular Python functions, which are called like this: `function()`)\n",
    "- arguments are separated just by whitespace (in Python, there are commas: `function(arg1, arg)`)\n",
    "- some have optional arguments (**options**) which tweak their behavior: these are formed by a hyphen and a letter, e.g. `-r`\n",
    "\n",
    "### Getting help\n",
    "\n",
    "You can read more about the magic function system by calling the `%magic` magic:"
   ]
  },
  {
   "cell_type": "code",
   "execution_count": 1,
   "metadata": {},
   "outputs": [],
   "source": [
    "%magic"
   ]
  },
  {
   "cell_type": "markdown",
   "metadata": {},
   "source": [
    "`%quickref` brings up a useful cheat sheet of special functionality:"
   ]
  },
  {
   "cell_type": "code",
   "execution_count": 2,
   "metadata": {},
   "outputs": [],
   "source": [
    "%quickref"
   ]
  },
  {
   "cell_type": "markdown",
   "metadata": {},
   "source": [
    "If you want more information about an object, `%pinfo` and `%pinfo2` are your friends:"
   ]
  },
  {
   "cell_type": "code",
   "execution_count": 3,
   "metadata": {},
   "outputs": [],
   "source": [
    "def foo():\n",
    "    \"This foo function returns bar.\"\n",
    "    return \"bar\""
   ]
  },
  {
   "cell_type": "code",
   "execution_count": 4,
   "metadata": {},
   "outputs": [],
   "source": [
    "# shows the object's docstring\n",
    "%pinfo foo"
   ]
  },
  {
   "cell_type": "code",
   "execution_count": 5,
   "metadata": {},
   "outputs": [],
   "source": [
    "# shows the full source code\n",
    "%pinfo2 foo"
   ]
  },
  {
   "cell_type": "markdown",
   "metadata": {},
   "source": [
    "These are so handy that they have their own special syntax: `?` and `??`, placed either before or after the object's name:"
   ]
  },
  {
   "cell_type": "code",
   "execution_count": 6,
   "metadata": {},
   "outputs": [],
   "source": [
    "?foo"
   ]
  },
  {
   "cell_type": "code",
   "execution_count": 7,
   "metadata": {},
   "outputs": [],
   "source": [
    "foo?"
   ]
  },
  {
   "cell_type": "code",
   "execution_count": 8,
   "metadata": {},
   "outputs": [],
   "source": [
    "??foo"
   ]
  },
  {
   "cell_type": "code",
   "execution_count": 9,
   "metadata": {},
   "outputs": [],
   "source": [
    "foo??"
   ]
  },
  {
   "cell_type": "markdown",
   "metadata": {},
   "source": [
    "Of course, this also works with magic functions:"
   ]
  },
  {
   "cell_type": "code",
   "execution_count": 10,
   "metadata": {},
   "outputs": [],
   "source": [
    "?%pylab"
   ]
  },
  {
   "cell_type": "markdown",
   "metadata": {},
   "source": [
    "You can also open a documentation popup by pressing `Shift+Tab` with your cursor placed in or after a variable name. Repeating the command cycles through different levels of detail.\n",
    "\n",
    "### Manipulating objects\n",
    "\n",
    "The appeal of an interactive environment like Jupyter is that you can inspect any object you're working with by just evaluating it:"
   ]
  },
  {
   "cell_type": "code",
   "execution_count": 11,
   "metadata": {},
   "outputs": [],
   "source": [
    "foo = 1"
   ]
  },
  {
   "cell_type": "code",
   "execution_count": 12,
   "metadata": {},
   "outputs": [
    {
     "data": {
      "text/plain": [
       "1"
      ]
     },
     "execution_count": 12,
     "metadata": {},
     "output_type": "execute_result"
    }
   ],
   "source": [
    "foo"
   ]
  },
  {
   "cell_type": "markdown",
   "metadata": {},
   "source": [
    "`%who` and `%whos` will show you all the objects you've defined:"
   ]
  },
  {
   "cell_type": "code",
   "execution_count": 13,
   "metadata": {},
   "outputs": [
    {
     "name": "stdout",
     "output_type": "stream",
     "text": [
      "foo\t \n"
     ]
    }
   ],
   "source": [
    "%who"
   ]
  },
  {
   "cell_type": "code",
   "execution_count": 14,
   "metadata": {},
   "outputs": [
    {
     "name": "stdout",
     "output_type": "stream",
     "text": [
      "Variable   Type    Data/Info\n",
      "----------------------------\n",
      "foo        int     1\n"
     ]
    }
   ],
   "source": [
    "%whos"
   ]
  },
  {
   "cell_type": "markdown",
   "metadata": {},
   "source": [
    "Sometimes though, these objects are large and you don't want to litter your notebook with tons of output you'll delete right afterwards. (Also, if you forget to delete it, your notebook might get [too large to save](https://github.com/jupyter/notebook/issues/650).) That's when you need to use the Jupyter pager, which lets you inspect an object in a separate window."
   ]
  },
  {
   "cell_type": "code",
   "execution_count": 15,
   "metadata": {},
   "outputs": [],
   "source": [
    "foo = \"This is a line of text.\\n\" * 1000"
   ]
  },
  {
   "cell_type": "code",
   "execution_count": 16,
   "metadata": {},
   "outputs": [],
   "source": [
    "%page foo"
   ]
  },
  {
   "cell_type": "markdown",
   "metadata": {},
   "source": [
    "By default, the pager pretty-prints objects using the `pprint()` function from the `pprint` module. This is handy for collections, because it nicely shows the nesting hierarchy, but not so much for strings, because special characters like newlines `\\n` are shown as escape sequences. If you want the string to look like it would if it were a text file, pass the `-r` option (\"raw\") to page through the result of calling `str()` on the object instead:"
   ]
  },
  {
   "cell_type": "code",
   "execution_count": 17,
   "metadata": {},
   "outputs": [],
   "source": [
    "%page -r foo"
   ]
  },
  {
   "cell_type": "markdown",
   "metadata": {},
   "source": [
    "If you want to inspect the source code of a module, use `%pfile` on the object representing that module, or an object imported from that module:"
   ]
  },
  {
   "cell_type": "code",
   "execution_count": 18,
   "metadata": {},
   "outputs": [],
   "source": [
    "import os\n",
    "from random import choice"
   ]
  },
  {
   "cell_type": "code",
   "execution_count": 19,
   "metadata": {},
   "outputs": [],
   "source": [
    "%pfile os"
   ]
  },
  {
   "cell_type": "code",
   "execution_count": 20,
   "metadata": {},
   "outputs": [],
   "source": [
    "%pfile choice"
   ]
  },
  {
   "cell_type": "markdown",
   "metadata": {},
   "source": [
    "Sometimes, you create an object which you know you will want to reuse in a different session or maybe in a completely different notebook. A lightweight way to achieve this is using the `%store` magic:"
   ]
  },
  {
   "cell_type": "code",
   "execution_count": 21,
   "metadata": {},
   "outputs": [
    {
     "name": "stdout",
     "output_type": "stream",
     "text": [
      "Stored 'foo' (str)\n"
     ]
    }
   ],
   "source": [
    "%store foo"
   ]
  },
  {
   "cell_type": "markdown",
   "metadata": {},
   "source": [
    "You can list the values stored in your database by invoking `%store` without arguments:"
   ]
  },
  {
   "cell_type": "code",
   "execution_count": 22,
   "metadata": {},
   "outputs": [
    {
     "name": "stdout",
     "output_type": "stream",
     "text": [
      "Stored variables and their in-db values:\n",
      "foo             -> 'This is a line of text.\\nThis is a line of text.\\\n"
     ]
    }
   ],
   "source": [
    "%store"
   ]
  },
  {
   "cell_type": "markdown",
   "metadata": {},
   "source": [
    "To restore a variable from the database into your current Python process, use the `-r` option:"
   ]
  },
  {
   "cell_type": "code",
   "execution_count": 23,
   "metadata": {},
   "outputs": [],
   "source": [
    "# restores only `foo`\n",
    "%store -r foo"
   ]
  },
  {
   "cell_type": "code",
   "execution_count": 24,
   "metadata": {},
   "outputs": [],
   "source": [
    "# restores all variables in the database\n",
    "%store -r"
   ]
  },
  {
   "cell_type": "markdown",
   "metadata": {},
   "source": [
    "And this is how you clear no longer needed variables from storage:"
   ]
  },
  {
   "cell_type": "code",
   "execution_count": 25,
   "metadata": {},
   "outputs": [],
   "source": [
    "# removes `foo`\n",
    "%store -d foo"
   ]
  },
  {
   "cell_type": "code",
   "execution_count": 26,
   "metadata": {},
   "outputs": [],
   "source": [
    "# removes all variables\n",
    "%store -z"
   ]
  },
  {
   "cell_type": "code",
   "execution_count": 27,
   "metadata": {},
   "outputs": [
    {
     "name": "stdout",
     "output_type": "stream",
     "text": [
      "Stored variables and their in-db values:\n"
     ]
    }
   ],
   "source": [
    "%store"
   ]
  },
  {
   "cell_type": "markdown",
   "metadata": {},
   "source": [
    "### Working with the file system\n",
    "\n",
    "`%ls` lists files in the directory where your notebook is stored:"
   ]
  },
  {
   "cell_type": "code",
   "execution_count": 28,
   "metadata": {},
   "outputs": [
    {
     "name": "stdout",
     "output_type": "stream",
     "text": [
      "3foos.py              command_line_intro.ipynb  pos_tagging.ipynb    zipf.ipynb\r\n",
      "classification.ipynb  foo.py                    regex.ipynb\r\n",
      "cmudict.ipynb         jupyter_magic.ipynb       unicode.ipynb\r\n",
      "collocations.ipynb    libraries.ipynb           xcorr_vs_conv.ipynb\r\n"
     ]
    }
   ],
   "source": [
    "%ls"
   ]
  },
  {
   "cell_type": "markdown",
   "metadata": {},
   "source": [
    "If you provide a path as argument, it lists that directory instead:"
   ]
  },
  {
   "cell_type": "code",
   "execution_count": 29,
   "metadata": {},
   "outputs": [
    {
     "name": "stdout",
     "output_type": "stream",
     "text": [
      "\u001b[0m\u001b[01;34mconf.d\u001b[0m/         koi-utf     nginx.conf    \u001b[01;34msites-available\u001b[0m/  uwsgi_params\r\n",
      "fastcgi.conf    koi-win     proxy_params  \u001b[01;34msites-enabled\u001b[0m/    win-utf\r\n",
      "fastcgi_params  mime.types  scgi_params   \u001b[01;34msnippets\u001b[0m/\r\n"
     ]
    }
   ],
   "source": [
    "%ls /etc/nginx"
   ]
  },
  {
   "cell_type": "markdown",
   "metadata": {},
   "source": [
    "If you provide a [glob pattern](https://en.wikipedia.org/wiki/Glob_%28programming%29), then only files that match it are listed:"
   ]
  },
  {
   "cell_type": "code",
   "execution_count": 30,
   "metadata": {},
   "outputs": [
    {
     "name": "stdout",
     "output_type": "stream",
     "text": [
      "/etc/nginx/fastcgi.conf  /etc/nginx/nginx.conf\r\n"
     ]
    }
   ],
   "source": [
    "%ls /etc/nginx/*.conf"
   ]
  },
  {
   "cell_type": "markdown",
   "metadata": {},
   "source": [
    "`%ll` (\"long listing\") formats the listing as one entry per line with columns providing additional information:"
   ]
  },
  {
   "cell_type": "code",
   "execution_count": 31,
   "metadata": {},
   "outputs": [
    {
     "name": "stdout",
     "output_type": "stream",
     "text": [
      "total 12805\r\n",
      "drwxrwsrwt+  3 lukes 2000147 Oct  4 18:52 \u001b[0m\u001b[30;42mexchange\u001b[0m/\r\n",
      "drwxrwsr-x+ 21 lukes 2041640 Oct 24 14:44 \u001b[01;34mlukes\u001b[0m/\r\n",
      "drwxrwsr-x+  9 lukes 2060567 Dec 18 21:54 \u001b[01;34mmda\u001b[0m/\r\n",
      "drwxrwsr-x+ 14 lukes 3001102 Oct 31 17:39 \u001b[01;34mpython\u001b[0m/\r\n",
      "drwxrwsr-x+  4 lukes 2004559 Feb 23  2017 \u001b[01;34mr\u001b[0m/\r\n",
      "drwxr-sr-x+  4 lukes 2002420 Mar  9  2017 \u001b[01;34mtextlink\u001b[0m/\r\n"
     ]
    }
   ],
   "source": [
    "%ll ~/edu/"
   ]
  },
  {
   "cell_type": "markdown",
   "metadata": {},
   "source": [
    "One of those columns indicates file size, which is great, but they're in bytes, which is less great (hard to read at a glance). The `-h` option makes the file sizes print in human-readable format:"
   ]
  },
  {
   "cell_type": "code",
   "execution_count": 32,
   "metadata": {},
   "outputs": [
    {
     "name": "stdout",
     "output_type": "stream",
     "text": [
      "-rw-rw-r--+ 1 lukes 1.5G Nov  1  2016 /home/lukes/edu/python/syn2015.gz\r\n",
      "-rw-rw-r--+ 1 lukes 112M Nov  2  2016 /home/lukes/edu/python/syn2015_sample\r\n"
     ]
    }
   ],
   "source": [
    "%ll -h ~/edu/python/syn*"
   ]
  },
  {
   "cell_type": "markdown",
   "metadata": {},
   "source": [
    "`%%writefile` writes the contents of a cell to a file:"
   ]
  },
  {
   "cell_type": "code",
   "execution_count": 33,
   "metadata": {
    "scrolled": true
   },
   "outputs": [
    {
     "name": "stdout",
     "output_type": "stream",
     "text": [
      "Writing foo.py\n"
     ]
    }
   ],
   "source": [
    "%%writefile foo.py\n",
    "\n",
    "def foo():\n",
    "    \"This foo function returns bar.\"\n",
    "    return \"bar\""
   ]
  },
  {
   "cell_type": "markdown",
   "metadata": {},
   "source": [
    "`%cat` prints the contents of a file into the notebook:"
   ]
  },
  {
   "cell_type": "code",
   "execution_count": 34,
   "metadata": {},
   "outputs": [
    {
     "name": "stdout",
     "output_type": "stream",
     "text": [
      "\r\n",
      "def foo():\r\n",
      "    \"This foo function returns bar.\"\r\n",
      "    return \"bar\""
     ]
    }
   ],
   "source": [
    "%cat foo.py"
   ]
  },
  {
   "cell_type": "markdown",
   "metadata": {},
   "source": [
    "`%cat` is called `%cat` because it can also con**cat**enate multiple files (or the same file, multiple times):"
   ]
  },
  {
   "cell_type": "code",
   "execution_count": 35,
   "metadata": {},
   "outputs": [
    {
     "name": "stdout",
     "output_type": "stream",
     "text": [
      "\r\n",
      "def foo():\r\n",
      "    \"This foo function returns bar.\"\r\n",
      "    return \"bar\"\r\n",
      "def foo():\r\n",
      "    \"This foo function returns bar.\"\r\n",
      "    return \"bar\""
     ]
    }
   ],
   "source": [
    "%cat foo.py foo.py"
   ]
  },
  {
   "cell_type": "markdown",
   "metadata": {},
   "source": [
    "The output of `%cat` can be saved into a file with `>` (if the file exists, it's overwritten):"
   ]
  },
  {
   "cell_type": "code",
   "execution_count": 36,
   "metadata": {},
   "outputs": [],
   "source": [
    "%cat foo.py foo.py >3foos.py"
   ]
  },
  {
   "cell_type": "code",
   "execution_count": 37,
   "metadata": {},
   "outputs": [
    {
     "name": "stdout",
     "output_type": "stream",
     "text": [
      "\r\n",
      "def foo():\r\n",
      "    \"This foo function returns bar.\"\r\n",
      "    return \"bar\"\r\n",
      "def foo():\r\n",
      "    \"This foo function returns bar.\"\r\n",
      "    return \"bar\""
     ]
    }
   ],
   "source": [
    "%cat 3foos.py"
   ]
  },
  {
   "cell_type": "markdown",
   "metadata": {},
   "source": [
    "Hey! Our `3foos.py` is one foo short. Let's add it by **appending** to the file with `>>`:"
   ]
  },
  {
   "cell_type": "code",
   "execution_count": 38,
   "metadata": {},
   "outputs": [],
   "source": [
    "%cat foo.py >>3foos.py"
   ]
  },
  {
   "cell_type": "code",
   "execution_count": 39,
   "metadata": {},
   "outputs": [
    {
     "name": "stdout",
     "output_type": "stream",
     "text": [
      "\r\n",
      "def foo():\r\n",
      "    \"This foo function returns bar.\"\r\n",
      "    return \"bar\"\r\n",
      "def foo():\r\n",
      "    \"This foo function returns bar.\"\r\n",
      "    return \"bar\"\r\n",
      "def foo():\r\n",
      "    \"This foo function returns bar.\"\r\n",
      "    return \"bar\""
     ]
    }
   ],
   "source": [
    "%cat 3foos.py"
   ]
  },
  {
   "cell_type": "markdown",
   "metadata": {},
   "source": [
    "There, much better.\n",
    "\n",
    "`%less` opens a file in the pager (with nice syntax highlighting if it's a Python source file):"
   ]
  },
  {
   "cell_type": "code",
   "execution_count": 40,
   "metadata": {},
   "outputs": [],
   "source": [
    "%less foo.py"
   ]
  },
  {
   "cell_type": "markdown",
   "metadata": {},
   "source": [
    "`%less` is named after the program `less`, which is used to page through text files at the command line. Why is the original `less` called \"less\"? Because an earlier pager program was called `more` (as in \"show me *more* of this text file\"), and as the saying goes, \"less is more\".\n",
    "\n",
    "(Programmers are fond of dad jokes. I like how this one works on multiple levels -- the literal meaning that `less`-the-program is intended to replace `more`-the-program interacts with the figurative meaning that having less is better than having more, and both coalesce into \"use `less` because it's better than `more`\".)\n",
    "\n",
    "`%cat` and `%ls` are also named after corresponding command line programs."
   ]
  },
  {
   "cell_type": "markdown",
   "metadata": {},
   "source": [
    "### Finding out more about your code\n",
    "\n",
    "When developing, code often behaves differently from what you intended when you wrote it. The following tools might help you find out why.\n",
    "\n",
    "Timing the execution of a piece of code will help you determine if it's slowing you down. The `%timeit` magic has your back, it runs your code repeatedly and thus provides more reliable estimates. It comes in both line and cell variants."
   ]
  },
  {
   "cell_type": "code",
   "execution_count": 41,
   "metadata": {},
   "outputs": [
    {
     "name": "stdout",
     "output_type": "stream",
     "text": [
      "61.4 ms ± 7.63 ms per loop (mean ± std. dev. of 7 runs, 10 loops each)\n"
     ]
    }
   ],
   "source": [
    "%timeit sorted(range(1_000_000))"
   ]
  },
  {
   "cell_type": "code",
   "execution_count": 42,
   "metadata": {},
   "outputs": [
    {
     "name": "stdout",
     "output_type": "stream",
     "text": [
      "68.8 ms ± 7.57 ms per loop (mean ± std. dev. of 7 runs, 10 loops each)\n"
     ]
    }
   ],
   "source": [
    "%%timeit\n",
    "lst = list(range(1_000_000))\n",
    "sorted(lst)"
   ]
  },
  {
   "cell_type": "markdown",
   "metadata": {},
   "source": [
    "The cell variant can include initialization code on the first line, which is run only once:"
   ]
  },
  {
   "cell_type": "code",
   "execution_count": 43,
   "metadata": {},
   "outputs": [
    {
     "name": "stdout",
     "output_type": "stream",
     "text": [
      "28.8 ms ± 4.84 ms per loop (mean ± std. dev. of 7 runs, 10 loops each)\n"
     ]
    }
   ],
   "source": [
    "%%timeit lst = list(range(1_000_000))\n",
    "sorted(lst)"
   ]
  },
  {
   "cell_type": "markdown",
   "metadata": {},
   "source": [
    "If you have the [memory_profiler](https://github.com/pythonprofilers/memory_profiler) library installed, you can load its magic extension and use `%memit` in the same way as `%timeit` to get a notion of how much memory your code is consuming."
   ]
  },
  {
   "cell_type": "code",
   "execution_count": 44,
   "metadata": {},
   "outputs": [],
   "source": [
    "%load_ext memory_profiler"
   ]
  },
  {
   "cell_type": "code",
   "execution_count": 45,
   "metadata": {},
   "outputs": [
    {
     "name": "stdout",
     "output_type": "stream",
     "text": [
      "peak memory: 82.43 MiB, increment: 35.71 MiB\n"
     ]
    }
   ],
   "source": [
    "%memit list(range(1_000_000))"
   ]
  },
  {
   "cell_type": "markdown",
   "metadata": {},
   "source": [
    "*Peak memory* is the highest total amount of memory the Python process used when your code ran. *Increment* is peak memory minus the amount of memory Python used *before* your code ran."
   ]
  },
  {
   "cell_type": "code",
   "execution_count": 46,
   "metadata": {},
   "outputs": [
    {
     "name": "stdout",
     "output_type": "stream",
     "text": [
      "peak memory: 127.82 MiB, increment: 73.29 MiB\n"
     ]
    }
   ],
   "source": [
    "%%memit\n",
    "lst = list(range(1_000_000))\n",
    "even = [i for i in lst if i % 2 == 0]"
   ]
  },
  {
   "cell_type": "code",
   "execution_count": 47,
   "metadata": {},
   "outputs": [
    {
     "name": "stdout",
     "output_type": "stream",
     "text": [
      "peak memory: 98.02 MiB, increment: -30.69 MiB\n"
     ]
    }
   ],
   "source": [
    "%%memit lst = list(range(1_000_000))\n",
    "even = [i for i in lst if i % 2 == 0]"
   ]
  },
  {
   "cell_type": "markdown",
   "metadata": {},
   "source": [
    "If you have a more involved piece of code where multiple functions are called, you may need more granular information about running times than that provided by `%timeit`. In that case, you can resort to **profiling** using the `%prun` magic. Profiling tells you how fast different parts of your code run relative to each other, in other words, where your bottlenecks are."
   ]
  },
  {
   "cell_type": "code",
   "execution_count": 48,
   "metadata": {},
   "outputs": [],
   "source": [
    "import time\n",
    "\n",
    "def really_slow():\n",
    "    time.sleep(1)\n",
    "\n",
    "def fast():\n",
    "    pass\n",
    "\n",
    "def only_slow_because_it_calls_another_slow_function():\n",
    "    fast()\n",
    "    really_slow()"
   ]
  },
  {
   "cell_type": "code",
   "execution_count": 49,
   "metadata": {},
   "outputs": [
    {
     "name": "stdout",
     "output_type": "stream",
     "text": [
      " "
     ]
    }
   ],
   "source": [
    "%prun only_slow_because_it_calls_another_slow_function()"
   ]
  },
  {
   "cell_type": "markdown",
   "metadata": {},
   "source": [
    "The results show up in the pager, here's a copy:\n",
    "\n",
    "```\n",
    "         7 function calls in 1.001 seconds\n",
    "\n",
    "   Ordered by: internal time\n",
    "\n",
    "   ncalls  tottime  percall  cumtime  percall filename:lineno(function)\n",
    "        1    1.001    1.001    1.001    1.001 {built-in method time.sleep}\n",
    "        1    0.000    0.000    1.001    1.001 {built-in method builtins.exec}\n",
    "        1    0.000    0.000    1.001    1.001 <ipython-input-81-8d3b1f67a0d9>:3(really_slow)\n",
    "        1    0.000    0.000    1.001    1.001 <ipython-input-81-8d3b1f67a0d9>:9(only_slow_because_it_calls_another_slow_function)\n",
    "        1    0.000    0.000    1.001    1.001 <string>:1(<module>)\n",
    "        1    0.000    0.000    0.000    0.000 <ipython-input-81-8d3b1f67a0d9>:6(fast)\n",
    "        1    0.000    0.000    0.000    0.000 {method 'disable' of '_lsprof.Profiler' objects}\n",
    "```\n",
    "\n",
    "`%prun` also has a cell variant:"
   ]
  },
  {
   "cell_type": "code",
   "execution_count": 50,
   "metadata": {},
   "outputs": [
    {
     "name": "stdout",
     "output_type": "stream",
     "text": [
      " "
     ]
    }
   ],
   "source": [
    "%%prun\n",
    "really_slow()\n",
    "fast()"
   ]
  },
  {
   "cell_type": "markdown",
   "metadata": {},
   "source": [
    "```\n",
    "         6 function calls in 1.001 seconds\n",
    "\n",
    "   Ordered by: internal time\n",
    "\n",
    "   ncalls  tottime  percall  cumtime  percall filename:lineno(function)\n",
    "        1    1.001    1.001    1.001    1.001 {built-in method time.sleep}\n",
    "        1    0.000    0.000    1.001    1.001 {built-in method builtins.exec}\n",
    "        1    0.000    0.000    1.001    1.001 <string>:2(<module>)\n",
    "        1    0.000    0.000    1.001    1.001 <ipython-input-81-8d3b1f67a0d9>:3(really_slow)\n",
    "        1    0.000    0.000    0.000    0.000 <ipython-input-81-8d3b1f67a0d9>:6(fast)\n",
    "        1    0.000    0.000    0.000    0.000 {method 'disable' of '_lsprof.Profiler' objects}\n",
    "```\n",
    "\n",
    "Perhaps the most useful magic for development is `%debug`, which allows you to pause the execution of a piece of code, examine the variables which are defined at that moment in time, resume execution fully or step-by-step etc. You can either pass a statement that you want to debug as argument:"
   ]
  },
  {
   "cell_type": "code",
   "execution_count": 51,
   "metadata": {},
   "outputs": [],
   "source": [
    "def foo():\n",
    "    for i in range(10):\n",
    "        print(\"printing\", i)"
   ]
  },
  {
   "cell_type": "code",
   "execution_count": 52,
   "metadata": {},
   "outputs": [
    {
     "name": "stdout",
     "output_type": "stream",
     "text": [
      "NOTE: Enter 'c' at the ipdb>  prompt to continue execution.\n",
      "> \u001b[0;32m<string>\u001b[0m(1)\u001b[0;36m<module>\u001b[0;34m()\u001b[0m\n",
      "\n",
      "ipdb> help\n",
      "\n",
      "Documented commands (type help <topic>):\n",
      "========================================\n",
      "EOF    cl         disable  interact  next    psource  rv         unt   \n",
      "a      clear      display  j         p       q        s          until \n",
      "alias  commands   down     jump      pdef    quit     source     up    \n",
      "args   condition  enable   l         pdoc    r        step       w     \n",
      "b      cont       exit     list      pfile   restart  tbreak     whatis\n",
      "break  continue   h        ll        pinfo   return   u          where \n",
      "bt     d          help     longlist  pinfo2  retval   unalias  \n",
      "c      debug      ignore   n         pp      run      undisplay\n",
      "\n",
      "Miscellaneous help topics:\n",
      "==========================\n",
      "exec  pdb\n",
      "\n",
      "ipdb> step\n",
      "--Call--\n",
      "> \u001b[0;32m<ipython-input-51-e20c0aea6cfb>\u001b[0m(1)\u001b[0;36mfoo\u001b[0;34m()\u001b[0m\n",
      "\u001b[0;32m----> 1 \u001b[0;31m\u001b[0;32mdef\u001b[0m \u001b[0mfoo\u001b[0m\u001b[0;34m(\u001b[0m\u001b[0;34m)\u001b[0m\u001b[0;34m:\u001b[0m\u001b[0;34m\u001b[0m\u001b[0m\n",
      "\u001b[0m\u001b[0;32m      2 \u001b[0;31m    \u001b[0;32mfor\u001b[0m \u001b[0mi\u001b[0m \u001b[0;32min\u001b[0m \u001b[0mrange\u001b[0m\u001b[0;34m(\u001b[0m\u001b[0;36m10\u001b[0m\u001b[0;34m)\u001b[0m\u001b[0;34m:\u001b[0m\u001b[0;34m\u001b[0m\u001b[0m\n",
      "\u001b[0m\u001b[0;32m      3 \u001b[0;31m        \u001b[0mprint\u001b[0m\u001b[0;34m(\u001b[0m\u001b[0;34m\"printing\"\u001b[0m\u001b[0;34m,\u001b[0m \u001b[0mi\u001b[0m\u001b[0;34m)\u001b[0m\u001b[0;34m\u001b[0m\u001b[0m\n",
      "\u001b[0m\n",
      "ipdb> next\n",
      "> \u001b[0;32m<ipython-input-51-e20c0aea6cfb>\u001b[0m(2)\u001b[0;36mfoo\u001b[0;34m()\u001b[0m\n",
      "\u001b[0;32m      1 \u001b[0;31m\u001b[0;32mdef\u001b[0m \u001b[0mfoo\u001b[0m\u001b[0;34m(\u001b[0m\u001b[0;34m)\u001b[0m\u001b[0;34m:\u001b[0m\u001b[0;34m\u001b[0m\u001b[0m\n",
      "\u001b[0m\u001b[0;32m----> 2 \u001b[0;31m    \u001b[0;32mfor\u001b[0m \u001b[0mi\u001b[0m \u001b[0;32min\u001b[0m \u001b[0mrange\u001b[0m\u001b[0;34m(\u001b[0m\u001b[0;36m10\u001b[0m\u001b[0;34m)\u001b[0m\u001b[0;34m:\u001b[0m\u001b[0;34m\u001b[0m\u001b[0m\n",
      "\u001b[0m\u001b[0;32m      3 \u001b[0;31m        \u001b[0mprint\u001b[0m\u001b[0;34m(\u001b[0m\u001b[0;34m\"printing\"\u001b[0m\u001b[0;34m,\u001b[0m \u001b[0mi\u001b[0m\u001b[0;34m)\u001b[0m\u001b[0;34m\u001b[0m\u001b[0m\n",
      "\u001b[0m\n",
      "ipdb> next\n",
      "> \u001b[0;32m<ipython-input-51-e20c0aea6cfb>\u001b[0m(3)\u001b[0;36mfoo\u001b[0;34m()\u001b[0m\n",
      "\u001b[0;32m      1 \u001b[0;31m\u001b[0;32mdef\u001b[0m \u001b[0mfoo\u001b[0m\u001b[0;34m(\u001b[0m\u001b[0;34m)\u001b[0m\u001b[0;34m:\u001b[0m\u001b[0;34m\u001b[0m\u001b[0m\n",
      "\u001b[0m\u001b[0;32m      2 \u001b[0;31m    \u001b[0;32mfor\u001b[0m \u001b[0mi\u001b[0m \u001b[0;32min\u001b[0m \u001b[0mrange\u001b[0m\u001b[0;34m(\u001b[0m\u001b[0;36m10\u001b[0m\u001b[0;34m)\u001b[0m\u001b[0;34m:\u001b[0m\u001b[0;34m\u001b[0m\u001b[0m\n",
      "\u001b[0m\u001b[0;32m----> 3 \u001b[0;31m        \u001b[0mprint\u001b[0m\u001b[0;34m(\u001b[0m\u001b[0;34m\"printing\"\u001b[0m\u001b[0;34m,\u001b[0m \u001b[0mi\u001b[0m\u001b[0;34m)\u001b[0m\u001b[0;34m\u001b[0m\u001b[0m\n",
      "\u001b[0m\n",
      "ipdb> i\n",
      "0\n",
      "ipdb> next\n",
      "printing 0\n",
      "> \u001b[0;32m<ipython-input-51-e20c0aea6cfb>\u001b[0m(2)\u001b[0;36mfoo\u001b[0;34m()\u001b[0m\n",
      "\u001b[0;32m      1 \u001b[0;31m\u001b[0;32mdef\u001b[0m \u001b[0mfoo\u001b[0m\u001b[0;34m(\u001b[0m\u001b[0;34m)\u001b[0m\u001b[0;34m:\u001b[0m\u001b[0;34m\u001b[0m\u001b[0m\n",
      "\u001b[0m\u001b[0;32m----> 2 \u001b[0;31m    \u001b[0;32mfor\u001b[0m \u001b[0mi\u001b[0m \u001b[0;32min\u001b[0m \u001b[0mrange\u001b[0m\u001b[0;34m(\u001b[0m\u001b[0;36m10\u001b[0m\u001b[0;34m)\u001b[0m\u001b[0;34m:\u001b[0m\u001b[0;34m\u001b[0m\u001b[0m\n",
      "\u001b[0m\u001b[0;32m      3 \u001b[0;31m        \u001b[0mprint\u001b[0m\u001b[0;34m(\u001b[0m\u001b[0;34m\"printing\"\u001b[0m\u001b[0;34m,\u001b[0m \u001b[0mi\u001b[0m\u001b[0;34m)\u001b[0m\u001b[0;34m\u001b[0m\u001b[0m\n",
      "\u001b[0m\n",
      "ipdb> next\n",
      "> \u001b[0;32m<ipython-input-51-e20c0aea6cfb>\u001b[0m(3)\u001b[0;36mfoo\u001b[0;34m()\u001b[0m\n",
      "\u001b[0;32m      1 \u001b[0;31m\u001b[0;32mdef\u001b[0m \u001b[0mfoo\u001b[0m\u001b[0;34m(\u001b[0m\u001b[0;34m)\u001b[0m\u001b[0;34m:\u001b[0m\u001b[0;34m\u001b[0m\u001b[0m\n",
      "\u001b[0m\u001b[0;32m      2 \u001b[0;31m    \u001b[0;32mfor\u001b[0m \u001b[0mi\u001b[0m \u001b[0;32min\u001b[0m \u001b[0mrange\u001b[0m\u001b[0;34m(\u001b[0m\u001b[0;36m10\u001b[0m\u001b[0;34m)\u001b[0m\u001b[0;34m:\u001b[0m\u001b[0;34m\u001b[0m\u001b[0m\n",
      "\u001b[0m\u001b[0;32m----> 3 \u001b[0;31m        \u001b[0mprint\u001b[0m\u001b[0;34m(\u001b[0m\u001b[0;34m\"printing\"\u001b[0m\u001b[0;34m,\u001b[0m \u001b[0mi\u001b[0m\u001b[0;34m)\u001b[0m\u001b[0;34m\u001b[0m\u001b[0m\n",
      "\u001b[0m\n",
      "ipdb> i\n",
      "1\n",
      "ipdb> quit\n"
     ]
    }
   ],
   "source": [
    "%debug foo()"
   ]
  },
  {
   "cell_type": "markdown",
   "metadata": {},
   "source": [
    "Or you can invoke plain `%debug` after an exception has been raised to jump directly to the place where the error occurred, so that you can figure out why things went wrong:"
   ]
  },
  {
   "cell_type": "code",
   "execution_count": 53,
   "metadata": {},
   "outputs": [],
   "source": [
    "def foo():\n",
    "    dct = dict(foo=1)\n",
    "    return dct[\"bar\"]"
   ]
  },
  {
   "cell_type": "code",
   "execution_count": 54,
   "metadata": {},
   "outputs": [
    {
     "ename": "KeyError",
     "evalue": "'bar'",
     "output_type": "error",
     "traceback": [
      "\u001b[0;31m---------------------------------------------------------------------------\u001b[0m",
      "\u001b[0;31mKeyError\u001b[0m                                  Traceback (most recent call last)",
      "\u001b[0;32m<ipython-input-54-c19b6d9633cf>\u001b[0m in \u001b[0;36m<module>\u001b[0;34m()\u001b[0m\n\u001b[0;32m----> 1\u001b[0;31m \u001b[0mfoo\u001b[0m\u001b[0;34m(\u001b[0m\u001b[0;34m)\u001b[0m\u001b[0;34m\u001b[0m\u001b[0m\n\u001b[0m",
      "\u001b[0;32m<ipython-input-53-29ed6ce0c4f1>\u001b[0m in \u001b[0;36mfoo\u001b[0;34m()\u001b[0m\n\u001b[1;32m      1\u001b[0m \u001b[0;32mdef\u001b[0m \u001b[0mfoo\u001b[0m\u001b[0;34m(\u001b[0m\u001b[0;34m)\u001b[0m\u001b[0;34m:\u001b[0m\u001b[0;34m\u001b[0m\u001b[0m\n\u001b[1;32m      2\u001b[0m     \u001b[0mdct\u001b[0m \u001b[0;34m=\u001b[0m \u001b[0mdict\u001b[0m\u001b[0;34m(\u001b[0m\u001b[0mfoo\u001b[0m\u001b[0;34m=\u001b[0m\u001b[0;36m1\u001b[0m\u001b[0;34m)\u001b[0m\u001b[0;34m\u001b[0m\u001b[0m\n\u001b[0;32m----> 3\u001b[0;31m     \u001b[0;32mreturn\u001b[0m \u001b[0mdct\u001b[0m\u001b[0;34m[\u001b[0m\u001b[0;34m\"bar\"\u001b[0m\u001b[0;34m]\u001b[0m\u001b[0;34m\u001b[0m\u001b[0m\n\u001b[0m",
      "\u001b[0;31mKeyError\u001b[0m: 'bar'"
     ]
    }
   ],
   "source": [
    "foo()"
   ]
  },
  {
   "cell_type": "code",
   "execution_count": 55,
   "metadata": {},
   "outputs": [
    {
     "name": "stdout",
     "output_type": "stream",
     "text": [
      "> \u001b[0;32m<ipython-input-53-29ed6ce0c4f1>\u001b[0m(3)\u001b[0;36mfoo\u001b[0;34m()\u001b[0m\n",
      "\u001b[0;32m      1 \u001b[0;31m\u001b[0;32mdef\u001b[0m \u001b[0mfoo\u001b[0m\u001b[0;34m(\u001b[0m\u001b[0;34m)\u001b[0m\u001b[0;34m:\u001b[0m\u001b[0;34m\u001b[0m\u001b[0m\n",
      "\u001b[0m\u001b[0;32m      2 \u001b[0;31m    \u001b[0mdct\u001b[0m \u001b[0;34m=\u001b[0m \u001b[0mdict\u001b[0m\u001b[0;34m(\u001b[0m\u001b[0mfoo\u001b[0m\u001b[0;34m=\u001b[0m\u001b[0;36m1\u001b[0m\u001b[0;34m)\u001b[0m\u001b[0;34m\u001b[0m\u001b[0m\n",
      "\u001b[0m\u001b[0;32m----> 3 \u001b[0;31m    \u001b[0;32mreturn\u001b[0m \u001b[0mdct\u001b[0m\u001b[0;34m[\u001b[0m\u001b[0;34m\"bar\"\u001b[0m\u001b[0;34m]\u001b[0m\u001b[0;34m\u001b[0m\u001b[0m\n",
      "\u001b[0m\n",
      "ipdb> \"bar\" in dct\n",
      "False\n",
      "ipdb> dct.keys()\n",
      "dict_keys(['foo'])\n",
      "ipdb> quit\n"
     ]
    }
   ],
   "source": [
    "%debug"
   ]
  },
  {
   "cell_type": "markdown",
   "metadata": {},
   "source": [
    "If you want to pause one of your functions and explore its state at a particular point, set a *breakpoint* using the `set_trace()` function from the `IPython.core.debugger` module. The debugger will be automatically invoked when the call to `set_trace()` is reached during execution:"
   ]
  },
  {
   "cell_type": "code",
   "execution_count": 56,
   "metadata": {},
   "outputs": [],
   "source": [
    "from IPython.core.debugger import set_trace\n",
    "\n",
    "def foo():\n",
    "    for i in range(2):\n",
    "        set_trace()\n",
    "        print(\"printing\", i)"
   ]
  },
  {
   "cell_type": "code",
   "execution_count": 57,
   "metadata": {},
   "outputs": [
    {
     "name": "stdout",
     "output_type": "stream",
     "text": [
      "> \u001b[0;32m<ipython-input-56-805417d84ad8>\u001b[0m(6)\u001b[0;36mfoo\u001b[0;34m()\u001b[0m\n",
      "\u001b[0;32m      2 \u001b[0;31m\u001b[0;34m\u001b[0m\u001b[0m\n",
      "\u001b[0m\u001b[0;32m      3 \u001b[0;31m\u001b[0;32mdef\u001b[0m \u001b[0mfoo\u001b[0m\u001b[0;34m(\u001b[0m\u001b[0;34m)\u001b[0m\u001b[0;34m:\u001b[0m\u001b[0;34m\u001b[0m\u001b[0m\n",
      "\u001b[0m\u001b[0;32m      4 \u001b[0;31m    \u001b[0;32mfor\u001b[0m \u001b[0mi\u001b[0m \u001b[0;32min\u001b[0m \u001b[0mrange\u001b[0m\u001b[0;34m(\u001b[0m\u001b[0;36m2\u001b[0m\u001b[0;34m)\u001b[0m\u001b[0;34m:\u001b[0m\u001b[0;34m\u001b[0m\u001b[0m\n",
      "\u001b[0m\u001b[0;32m      5 \u001b[0;31m        \u001b[0mset_trace\u001b[0m\u001b[0;34m(\u001b[0m\u001b[0;34m)\u001b[0m\u001b[0;34m\u001b[0m\u001b[0m\n",
      "\u001b[0m\u001b[0;32m----> 6 \u001b[0;31m        \u001b[0mprint\u001b[0m\u001b[0;34m(\u001b[0m\u001b[0;34m\"printing\"\u001b[0m\u001b[0;34m,\u001b[0m \u001b[0mi\u001b[0m\u001b[0;34m)\u001b[0m\u001b[0;34m\u001b[0m\u001b[0m\n",
      "\u001b[0m\n",
      "ipdb> i\n",
      "0\n",
      "ipdb> continue\n",
      "printing 0\n",
      "> \u001b[0;32m<ipython-input-56-805417d84ad8>\u001b[0m(5)\u001b[0;36mfoo\u001b[0;34m()\u001b[0m\n",
      "\u001b[0;32m      2 \u001b[0;31m\u001b[0;34m\u001b[0m\u001b[0m\n",
      "\u001b[0m\u001b[0;32m      3 \u001b[0;31m\u001b[0;32mdef\u001b[0m \u001b[0mfoo\u001b[0m\u001b[0;34m(\u001b[0m\u001b[0;34m)\u001b[0m\u001b[0;34m:\u001b[0m\u001b[0;34m\u001b[0m\u001b[0m\n",
      "\u001b[0m\u001b[0;32m      4 \u001b[0;31m    \u001b[0;32mfor\u001b[0m \u001b[0mi\u001b[0m \u001b[0;32min\u001b[0m \u001b[0mrange\u001b[0m\u001b[0;34m(\u001b[0m\u001b[0;36m2\u001b[0m\u001b[0;34m)\u001b[0m\u001b[0;34m:\u001b[0m\u001b[0;34m\u001b[0m\u001b[0m\n",
      "\u001b[0m\u001b[0;32m----> 5 \u001b[0;31m        \u001b[0mset_trace\u001b[0m\u001b[0;34m(\u001b[0m\u001b[0;34m)\u001b[0m\u001b[0;34m\u001b[0m\u001b[0m\n",
      "\u001b[0m\u001b[0;32m      6 \u001b[0;31m        \u001b[0mprint\u001b[0m\u001b[0;34m(\u001b[0m\u001b[0;34m\"printing\"\u001b[0m\u001b[0;34m,\u001b[0m \u001b[0mi\u001b[0m\u001b[0;34m)\u001b[0m\u001b[0;34m\u001b[0m\u001b[0m\n",
      "\u001b[0m\n",
      "ipdb> i\n",
      "1\n",
      "ipdb> continue\n",
      "printing 1\n"
     ]
    }
   ],
   "source": [
    "foo()"
   ]
  },
  {
   "cell_type": "markdown",
   "metadata": {},
   "source": [
    "The Python debugger is called `pdb` and it has some special commands of its own which allow you to step through the execution. They can be listed by typing `help` at the debugger prompt (see above), or you can have a look at the [documentation](https://docs.python.org/3/library/pdb.html#debugger-commands). The examples above also illustrate what a typical debugging session looks like (stepping through the program, inspecting variables). When you want to stop debugging, don't forget to **quit the debugger** with `quit` (or just `q`) at the debugger prompt, or else your Python process will become unresponsive."
   ]
  },
  {
   "cell_type": "markdown",
   "metadata": {},
   "source": [
    "### Plotting\n",
    "\n",
    "Jupyter is tightly integrated with the [matplotlib](https://matplotlib.org/) plotting library. Plotting is enabled by running the `%matplotlib` magic with an argument specifying how the notebook should handle graphical output. `%matplotlib notebook` will generate an interactive plot which you can resize, pan, zoom and more. A word of caution though: when using this variant, once you're **done with the plot**, don't forget to **\"freeze\" it using the ⏻ symbol** in the upper right corner, or else subsequent plotting commands from different cells will all draw into this same plot."
   ]
  },
  {
   "cell_type": "code",
   "execution_count": 58,
   "metadata": {},
   "outputs": [],
   "source": [
    "%matplotlib notebook"
   ]
  },
  {
   "cell_type": "code",
   "execution_count": 59,
   "metadata": {},
   "outputs": [],
   "source": [
    "import matplotlib.pyplot as plt"
   ]
  },
  {
   "cell_type": "code",
   "execution_count": 60,
   "metadata": {},
   "outputs": [
    {
     "data": {
      "application/javascript": [
       "/* Put everything inside the global mpl namespace */\n",
       "window.mpl = {};\n",
       "\n",
       "\n",
       "mpl.get_websocket_type = function() {\n",
       "    if (typeof(WebSocket) !== 'undefined') {\n",
       "        return WebSocket;\n",
       "    } else if (typeof(MozWebSocket) !== 'undefined') {\n",
       "        return MozWebSocket;\n",
       "    } else {\n",
       "        alert('Your browser does not have WebSocket support.' +\n",
       "              'Please try Chrome, Safari or Firefox ≥ 6. ' +\n",
       "              'Firefox 4 and 5 are also supported but you ' +\n",
       "              'have to enable WebSockets in about:config.');\n",
       "    };\n",
       "}\n",
       "\n",
       "mpl.figure = function(figure_id, websocket, ondownload, parent_element) {\n",
       "    this.id = figure_id;\n",
       "\n",
       "    this.ws = websocket;\n",
       "\n",
       "    this.supports_binary = (this.ws.binaryType != undefined);\n",
       "\n",
       "    if (!this.supports_binary) {\n",
       "        var warnings = document.getElementById(\"mpl-warnings\");\n",
       "        if (warnings) {\n",
       "            warnings.style.display = 'block';\n",
       "            warnings.textContent = (\n",
       "                \"This browser does not support binary websocket messages. \" +\n",
       "                    \"Performance may be slow.\");\n",
       "        }\n",
       "    }\n",
       "\n",
       "    this.imageObj = new Image();\n",
       "\n",
       "    this.context = undefined;\n",
       "    this.message = undefined;\n",
       "    this.canvas = undefined;\n",
       "    this.rubberband_canvas = undefined;\n",
       "    this.rubberband_context = undefined;\n",
       "    this.format_dropdown = undefined;\n",
       "\n",
       "    this.image_mode = 'full';\n",
       "\n",
       "    this.root = $('<div/>');\n",
       "    this._root_extra_style(this.root)\n",
       "    this.root.attr('style', 'display: inline-block');\n",
       "\n",
       "    $(parent_element).append(this.root);\n",
       "\n",
       "    this._init_header(this);\n",
       "    this._init_canvas(this);\n",
       "    this._init_toolbar(this);\n",
       "\n",
       "    var fig = this;\n",
       "\n",
       "    this.waiting = false;\n",
       "\n",
       "    this.ws.onopen =  function () {\n",
       "            fig.send_message(\"supports_binary\", {value: fig.supports_binary});\n",
       "            fig.send_message(\"send_image_mode\", {});\n",
       "            if (mpl.ratio != 1) {\n",
       "                fig.send_message(\"set_dpi_ratio\", {'dpi_ratio': mpl.ratio});\n",
       "            }\n",
       "            fig.send_message(\"refresh\", {});\n",
       "        }\n",
       "\n",
       "    this.imageObj.onload = function() {\n",
       "            if (fig.image_mode == 'full') {\n",
       "                // Full images could contain transparency (where diff images\n",
       "                // almost always do), so we need to clear the canvas so that\n",
       "                // there is no ghosting.\n",
       "                fig.context.clearRect(0, 0, fig.canvas.width, fig.canvas.height);\n",
       "            }\n",
       "            fig.context.drawImage(fig.imageObj, 0, 0);\n",
       "        };\n",
       "\n",
       "    this.imageObj.onunload = function() {\n",
       "        this.ws.close();\n",
       "    }\n",
       "\n",
       "    this.ws.onmessage = this._make_on_message_function(this);\n",
       "\n",
       "    this.ondownload = ondownload;\n",
       "}\n",
       "\n",
       "mpl.figure.prototype._init_header = function() {\n",
       "    var titlebar = $(\n",
       "        '<div class=\"ui-dialog-titlebar ui-widget-header ui-corner-all ' +\n",
       "        'ui-helper-clearfix\"/>');\n",
       "    var titletext = $(\n",
       "        '<div class=\"ui-dialog-title\" style=\"width: 100%; ' +\n",
       "        'text-align: center; padding: 3px;\"/>');\n",
       "    titlebar.append(titletext)\n",
       "    this.root.append(titlebar);\n",
       "    this.header = titletext[0];\n",
       "}\n",
       "\n",
       "\n",
       "\n",
       "mpl.figure.prototype._canvas_extra_style = function(canvas_div) {\n",
       "\n",
       "}\n",
       "\n",
       "\n",
       "mpl.figure.prototype._root_extra_style = function(canvas_div) {\n",
       "\n",
       "}\n",
       "\n",
       "mpl.figure.prototype._init_canvas = function() {\n",
       "    var fig = this;\n",
       "\n",
       "    var canvas_div = $('<div/>');\n",
       "\n",
       "    canvas_div.attr('style', 'position: relative; clear: both; outline: 0');\n",
       "\n",
       "    function canvas_keyboard_event(event) {\n",
       "        return fig.key_event(event, event['data']);\n",
       "    }\n",
       "\n",
       "    canvas_div.keydown('key_press', canvas_keyboard_event);\n",
       "    canvas_div.keyup('key_release', canvas_keyboard_event);\n",
       "    this.canvas_div = canvas_div\n",
       "    this._canvas_extra_style(canvas_div)\n",
       "    this.root.append(canvas_div);\n",
       "\n",
       "    var canvas = $('<canvas/>');\n",
       "    canvas.addClass('mpl-canvas');\n",
       "    canvas.attr('style', \"left: 0; top: 0; z-index: 0; outline: 0\")\n",
       "\n",
       "    this.canvas = canvas[0];\n",
       "    this.context = canvas[0].getContext(\"2d\");\n",
       "\n",
       "    var backingStore = this.context.backingStorePixelRatio ||\n",
       "\tthis.context.webkitBackingStorePixelRatio ||\n",
       "\tthis.context.mozBackingStorePixelRatio ||\n",
       "\tthis.context.msBackingStorePixelRatio ||\n",
       "\tthis.context.oBackingStorePixelRatio ||\n",
       "\tthis.context.backingStorePixelRatio || 1;\n",
       "\n",
       "    mpl.ratio = (window.devicePixelRatio || 1) / backingStore;\n",
       "\n",
       "    var rubberband = $('<canvas/>');\n",
       "    rubberband.attr('style', \"position: absolute; left: 0; top: 0; z-index: 1;\")\n",
       "\n",
       "    var pass_mouse_events = true;\n",
       "\n",
       "    canvas_div.resizable({\n",
       "        start: function(event, ui) {\n",
       "            pass_mouse_events = false;\n",
       "        },\n",
       "        resize: function(event, ui) {\n",
       "            fig.request_resize(ui.size.width, ui.size.height);\n",
       "        },\n",
       "        stop: function(event, ui) {\n",
       "            pass_mouse_events = true;\n",
       "            fig.request_resize(ui.size.width, ui.size.height);\n",
       "        },\n",
       "    });\n",
       "\n",
       "    function mouse_event_fn(event) {\n",
       "        if (pass_mouse_events)\n",
       "            return fig.mouse_event(event, event['data']);\n",
       "    }\n",
       "\n",
       "    rubberband.mousedown('button_press', mouse_event_fn);\n",
       "    rubberband.mouseup('button_release', mouse_event_fn);\n",
       "    // Throttle sequential mouse events to 1 every 20ms.\n",
       "    rubberband.mousemove('motion_notify', mouse_event_fn);\n",
       "\n",
       "    rubberband.mouseenter('figure_enter', mouse_event_fn);\n",
       "    rubberband.mouseleave('figure_leave', mouse_event_fn);\n",
       "\n",
       "    canvas_div.on(\"wheel\", function (event) {\n",
       "        event = event.originalEvent;\n",
       "        event['data'] = 'scroll'\n",
       "        if (event.deltaY < 0) {\n",
       "            event.step = 1;\n",
       "        } else {\n",
       "            event.step = -1;\n",
       "        }\n",
       "        mouse_event_fn(event);\n",
       "    });\n",
       "\n",
       "    canvas_div.append(canvas);\n",
       "    canvas_div.append(rubberband);\n",
       "\n",
       "    this.rubberband = rubberband;\n",
       "    this.rubberband_canvas = rubberband[0];\n",
       "    this.rubberband_context = rubberband[0].getContext(\"2d\");\n",
       "    this.rubberband_context.strokeStyle = \"#000000\";\n",
       "\n",
       "    this._resize_canvas = function(width, height) {\n",
       "        // Keep the size of the canvas, canvas container, and rubber band\n",
       "        // canvas in synch.\n",
       "        canvas_div.css('width', width)\n",
       "        canvas_div.css('height', height)\n",
       "\n",
       "        canvas.attr('width', width * mpl.ratio);\n",
       "        canvas.attr('height', height * mpl.ratio);\n",
       "        canvas.attr('style', 'width: ' + width + 'px; height: ' + height + 'px;');\n",
       "\n",
       "        rubberband.attr('width', width);\n",
       "        rubberband.attr('height', height);\n",
       "    }\n",
       "\n",
       "    // Set the figure to an initial 600x600px, this will subsequently be updated\n",
       "    // upon first draw.\n",
       "    this._resize_canvas(600, 600);\n",
       "\n",
       "    // Disable right mouse context menu.\n",
       "    $(this.rubberband_canvas).bind(\"contextmenu\",function(e){\n",
       "        return false;\n",
       "    });\n",
       "\n",
       "    function set_focus () {\n",
       "        canvas.focus();\n",
       "        canvas_div.focus();\n",
       "    }\n",
       "\n",
       "    window.setTimeout(set_focus, 100);\n",
       "}\n",
       "\n",
       "mpl.figure.prototype._init_toolbar = function() {\n",
       "    var fig = this;\n",
       "\n",
       "    var nav_element = $('<div/>')\n",
       "    nav_element.attr('style', 'width: 100%');\n",
       "    this.root.append(nav_element);\n",
       "\n",
       "    // Define a callback function for later on.\n",
       "    function toolbar_event(event) {\n",
       "        return fig.toolbar_button_onclick(event['data']);\n",
       "    }\n",
       "    function toolbar_mouse_event(event) {\n",
       "        return fig.toolbar_button_onmouseover(event['data']);\n",
       "    }\n",
       "\n",
       "    for(var toolbar_ind in mpl.toolbar_items) {\n",
       "        var name = mpl.toolbar_items[toolbar_ind][0];\n",
       "        var tooltip = mpl.toolbar_items[toolbar_ind][1];\n",
       "        var image = mpl.toolbar_items[toolbar_ind][2];\n",
       "        var method_name = mpl.toolbar_items[toolbar_ind][3];\n",
       "\n",
       "        if (!name) {\n",
       "            // put a spacer in here.\n",
       "            continue;\n",
       "        }\n",
       "        var button = $('<button/>');\n",
       "        button.addClass('ui-button ui-widget ui-state-default ui-corner-all ' +\n",
       "                        'ui-button-icon-only');\n",
       "        button.attr('role', 'button');\n",
       "        button.attr('aria-disabled', 'false');\n",
       "        button.click(method_name, toolbar_event);\n",
       "        button.mouseover(tooltip, toolbar_mouse_event);\n",
       "\n",
       "        var icon_img = $('<span/>');\n",
       "        icon_img.addClass('ui-button-icon-primary ui-icon');\n",
       "        icon_img.addClass(image);\n",
       "        icon_img.addClass('ui-corner-all');\n",
       "\n",
       "        var tooltip_span = $('<span/>');\n",
       "        tooltip_span.addClass('ui-button-text');\n",
       "        tooltip_span.html(tooltip);\n",
       "\n",
       "        button.append(icon_img);\n",
       "        button.append(tooltip_span);\n",
       "\n",
       "        nav_element.append(button);\n",
       "    }\n",
       "\n",
       "    var fmt_picker_span = $('<span/>');\n",
       "\n",
       "    var fmt_picker = $('<select/>');\n",
       "    fmt_picker.addClass('mpl-toolbar-option ui-widget ui-widget-content');\n",
       "    fmt_picker_span.append(fmt_picker);\n",
       "    nav_element.append(fmt_picker_span);\n",
       "    this.format_dropdown = fmt_picker[0];\n",
       "\n",
       "    for (var ind in mpl.extensions) {\n",
       "        var fmt = mpl.extensions[ind];\n",
       "        var option = $(\n",
       "            '<option/>', {selected: fmt === mpl.default_extension}).html(fmt);\n",
       "        fmt_picker.append(option)\n",
       "    }\n",
       "\n",
       "    // Add hover states to the ui-buttons\n",
       "    $( \".ui-button\" ).hover(\n",
       "        function() { $(this).addClass(\"ui-state-hover\");},\n",
       "        function() { $(this).removeClass(\"ui-state-hover\");}\n",
       "    );\n",
       "\n",
       "    var status_bar = $('<span class=\"mpl-message\"/>');\n",
       "    nav_element.append(status_bar);\n",
       "    this.message = status_bar[0];\n",
       "}\n",
       "\n",
       "mpl.figure.prototype.request_resize = function(x_pixels, y_pixels) {\n",
       "    // Request matplotlib to resize the figure. Matplotlib will then trigger a resize in the client,\n",
       "    // which will in turn request a refresh of the image.\n",
       "    this.send_message('resize', {'width': x_pixels, 'height': y_pixels});\n",
       "}\n",
       "\n",
       "mpl.figure.prototype.send_message = function(type, properties) {\n",
       "    properties['type'] = type;\n",
       "    properties['figure_id'] = this.id;\n",
       "    this.ws.send(JSON.stringify(properties));\n",
       "}\n",
       "\n",
       "mpl.figure.prototype.send_draw_message = function() {\n",
       "    if (!this.waiting) {\n",
       "        this.waiting = true;\n",
       "        this.ws.send(JSON.stringify({type: \"draw\", figure_id: this.id}));\n",
       "    }\n",
       "}\n",
       "\n",
       "\n",
       "mpl.figure.prototype.handle_save = function(fig, msg) {\n",
       "    var format_dropdown = fig.format_dropdown;\n",
       "    var format = format_dropdown.options[format_dropdown.selectedIndex].value;\n",
       "    fig.ondownload(fig, format);\n",
       "}\n",
       "\n",
       "\n",
       "mpl.figure.prototype.handle_resize = function(fig, msg) {\n",
       "    var size = msg['size'];\n",
       "    if (size[0] != fig.canvas.width || size[1] != fig.canvas.height) {\n",
       "        fig._resize_canvas(size[0], size[1]);\n",
       "        fig.send_message(\"refresh\", {});\n",
       "    };\n",
       "}\n",
       "\n",
       "mpl.figure.prototype.handle_rubberband = function(fig, msg) {\n",
       "    var x0 = msg['x0'] / mpl.ratio;\n",
       "    var y0 = (fig.canvas.height - msg['y0']) / mpl.ratio;\n",
       "    var x1 = msg['x1'] / mpl.ratio;\n",
       "    var y1 = (fig.canvas.height - msg['y1']) / mpl.ratio;\n",
       "    x0 = Math.floor(x0) + 0.5;\n",
       "    y0 = Math.floor(y0) + 0.5;\n",
       "    x1 = Math.floor(x1) + 0.5;\n",
       "    y1 = Math.floor(y1) + 0.5;\n",
       "    var min_x = Math.min(x0, x1);\n",
       "    var min_y = Math.min(y0, y1);\n",
       "    var width = Math.abs(x1 - x0);\n",
       "    var height = Math.abs(y1 - y0);\n",
       "\n",
       "    fig.rubberband_context.clearRect(\n",
       "        0, 0, fig.canvas.width, fig.canvas.height);\n",
       "\n",
       "    fig.rubberband_context.strokeRect(min_x, min_y, width, height);\n",
       "}\n",
       "\n",
       "mpl.figure.prototype.handle_figure_label = function(fig, msg) {\n",
       "    // Updates the figure title.\n",
       "    fig.header.textContent = msg['label'];\n",
       "}\n",
       "\n",
       "mpl.figure.prototype.handle_cursor = function(fig, msg) {\n",
       "    var cursor = msg['cursor'];\n",
       "    switch(cursor)\n",
       "    {\n",
       "    case 0:\n",
       "        cursor = 'pointer';\n",
       "        break;\n",
       "    case 1:\n",
       "        cursor = 'default';\n",
       "        break;\n",
       "    case 2:\n",
       "        cursor = 'crosshair';\n",
       "        break;\n",
       "    case 3:\n",
       "        cursor = 'move';\n",
       "        break;\n",
       "    }\n",
       "    fig.rubberband_canvas.style.cursor = cursor;\n",
       "}\n",
       "\n",
       "mpl.figure.prototype.handle_message = function(fig, msg) {\n",
       "    fig.message.textContent = msg['message'];\n",
       "}\n",
       "\n",
       "mpl.figure.prototype.handle_draw = function(fig, msg) {\n",
       "    // Request the server to send over a new figure.\n",
       "    fig.send_draw_message();\n",
       "}\n",
       "\n",
       "mpl.figure.prototype.handle_image_mode = function(fig, msg) {\n",
       "    fig.image_mode = msg['mode'];\n",
       "}\n",
       "\n",
       "mpl.figure.prototype.updated_canvas_event = function() {\n",
       "    // Called whenever the canvas gets updated.\n",
       "    this.send_message(\"ack\", {});\n",
       "}\n",
       "\n",
       "// A function to construct a web socket function for onmessage handling.\n",
       "// Called in the figure constructor.\n",
       "mpl.figure.prototype._make_on_message_function = function(fig) {\n",
       "    return function socket_on_message(evt) {\n",
       "        if (evt.data instanceof Blob) {\n",
       "            /* FIXME: We get \"Resource interpreted as Image but\n",
       "             * transferred with MIME type text/plain:\" errors on\n",
       "             * Chrome.  But how to set the MIME type?  It doesn't seem\n",
       "             * to be part of the websocket stream */\n",
       "            evt.data.type = \"image/png\";\n",
       "\n",
       "            /* Free the memory for the previous frames */\n",
       "            if (fig.imageObj.src) {\n",
       "                (window.URL || window.webkitURL).revokeObjectURL(\n",
       "                    fig.imageObj.src);\n",
       "            }\n",
       "\n",
       "            fig.imageObj.src = (window.URL || window.webkitURL).createObjectURL(\n",
       "                evt.data);\n",
       "            fig.updated_canvas_event();\n",
       "            fig.waiting = false;\n",
       "            return;\n",
       "        }\n",
       "        else if (typeof evt.data === 'string' && evt.data.slice(0, 21) == \"data:image/png;base64\") {\n",
       "            fig.imageObj.src = evt.data;\n",
       "            fig.updated_canvas_event();\n",
       "            fig.waiting = false;\n",
       "            return;\n",
       "        }\n",
       "\n",
       "        var msg = JSON.parse(evt.data);\n",
       "        var msg_type = msg['type'];\n",
       "\n",
       "        // Call the  \"handle_{type}\" callback, which takes\n",
       "        // the figure and JSON message as its only arguments.\n",
       "        try {\n",
       "            var callback = fig[\"handle_\" + msg_type];\n",
       "        } catch (e) {\n",
       "            console.log(\"No handler for the '\" + msg_type + \"' message type: \", msg);\n",
       "            return;\n",
       "        }\n",
       "\n",
       "        if (callback) {\n",
       "            try {\n",
       "                // console.log(\"Handling '\" + msg_type + \"' message: \", msg);\n",
       "                callback(fig, msg);\n",
       "            } catch (e) {\n",
       "                console.log(\"Exception inside the 'handler_\" + msg_type + \"' callback:\", e, e.stack, msg);\n",
       "            }\n",
       "        }\n",
       "    };\n",
       "}\n",
       "\n",
       "// from http://stackoverflow.com/questions/1114465/getting-mouse-location-in-canvas\n",
       "mpl.findpos = function(e) {\n",
       "    //this section is from http://www.quirksmode.org/js/events_properties.html\n",
       "    var targ;\n",
       "    if (!e)\n",
       "        e = window.event;\n",
       "    if (e.target)\n",
       "        targ = e.target;\n",
       "    else if (e.srcElement)\n",
       "        targ = e.srcElement;\n",
       "    if (targ.nodeType == 3) // defeat Safari bug\n",
       "        targ = targ.parentNode;\n",
       "\n",
       "    // jQuery normalizes the pageX and pageY\n",
       "    // pageX,Y are the mouse positions relative to the document\n",
       "    // offset() returns the position of the element relative to the document\n",
       "    var x = e.pageX - $(targ).offset().left;\n",
       "    var y = e.pageY - $(targ).offset().top;\n",
       "\n",
       "    return {\"x\": x, \"y\": y};\n",
       "};\n",
       "\n",
       "/*\n",
       " * return a copy of an object with only non-object keys\n",
       " * we need this to avoid circular references\n",
       " * http://stackoverflow.com/a/24161582/3208463\n",
       " */\n",
       "function simpleKeys (original) {\n",
       "  return Object.keys(original).reduce(function (obj, key) {\n",
       "    if (typeof original[key] !== 'object')\n",
       "        obj[key] = original[key]\n",
       "    return obj;\n",
       "  }, {});\n",
       "}\n",
       "\n",
       "mpl.figure.prototype.mouse_event = function(event, name) {\n",
       "    var canvas_pos = mpl.findpos(event)\n",
       "\n",
       "    if (name === 'button_press')\n",
       "    {\n",
       "        this.canvas.focus();\n",
       "        this.canvas_div.focus();\n",
       "    }\n",
       "\n",
       "    var x = canvas_pos.x * mpl.ratio;\n",
       "    var y = canvas_pos.y * mpl.ratio;\n",
       "\n",
       "    this.send_message(name, {x: x, y: y, button: event.button,\n",
       "                             step: event.step,\n",
       "                             guiEvent: simpleKeys(event)});\n",
       "\n",
       "    /* This prevents the web browser from automatically changing to\n",
       "     * the text insertion cursor when the button is pressed.  We want\n",
       "     * to control all of the cursor setting manually through the\n",
       "     * 'cursor' event from matplotlib */\n",
       "    event.preventDefault();\n",
       "    return false;\n",
       "}\n",
       "\n",
       "mpl.figure.prototype._key_event_extra = function(event, name) {\n",
       "    // Handle any extra behaviour associated with a key event\n",
       "}\n",
       "\n",
       "mpl.figure.prototype.key_event = function(event, name) {\n",
       "\n",
       "    // Prevent repeat events\n",
       "    if (name == 'key_press')\n",
       "    {\n",
       "        if (event.which === this._key)\n",
       "            return;\n",
       "        else\n",
       "            this._key = event.which;\n",
       "    }\n",
       "    if (name == 'key_release')\n",
       "        this._key = null;\n",
       "\n",
       "    var value = '';\n",
       "    if (event.ctrlKey && event.which != 17)\n",
       "        value += \"ctrl+\";\n",
       "    if (event.altKey && event.which != 18)\n",
       "        value += \"alt+\";\n",
       "    if (event.shiftKey && event.which != 16)\n",
       "        value += \"shift+\";\n",
       "\n",
       "    value += 'k';\n",
       "    value += event.which.toString();\n",
       "\n",
       "    this._key_event_extra(event, name);\n",
       "\n",
       "    this.send_message(name, {key: value,\n",
       "                             guiEvent: simpleKeys(event)});\n",
       "    return false;\n",
       "}\n",
       "\n",
       "mpl.figure.prototype.toolbar_button_onclick = function(name) {\n",
       "    if (name == 'download') {\n",
       "        this.handle_save(this, null);\n",
       "    } else {\n",
       "        this.send_message(\"toolbar_button\", {name: name});\n",
       "    }\n",
       "};\n",
       "\n",
       "mpl.figure.prototype.toolbar_button_onmouseover = function(tooltip) {\n",
       "    this.message.textContent = tooltip;\n",
       "};\n",
       "mpl.toolbar_items = [[\"Home\", \"Reset original view\", \"fa fa-home icon-home\", \"home\"], [\"Back\", \"Back to  previous view\", \"fa fa-arrow-left icon-arrow-left\", \"back\"], [\"Forward\", \"Forward to next view\", \"fa fa-arrow-right icon-arrow-right\", \"forward\"], [\"\", \"\", \"\", \"\"], [\"Pan\", \"Pan axes with left mouse, zoom with right\", \"fa fa-arrows icon-move\", \"pan\"], [\"Zoom\", \"Zoom to rectangle\", \"fa fa-square-o icon-check-empty\", \"zoom\"], [\"\", \"\", \"\", \"\"], [\"Download\", \"Download plot\", \"fa fa-floppy-o icon-save\", \"download\"]];\n",
       "\n",
       "mpl.extensions = [\"eps\", \"pdf\", \"png\", \"ps\", \"raw\", \"svg\"];\n",
       "\n",
       "mpl.default_extension = \"png\";var comm_websocket_adapter = function(comm) {\n",
       "    // Create a \"websocket\"-like object which calls the given IPython comm\n",
       "    // object with the appropriate methods. Currently this is a non binary\n",
       "    // socket, so there is still some room for performance tuning.\n",
       "    var ws = {};\n",
       "\n",
       "    ws.close = function() {\n",
       "        comm.close()\n",
       "    };\n",
       "    ws.send = function(m) {\n",
       "        //console.log('sending', m);\n",
       "        comm.send(m);\n",
       "    };\n",
       "    // Register the callback with on_msg.\n",
       "    comm.on_msg(function(msg) {\n",
       "        //console.log('receiving', msg['content']['data'], msg);\n",
       "        // Pass the mpl event to the overriden (by mpl) onmessage function.\n",
       "        ws.onmessage(msg['content']['data'])\n",
       "    });\n",
       "    return ws;\n",
       "}\n",
       "\n",
       "mpl.mpl_figure_comm = function(comm, msg) {\n",
       "    // This is the function which gets called when the mpl process\n",
       "    // starts-up an IPython Comm through the \"matplotlib\" channel.\n",
       "\n",
       "    var id = msg.content.data.id;\n",
       "    // Get hold of the div created by the display call when the Comm\n",
       "    // socket was opened in Python.\n",
       "    var element = $(\"#\" + id);\n",
       "    var ws_proxy = comm_websocket_adapter(comm)\n",
       "\n",
       "    function ondownload(figure, format) {\n",
       "        window.open(figure.imageObj.src);\n",
       "    }\n",
       "\n",
       "    var fig = new mpl.figure(id, ws_proxy,\n",
       "                           ondownload,\n",
       "                           element.get(0));\n",
       "\n",
       "    // Call onopen now - mpl needs it, as it is assuming we've passed it a real\n",
       "    // web socket which is closed, not our websocket->open comm proxy.\n",
       "    ws_proxy.onopen();\n",
       "\n",
       "    fig.parent_element = element.get(0);\n",
       "    fig.cell_info = mpl.find_output_cell(\"<div id='\" + id + \"'></div>\");\n",
       "    if (!fig.cell_info) {\n",
       "        console.error(\"Failed to find cell for figure\", id, fig);\n",
       "        return;\n",
       "    }\n",
       "\n",
       "    var output_index = fig.cell_info[2]\n",
       "    var cell = fig.cell_info[0];\n",
       "\n",
       "};\n",
       "\n",
       "mpl.figure.prototype.handle_close = function(fig, msg) {\n",
       "    var width = fig.canvas.width/mpl.ratio\n",
       "    fig.root.unbind('remove')\n",
       "\n",
       "    // Update the output cell to use the data from the current canvas.\n",
       "    fig.push_to_output();\n",
       "    var dataURL = fig.canvas.toDataURL();\n",
       "    // Re-enable the keyboard manager in IPython - without this line, in FF,\n",
       "    // the notebook keyboard shortcuts fail.\n",
       "    IPython.keyboard_manager.enable()\n",
       "    $(fig.parent_element).html('<img src=\"' + dataURL + '\" width=\"' + width + '\">');\n",
       "    fig.close_ws(fig, msg);\n",
       "}\n",
       "\n",
       "mpl.figure.prototype.close_ws = function(fig, msg){\n",
       "    fig.send_message('closing', msg);\n",
       "    // fig.ws.close()\n",
       "}\n",
       "\n",
       "mpl.figure.prototype.push_to_output = function(remove_interactive) {\n",
       "    // Turn the data on the canvas into data in the output cell.\n",
       "    var width = this.canvas.width/mpl.ratio\n",
       "    var dataURL = this.canvas.toDataURL();\n",
       "    this.cell_info[1]['text/html'] = '<img src=\"' + dataURL + '\" width=\"' + width + '\">';\n",
       "}\n",
       "\n",
       "mpl.figure.prototype.updated_canvas_event = function() {\n",
       "    // Tell IPython that the notebook contents must change.\n",
       "    IPython.notebook.set_dirty(true);\n",
       "    this.send_message(\"ack\", {});\n",
       "    var fig = this;\n",
       "    // Wait a second, then push the new image to the DOM so\n",
       "    // that it is saved nicely (might be nice to debounce this).\n",
       "    setTimeout(function () { fig.push_to_output() }, 1000);\n",
       "}\n",
       "\n",
       "mpl.figure.prototype._init_toolbar = function() {\n",
       "    var fig = this;\n",
       "\n",
       "    var nav_element = $('<div/>')\n",
       "    nav_element.attr('style', 'width: 100%');\n",
       "    this.root.append(nav_element);\n",
       "\n",
       "    // Define a callback function for later on.\n",
       "    function toolbar_event(event) {\n",
       "        return fig.toolbar_button_onclick(event['data']);\n",
       "    }\n",
       "    function toolbar_mouse_event(event) {\n",
       "        return fig.toolbar_button_onmouseover(event['data']);\n",
       "    }\n",
       "\n",
       "    for(var toolbar_ind in mpl.toolbar_items){\n",
       "        var name = mpl.toolbar_items[toolbar_ind][0];\n",
       "        var tooltip = mpl.toolbar_items[toolbar_ind][1];\n",
       "        var image = mpl.toolbar_items[toolbar_ind][2];\n",
       "        var method_name = mpl.toolbar_items[toolbar_ind][3];\n",
       "\n",
       "        if (!name) { continue; };\n",
       "\n",
       "        var button = $('<button class=\"btn btn-default\" href=\"#\" title=\"' + name + '\"><i class=\"fa ' + image + ' fa-lg\"></i></button>');\n",
       "        button.click(method_name, toolbar_event);\n",
       "        button.mouseover(tooltip, toolbar_mouse_event);\n",
       "        nav_element.append(button);\n",
       "    }\n",
       "\n",
       "    // Add the status bar.\n",
       "    var status_bar = $('<span class=\"mpl-message\" style=\"text-align:right; float: right;\"/>');\n",
       "    nav_element.append(status_bar);\n",
       "    this.message = status_bar[0];\n",
       "\n",
       "    // Add the close button to the window.\n",
       "    var buttongrp = $('<div class=\"btn-group inline pull-right\"></div>');\n",
       "    var button = $('<button class=\"btn btn-mini btn-primary\" href=\"#\" title=\"Stop Interaction\"><i class=\"fa fa-power-off icon-remove icon-large\"></i></button>');\n",
       "    button.click(function (evt) { fig.handle_close(fig, {}); } );\n",
       "    button.mouseover('Stop Interaction', toolbar_mouse_event);\n",
       "    buttongrp.append(button);\n",
       "    var titlebar = this.root.find($('.ui-dialog-titlebar'));\n",
       "    titlebar.prepend(buttongrp);\n",
       "}\n",
       "\n",
       "mpl.figure.prototype._root_extra_style = function(el){\n",
       "    var fig = this\n",
       "    el.on(\"remove\", function(){\n",
       "\tfig.close_ws(fig, {});\n",
       "    });\n",
       "}\n",
       "\n",
       "mpl.figure.prototype._canvas_extra_style = function(el){\n",
       "    // this is important to make the div 'focusable\n",
       "    el.attr('tabindex', 0)\n",
       "    // reach out to IPython and tell the keyboard manager to turn it's self\n",
       "    // off when our div gets focus\n",
       "\n",
       "    // location in version 3\n",
       "    if (IPython.notebook.keyboard_manager) {\n",
       "        IPython.notebook.keyboard_manager.register_events(el);\n",
       "    }\n",
       "    else {\n",
       "        // location in version 2\n",
       "        IPython.keyboard_manager.register_events(el);\n",
       "    }\n",
       "\n",
       "}\n",
       "\n",
       "mpl.figure.prototype._key_event_extra = function(event, name) {\n",
       "    var manager = IPython.notebook.keyboard_manager;\n",
       "    if (!manager)\n",
       "        manager = IPython.keyboard_manager;\n",
       "\n",
       "    // Check for shift+enter\n",
       "    if (event.shiftKey && event.which == 13) {\n",
       "        this.canvas_div.blur();\n",
       "        // select the cell after this one\n",
       "        var index = IPython.notebook.find_cell_index(this.cell_info[0]);\n",
       "        IPython.notebook.select(index + 1);\n",
       "    }\n",
       "}\n",
       "\n",
       "mpl.figure.prototype.handle_save = function(fig, msg) {\n",
       "    fig.ondownload(fig, null);\n",
       "}\n",
       "\n",
       "\n",
       "mpl.find_output_cell = function(html_output) {\n",
       "    // Return the cell and output element which can be found *uniquely* in the notebook.\n",
       "    // Note - this is a bit hacky, but it is done because the \"notebook_saving.Notebook\"\n",
       "    // IPython event is triggered only after the cells have been serialised, which for\n",
       "    // our purposes (turning an active figure into a static one), is too late.\n",
       "    var cells = IPython.notebook.get_cells();\n",
       "    var ncells = cells.length;\n",
       "    for (var i=0; i<ncells; i++) {\n",
       "        var cell = cells[i];\n",
       "        if (cell.cell_type === 'code'){\n",
       "            for (var j=0; j<cell.output_area.outputs.length; j++) {\n",
       "                var data = cell.output_area.outputs[j];\n",
       "                if (data.data) {\n",
       "                    // IPython >= 3 moved mimebundle to data attribute of output\n",
       "                    data = data.data;\n",
       "                }\n",
       "                if (data['text/html'] == html_output) {\n",
       "                    return [cell, data, j];\n",
       "                }\n",
       "            }\n",
       "        }\n",
       "    }\n",
       "}\n",
       "\n",
       "// Register the function which deals with the matplotlib target/channel.\n",
       "// The kernel may be null if the page has been refreshed.\n",
       "if (IPython.notebook.kernel != null) {\n",
       "    IPython.notebook.kernel.comm_manager.register_target('matplotlib', mpl.mpl_figure_comm);\n",
       "}\n"
      ],
      "text/plain": [
       "<IPython.core.display.Javascript object>"
      ]
     },
     "metadata": {},
     "output_type": "display_data"
    },
    {
     "data": {
      "text/html": [
       "<img src=\"data:image/png;base64,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\" width=\"640\">"
      ],
      "text/plain": [
       "<IPython.core.display.HTML object>"
      ]
     },
     "metadata": {},
     "output_type": "display_data"
    },
    {
     "data": {
      "text/plain": [
       "[<matplotlib.lines.Line2D at 0x7ff8e9b94518>]"
      ]
     },
     "execution_count": 60,
     "metadata": {},
     "output_type": "execute_result"
    }
   ],
   "source": [
    "plt.plot(range(10))"
   ]
  },
  {
   "cell_type": "markdown",
   "metadata": {},
   "source": [
    "By contrast, `%matplotlib inline` will just show a basic plot with a default size:"
   ]
  },
  {
   "cell_type": "code",
   "execution_count": 61,
   "metadata": {},
   "outputs": [],
   "source": [
    "%matplotlib inline"
   ]
  },
  {
   "cell_type": "code",
   "execution_count": 62,
   "metadata": {},
   "outputs": [
    {
     "data": {
      "text/plain": [
       "[<matplotlib.lines.Line2D at 0x7ff8e9afa358>]"
      ]
     },
     "execution_count": 62,
     "metadata": {},
     "output_type": "execute_result"
    },
    {
     "data": {
      "image/png": "[encoded data removed]",
      "text/plain": [
       "<matplotlib.figure.Figure at 0x7ff8e9c47c18>"
      ]
     },
     "metadata": {},
     "output_type": "display_data"
    }
   ],
   "source": [
    "plt.plot(range(10))"
   ]
  },
  {
   "cell_type": "markdown",
   "metadata": {},
   "source": [
    "For more information on plotting with matplotlib, see their [usage guide](https://matplotlib.org/2.1.1/tutorials/introductory/usage.html)."
   ]
  },
  {
   "cell_type": "markdown",
   "metadata": {},
   "source": [
    "## Command line programs\n",
    "\n",
    "The operations listed in the section on magics for working with the file system can of course also be achieved using the corresponding command line programs, so if you know those, no need to memorize the magics. In fact, the magics are often just thin wrappers around the command line programs, which is why they are named the same."
   ]
  },
  {
   "cell_type": "code",
   "execution_count": 63,
   "metadata": {},
   "outputs": [
    {
     "name": "stdout",
     "output_type": "stream",
     "text": [
      "total 56K\r\n",
      "-rw-r--r-- 1 root root 3.0K Mar 30  2016 win-utf\r\n",
      "-rw-r--r-- 1 root root  664 Mar 30  2016 uwsgi_params\r\n",
      "-rw-r--r-- 1 root root  636 Mar 30  2016 scgi_params\r\n",
      "-rw-r--r-- 1 root root  180 Mar 30  2016 proxy_params\r\n",
      "-rw-r--r-- 1 root root 3.9K Mar 30  2016 mime.types\r\n",
      "-rw-r--r-- 1 root root 2.2K Mar 30  2016 koi-win\r\n",
      "-rw-r--r-- 1 root root 2.8K Mar 30  2016 koi-utf\r\n",
      "-rw-r--r-- 1 root root 1007 Mar 30  2016 fastcgi_params\r\n",
      "-rw-r--r-- 1 root root 1.1K Mar 30  2016 fastcgi.conf\r\n",
      "drwxr-xr-x 2 root root 4.0K Apr 26  2016 \u001b[0m\u001b[01;34mconf.d\u001b[0m\r\n",
      "-rw-r--r-- 1 root root 1.5K Apr 27  2016 nginx.conf\r\n",
      "drwxr-xr-x 2 root root 4.0K Apr 27  2016 \u001b[01;34msites-enabled\u001b[0m\r\n",
      "drwxr-xr-x 2 root root 4.0K Aug 15 09:21 \u001b[01;34msites-available\u001b[0m\r\n",
      "drwxr-xr-x 2 root root 4.0K Aug 15 09:21 \u001b[01;34msnippets\u001b[0m\r\n"
     ]
    }
   ],
   "source": [
    "!ls --color -hArtl /etc/nginx"
   ]
  },
  {
   "cell_type": "markdown",
   "metadata": {},
   "source": [
    "The only functionality that I miss among the magics is the ability to take a quick look at part of a possibly very large text file. This can be done with the `head` command line program, which prints the beginning of a file:"
   ]
  },
  {
   "cell_type": "code",
   "execution_count": 64,
   "metadata": {},
   "outputs": [
    {
     "name": "stdout",
     "output_type": "stream",
     "text": [
      "{\r\n",
      " \"cells\": [\r\n",
      "  {\r\n",
      "   \"cell_type\": \"markdown\",\r\n",
      "   \"metadata\": {},\r\n",
      "   \"source\": [\r\n",
      "    \"# Make the most of Python Jupyter notebooks\\n\",\r\n",
      "    \"\\n\",\r\n",
      "    \"[![Binder](https://mybinder.org/badge.svg)](https://mybinder.org/v2/gh/dlukes/dlukes.github.io/source?filepath=content%2Fnotebooks%2Fjupyter_magic.ipynb)\\n\",\r\n",
      "    \"\\n\",\r\n"
     ]
    }
   ],
   "source": [
    "!head jupyter_magic.ipynb"
   ]
  },
  {
   "cell_type": "markdown",
   "metadata": {},
   "source": [
    "The `-n` option controls how many lines from the beginning of the file should be printed:"
   ]
  },
  {
   "cell_type": "code",
   "execution_count": 65,
   "metadata": {},
   "outputs": [
    {
     "name": "stdout",
     "output_type": "stream",
     "text": [
      "==> jupyter_magic.ipynb <==\r\n",
      "{\r\n",
      " \"cells\": [\r\n",
      "  {\r\n",
      "\r\n",
      "==> regex.ipynb <==\r\n",
      "{\r\n",
      " \"cells\": [\r\n",
      "  {\r\n"
     ]
    }
   ],
   "source": [
    "!head -n3 jupyter_magic.ipynb regex.ipynb"
   ]
  },
  {
   "cell_type": "markdown",
   "metadata": {},
   "source": [
    "Similarly, the `tail` program prints endings of files:"
   ]
  },
  {
   "cell_type": "code",
   "execution_count": 66,
   "metadata": {},
   "outputs": [
    {
     "name": "stdout",
     "output_type": "stream",
     "text": [
      "  }\r\n",
      " },\r\n",
      " \"nbformat\": 4,\r\n",
      " \"nbformat_minor\": 2\r\n",
      "}\r\n"
     ]
    }
   ],
   "source": [
    "!tail -n5 jupyter_magic.ipynb"
   ]
  },
  {
   "cell_type": "markdown",
   "metadata": {},
   "source": [
    "Another useful feature of command line execution is that instead of *printing* the result, you can have it *returned* as a list of strings corresponding to lines of output. Either by prepending two exclamation marks instead of one:"
   ]
  },
  {
   "cell_type": "code",
   "execution_count": 67,
   "metadata": {},
   "outputs": [
    {
     "data": {
      "text/plain": [
       "['  }', ' },', ' \"nbformat\": 4,', ' \"nbformat_minor\": 2', '}']"
      ]
     },
     "execution_count": 67,
     "metadata": {},
     "output_type": "execute_result"
    }
   ],
   "source": [
    "!!tail -n5 jupyter_magic.ipynb"
   ]
  },
  {
   "cell_type": "markdown",
   "metadata": {},
   "source": [
    "Or by assigning the expression to a variable:"
   ]
  },
  {
   "cell_type": "code",
   "execution_count": 68,
   "metadata": {},
   "outputs": [],
   "source": [
    "out = !tail -n5 jupyter_magic.ipynb"
   ]
  },
  {
   "cell_type": "code",
   "execution_count": 69,
   "metadata": {},
   "outputs": [
    {
     "data": {
      "text/plain": [
       "['  }', ' },', ' \"nbformat\": 4,', ' \"nbformat_minor\": 2', '}']"
      ]
     },
     "execution_count": 69,
     "metadata": {},
     "output_type": "execute_result"
    }
   ],
   "source": [
    "out"
   ]
  },
  {
   "cell_type": "markdown",
   "metadata": {},
   "source": [
    "## In summary\n",
    "\n",
    "These are just my favorite shortcuts, the ones I find most helpful. Obviously, there are many more, see `%magic` or `%quickref`. If you think I've missed a really neat one, let me know!"
   ]
  }
 ],
 "metadata": {
  "kernelspec": {
   "display_name": "Python 3",
   "language": "python",
   "name": "python3"
  },
  "language_info": {
   "codemirror_mode": {
    "name": "ipython",
    "version": 3
   },
   "file_extension": ".py",
   "mimetype": "text/x-python",
   "name": "python",
   "nbconvert_exporter": "python",
   "pygments_lexer": "ipython3",
   "version": "3.6.2"
  }
 },
 "nbformat": 4,
 "nbformat_minor": 2
}
